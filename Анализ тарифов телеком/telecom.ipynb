{
 "cells": [
  {
   "cell_type": "markdown",
   "metadata": {},
   "source": [
    "# Анализ тарифов \"Смарт\" и \"Ультра\" \n",
    "\n",
    "Предварительный анализ тарифов будет производиться на небольшой выборке клиентов «Мегалайна» с целью  проанализировать их поведение  и сделать вывод — какой тариф лучше.\n",
    "Цель - выяснить, какой тариф приносит больше денег, чтобы скорректировать рекламный бюджет."
   ]
  },
  {
   "cell_type": "markdown",
   "metadata": {},
   "source": [
    "## Изучение и предобработка данных из файла\n",
    "**Описание данных**\n",
    "\n",
    "**Таблица users (информация о пользователях):**\n",
    "\n",
    "user_id — уникальный идентификатор пользователя\n",
    "\n",
    "first_name — имя пользователя\n",
    "\n",
    "last_name — фамилия пользователя\n",
    "\n",
    "age — возраст пользователя (годы)\n",
    "\n",
    "reg_date — дата подключения тарифа (день, месяц, год)\n",
    "\n",
    "churn_date — дата прекращения пользования тарифом (если значение пропущено, то тариф ещё действовал на момент выгрузки данных)\n",
    "\n",
    "city — город проживания пользователя\n",
    "\n",
    "tarif — название тарифного плана\n",
    "\n",
    "**Таблица calls (информация о звонках):**\n",
    "\n",
    "id — уникальный номер звонка\n",
    "\n",
    "call_date — дата звонка\n",
    "\n",
    "duration — длительность звонка в минутах\n",
    "\n",
    "user_id — идентификатор пользователя, сделавшего звонок\n",
    "\n",
    "**Таблица messages (информация о сообщениях):**\n",
    "\n",
    "id — уникальный номер сообщения\n",
    "\n",
    "message_date — дата сообщения\n",
    "\n",
    "user_id — идентификатор пользователя, отправившего сообщение\n",
    "\n",
    "**Таблица internet (информация об интернет-сессиях):**\n",
    "\n",
    "id — уникальный номер сессии\n",
    "\n",
    "mb_used — объём потраченного за сессию интернет-трафика (в мегабайтах)\n",
    "\n",
    "session_date — дата интернет-сессии\n",
    "\n",
    "user_id — идентификатор пользователя\n",
    "\n",
    "**Таблица tariffs (информация о тарифах):**\n",
    "\n",
    "tariff_name — название тарифа\n",
    "\n",
    "rub_monthly_fee — ежемесячная абонентская плата в рублях\n",
    "\n",
    "minutes_included — количество минут разговора в месяц, включённых в абонентскую плату\n",
    "\n",
    "messages_included — количество сообщений в месяц, включённых в абонентскую плату\n",
    "\n",
    "mb_per_month_included — объём интернет-трафика, включённого в абонентскую плату (в мегабайтах)\n",
    "\n",
    "rub_per_minute — стоимость минуты разговора сверх тарифного пакета (например, если в тарифе 100 минут разговора в месяц, то со 101 минуты будет взиматься плата)\n",
    "\n",
    "rub_per_message — стоимость отправки сообщения сверх тарифного пакета\n",
    "\n",
    "rub_per_gb — стоимость дополнительного гигабайта интернет-трафика сверх тарифного пакета (1 гигабайт = 1024 мегабайта)"
   ]
  },
  {
   "cell_type": "code",
   "execution_count": 1,
   "metadata": {},
   "outputs": [],
   "source": [
    "import pandas as pd\n",
    "import seaborn as sns\n",
    "import matplotlib.pyplot as plt\n",
    "import numpy as np\n",
    "from scipy import stats as st"
   ]
  },
  {
   "cell_type": "code",
   "execution_count": 2,
   "metadata": {},
   "outputs": [],
   "source": [
    "users = pd.read_csv('/datasets/users.csv')\n",
    "calls = pd.read_csv('/datasets/calls.csv')\n",
    "messages = pd.read_csv('/datasets/messages.csv')\n",
    "internet = pd.read_csv('/datasets/internet.csv')\n",
    "tariffs = pd.read_csv('/datasets/tariffs.csv')\n"
   ]
  },
  {
   "cell_type": "markdown",
   "metadata": {},
   "source": [
    "**Рассмотрим в отдельности каждый из имеющихся датафреймов:**"
   ]
  },
  {
   "cell_type": "markdown",
   "metadata": {},
   "source": [
    "**USERS**"
   ]
  },
  {
   "cell_type": "code",
   "execution_count": 3,
   "metadata": {},
   "outputs": [
    {
     "data": {
      "text/html": [
       "<div>\n",
       "<style scoped>\n",
       "    .dataframe tbody tr th:only-of-type {\n",
       "        vertical-align: middle;\n",
       "    }\n",
       "\n",
       "    .dataframe tbody tr th {\n",
       "        vertical-align: top;\n",
       "    }\n",
       "\n",
       "    .dataframe thead th {\n",
       "        text-align: right;\n",
       "    }\n",
       "</style>\n",
       "<table border=\"1\" class=\"dataframe\">\n",
       "  <thead>\n",
       "    <tr style=\"text-align: right;\">\n",
       "      <th></th>\n",
       "      <th>user_id</th>\n",
       "      <th>age</th>\n",
       "      <th>churn_date</th>\n",
       "      <th>city</th>\n",
       "      <th>first_name</th>\n",
       "      <th>last_name</th>\n",
       "      <th>reg_date</th>\n",
       "      <th>tariff</th>\n",
       "    </tr>\n",
       "  </thead>\n",
       "  <tbody>\n",
       "    <tr>\n",
       "      <th>153</th>\n",
       "      <td>1153</td>\n",
       "      <td>59</td>\n",
       "      <td>NaN</td>\n",
       "      <td>Ульяновск</td>\n",
       "      <td>Евдокия</td>\n",
       "      <td>Одинцова</td>\n",
       "      <td>2018-10-18</td>\n",
       "      <td>smart</td>\n",
       "    </tr>\n",
       "    <tr>\n",
       "      <th>32</th>\n",
       "      <td>1032</td>\n",
       "      <td>31</td>\n",
       "      <td>NaN</td>\n",
       "      <td>Ульяновск</td>\n",
       "      <td>Инна</td>\n",
       "      <td>Игнатьева</td>\n",
       "      <td>2018-01-04</td>\n",
       "      <td>smart</td>\n",
       "    </tr>\n",
       "    <tr>\n",
       "      <th>299</th>\n",
       "      <td>1299</td>\n",
       "      <td>37</td>\n",
       "      <td>NaN</td>\n",
       "      <td>Уфа</td>\n",
       "      <td>Мариетта</td>\n",
       "      <td>Симонова</td>\n",
       "      <td>2018-01-27</td>\n",
       "      <td>smart</td>\n",
       "    </tr>\n",
       "    <tr>\n",
       "      <th>167</th>\n",
       "      <td>1167</td>\n",
       "      <td>30</td>\n",
       "      <td>NaN</td>\n",
       "      <td>Кемерово</td>\n",
       "      <td>Клавдия</td>\n",
       "      <td>Абдулина</td>\n",
       "      <td>2018-09-29</td>\n",
       "      <td>ultra</td>\n",
       "    </tr>\n",
       "    <tr>\n",
       "      <th>117</th>\n",
       "      <td>1117</td>\n",
       "      <td>42</td>\n",
       "      <td>NaN</td>\n",
       "      <td>Тюмень</td>\n",
       "      <td>Дана</td>\n",
       "      <td>Меркулова</td>\n",
       "      <td>2018-12-10</td>\n",
       "      <td>smart</td>\n",
       "    </tr>\n",
       "    <tr>\n",
       "      <th>154</th>\n",
       "      <td>1154</td>\n",
       "      <td>19</td>\n",
       "      <td>NaN</td>\n",
       "      <td>Волжский</td>\n",
       "      <td>Марина</td>\n",
       "      <td>Тихомирова</td>\n",
       "      <td>2018-06-02</td>\n",
       "      <td>smart</td>\n",
       "    </tr>\n",
       "    <tr>\n",
       "      <th>481</th>\n",
       "      <td>1481</td>\n",
       "      <td>70</td>\n",
       "      <td>NaN</td>\n",
       "      <td>Москва</td>\n",
       "      <td>Клавдия</td>\n",
       "      <td>Чижова</td>\n",
       "      <td>2018-02-26</td>\n",
       "      <td>smart</td>\n",
       "    </tr>\n",
       "    <tr>\n",
       "      <th>453</th>\n",
       "      <td>1453</td>\n",
       "      <td>50</td>\n",
       "      <td>NaN</td>\n",
       "      <td>Москва</td>\n",
       "      <td>Кузьма</td>\n",
       "      <td>Акуленко</td>\n",
       "      <td>2018-01-01</td>\n",
       "      <td>ultra</td>\n",
       "    </tr>\n",
       "    <tr>\n",
       "      <th>439</th>\n",
       "      <td>1439</td>\n",
       "      <td>62</td>\n",
       "      <td>NaN</td>\n",
       "      <td>Орёл</td>\n",
       "      <td>Евгения</td>\n",
       "      <td>Афонина</td>\n",
       "      <td>2018-06-30</td>\n",
       "      <td>smart</td>\n",
       "    </tr>\n",
       "    <tr>\n",
       "      <th>286</th>\n",
       "      <td>1286</td>\n",
       "      <td>19</td>\n",
       "      <td>NaN</td>\n",
       "      <td>Москва</td>\n",
       "      <td>Рашид</td>\n",
       "      <td>Троицкий</td>\n",
       "      <td>2018-11-27</td>\n",
       "      <td>smart</td>\n",
       "    </tr>\n",
       "    <tr>\n",
       "      <th>182</th>\n",
       "      <td>1182</td>\n",
       "      <td>29</td>\n",
       "      <td>NaN</td>\n",
       "      <td>Уфа</td>\n",
       "      <td>Габриель</td>\n",
       "      <td>Агаев</td>\n",
       "      <td>2018-10-05</td>\n",
       "      <td>ultra</td>\n",
       "    </tr>\n",
       "    <tr>\n",
       "      <th>157</th>\n",
       "      <td>1157</td>\n",
       "      <td>27</td>\n",
       "      <td>NaN</td>\n",
       "      <td>Москва</td>\n",
       "      <td>Виктория</td>\n",
       "      <td>Белоусова</td>\n",
       "      <td>2018-02-23</td>\n",
       "      <td>smart</td>\n",
       "    </tr>\n",
       "    <tr>\n",
       "      <th>361</th>\n",
       "      <td>1361</td>\n",
       "      <td>38</td>\n",
       "      <td>NaN</td>\n",
       "      <td>Екатеринбург</td>\n",
       "      <td>Рената</td>\n",
       "      <td>Кошелева</td>\n",
       "      <td>2018-09-09</td>\n",
       "      <td>ultra</td>\n",
       "    </tr>\n",
       "    <tr>\n",
       "      <th>82</th>\n",
       "      <td>1082</td>\n",
       "      <td>48</td>\n",
       "      <td>NaN</td>\n",
       "      <td>Москва</td>\n",
       "      <td>Авксентий</td>\n",
       "      <td>Малышев</td>\n",
       "      <td>2018-10-05</td>\n",
       "      <td>smart</td>\n",
       "    </tr>\n",
       "    <tr>\n",
       "      <th>101</th>\n",
       "      <td>1101</td>\n",
       "      <td>27</td>\n",
       "      <td>NaN</td>\n",
       "      <td>Казань</td>\n",
       "      <td>Онисим</td>\n",
       "      <td>Колобов</td>\n",
       "      <td>2018-05-21</td>\n",
       "      <td>smart</td>\n",
       "    </tr>\n",
       "    <tr>\n",
       "      <th>329</th>\n",
       "      <td>1329</td>\n",
       "      <td>36</td>\n",
       "      <td>NaN</td>\n",
       "      <td>Набережные Челны</td>\n",
       "      <td>Юна</td>\n",
       "      <td>Золотова</td>\n",
       "      <td>2018-10-08</td>\n",
       "      <td>smart</td>\n",
       "    </tr>\n",
       "    <tr>\n",
       "      <th>463</th>\n",
       "      <td>1463</td>\n",
       "      <td>74</td>\n",
       "      <td>NaN</td>\n",
       "      <td>Санкт-Петербург</td>\n",
       "      <td>Ринат</td>\n",
       "      <td>Авринский</td>\n",
       "      <td>2018-11-16</td>\n",
       "      <td>ultra</td>\n",
       "    </tr>\n",
       "    <tr>\n",
       "      <th>338</th>\n",
       "      <td>1338</td>\n",
       "      <td>64</td>\n",
       "      <td>NaN</td>\n",
       "      <td>Москва</td>\n",
       "      <td>Павел</td>\n",
       "      <td>Орлов</td>\n",
       "      <td>2018-05-11</td>\n",
       "      <td>smart</td>\n",
       "    </tr>\n",
       "    <tr>\n",
       "      <th>80</th>\n",
       "      <td>1080</td>\n",
       "      <td>28</td>\n",
       "      <td>NaN</td>\n",
       "      <td>Москва</td>\n",
       "      <td>Всеволод</td>\n",
       "      <td>Игнатьев</td>\n",
       "      <td>2018-08-12</td>\n",
       "      <td>ultra</td>\n",
       "    </tr>\n",
       "    <tr>\n",
       "      <th>249</th>\n",
       "      <td>1249</td>\n",
       "      <td>25</td>\n",
       "      <td>NaN</td>\n",
       "      <td>Курск</td>\n",
       "      <td>Изольда</td>\n",
       "      <td>Авдушева</td>\n",
       "      <td>2018-08-14</td>\n",
       "      <td>smart</td>\n",
       "    </tr>\n",
       "    <tr>\n",
       "      <th>112</th>\n",
       "      <td>1112</td>\n",
       "      <td>51</td>\n",
       "      <td>NaN</td>\n",
       "      <td>Ульяновск</td>\n",
       "      <td>Арнольд</td>\n",
       "      <td>Казанцев</td>\n",
       "      <td>2018-09-04</td>\n",
       "      <td>smart</td>\n",
       "    </tr>\n",
       "    <tr>\n",
       "      <th>477</th>\n",
       "      <td>1477</td>\n",
       "      <td>70</td>\n",
       "      <td>NaN</td>\n",
       "      <td>Набережные Челны</td>\n",
       "      <td>Геральд</td>\n",
       "      <td>Серов</td>\n",
       "      <td>2018-04-24</td>\n",
       "      <td>smart</td>\n",
       "    </tr>\n",
       "    <tr>\n",
       "      <th>332</th>\n",
       "      <td>1332</td>\n",
       "      <td>23</td>\n",
       "      <td>NaN</td>\n",
       "      <td>Москва</td>\n",
       "      <td>Джозефина</td>\n",
       "      <td>Тетерина</td>\n",
       "      <td>2018-05-28</td>\n",
       "      <td>smart</td>\n",
       "    </tr>\n",
       "    <tr>\n",
       "      <th>323</th>\n",
       "      <td>1323</td>\n",
       "      <td>67</td>\n",
       "      <td>NaN</td>\n",
       "      <td>Челябинск</td>\n",
       "      <td>Эсмеральда</td>\n",
       "      <td>Носкова</td>\n",
       "      <td>2018-08-02</td>\n",
       "      <td>smart</td>\n",
       "    </tr>\n",
       "    <tr>\n",
       "      <th>142</th>\n",
       "      <td>1142</td>\n",
       "      <td>51</td>\n",
       "      <td>NaN</td>\n",
       "      <td>Новосибирск</td>\n",
       "      <td>Симона</td>\n",
       "      <td>Алешкова</td>\n",
       "      <td>2018-03-24</td>\n",
       "      <td>smart</td>\n",
       "    </tr>\n",
       "  </tbody>\n",
       "</table>\n",
       "</div>"
      ],
      "text/plain": [
       "     user_id  age churn_date              city  first_name   last_name  \\\n",
       "153     1153   59        NaN         Ульяновск     Евдокия    Одинцова   \n",
       "32      1032   31        NaN         Ульяновск        Инна   Игнатьева   \n",
       "299     1299   37        NaN               Уфа    Мариетта    Симонова   \n",
       "167     1167   30        NaN          Кемерово     Клавдия    Абдулина   \n",
       "117     1117   42        NaN            Тюмень        Дана   Меркулова   \n",
       "154     1154   19        NaN          Волжский      Марина  Тихомирова   \n",
       "481     1481   70        NaN            Москва     Клавдия      Чижова   \n",
       "453     1453   50        NaN            Москва      Кузьма    Акуленко   \n",
       "439     1439   62        NaN              Орёл     Евгения     Афонина   \n",
       "286     1286   19        NaN            Москва       Рашид    Троицкий   \n",
       "182     1182   29        NaN               Уфа    Габриель       Агаев   \n",
       "157     1157   27        NaN            Москва    Виктория   Белоусова   \n",
       "361     1361   38        NaN      Екатеринбург      Рената    Кошелева   \n",
       "82      1082   48        NaN            Москва   Авксентий     Малышев   \n",
       "101     1101   27        NaN            Казань      Онисим     Колобов   \n",
       "329     1329   36        NaN  Набережные Челны         Юна    Золотова   \n",
       "463     1463   74        NaN   Санкт-Петербург       Ринат   Авринский   \n",
       "338     1338   64        NaN            Москва       Павел       Орлов   \n",
       "80      1080   28        NaN            Москва    Всеволод    Игнатьев   \n",
       "249     1249   25        NaN             Курск     Изольда    Авдушева   \n",
       "112     1112   51        NaN         Ульяновск     Арнольд    Казанцев   \n",
       "477     1477   70        NaN  Набережные Челны     Геральд       Серов   \n",
       "332     1332   23        NaN            Москва   Джозефина    Тетерина   \n",
       "323     1323   67        NaN         Челябинск  Эсмеральда     Носкова   \n",
       "142     1142   51        NaN       Новосибирск      Симона    Алешкова   \n",
       "\n",
       "       reg_date tariff  \n",
       "153  2018-10-18  smart  \n",
       "32   2018-01-04  smart  \n",
       "299  2018-01-27  smart  \n",
       "167  2018-09-29  ultra  \n",
       "117  2018-12-10  smart  \n",
       "154  2018-06-02  smart  \n",
       "481  2018-02-26  smart  \n",
       "453  2018-01-01  ultra  \n",
       "439  2018-06-30  smart  \n",
       "286  2018-11-27  smart  \n",
       "182  2018-10-05  ultra  \n",
       "157  2018-02-23  smart  \n",
       "361  2018-09-09  ultra  \n",
       "82   2018-10-05  smart  \n",
       "101  2018-05-21  smart  \n",
       "329  2018-10-08  smart  \n",
       "463  2018-11-16  ultra  \n",
       "338  2018-05-11  smart  \n",
       "80   2018-08-12  ultra  \n",
       "249  2018-08-14  smart  \n",
       "112  2018-09-04  smart  \n",
       "477  2018-04-24  smart  \n",
       "332  2018-05-28  smart  \n",
       "323  2018-08-02  smart  \n",
       "142  2018-03-24  smart  "
      ]
     },
     "metadata": {},
     "output_type": "display_data"
    },
    {
     "name": "stdout",
     "output_type": "stream",
     "text": [
      "<class 'pandas.core.frame.DataFrame'>\n",
      "RangeIndex: 500 entries, 0 to 499\n",
      "Data columns (total 8 columns):\n",
      " #   Column      Non-Null Count  Dtype \n",
      "---  ------      --------------  ----- \n",
      " 0   user_id     500 non-null    int64 \n",
      " 1   age         500 non-null    int64 \n",
      " 2   churn_date  38 non-null     object\n",
      " 3   city        500 non-null    object\n",
      " 4   first_name  500 non-null    object\n",
      " 5   last_name   500 non-null    object\n",
      " 6   reg_date    500 non-null    object\n",
      " 7   tariff      500 non-null    object\n",
      "dtypes: int64(2), object(6)\n",
      "memory usage: 31.4+ KB\n"
     ]
    }
   ],
   "source": [
    "display(users.sample(25))\n",
    "users.info()"
   ]
  },
  {
   "cell_type": "markdown",
   "metadata": {},
   "source": [
    "Пропуски в датафрейме не случайны. NaN в столбце churn_date означает, что пользователь активен. Значения в данном столбце, а также в столбце reg_date приведем к типу datetime:"
   ]
  },
  {
   "cell_type": "code",
   "execution_count": 4,
   "metadata": {},
   "outputs": [],
   "source": [
    "users['churn_date'] = pd.to_datetime(users['churn_date'], format='%Y-%m-%d')\n",
    "users['reg_date'] = pd.to_datetime(users['reg_date'], format='%Y-%m-%d')"
   ]
  },
  {
   "cell_type": "markdown",
   "metadata": {},
   "source": [
    "В рамках исследования нас не интересуют ФИО абонентов и их возраст, поэтому от данных столбцов мы можем отказаться:"
   ]
  },
  {
   "cell_type": "code",
   "execution_count": 5,
   "metadata": {},
   "outputs": [],
   "source": [
    "columns = [\n",
    "    'user_id', 'churn_date', 'city', 'reg_date', 'tariff'\n",
    "]\n",
    "users = users[columns]"
   ]
  },
  {
   "cell_type": "code",
   "execution_count": 6,
   "metadata": {},
   "outputs": [
    {
     "data": {
      "text/plain": [
       "1024    1\n",
       "1353    1\n",
       "1366    1\n",
       "1365    1\n",
       "1364    1\n",
       "       ..\n",
       "1185    1\n",
       "1184    1\n",
       "1183    1\n",
       "1182    1\n",
       "1023    1\n",
       "Name: user_id, Length: 500, dtype: int64"
      ]
     },
     "execution_count": 6,
     "metadata": {},
     "output_type": "execute_result"
    }
   ],
   "source": [
    "users['user_id'].value_counts()"
   ]
  },
  {
   "cell_type": "markdown",
   "metadata": {},
   "source": [
    "Все значения столбца уникальны. 500 уникальных id"
   ]
  },
  {
   "cell_type": "markdown",
   "metadata": {},
   "source": [
    "**CALLS**"
   ]
  },
  {
   "cell_type": "code",
   "execution_count": 7,
   "metadata": {
    "scrolled": true
   },
   "outputs": [
    {
     "data": {
      "text/html": [
       "<div>\n",
       "<style scoped>\n",
       "    .dataframe tbody tr th:only-of-type {\n",
       "        vertical-align: middle;\n",
       "    }\n",
       "\n",
       "    .dataframe tbody tr th {\n",
       "        vertical-align: top;\n",
       "    }\n",
       "\n",
       "    .dataframe thead th {\n",
       "        text-align: right;\n",
       "    }\n",
       "</style>\n",
       "<table border=\"1\" class=\"dataframe\">\n",
       "  <thead>\n",
       "    <tr style=\"text-align: right;\">\n",
       "      <th></th>\n",
       "      <th>id</th>\n",
       "      <th>call_date</th>\n",
       "      <th>duration</th>\n",
       "      <th>user_id</th>\n",
       "    </tr>\n",
       "  </thead>\n",
       "  <tbody>\n",
       "    <tr>\n",
       "      <th>89900</th>\n",
       "      <td>1225_160</td>\n",
       "      <td>2018-06-08</td>\n",
       "      <td>9.05</td>\n",
       "      <td>1225</td>\n",
       "    </tr>\n",
       "    <tr>\n",
       "      <th>48869</th>\n",
       "      <td>1122_14</td>\n",
       "      <td>2018-11-25</td>\n",
       "      <td>5.07</td>\n",
       "      <td>1122</td>\n",
       "    </tr>\n",
       "    <tr>\n",
       "      <th>66376</th>\n",
       "      <td>1168_1527</td>\n",
       "      <td>2018-03-08</td>\n",
       "      <td>0.00</td>\n",
       "      <td>1168</td>\n",
       "    </tr>\n",
       "    <tr>\n",
       "      <th>53623</th>\n",
       "      <td>1134_684</td>\n",
       "      <td>2018-02-19</td>\n",
       "      <td>13.15</td>\n",
       "      <td>1134</td>\n",
       "    </tr>\n",
       "    <tr>\n",
       "      <th>15431</th>\n",
       "      <td>1041_129</td>\n",
       "      <td>2018-12-10</td>\n",
       "      <td>0.00</td>\n",
       "      <td>1041</td>\n",
       "    </tr>\n",
       "    <tr>\n",
       "      <th>42473</th>\n",
       "      <td>1104_375</td>\n",
       "      <td>2018-09-15</td>\n",
       "      <td>14.65</td>\n",
       "      <td>1104</td>\n",
       "    </tr>\n",
       "    <tr>\n",
       "      <th>51889</th>\n",
       "      <td>1130_177</td>\n",
       "      <td>2018-05-27</td>\n",
       "      <td>3.69</td>\n",
       "      <td>1130</td>\n",
       "    </tr>\n",
       "    <tr>\n",
       "      <th>127582</th>\n",
       "      <td>1327_157</td>\n",
       "      <td>2018-12-31</td>\n",
       "      <td>12.51</td>\n",
       "      <td>1327</td>\n",
       "    </tr>\n",
       "    <tr>\n",
       "      <th>36755</th>\n",
       "      <td>1093_33</td>\n",
       "      <td>2018-07-08</td>\n",
       "      <td>11.83</td>\n",
       "      <td>1093</td>\n",
       "    </tr>\n",
       "    <tr>\n",
       "      <th>194410</th>\n",
       "      <td>1477_158</td>\n",
       "      <td>2018-12-19</td>\n",
       "      <td>6.08</td>\n",
       "      <td>1477</td>\n",
       "    </tr>\n",
       "    <tr>\n",
       "      <th>186282</th>\n",
       "      <td>1460_200</td>\n",
       "      <td>2018-11-19</td>\n",
       "      <td>4.71</td>\n",
       "      <td>1460</td>\n",
       "    </tr>\n",
       "    <tr>\n",
       "      <th>118709</th>\n",
       "      <td>1307_183</td>\n",
       "      <td>2018-06-11</td>\n",
       "      <td>0.00</td>\n",
       "      <td>1307</td>\n",
       "    </tr>\n",
       "    <tr>\n",
       "      <th>174319</th>\n",
       "      <td>1431_8</td>\n",
       "      <td>2018-12-02</td>\n",
       "      <td>18.62</td>\n",
       "      <td>1431</td>\n",
       "    </tr>\n",
       "    <tr>\n",
       "      <th>144694</th>\n",
       "      <td>1364_406</td>\n",
       "      <td>2018-09-12</td>\n",
       "      <td>13.86</td>\n",
       "      <td>1364</td>\n",
       "    </tr>\n",
       "    <tr>\n",
       "      <th>190286</th>\n",
       "      <td>1468_257</td>\n",
       "      <td>2018-04-10</td>\n",
       "      <td>0.00</td>\n",
       "      <td>1468</td>\n",
       "    </tr>\n",
       "    <tr>\n",
       "      <th>104354</th>\n",
       "      <td>1267_346</td>\n",
       "      <td>2018-11-15</td>\n",
       "      <td>14.60</td>\n",
       "      <td>1267</td>\n",
       "    </tr>\n",
       "    <tr>\n",
       "      <th>166351</th>\n",
       "      <td>1409_976</td>\n",
       "      <td>2018-04-25</td>\n",
       "      <td>6.43</td>\n",
       "      <td>1409</td>\n",
       "    </tr>\n",
       "    <tr>\n",
       "      <th>178969</th>\n",
       "      <td>1446_254</td>\n",
       "      <td>2018-10-09</td>\n",
       "      <td>0.45</td>\n",
       "      <td>1446</td>\n",
       "    </tr>\n",
       "    <tr>\n",
       "      <th>190382</th>\n",
       "      <td>1469_1</td>\n",
       "      <td>2018-08-15</td>\n",
       "      <td>0.00</td>\n",
       "      <td>1469</td>\n",
       "    </tr>\n",
       "    <tr>\n",
       "      <th>54874</th>\n",
       "      <td>1138_299</td>\n",
       "      <td>2018-12-19</td>\n",
       "      <td>3.04</td>\n",
       "      <td>1138</td>\n",
       "    </tr>\n",
       "    <tr>\n",
       "      <th>132159</th>\n",
       "      <td>1340_133</td>\n",
       "      <td>2018-06-28</td>\n",
       "      <td>12.91</td>\n",
       "      <td>1340</td>\n",
       "    </tr>\n",
       "    <tr>\n",
       "      <th>61775</th>\n",
       "      <td>1155_583</td>\n",
       "      <td>2018-12-07</td>\n",
       "      <td>1.58</td>\n",
       "      <td>1155</td>\n",
       "    </tr>\n",
       "    <tr>\n",
       "      <th>119894</th>\n",
       "      <td>1310_89</td>\n",
       "      <td>2018-10-22</td>\n",
       "      <td>1.44</td>\n",
       "      <td>1310</td>\n",
       "    </tr>\n",
       "    <tr>\n",
       "      <th>86643</th>\n",
       "      <td>1217_508</td>\n",
       "      <td>2018-12-09</td>\n",
       "      <td>9.81</td>\n",
       "      <td>1217</td>\n",
       "    </tr>\n",
       "    <tr>\n",
       "      <th>48529</th>\n",
       "      <td>1121_186</td>\n",
       "      <td>2018-06-24</td>\n",
       "      <td>9.18</td>\n",
       "      <td>1121</td>\n",
       "    </tr>\n",
       "  </tbody>\n",
       "</table>\n",
       "</div>"
      ],
      "text/plain": [
       "               id   call_date  duration  user_id\n",
       "89900    1225_160  2018-06-08      9.05     1225\n",
       "48869     1122_14  2018-11-25      5.07     1122\n",
       "66376   1168_1527  2018-03-08      0.00     1168\n",
       "53623    1134_684  2018-02-19     13.15     1134\n",
       "15431    1041_129  2018-12-10      0.00     1041\n",
       "42473    1104_375  2018-09-15     14.65     1104\n",
       "51889    1130_177  2018-05-27      3.69     1130\n",
       "127582   1327_157  2018-12-31     12.51     1327\n",
       "36755     1093_33  2018-07-08     11.83     1093\n",
       "194410   1477_158  2018-12-19      6.08     1477\n",
       "186282   1460_200  2018-11-19      4.71     1460\n",
       "118709   1307_183  2018-06-11      0.00     1307\n",
       "174319     1431_8  2018-12-02     18.62     1431\n",
       "144694   1364_406  2018-09-12     13.86     1364\n",
       "190286   1468_257  2018-04-10      0.00     1468\n",
       "104354   1267_346  2018-11-15     14.60     1267\n",
       "166351   1409_976  2018-04-25      6.43     1409\n",
       "178969   1446_254  2018-10-09      0.45     1446\n",
       "190382     1469_1  2018-08-15      0.00     1469\n",
       "54874    1138_299  2018-12-19      3.04     1138\n",
       "132159   1340_133  2018-06-28     12.91     1340\n",
       "61775    1155_583  2018-12-07      1.58     1155\n",
       "119894    1310_89  2018-10-22      1.44     1310\n",
       "86643    1217_508  2018-12-09      9.81     1217\n",
       "48529    1121_186  2018-06-24      9.18     1121"
      ]
     },
     "metadata": {},
     "output_type": "display_data"
    },
    {
     "name": "stdout",
     "output_type": "stream",
     "text": [
      "<class 'pandas.core.frame.DataFrame'>\n",
      "RangeIndex: 202607 entries, 0 to 202606\n",
      "Data columns (total 4 columns):\n",
      " #   Column     Non-Null Count   Dtype  \n",
      "---  ------     --------------   -----  \n",
      " 0   id         202607 non-null  object \n",
      " 1   call_date  202607 non-null  object \n",
      " 2   duration   202607 non-null  float64\n",
      " 3   user_id    202607 non-null  int64  \n",
      "dtypes: float64(1), int64(1), object(2)\n",
      "memory usage: 6.2+ MB\n"
     ]
    }
   ],
   "source": [
    "display(calls.sample(25))\n",
    "calls.info()"
   ]
  },
  {
   "cell_type": "markdown",
   "metadata": {},
   "source": [
    "Столбец duration округлим в большую сторону, исходя из политики Мегалайна. Столбец call_date приведем к типу даты и создадим ещё один столбец со значением месяца, в который происходил звонок. Столбец с уникальным id звонка опустим, так как они не пригодятся в дальнейших вычислениях."
   ]
  },
  {
   "cell_type": "code",
   "execution_count": 8,
   "metadata": {},
   "outputs": [
    {
     "data": {
      "text/plain": [
       "0"
      ]
     },
     "execution_count": 8,
     "metadata": {},
     "output_type": "execute_result"
    }
   ],
   "source": [
    "calls['duration'].isna().sum()"
   ]
  },
  {
   "cell_type": "code",
   "execution_count": 9,
   "metadata": {},
   "outputs": [],
   "source": [
    "calls['duration_cell']=np.ceil(calls['duration'])"
   ]
  },
  {
   "cell_type": "code",
   "execution_count": 10,
   "metadata": {},
   "outputs": [],
   "source": [
    "calls['call_date'] = pd.to_datetime(calls['call_date'], format='%Y-%m-%d')"
   ]
  },
  {
   "cell_type": "code",
   "execution_count": 11,
   "metadata": {},
   "outputs": [],
   "source": [
    "calls['service_month']= pd.DatetimeIndex(calls['call_date']).month"
   ]
  },
  {
   "cell_type": "code",
   "execution_count": 12,
   "metadata": {},
   "outputs": [],
   "source": [
    "columns = [\n",
    "    'user_id', 'call_date', 'service_month', 'duration_cell'\n",
    "]\n",
    "calls = calls[columns]"
   ]
  },
  {
   "cell_type": "markdown",
   "metadata": {},
   "source": [
    "**Messages**"
   ]
  },
  {
   "cell_type": "code",
   "execution_count": 13,
   "metadata": {},
   "outputs": [
    {
     "data": {
      "text/html": [
       "<div>\n",
       "<style scoped>\n",
       "    .dataframe tbody tr th:only-of-type {\n",
       "        vertical-align: middle;\n",
       "    }\n",
       "\n",
       "    .dataframe tbody tr th {\n",
       "        vertical-align: top;\n",
       "    }\n",
       "\n",
       "    .dataframe thead th {\n",
       "        text-align: right;\n",
       "    }\n",
       "</style>\n",
       "<table border=\"1\" class=\"dataframe\">\n",
       "  <thead>\n",
       "    <tr style=\"text-align: right;\">\n",
       "      <th></th>\n",
       "      <th>id</th>\n",
       "      <th>message_date</th>\n",
       "      <th>user_id</th>\n",
       "    </tr>\n",
       "  </thead>\n",
       "  <tbody>\n",
       "    <tr>\n",
       "      <th>36401</th>\n",
       "      <td>1158_206</td>\n",
       "      <td>2018-03-23</td>\n",
       "      <td>1158</td>\n",
       "    </tr>\n",
       "    <tr>\n",
       "      <th>111093</th>\n",
       "      <td>1449_434</td>\n",
       "      <td>2018-11-07</td>\n",
       "      <td>1449</td>\n",
       "    </tr>\n",
       "    <tr>\n",
       "      <th>52088</th>\n",
       "      <td>1231_709</td>\n",
       "      <td>2018-08-01</td>\n",
       "      <td>1231</td>\n",
       "    </tr>\n",
       "    <tr>\n",
       "      <th>52344</th>\n",
       "      <td>1231_965</td>\n",
       "      <td>2018-12-27</td>\n",
       "      <td>1231</td>\n",
       "    </tr>\n",
       "    <tr>\n",
       "      <th>1829</th>\n",
       "      <td>1004_883</td>\n",
       "      <td>2018-05-23</td>\n",
       "      <td>1004</td>\n",
       "    </tr>\n",
       "    <tr>\n",
       "      <th>93106</th>\n",
       "      <td>1382_567</td>\n",
       "      <td>2018-06-04</td>\n",
       "      <td>1382</td>\n",
       "    </tr>\n",
       "    <tr>\n",
       "      <th>103804</th>\n",
       "      <td>1423_137</td>\n",
       "      <td>2018-10-28</td>\n",
       "      <td>1423</td>\n",
       "    </tr>\n",
       "    <tr>\n",
       "      <th>89199</th>\n",
       "      <td>1373_211</td>\n",
       "      <td>2018-06-26</td>\n",
       "      <td>1373</td>\n",
       "    </tr>\n",
       "    <tr>\n",
       "      <th>13116</th>\n",
       "      <td>1055_82</td>\n",
       "      <td>2018-10-01</td>\n",
       "      <td>1055</td>\n",
       "    </tr>\n",
       "    <tr>\n",
       "      <th>9096</th>\n",
       "      <td>1035_331</td>\n",
       "      <td>2018-08-25</td>\n",
       "      <td>1035</td>\n",
       "    </tr>\n",
       "    <tr>\n",
       "      <th>68544</th>\n",
       "      <td>1289_303</td>\n",
       "      <td>2018-10-18</td>\n",
       "      <td>1289</td>\n",
       "    </tr>\n",
       "    <tr>\n",
       "      <th>104439</th>\n",
       "      <td>1424_292</td>\n",
       "      <td>2018-09-25</td>\n",
       "      <td>1424</td>\n",
       "    </tr>\n",
       "    <tr>\n",
       "      <th>92684</th>\n",
       "      <td>1382_145</td>\n",
       "      <td>2018-11-30</td>\n",
       "      <td>1382</td>\n",
       "    </tr>\n",
       "    <tr>\n",
       "      <th>87273</th>\n",
       "      <td>1364_7</td>\n",
       "      <td>2018-12-22</td>\n",
       "      <td>1364</td>\n",
       "    </tr>\n",
       "    <tr>\n",
       "      <th>20500</th>\n",
       "      <td>1089_503</td>\n",
       "      <td>2018-07-09</td>\n",
       "      <td>1089</td>\n",
       "    </tr>\n",
       "    <tr>\n",
       "      <th>14345</th>\n",
       "      <td>1064_32</td>\n",
       "      <td>2018-07-28</td>\n",
       "      <td>1064</td>\n",
       "    </tr>\n",
       "    <tr>\n",
       "      <th>27475</th>\n",
       "      <td>1115_166</td>\n",
       "      <td>2018-12-04</td>\n",
       "      <td>1115</td>\n",
       "    </tr>\n",
       "    <tr>\n",
       "      <th>12219</th>\n",
       "      <td>1052_291</td>\n",
       "      <td>2018-10-02</td>\n",
       "      <td>1052</td>\n",
       "    </tr>\n",
       "    <tr>\n",
       "      <th>6251</th>\n",
       "      <td>1027_41</td>\n",
       "      <td>2018-08-30</td>\n",
       "      <td>1027</td>\n",
       "    </tr>\n",
       "    <tr>\n",
       "      <th>55986</th>\n",
       "      <td>1247_128</td>\n",
       "      <td>2018-09-05</td>\n",
       "      <td>1247</td>\n",
       "    </tr>\n",
       "    <tr>\n",
       "      <th>102365</th>\n",
       "      <td>1417_227</td>\n",
       "      <td>2018-12-16</td>\n",
       "      <td>1417</td>\n",
       "    </tr>\n",
       "    <tr>\n",
       "      <th>120876</th>\n",
       "      <td>1490_98</td>\n",
       "      <td>2018-05-21</td>\n",
       "      <td>1490</td>\n",
       "    </tr>\n",
       "    <tr>\n",
       "      <th>18528</th>\n",
       "      <td>1081_169</td>\n",
       "      <td>2018-11-07</td>\n",
       "      <td>1081</td>\n",
       "    </tr>\n",
       "    <tr>\n",
       "      <th>45672</th>\n",
       "      <td>1197_2</td>\n",
       "      <td>2018-07-04</td>\n",
       "      <td>1197</td>\n",
       "    </tr>\n",
       "    <tr>\n",
       "      <th>4196</th>\n",
       "      <td>1015_461</td>\n",
       "      <td>2018-05-08</td>\n",
       "      <td>1015</td>\n",
       "    </tr>\n",
       "  </tbody>\n",
       "</table>\n",
       "</div>"
      ],
      "text/plain": [
       "              id message_date  user_id\n",
       "36401   1158_206   2018-03-23     1158\n",
       "111093  1449_434   2018-11-07     1449\n",
       "52088   1231_709   2018-08-01     1231\n",
       "52344   1231_965   2018-12-27     1231\n",
       "1829    1004_883   2018-05-23     1004\n",
       "93106   1382_567   2018-06-04     1382\n",
       "103804  1423_137   2018-10-28     1423\n",
       "89199   1373_211   2018-06-26     1373\n",
       "13116    1055_82   2018-10-01     1055\n",
       "9096    1035_331   2018-08-25     1035\n",
       "68544   1289_303   2018-10-18     1289\n",
       "104439  1424_292   2018-09-25     1424\n",
       "92684   1382_145   2018-11-30     1382\n",
       "87273     1364_7   2018-12-22     1364\n",
       "20500   1089_503   2018-07-09     1089\n",
       "14345    1064_32   2018-07-28     1064\n",
       "27475   1115_166   2018-12-04     1115\n",
       "12219   1052_291   2018-10-02     1052\n",
       "6251     1027_41   2018-08-30     1027\n",
       "55986   1247_128   2018-09-05     1247\n",
       "102365  1417_227   2018-12-16     1417\n",
       "120876   1490_98   2018-05-21     1490\n",
       "18528   1081_169   2018-11-07     1081\n",
       "45672     1197_2   2018-07-04     1197\n",
       "4196    1015_461   2018-05-08     1015"
      ]
     },
     "metadata": {},
     "output_type": "display_data"
    },
    {
     "name": "stdout",
     "output_type": "stream",
     "text": [
      "<class 'pandas.core.frame.DataFrame'>\n",
      "RangeIndex: 123036 entries, 0 to 123035\n",
      "Data columns (total 3 columns):\n",
      " #   Column        Non-Null Count   Dtype \n",
      "---  ------        --------------   ----- \n",
      " 0   id            123036 non-null  object\n",
      " 1   message_date  123036 non-null  object\n",
      " 2   user_id       123036 non-null  int64 \n",
      "dtypes: int64(1), object(2)\n",
      "memory usage: 2.8+ MB\n"
     ]
    }
   ],
   "source": [
    "display(messages.sample(25))\n",
    "messages.info()"
   ]
  },
  {
   "cell_type": "markdown",
   "metadata": {},
   "source": [
    "В данном датафрейме приведем к типу даты столбец message_date и по аналогии с таблицей звонков сделаем столбец, маркирующий месяц совершения действия."
   ]
  },
  {
   "cell_type": "code",
   "execution_count": 14,
   "metadata": {},
   "outputs": [],
   "source": [
    "messages['message_date'] = pd.to_datetime(messages['message_date'], format='%Y-%m-%d')"
   ]
  },
  {
   "cell_type": "code",
   "execution_count": 15,
   "metadata": {},
   "outputs": [],
   "source": [
    "messages['service_month']= pd.DatetimeIndex(messages['message_date']).month"
   ]
  },
  {
   "cell_type": "markdown",
   "metadata": {},
   "source": [
    "**INTERNET**"
   ]
  },
  {
   "cell_type": "code",
   "execution_count": 16,
   "metadata": {},
   "outputs": [
    {
     "data": {
      "text/html": [
       "<div>\n",
       "<style scoped>\n",
       "    .dataframe tbody tr th:only-of-type {\n",
       "        vertical-align: middle;\n",
       "    }\n",
       "\n",
       "    .dataframe tbody tr th {\n",
       "        vertical-align: top;\n",
       "    }\n",
       "\n",
       "    .dataframe thead th {\n",
       "        text-align: right;\n",
       "    }\n",
       "</style>\n",
       "<table border=\"1\" class=\"dataframe\">\n",
       "  <thead>\n",
       "    <tr style=\"text-align: right;\">\n",
       "      <th></th>\n",
       "      <th>Unnamed: 0</th>\n",
       "      <th>id</th>\n",
       "      <th>mb_used</th>\n",
       "      <th>session_date</th>\n",
       "      <th>user_id</th>\n",
       "    </tr>\n",
       "  </thead>\n",
       "  <tbody>\n",
       "    <tr>\n",
       "      <th>78551</th>\n",
       "      <td>78551</td>\n",
       "      <td>1264_170</td>\n",
       "      <td>120.79</td>\n",
       "      <td>2018-09-17</td>\n",
       "      <td>1264</td>\n",
       "    </tr>\n",
       "    <tr>\n",
       "      <th>6451</th>\n",
       "      <td>6451</td>\n",
       "      <td>1021_95</td>\n",
       "      <td>833.33</td>\n",
       "      <td>2018-05-24</td>\n",
       "      <td>1021</td>\n",
       "    </tr>\n",
       "    <tr>\n",
       "      <th>134040</th>\n",
       "      <td>134040</td>\n",
       "      <td>1449_195</td>\n",
       "      <td>566.97</td>\n",
       "      <td>2018-08-20</td>\n",
       "      <td>1449</td>\n",
       "    </tr>\n",
       "    <tr>\n",
       "      <th>104285</th>\n",
       "      <td>104285</td>\n",
       "      <td>1353_221</td>\n",
       "      <td>198.00</td>\n",
       "      <td>2018-06-28</td>\n",
       "      <td>1353</td>\n",
       "    </tr>\n",
       "    <tr>\n",
       "      <th>97111</th>\n",
       "      <td>97111</td>\n",
       "      <td>1327_32</td>\n",
       "      <td>524.84</td>\n",
       "      <td>2018-09-18</td>\n",
       "      <td>1327</td>\n",
       "    </tr>\n",
       "    <tr>\n",
       "      <th>32865</th>\n",
       "      <td>32865</td>\n",
       "      <td>1115_68</td>\n",
       "      <td>0.00</td>\n",
       "      <td>2018-09-27</td>\n",
       "      <td>1115</td>\n",
       "    </tr>\n",
       "    <tr>\n",
       "      <th>91439</th>\n",
       "      <td>91439</td>\n",
       "      <td>1309_21</td>\n",
       "      <td>784.97</td>\n",
       "      <td>2018-12-24</td>\n",
       "      <td>1309</td>\n",
       "    </tr>\n",
       "    <tr>\n",
       "      <th>106146</th>\n",
       "      <td>106146</td>\n",
       "      <td>1359_5</td>\n",
       "      <td>265.64</td>\n",
       "      <td>2018-11-14</td>\n",
       "      <td>1359</td>\n",
       "    </tr>\n",
       "    <tr>\n",
       "      <th>107327</th>\n",
       "      <td>107327</td>\n",
       "      <td>1364_25</td>\n",
       "      <td>322.41</td>\n",
       "      <td>2018-12-05</td>\n",
       "      <td>1364</td>\n",
       "    </tr>\n",
       "    <tr>\n",
       "      <th>70456</th>\n",
       "      <td>70456</td>\n",
       "      <td>1240_124</td>\n",
       "      <td>630.43</td>\n",
       "      <td>2018-06-08</td>\n",
       "      <td>1240</td>\n",
       "    </tr>\n",
       "    <tr>\n",
       "      <th>86727</th>\n",
       "      <td>86727</td>\n",
       "      <td>1294_69</td>\n",
       "      <td>793.66</td>\n",
       "      <td>2018-12-04</td>\n",
       "      <td>1294</td>\n",
       "    </tr>\n",
       "    <tr>\n",
       "      <th>113230</th>\n",
       "      <td>113230</td>\n",
       "      <td>1383_38</td>\n",
       "      <td>0.00</td>\n",
       "      <td>2018-12-08</td>\n",
       "      <td>1383</td>\n",
       "    </tr>\n",
       "    <tr>\n",
       "      <th>74511</th>\n",
       "      <td>74511</td>\n",
       "      <td>1251_73</td>\n",
       "      <td>240.72</td>\n",
       "      <td>2018-07-21</td>\n",
       "      <td>1251</td>\n",
       "    </tr>\n",
       "    <tr>\n",
       "      <th>516</th>\n",
       "      <td>516</td>\n",
       "      <td>1002_209</td>\n",
       "      <td>195.13</td>\n",
       "      <td>2018-12-07</td>\n",
       "      <td>1002</td>\n",
       "    </tr>\n",
       "    <tr>\n",
       "      <th>52157</th>\n",
       "      <td>52157</td>\n",
       "      <td>1176_312</td>\n",
       "      <td>0.00</td>\n",
       "      <td>2018-04-08</td>\n",
       "      <td>1176</td>\n",
       "    </tr>\n",
       "    <tr>\n",
       "      <th>40078</th>\n",
       "      <td>40078</td>\n",
       "      <td>1142_159</td>\n",
       "      <td>721.03</td>\n",
       "      <td>2018-06-08</td>\n",
       "      <td>1142</td>\n",
       "    </tr>\n",
       "    <tr>\n",
       "      <th>142753</th>\n",
       "      <td>142753</td>\n",
       "      <td>1478_117</td>\n",
       "      <td>52.31</td>\n",
       "      <td>2018-11-26</td>\n",
       "      <td>1478</td>\n",
       "    </tr>\n",
       "    <tr>\n",
       "      <th>91590</th>\n",
       "      <td>91590</td>\n",
       "      <td>1310_51</td>\n",
       "      <td>494.65</td>\n",
       "      <td>2018-04-17</td>\n",
       "      <td>1310</td>\n",
       "    </tr>\n",
       "    <tr>\n",
       "      <th>71388</th>\n",
       "      <td>71388</td>\n",
       "      <td>1241_292</td>\n",
       "      <td>99.68</td>\n",
       "      <td>2018-11-14</td>\n",
       "      <td>1241</td>\n",
       "    </tr>\n",
       "    <tr>\n",
       "      <th>137533</th>\n",
       "      <td>137533</td>\n",
       "      <td>1461_49</td>\n",
       "      <td>936.80</td>\n",
       "      <td>2018-12-04</td>\n",
       "      <td>1461</td>\n",
       "    </tr>\n",
       "    <tr>\n",
       "      <th>8029</th>\n",
       "      <td>8029</td>\n",
       "      <td>1027_356</td>\n",
       "      <td>0.00</td>\n",
       "      <td>2018-10-28</td>\n",
       "      <td>1027</td>\n",
       "    </tr>\n",
       "    <tr>\n",
       "      <th>58175</th>\n",
       "      <td>58175</td>\n",
       "      <td>1196_173</td>\n",
       "      <td>149.30</td>\n",
       "      <td>2018-10-25</td>\n",
       "      <td>1196</td>\n",
       "    </tr>\n",
       "    <tr>\n",
       "      <th>121129</th>\n",
       "      <td>121129</td>\n",
       "      <td>1409_96</td>\n",
       "      <td>219.89</td>\n",
       "      <td>2018-08-19</td>\n",
       "      <td>1409</td>\n",
       "    </tr>\n",
       "    <tr>\n",
       "      <th>119342</th>\n",
       "      <td>119342</td>\n",
       "      <td>1402_377</td>\n",
       "      <td>199.53</td>\n",
       "      <td>2018-08-26</td>\n",
       "      <td>1402</td>\n",
       "    </tr>\n",
       "    <tr>\n",
       "      <th>82845</th>\n",
       "      <td>82845</td>\n",
       "      <td>1281_161</td>\n",
       "      <td>667.05</td>\n",
       "      <td>2018-10-08</td>\n",
       "      <td>1281</td>\n",
       "    </tr>\n",
       "  </tbody>\n",
       "</table>\n",
       "</div>"
      ],
      "text/plain": [
       "        Unnamed: 0        id  mb_used session_date  user_id\n",
       "78551        78551  1264_170   120.79   2018-09-17     1264\n",
       "6451          6451   1021_95   833.33   2018-05-24     1021\n",
       "134040      134040  1449_195   566.97   2018-08-20     1449\n",
       "104285      104285  1353_221   198.00   2018-06-28     1353\n",
       "97111        97111   1327_32   524.84   2018-09-18     1327\n",
       "32865        32865   1115_68     0.00   2018-09-27     1115\n",
       "91439        91439   1309_21   784.97   2018-12-24     1309\n",
       "106146      106146    1359_5   265.64   2018-11-14     1359\n",
       "107327      107327   1364_25   322.41   2018-12-05     1364\n",
       "70456        70456  1240_124   630.43   2018-06-08     1240\n",
       "86727        86727   1294_69   793.66   2018-12-04     1294\n",
       "113230      113230   1383_38     0.00   2018-12-08     1383\n",
       "74511        74511   1251_73   240.72   2018-07-21     1251\n",
       "516            516  1002_209   195.13   2018-12-07     1002\n",
       "52157        52157  1176_312     0.00   2018-04-08     1176\n",
       "40078        40078  1142_159   721.03   2018-06-08     1142\n",
       "142753      142753  1478_117    52.31   2018-11-26     1478\n",
       "91590        91590   1310_51   494.65   2018-04-17     1310\n",
       "71388        71388  1241_292    99.68   2018-11-14     1241\n",
       "137533      137533   1461_49   936.80   2018-12-04     1461\n",
       "8029          8029  1027_356     0.00   2018-10-28     1027\n",
       "58175        58175  1196_173   149.30   2018-10-25     1196\n",
       "121129      121129   1409_96   219.89   2018-08-19     1409\n",
       "119342      119342  1402_377   199.53   2018-08-26     1402\n",
       "82845        82845  1281_161   667.05   2018-10-08     1281"
      ]
     },
     "metadata": {},
     "output_type": "display_data"
    },
    {
     "name": "stdout",
     "output_type": "stream",
     "text": [
      "<class 'pandas.core.frame.DataFrame'>\n",
      "RangeIndex: 149396 entries, 0 to 149395\n",
      "Data columns (total 5 columns):\n",
      " #   Column        Non-Null Count   Dtype  \n",
      "---  ------        --------------   -----  \n",
      " 0   Unnamed: 0    149396 non-null  int64  \n",
      " 1   id            149396 non-null  object \n",
      " 2   mb_used       149396 non-null  float64\n",
      " 3   session_date  149396 non-null  object \n",
      " 4   user_id       149396 non-null  int64  \n",
      "dtypes: float64(1), int64(2), object(2)\n",
      "memory usage: 5.7+ MB\n"
     ]
    }
   ],
   "source": [
    "display(internet.sample(25))\n",
    "internet.info()"
   ]
  },
  {
   "cell_type": "markdown",
   "metadata": {},
   "source": [
    "По аналогии приведем столбец session_date к типу даты и вычленим в отдельный столбец service_month месяц использования услуги:\n"
   ]
  },
  {
   "cell_type": "code",
   "execution_count": 17,
   "metadata": {},
   "outputs": [],
   "source": [
    "internet['session_date'] = pd.to_datetime(internet['session_date'], format='%Y-%m-%d')"
   ]
  },
  {
   "cell_type": "code",
   "execution_count": 18,
   "metadata": {},
   "outputs": [],
   "source": [
    "internet['service_month']= pd.DatetimeIndex(internet['session_date']).month"
   ]
  },
  {
   "cell_type": "code",
   "execution_count": 19,
   "metadata": {},
   "outputs": [],
   "source": [
    "internet['mb_used']=internet['mb_used']/1024"
   ]
  },
  {
   "cell_type": "code",
   "execution_count": 20,
   "metadata": {},
   "outputs": [],
   "source": [
    "columns = [\n",
    "    'user_id', 'mb_used', 'service_month', 'session_date'\n",
    "]\n",
    "internet = internet[columns]"
   ]
  },
  {
   "cell_type": "markdown",
   "metadata": {},
   "source": [
    "**TARIFFS** "
   ]
  },
  {
   "cell_type": "markdown",
   "metadata": {},
   "source": [
    "Переименуем столбец tariff_name на tariff, так как по нему впоследствии произойдёт объединение этого фрейма и users"
   ]
  },
  {
   "cell_type": "code",
   "execution_count": 21,
   "metadata": {},
   "outputs": [
    {
     "name": "stdout",
     "output_type": "stream",
     "text": [
      "<class 'pandas.core.frame.DataFrame'>\n",
      "RangeIndex: 2 entries, 0 to 1\n",
      "Data columns (total 8 columns):\n",
      " #   Column                 Non-Null Count  Dtype \n",
      "---  ------                 --------------  ----- \n",
      " 0   messages_included      2 non-null      int64 \n",
      " 1   mb_per_month_included  2 non-null      int64 \n",
      " 2   minutes_included       2 non-null      int64 \n",
      " 3   rub_monthly_fee        2 non-null      int64 \n",
      " 4   rub_per_gb             2 non-null      int64 \n",
      " 5   rub_per_message        2 non-null      int64 \n",
      " 6   rub_per_minute         2 non-null      int64 \n",
      " 7   tariff_name            2 non-null      object\n",
      "dtypes: int64(7), object(1)\n",
      "memory usage: 256.0+ bytes\n"
     ]
    }
   ],
   "source": [
    "tariffs.info()"
   ]
  },
  {
   "cell_type": "code",
   "execution_count": 22,
   "metadata": {},
   "outputs": [
    {
     "data": {
      "text/html": [
       "<div>\n",
       "<style scoped>\n",
       "    .dataframe tbody tr th:only-of-type {\n",
       "        vertical-align: middle;\n",
       "    }\n",
       "\n",
       "    .dataframe tbody tr th {\n",
       "        vertical-align: top;\n",
       "    }\n",
       "\n",
       "    .dataframe thead th {\n",
       "        text-align: right;\n",
       "    }\n",
       "</style>\n",
       "<table border=\"1\" class=\"dataframe\">\n",
       "  <thead>\n",
       "    <tr style=\"text-align: right;\">\n",
       "      <th></th>\n",
       "      <th>messages_included</th>\n",
       "      <th>mb_per_month_included</th>\n",
       "      <th>minutes_included</th>\n",
       "      <th>rub_monthly_fee</th>\n",
       "      <th>rub_per_gb</th>\n",
       "      <th>rub_per_message</th>\n",
       "      <th>rub_per_minute</th>\n",
       "      <th>tariff_name</th>\n",
       "    </tr>\n",
       "  </thead>\n",
       "  <tbody>\n",
       "    <tr>\n",
       "      <th>0</th>\n",
       "      <td>50</td>\n",
       "      <td>15360</td>\n",
       "      <td>500</td>\n",
       "      <td>550</td>\n",
       "      <td>200</td>\n",
       "      <td>3</td>\n",
       "      <td>3</td>\n",
       "      <td>smart</td>\n",
       "    </tr>\n",
       "    <tr>\n",
       "      <th>1</th>\n",
       "      <td>1000</td>\n",
       "      <td>30720</td>\n",
       "      <td>3000</td>\n",
       "      <td>1950</td>\n",
       "      <td>150</td>\n",
       "      <td>1</td>\n",
       "      <td>1</td>\n",
       "      <td>ultra</td>\n",
       "    </tr>\n",
       "  </tbody>\n",
       "</table>\n",
       "</div>"
      ],
      "text/plain": [
       "   messages_included  mb_per_month_included  minutes_included  \\\n",
       "0                 50                  15360               500   \n",
       "1               1000                  30720              3000   \n",
       "\n",
       "   rub_monthly_fee  rub_per_gb  rub_per_message  rub_per_minute tariff_name  \n",
       "0              550         200                3               3       smart  \n",
       "1             1950         150                1               1       ultra  "
      ]
     },
     "execution_count": 22,
     "metadata": {},
     "output_type": "execute_result"
    }
   ],
   "source": [
    "tariffs.head()"
   ]
  },
  {
   "cell_type": "code",
   "execution_count": 23,
   "metadata": {},
   "outputs": [],
   "source": [
    "tariffs.columns = ['messages_included','mb_per_month_included', 'minutes_included', 'rub_monthly_fee', 'rub_per_gb', 'rub_per_message', 'rub_per_minute', 'tariff']"
   ]
  },
  {
   "cell_type": "code",
   "execution_count": 24,
   "metadata": {},
   "outputs": [
    {
     "data": {
      "text/plain": [
       "Index(['messages_included', 'mb_per_month_included', 'minutes_included',\n",
       "       'rub_monthly_fee', 'rub_per_gb', 'rub_per_message', 'rub_per_minute',\n",
       "       'tariff'],\n",
       "      dtype='object')"
      ]
     },
     "execution_count": 24,
     "metadata": {},
     "output_type": "execute_result"
    }
   ],
   "source": [
    "tariffs.columns"
   ]
  },
  {
   "cell_type": "markdown",
   "metadata": {},
   "source": [
    "### Вывод"
   ]
  },
  {
   "cell_type": "markdown",
   "metadata": {},
   "source": [
    "Первичное изучение данных показалj, что датасетsи полные, критических пропущенных данных нет. Все таблицы пригодны для группировки и дальнейшего объединения."
   ]
  },
  {
   "cell_type": "markdown",
   "metadata": {},
   "source": [
    "## Подготовка данных\n",
    "Очистить данные и посчитать:\n",
    "- количество сделанных звонков и израсходованных минут разговора по месяцам;\n",
    "- количество отправленных сообщений по месяцам;\n",
    "- объем израсходованного интернет-трафика по месяцам;\n",
    "- помесячную выручку с каждого пользователя (вычтите бесплатный лимит из суммарного количества звонков, сообщений и интернет--трафика; остаток умножьте на значение из тарифного плана; прибавьте абонентскую плату, соответствующую тарифному плану)."
   ]
  },
  {
   "cell_type": "markdown",
   "metadata": {},
   "source": [
    "Объединим в один датафрейм таблицы с расходом услуг, но сначала сгруппируем каждую из них по пользователям и месяцам."
   ]
  },
  {
   "cell_type": "code",
   "execution_count": 25,
   "metadata": {},
   "outputs": [
    {
     "name": "stdout",
     "output_type": "stream",
     "text": [
      "<class 'pandas.core.frame.DataFrame'>\n",
      "RangeIndex: 3174 entries, 0 to 3173\n",
      "Data columns (total 4 columns):\n",
      " #   Column                  Non-Null Count  Dtype  \n",
      "---  ------                  --------------  -----  \n",
      " 0   (user_id, )             3174 non-null   int64  \n",
      " 1   (service_month, )       3174 non-null   int64  \n",
      " 2   (count, duration_cell)  3174 non-null   int64  \n",
      " 3   (sum, duration_cell)    3174 non-null   float64\n",
      "dtypes: float64(1), int64(3)\n",
      "memory usage: 99.3 KB\n"
     ]
    }
   ],
   "source": [
    "calls_pivot = calls.pivot_table(index = ['user_id', 'service_month'], values = 'duration_cell', aggfunc = ['count', 'sum']).reset_index()\n",
    "calls_pivot.info()"
   ]
  },
  {
   "cell_type": "code",
   "execution_count": 26,
   "metadata": {},
   "outputs": [
    {
     "data": {
      "text/html": [
       "<div>\n",
       "<style scoped>\n",
       "    .dataframe tbody tr th:only-of-type {\n",
       "        vertical-align: middle;\n",
       "    }\n",
       "\n",
       "    .dataframe tbody tr th {\n",
       "        vertical-align: top;\n",
       "    }\n",
       "\n",
       "    .dataframe thead th {\n",
       "        text-align: right;\n",
       "    }\n",
       "</style>\n",
       "<table border=\"1\" class=\"dataframe\">\n",
       "  <thead>\n",
       "    <tr style=\"text-align: right;\">\n",
       "      <th></th>\n",
       "      <th>user_id</th>\n",
       "      <th>service_month</th>\n",
       "      <th>duration_count</th>\n",
       "      <th>duration_sum</th>\n",
       "    </tr>\n",
       "  </thead>\n",
       "  <tbody>\n",
       "    <tr>\n",
       "      <th>0</th>\n",
       "      <td>1000</td>\n",
       "      <td>5</td>\n",
       "      <td>22</td>\n",
       "      <td>159.0</td>\n",
       "    </tr>\n",
       "    <tr>\n",
       "      <th>1</th>\n",
       "      <td>1000</td>\n",
       "      <td>6</td>\n",
       "      <td>43</td>\n",
       "      <td>172.0</td>\n",
       "    </tr>\n",
       "    <tr>\n",
       "      <th>2</th>\n",
       "      <td>1000</td>\n",
       "      <td>7</td>\n",
       "      <td>47</td>\n",
       "      <td>340.0</td>\n",
       "    </tr>\n",
       "    <tr>\n",
       "      <th>3</th>\n",
       "      <td>1000</td>\n",
       "      <td>8</td>\n",
       "      <td>52</td>\n",
       "      <td>408.0</td>\n",
       "    </tr>\n",
       "    <tr>\n",
       "      <th>4</th>\n",
       "      <td>1000</td>\n",
       "      <td>9</td>\n",
       "      <td>58</td>\n",
       "      <td>466.0</td>\n",
       "    </tr>\n",
       "    <tr>\n",
       "      <th>...</th>\n",
       "      <td>...</td>\n",
       "      <td>...</td>\n",
       "      <td>...</td>\n",
       "      <td>...</td>\n",
       "    </tr>\n",
       "    <tr>\n",
       "      <th>3169</th>\n",
       "      <td>1498</td>\n",
       "      <td>10</td>\n",
       "      <td>41</td>\n",
       "      <td>247.0</td>\n",
       "    </tr>\n",
       "    <tr>\n",
       "      <th>3170</th>\n",
       "      <td>1499</td>\n",
       "      <td>9</td>\n",
       "      <td>9</td>\n",
       "      <td>70.0</td>\n",
       "    </tr>\n",
       "    <tr>\n",
       "      <th>3171</th>\n",
       "      <td>1499</td>\n",
       "      <td>10</td>\n",
       "      <td>68</td>\n",
       "      <td>449.0</td>\n",
       "    </tr>\n",
       "    <tr>\n",
       "      <th>3172</th>\n",
       "      <td>1499</td>\n",
       "      <td>11</td>\n",
       "      <td>74</td>\n",
       "      <td>612.0</td>\n",
       "    </tr>\n",
       "    <tr>\n",
       "      <th>3173</th>\n",
       "      <td>1499</td>\n",
       "      <td>12</td>\n",
       "      <td>69</td>\n",
       "      <td>492.0</td>\n",
       "    </tr>\n",
       "  </tbody>\n",
       "</table>\n",
       "<p>3174 rows × 4 columns</p>\n",
       "</div>"
      ],
      "text/plain": [
       "      user_id  service_month  duration_count  duration_sum\n",
       "0        1000              5              22         159.0\n",
       "1        1000              6              43         172.0\n",
       "2        1000              7              47         340.0\n",
       "3        1000              8              52         408.0\n",
       "4        1000              9              58         466.0\n",
       "...       ...            ...             ...           ...\n",
       "3169     1498             10              41         247.0\n",
       "3170     1499              9               9          70.0\n",
       "3171     1499             10              68         449.0\n",
       "3172     1499             11              74         612.0\n",
       "3173     1499             12              69         492.0\n",
       "\n",
       "[3174 rows x 4 columns]"
      ]
     },
     "execution_count": 26,
     "metadata": {},
     "output_type": "execute_result"
    }
   ],
   "source": [
    "calls_pivot.columns = ['user_id', 'service_month', 'duration_count', 'duration_sum']\n",
    "calls_pivot"
   ]
  },
  {
   "cell_type": "markdown",
   "metadata": {},
   "source": [
    "Группировка помогла вычислить количество сделанных звонков и израсходованных минут разговора по месяцам."
   ]
  },
  {
   "cell_type": "code",
   "execution_count": 27,
   "metadata": {},
   "outputs": [
    {
     "data": {
      "text/html": [
       "<div>\n",
       "<style scoped>\n",
       "    .dataframe tbody tr th:only-of-type {\n",
       "        vertical-align: middle;\n",
       "    }\n",
       "\n",
       "    .dataframe tbody tr th {\n",
       "        vertical-align: top;\n",
       "    }\n",
       "\n",
       "    .dataframe thead th {\n",
       "        text-align: right;\n",
       "    }\n",
       "</style>\n",
       "<table border=\"1\" class=\"dataframe\">\n",
       "  <thead>\n",
       "    <tr style=\"text-align: right;\">\n",
       "      <th></th>\n",
       "      <th>user_id</th>\n",
       "      <th>service_month</th>\n",
       "      <th>id</th>\n",
       "    </tr>\n",
       "  </thead>\n",
       "  <tbody>\n",
       "    <tr>\n",
       "      <th>0</th>\n",
       "      <td>1000</td>\n",
       "      <td>5</td>\n",
       "      <td>22</td>\n",
       "    </tr>\n",
       "    <tr>\n",
       "      <th>1</th>\n",
       "      <td>1000</td>\n",
       "      <td>6</td>\n",
       "      <td>60</td>\n",
       "    </tr>\n",
       "    <tr>\n",
       "      <th>2</th>\n",
       "      <td>1000</td>\n",
       "      <td>7</td>\n",
       "      <td>75</td>\n",
       "    </tr>\n",
       "    <tr>\n",
       "      <th>3</th>\n",
       "      <td>1000</td>\n",
       "      <td>8</td>\n",
       "      <td>81</td>\n",
       "    </tr>\n",
       "    <tr>\n",
       "      <th>4</th>\n",
       "      <td>1000</td>\n",
       "      <td>9</td>\n",
       "      <td>57</td>\n",
       "    </tr>\n",
       "    <tr>\n",
       "      <th>...</th>\n",
       "      <td>...</td>\n",
       "      <td>...</td>\n",
       "      <td>...</td>\n",
       "    </tr>\n",
       "    <tr>\n",
       "      <th>2712</th>\n",
       "      <td>1498</td>\n",
       "      <td>10</td>\n",
       "      <td>42</td>\n",
       "    </tr>\n",
       "    <tr>\n",
       "      <th>2713</th>\n",
       "      <td>1499</td>\n",
       "      <td>9</td>\n",
       "      <td>11</td>\n",
       "    </tr>\n",
       "    <tr>\n",
       "      <th>2714</th>\n",
       "      <td>1499</td>\n",
       "      <td>10</td>\n",
       "      <td>48</td>\n",
       "    </tr>\n",
       "    <tr>\n",
       "      <th>2715</th>\n",
       "      <td>1499</td>\n",
       "      <td>11</td>\n",
       "      <td>59</td>\n",
       "    </tr>\n",
       "    <tr>\n",
       "      <th>2716</th>\n",
       "      <td>1499</td>\n",
       "      <td>12</td>\n",
       "      <td>66</td>\n",
       "    </tr>\n",
       "  </tbody>\n",
       "</table>\n",
       "<p>2717 rows × 3 columns</p>\n",
       "</div>"
      ],
      "text/plain": [
       "      user_id  service_month  id\n",
       "0        1000              5  22\n",
       "1        1000              6  60\n",
       "2        1000              7  75\n",
       "3        1000              8  81\n",
       "4        1000              9  57\n",
       "...       ...            ...  ..\n",
       "2712     1498             10  42\n",
       "2713     1499              9  11\n",
       "2714     1499             10  48\n",
       "2715     1499             11  59\n",
       "2716     1499             12  66\n",
       "\n",
       "[2717 rows x 3 columns]"
      ]
     },
     "execution_count": 27,
     "metadata": {},
     "output_type": "execute_result"
    }
   ],
   "source": [
    "messages_pivot = messages.pivot_table(index = ['user_id', 'service_month'], values = 'id', aggfunc = 'count').reset_index()\n",
    "messages_pivot"
   ]
  },
  {
   "cell_type": "code",
   "execution_count": 28,
   "metadata": {},
   "outputs": [],
   "source": [
    "messages_pivot.columns = ['user_id', 'service_month', 'messages_count']"
   ]
  },
  {
   "cell_type": "markdown",
   "metadata": {},
   "source": [
    "Группировка позволила определить количество отправленных сообщений по месяцам;"
   ]
  },
  {
   "cell_type": "code",
   "execution_count": 29,
   "metadata": {},
   "outputs": [
    {
     "data": {
      "text/html": [
       "<div>\n",
       "<style scoped>\n",
       "    .dataframe tbody tr th:only-of-type {\n",
       "        vertical-align: middle;\n",
       "    }\n",
       "\n",
       "    .dataframe tbody tr th {\n",
       "        vertical-align: top;\n",
       "    }\n",
       "\n",
       "    .dataframe thead th {\n",
       "        text-align: right;\n",
       "    }\n",
       "</style>\n",
       "<table border=\"1\" class=\"dataframe\">\n",
       "  <thead>\n",
       "    <tr style=\"text-align: right;\">\n",
       "      <th></th>\n",
       "      <th>user_id</th>\n",
       "      <th>service_month</th>\n",
       "      <th>mb_used</th>\n",
       "    </tr>\n",
       "  </thead>\n",
       "  <tbody>\n",
       "    <tr>\n",
       "      <th>0</th>\n",
       "      <td>1000</td>\n",
       "      <td>5</td>\n",
       "      <td>2.200674</td>\n",
       "    </tr>\n",
       "    <tr>\n",
       "      <th>1</th>\n",
       "      <td>1000</td>\n",
       "      <td>6</td>\n",
       "      <td>22.689229</td>\n",
       "    </tr>\n",
       "    <tr>\n",
       "      <th>2</th>\n",
       "      <td>1000</td>\n",
       "      <td>7</td>\n",
       "      <td>13.675430</td>\n",
       "    </tr>\n",
       "    <tr>\n",
       "      <th>3</th>\n",
       "      <td>1000</td>\n",
       "      <td>8</td>\n",
       "      <td>13.726494</td>\n",
       "    </tr>\n",
       "    <tr>\n",
       "      <th>4</th>\n",
       "      <td>1000</td>\n",
       "      <td>9</td>\n",
       "      <td>14.227451</td>\n",
       "    </tr>\n",
       "    <tr>\n",
       "      <th>...</th>\n",
       "      <td>...</td>\n",
       "      <td>...</td>\n",
       "      <td>...</td>\n",
       "    </tr>\n",
       "    <tr>\n",
       "      <th>3198</th>\n",
       "      <td>1498</td>\n",
       "      <td>10</td>\n",
       "      <td>20.097031</td>\n",
       "    </tr>\n",
       "    <tr>\n",
       "      <th>3199</th>\n",
       "      <td>1499</td>\n",
       "      <td>9</td>\n",
       "      <td>1.802490</td>\n",
       "    </tr>\n",
       "    <tr>\n",
       "      <th>3200</th>\n",
       "      <td>1499</td>\n",
       "      <td>10</td>\n",
       "      <td>17.371592</td>\n",
       "    </tr>\n",
       "    <tr>\n",
       "      <th>3201</th>\n",
       "      <td>1499</td>\n",
       "      <td>11</td>\n",
       "      <td>17.542295</td>\n",
       "    </tr>\n",
       "    <tr>\n",
       "      <th>3202</th>\n",
       "      <td>1499</td>\n",
       "      <td>12</td>\n",
       "      <td>12.749590</td>\n",
       "    </tr>\n",
       "  </tbody>\n",
       "</table>\n",
       "<p>3203 rows × 3 columns</p>\n",
       "</div>"
      ],
      "text/plain": [
       "      user_id  service_month    mb_used\n",
       "0        1000              5   2.200674\n",
       "1        1000              6  22.689229\n",
       "2        1000              7  13.675430\n",
       "3        1000              8  13.726494\n",
       "4        1000              9  14.227451\n",
       "...       ...            ...        ...\n",
       "3198     1498             10  20.097031\n",
       "3199     1499              9   1.802490\n",
       "3200     1499             10  17.371592\n",
       "3201     1499             11  17.542295\n",
       "3202     1499             12  12.749590\n",
       "\n",
       "[3203 rows x 3 columns]"
      ]
     },
     "execution_count": 29,
     "metadata": {},
     "output_type": "execute_result"
    }
   ],
   "source": [
    "internet_pivot = internet.pivot_table(index = ['user_id', 'service_month'], aggfunc = 'sum').reset_index()\n",
    "internet_pivot"
   ]
  },
  {
   "cell_type": "code",
   "execution_count": 30,
   "metadata": {},
   "outputs": [],
   "source": [
    "internet_pivot['mb_used'] = np.ceil(internet_pivot['mb_used'])"
   ]
  },
  {
   "cell_type": "code",
   "execution_count": 31,
   "metadata": {},
   "outputs": [
    {
     "data": {
      "text/html": [
       "<div>\n",
       "<style scoped>\n",
       "    .dataframe tbody tr th:only-of-type {\n",
       "        vertical-align: middle;\n",
       "    }\n",
       "\n",
       "    .dataframe tbody tr th {\n",
       "        vertical-align: top;\n",
       "    }\n",
       "\n",
       "    .dataframe thead th {\n",
       "        text-align: right;\n",
       "    }\n",
       "</style>\n",
       "<table border=\"1\" class=\"dataframe\">\n",
       "  <thead>\n",
       "    <tr style=\"text-align: right;\">\n",
       "      <th></th>\n",
       "      <th>user_id</th>\n",
       "      <th>service_month</th>\n",
       "      <th>mb_used</th>\n",
       "    </tr>\n",
       "  </thead>\n",
       "  <tbody>\n",
       "    <tr>\n",
       "      <th>0</th>\n",
       "      <td>1000</td>\n",
       "      <td>5</td>\n",
       "      <td>3.0</td>\n",
       "    </tr>\n",
       "    <tr>\n",
       "      <th>1</th>\n",
       "      <td>1000</td>\n",
       "      <td>6</td>\n",
       "      <td>23.0</td>\n",
       "    </tr>\n",
       "    <tr>\n",
       "      <th>2</th>\n",
       "      <td>1000</td>\n",
       "      <td>7</td>\n",
       "      <td>14.0</td>\n",
       "    </tr>\n",
       "    <tr>\n",
       "      <th>3</th>\n",
       "      <td>1000</td>\n",
       "      <td>8</td>\n",
       "      <td>14.0</td>\n",
       "    </tr>\n",
       "    <tr>\n",
       "      <th>4</th>\n",
       "      <td>1000</td>\n",
       "      <td>9</td>\n",
       "      <td>15.0</td>\n",
       "    </tr>\n",
       "    <tr>\n",
       "      <th>...</th>\n",
       "      <td>...</td>\n",
       "      <td>...</td>\n",
       "      <td>...</td>\n",
       "    </tr>\n",
       "    <tr>\n",
       "      <th>3198</th>\n",
       "      <td>1498</td>\n",
       "      <td>10</td>\n",
       "      <td>21.0</td>\n",
       "    </tr>\n",
       "    <tr>\n",
       "      <th>3199</th>\n",
       "      <td>1499</td>\n",
       "      <td>9</td>\n",
       "      <td>2.0</td>\n",
       "    </tr>\n",
       "    <tr>\n",
       "      <th>3200</th>\n",
       "      <td>1499</td>\n",
       "      <td>10</td>\n",
       "      <td>18.0</td>\n",
       "    </tr>\n",
       "    <tr>\n",
       "      <th>3201</th>\n",
       "      <td>1499</td>\n",
       "      <td>11</td>\n",
       "      <td>18.0</td>\n",
       "    </tr>\n",
       "    <tr>\n",
       "      <th>3202</th>\n",
       "      <td>1499</td>\n",
       "      <td>12</td>\n",
       "      <td>13.0</td>\n",
       "    </tr>\n",
       "  </tbody>\n",
       "</table>\n",
       "<p>3203 rows × 3 columns</p>\n",
       "</div>"
      ],
      "text/plain": [
       "      user_id  service_month  mb_used\n",
       "0        1000              5      3.0\n",
       "1        1000              6     23.0\n",
       "2        1000              7     14.0\n",
       "3        1000              8     14.0\n",
       "4        1000              9     15.0\n",
       "...       ...            ...      ...\n",
       "3198     1498             10     21.0\n",
       "3199     1499              9      2.0\n",
       "3200     1499             10     18.0\n",
       "3201     1499             11     18.0\n",
       "3202     1499             12     13.0\n",
       "\n",
       "[3203 rows x 3 columns]"
      ]
     },
     "execution_count": 31,
     "metadata": {},
     "output_type": "execute_result"
    }
   ],
   "source": [
    "internet_pivot"
   ]
  },
  {
   "cell_type": "markdown",
   "metadata": {},
   "source": [
    "Группировка продемонстрировала объем израсходованного интернет-трафика по месяцам (в Гигабайтах!);"
   ]
  },
  {
   "cell_type": "code",
   "execution_count": 32,
   "metadata": {},
   "outputs": [
    {
     "data": {
      "text/html": [
       "<div>\n",
       "<style scoped>\n",
       "    .dataframe tbody tr th:only-of-type {\n",
       "        vertical-align: middle;\n",
       "    }\n",
       "\n",
       "    .dataframe tbody tr th {\n",
       "        vertical-align: top;\n",
       "    }\n",
       "\n",
       "    .dataframe thead th {\n",
       "        text-align: right;\n",
       "    }\n",
       "</style>\n",
       "<table border=\"1\" class=\"dataframe\">\n",
       "  <thead>\n",
       "    <tr style=\"text-align: right;\">\n",
       "      <th></th>\n",
       "      <th>user_id</th>\n",
       "      <th>service_month</th>\n",
       "      <th>duration_count</th>\n",
       "      <th>duration_sum</th>\n",
       "      <th>messages_count</th>\n",
       "    </tr>\n",
       "  </thead>\n",
       "  <tbody>\n",
       "    <tr>\n",
       "      <th>0</th>\n",
       "      <td>1000</td>\n",
       "      <td>5</td>\n",
       "      <td>22.0</td>\n",
       "      <td>159.0</td>\n",
       "      <td>22.0</td>\n",
       "    </tr>\n",
       "    <tr>\n",
       "      <th>1</th>\n",
       "      <td>1000</td>\n",
       "      <td>6</td>\n",
       "      <td>43.0</td>\n",
       "      <td>172.0</td>\n",
       "      <td>60.0</td>\n",
       "    </tr>\n",
       "    <tr>\n",
       "      <th>2</th>\n",
       "      <td>1000</td>\n",
       "      <td>7</td>\n",
       "      <td>47.0</td>\n",
       "      <td>340.0</td>\n",
       "      <td>75.0</td>\n",
       "    </tr>\n",
       "    <tr>\n",
       "      <th>3</th>\n",
       "      <td>1000</td>\n",
       "      <td>8</td>\n",
       "      <td>52.0</td>\n",
       "      <td>408.0</td>\n",
       "      <td>81.0</td>\n",
       "    </tr>\n",
       "    <tr>\n",
       "      <th>4</th>\n",
       "      <td>1000</td>\n",
       "      <td>9</td>\n",
       "      <td>58.0</td>\n",
       "      <td>466.0</td>\n",
       "      <td>57.0</td>\n",
       "    </tr>\n",
       "    <tr>\n",
       "      <th>...</th>\n",
       "      <td>...</td>\n",
       "      <td>...</td>\n",
       "      <td>...</td>\n",
       "      <td>...</td>\n",
       "      <td>...</td>\n",
       "    </tr>\n",
       "    <tr>\n",
       "      <th>3208</th>\n",
       "      <td>1489</td>\n",
       "      <td>8</td>\n",
       "      <td>NaN</td>\n",
       "      <td>NaN</td>\n",
       "      <td>17.0</td>\n",
       "    </tr>\n",
       "    <tr>\n",
       "      <th>3209</th>\n",
       "      <td>1489</td>\n",
       "      <td>9</td>\n",
       "      <td>NaN</td>\n",
       "      <td>NaN</td>\n",
       "      <td>32.0</td>\n",
       "    </tr>\n",
       "    <tr>\n",
       "      <th>3210</th>\n",
       "      <td>1489</td>\n",
       "      <td>10</td>\n",
       "      <td>NaN</td>\n",
       "      <td>NaN</td>\n",
       "      <td>21.0</td>\n",
       "    </tr>\n",
       "    <tr>\n",
       "      <th>3211</th>\n",
       "      <td>1489</td>\n",
       "      <td>11</td>\n",
       "      <td>NaN</td>\n",
       "      <td>NaN</td>\n",
       "      <td>20.0</td>\n",
       "    </tr>\n",
       "    <tr>\n",
       "      <th>3212</th>\n",
       "      <td>1489</td>\n",
       "      <td>12</td>\n",
       "      <td>NaN</td>\n",
       "      <td>NaN</td>\n",
       "      <td>35.0</td>\n",
       "    </tr>\n",
       "  </tbody>\n",
       "</table>\n",
       "<p>3213 rows × 5 columns</p>\n",
       "</div>"
      ],
      "text/plain": [
       "      user_id  service_month  duration_count  duration_sum  messages_count\n",
       "0        1000              5            22.0         159.0            22.0\n",
       "1        1000              6            43.0         172.0            60.0\n",
       "2        1000              7            47.0         340.0            75.0\n",
       "3        1000              8            52.0         408.0            81.0\n",
       "4        1000              9            58.0         466.0            57.0\n",
       "...       ...            ...             ...           ...             ...\n",
       "3208     1489              8             NaN           NaN            17.0\n",
       "3209     1489              9             NaN           NaN            32.0\n",
       "3210     1489             10             NaN           NaN            21.0\n",
       "3211     1489             11             NaN           NaN            20.0\n",
       "3212     1489             12             NaN           NaN            35.0\n",
       "\n",
       "[3213 rows x 5 columns]"
      ]
     },
     "execution_count": 32,
     "metadata": {},
     "output_type": "execute_result"
    }
   ],
   "source": [
    "df_calls_messages = calls_pivot.merge(messages_pivot, on = ['service_month', 'user_id'], how = 'outer')\n",
    "df_calls_messages"
   ]
  },
  {
   "cell_type": "code",
   "execution_count": 33,
   "metadata": {},
   "outputs": [
    {
     "data": {
      "text/html": [
       "<div>\n",
       "<style scoped>\n",
       "    .dataframe tbody tr th:only-of-type {\n",
       "        vertical-align: middle;\n",
       "    }\n",
       "\n",
       "    .dataframe tbody tr th {\n",
       "        vertical-align: top;\n",
       "    }\n",
       "\n",
       "    .dataframe thead th {\n",
       "        text-align: right;\n",
       "    }\n",
       "</style>\n",
       "<table border=\"1\" class=\"dataframe\">\n",
       "  <thead>\n",
       "    <tr style=\"text-align: right;\">\n",
       "      <th></th>\n",
       "      <th>user_id</th>\n",
       "      <th>service_month</th>\n",
       "      <th>duration_count</th>\n",
       "      <th>duration_sum</th>\n",
       "      <th>messages_count</th>\n",
       "      <th>mb_used</th>\n",
       "    </tr>\n",
       "  </thead>\n",
       "  <tbody>\n",
       "    <tr>\n",
       "      <th>0</th>\n",
       "      <td>1000</td>\n",
       "      <td>5</td>\n",
       "      <td>22.0</td>\n",
       "      <td>159.0</td>\n",
       "      <td>22.0</td>\n",
       "      <td>3.0</td>\n",
       "    </tr>\n",
       "    <tr>\n",
       "      <th>1</th>\n",
       "      <td>1000</td>\n",
       "      <td>6</td>\n",
       "      <td>43.0</td>\n",
       "      <td>172.0</td>\n",
       "      <td>60.0</td>\n",
       "      <td>23.0</td>\n",
       "    </tr>\n",
       "    <tr>\n",
       "      <th>2</th>\n",
       "      <td>1000</td>\n",
       "      <td>7</td>\n",
       "      <td>47.0</td>\n",
       "      <td>340.0</td>\n",
       "      <td>75.0</td>\n",
       "      <td>14.0</td>\n",
       "    </tr>\n",
       "    <tr>\n",
       "      <th>3</th>\n",
       "      <td>1000</td>\n",
       "      <td>8</td>\n",
       "      <td>52.0</td>\n",
       "      <td>408.0</td>\n",
       "      <td>81.0</td>\n",
       "      <td>14.0</td>\n",
       "    </tr>\n",
       "    <tr>\n",
       "      <th>4</th>\n",
       "      <td>1000</td>\n",
       "      <td>9</td>\n",
       "      <td>58.0</td>\n",
       "      <td>466.0</td>\n",
       "      <td>57.0</td>\n",
       "      <td>15.0</td>\n",
       "    </tr>\n",
       "    <tr>\n",
       "      <th>...</th>\n",
       "      <td>...</td>\n",
       "      <td>...</td>\n",
       "      <td>...</td>\n",
       "      <td>...</td>\n",
       "      <td>...</td>\n",
       "      <td>...</td>\n",
       "    </tr>\n",
       "    <tr>\n",
       "      <th>3209</th>\n",
       "      <td>1489</td>\n",
       "      <td>9</td>\n",
       "      <td>NaN</td>\n",
       "      <td>NaN</td>\n",
       "      <td>32.0</td>\n",
       "      <td>17.0</td>\n",
       "    </tr>\n",
       "    <tr>\n",
       "      <th>3210</th>\n",
       "      <td>1489</td>\n",
       "      <td>10</td>\n",
       "      <td>NaN</td>\n",
       "      <td>NaN</td>\n",
       "      <td>21.0</td>\n",
       "      <td>20.0</td>\n",
       "    </tr>\n",
       "    <tr>\n",
       "      <th>3211</th>\n",
       "      <td>1489</td>\n",
       "      <td>11</td>\n",
       "      <td>NaN</td>\n",
       "      <td>NaN</td>\n",
       "      <td>20.0</td>\n",
       "      <td>18.0</td>\n",
       "    </tr>\n",
       "    <tr>\n",
       "      <th>3212</th>\n",
       "      <td>1489</td>\n",
       "      <td>12</td>\n",
       "      <td>NaN</td>\n",
       "      <td>NaN</td>\n",
       "      <td>35.0</td>\n",
       "      <td>17.0</td>\n",
       "    </tr>\n",
       "    <tr>\n",
       "      <th>3213</th>\n",
       "      <td>1476</td>\n",
       "      <td>4</td>\n",
       "      <td>NaN</td>\n",
       "      <td>NaN</td>\n",
       "      <td>NaN</td>\n",
       "      <td>1.0</td>\n",
       "    </tr>\n",
       "  </tbody>\n",
       "</table>\n",
       "<p>3214 rows × 6 columns</p>\n",
       "</div>"
      ],
      "text/plain": [
       "      user_id  service_month  duration_count  duration_sum  messages_count  \\\n",
       "0        1000              5            22.0         159.0            22.0   \n",
       "1        1000              6            43.0         172.0            60.0   \n",
       "2        1000              7            47.0         340.0            75.0   \n",
       "3        1000              8            52.0         408.0            81.0   \n",
       "4        1000              9            58.0         466.0            57.0   \n",
       "...       ...            ...             ...           ...             ...   \n",
       "3209     1489              9             NaN           NaN            32.0   \n",
       "3210     1489             10             NaN           NaN            21.0   \n",
       "3211     1489             11             NaN           NaN            20.0   \n",
       "3212     1489             12             NaN           NaN            35.0   \n",
       "3213     1476              4             NaN           NaN             NaN   \n",
       "\n",
       "      mb_used  \n",
       "0         3.0  \n",
       "1        23.0  \n",
       "2        14.0  \n",
       "3        14.0  \n",
       "4        15.0  \n",
       "...       ...  \n",
       "3209     17.0  \n",
       "3210     20.0  \n",
       "3211     18.0  \n",
       "3212     17.0  \n",
       "3213      1.0  \n",
       "\n",
       "[3214 rows x 6 columns]"
      ]
     },
     "execution_count": 33,
     "metadata": {},
     "output_type": "execute_result"
    }
   ],
   "source": [
    "df_all_services = df_calls_messages.merge(internet_pivot, on = ['service_month', 'user_id'], how = 'outer')\n",
    "df_all_services"
   ]
  },
  {
   "cell_type": "markdown",
   "metadata": {},
   "source": [
    "А теперь прибавим к таблице с абонентами данные о стоимости оказанных им улуг в зависимости от тарифа"
   ]
  },
  {
   "cell_type": "code",
   "execution_count": 34,
   "metadata": {},
   "outputs": [
    {
     "data": {
      "text/html": [
       "<div>\n",
       "<style scoped>\n",
       "    .dataframe tbody tr th:only-of-type {\n",
       "        vertical-align: middle;\n",
       "    }\n",
       "\n",
       "    .dataframe tbody tr th {\n",
       "        vertical-align: top;\n",
       "    }\n",
       "\n",
       "    .dataframe thead th {\n",
       "        text-align: right;\n",
       "    }\n",
       "</style>\n",
       "<table border=\"1\" class=\"dataframe\">\n",
       "  <thead>\n",
       "    <tr style=\"text-align: right;\">\n",
       "      <th></th>\n",
       "      <th>messages_included</th>\n",
       "      <th>mb_per_month_included</th>\n",
       "      <th>minutes_included</th>\n",
       "      <th>rub_monthly_fee</th>\n",
       "      <th>rub_per_gb</th>\n",
       "      <th>rub_per_message</th>\n",
       "      <th>rub_per_minute</th>\n",
       "      <th>tariff</th>\n",
       "      <th>user_id</th>\n",
       "      <th>city</th>\n",
       "    </tr>\n",
       "  </thead>\n",
       "  <tbody>\n",
       "    <tr>\n",
       "      <th>0</th>\n",
       "      <td>50</td>\n",
       "      <td>15360</td>\n",
       "      <td>500</td>\n",
       "      <td>550</td>\n",
       "      <td>200</td>\n",
       "      <td>3</td>\n",
       "      <td>3</td>\n",
       "      <td>smart</td>\n",
       "      <td>1001</td>\n",
       "      <td>Москва</td>\n",
       "    </tr>\n",
       "    <tr>\n",
       "      <th>1</th>\n",
       "      <td>50</td>\n",
       "      <td>15360</td>\n",
       "      <td>500</td>\n",
       "      <td>550</td>\n",
       "      <td>200</td>\n",
       "      <td>3</td>\n",
       "      <td>3</td>\n",
       "      <td>smart</td>\n",
       "      <td>1002</td>\n",
       "      <td>Стерлитамак</td>\n",
       "    </tr>\n",
       "    <tr>\n",
       "      <th>2</th>\n",
       "      <td>50</td>\n",
       "      <td>15360</td>\n",
       "      <td>500</td>\n",
       "      <td>550</td>\n",
       "      <td>200</td>\n",
       "      <td>3</td>\n",
       "      <td>3</td>\n",
       "      <td>smart</td>\n",
       "      <td>1005</td>\n",
       "      <td>Набережные Челны</td>\n",
       "    </tr>\n",
       "    <tr>\n",
       "      <th>3</th>\n",
       "      <td>50</td>\n",
       "      <td>15360</td>\n",
       "      <td>500</td>\n",
       "      <td>550</td>\n",
       "      <td>200</td>\n",
       "      <td>3</td>\n",
       "      <td>3</td>\n",
       "      <td>smart</td>\n",
       "      <td>1006</td>\n",
       "      <td>Ульяновск</td>\n",
       "    </tr>\n",
       "    <tr>\n",
       "      <th>4</th>\n",
       "      <td>50</td>\n",
       "      <td>15360</td>\n",
       "      <td>500</td>\n",
       "      <td>550</td>\n",
       "      <td>200</td>\n",
       "      <td>3</td>\n",
       "      <td>3</td>\n",
       "      <td>smart</td>\n",
       "      <td>1007</td>\n",
       "      <td>Москва</td>\n",
       "    </tr>\n",
       "    <tr>\n",
       "      <th>...</th>\n",
       "      <td>...</td>\n",
       "      <td>...</td>\n",
       "      <td>...</td>\n",
       "      <td>...</td>\n",
       "      <td>...</td>\n",
       "      <td>...</td>\n",
       "      <td>...</td>\n",
       "      <td>...</td>\n",
       "      <td>...</td>\n",
       "      <td>...</td>\n",
       "    </tr>\n",
       "    <tr>\n",
       "      <th>495</th>\n",
       "      <td>1000</td>\n",
       "      <td>30720</td>\n",
       "      <td>3000</td>\n",
       "      <td>1950</td>\n",
       "      <td>150</td>\n",
       "      <td>1</td>\n",
       "      <td>1</td>\n",
       "      <td>ultra</td>\n",
       "      <td>1476</td>\n",
       "      <td>Москва</td>\n",
       "    </tr>\n",
       "    <tr>\n",
       "      <th>496</th>\n",
       "      <td>1000</td>\n",
       "      <td>30720</td>\n",
       "      <td>3000</td>\n",
       "      <td>1950</td>\n",
       "      <td>150</td>\n",
       "      <td>1</td>\n",
       "      <td>1</td>\n",
       "      <td>ultra</td>\n",
       "      <td>1485</td>\n",
       "      <td>Киров</td>\n",
       "    </tr>\n",
       "    <tr>\n",
       "      <th>497</th>\n",
       "      <td>1000</td>\n",
       "      <td>30720</td>\n",
       "      <td>3000</td>\n",
       "      <td>1950</td>\n",
       "      <td>150</td>\n",
       "      <td>1</td>\n",
       "      <td>1</td>\n",
       "      <td>ultra</td>\n",
       "      <td>1491</td>\n",
       "      <td>Челябинск</td>\n",
       "    </tr>\n",
       "    <tr>\n",
       "      <th>498</th>\n",
       "      <td>1000</td>\n",
       "      <td>30720</td>\n",
       "      <td>3000</td>\n",
       "      <td>1950</td>\n",
       "      <td>150</td>\n",
       "      <td>1</td>\n",
       "      <td>1</td>\n",
       "      <td>ultra</td>\n",
       "      <td>1493</td>\n",
       "      <td>Красноярск</td>\n",
       "    </tr>\n",
       "    <tr>\n",
       "      <th>499</th>\n",
       "      <td>1000</td>\n",
       "      <td>30720</td>\n",
       "      <td>3000</td>\n",
       "      <td>1950</td>\n",
       "      <td>150</td>\n",
       "      <td>1</td>\n",
       "      <td>1</td>\n",
       "      <td>ultra</td>\n",
       "      <td>1495</td>\n",
       "      <td>Иркутск</td>\n",
       "    </tr>\n",
       "  </tbody>\n",
       "</table>\n",
       "<p>500 rows × 10 columns</p>\n",
       "</div>"
      ],
      "text/plain": [
       "     messages_included  mb_per_month_included  minutes_included  \\\n",
       "0                   50                  15360               500   \n",
       "1                   50                  15360               500   \n",
       "2                   50                  15360               500   \n",
       "3                   50                  15360               500   \n",
       "4                   50                  15360               500   \n",
       "..                 ...                    ...               ...   \n",
       "495               1000                  30720              3000   \n",
       "496               1000                  30720              3000   \n",
       "497               1000                  30720              3000   \n",
       "498               1000                  30720              3000   \n",
       "499               1000                  30720              3000   \n",
       "\n",
       "     rub_monthly_fee  rub_per_gb  rub_per_message  rub_per_minute tariff  \\\n",
       "0                550         200                3               3  smart   \n",
       "1                550         200                3               3  smart   \n",
       "2                550         200                3               3  smart   \n",
       "3                550         200                3               3  smart   \n",
       "4                550         200                3               3  smart   \n",
       "..               ...         ...              ...             ...    ...   \n",
       "495             1950         150                1               1  ultra   \n",
       "496             1950         150                1               1  ultra   \n",
       "497             1950         150                1               1  ultra   \n",
       "498             1950         150                1               1  ultra   \n",
       "499             1950         150                1               1  ultra   \n",
       "\n",
       "     user_id              city  \n",
       "0       1001            Москва  \n",
       "1       1002       Стерлитамак  \n",
       "2       1005  Набережные Челны  \n",
       "3       1006         Ульяновск  \n",
       "4       1007            Москва  \n",
       "..       ...               ...  \n",
       "495     1476            Москва  \n",
       "496     1485             Киров  \n",
       "497     1491         Челябинск  \n",
       "498     1493        Красноярск  \n",
       "499     1495           Иркутск  \n",
       "\n",
       "[500 rows x 10 columns]"
      ]
     },
     "execution_count": 34,
     "metadata": {},
     "output_type": "execute_result"
    }
   ],
   "source": [
    "df_users_tariffs = tariffs.merge(users[['user_id', 'tariff', 'city']], on='tariff', how='outer')\n",
    "df_users_tariffs"
   ]
  },
  {
   "cell_type": "markdown",
   "metadata": {},
   "source": [
    "Теперь объединим два полученных датафрейма в единый по пользователям:"
   ]
  },
  {
   "cell_type": "code",
   "execution_count": 35,
   "metadata": {},
   "outputs": [
    {
     "data": {
      "text/html": [
       "<div>\n",
       "<style scoped>\n",
       "    .dataframe tbody tr th:only-of-type {\n",
       "        vertical-align: middle;\n",
       "    }\n",
       "\n",
       "    .dataframe tbody tr th {\n",
       "        vertical-align: top;\n",
       "    }\n",
       "\n",
       "    .dataframe thead th {\n",
       "        text-align: right;\n",
       "    }\n",
       "</style>\n",
       "<table border=\"1\" class=\"dataframe\">\n",
       "  <thead>\n",
       "    <tr style=\"text-align: right;\">\n",
       "      <th></th>\n",
       "      <th>messages_included</th>\n",
       "      <th>mb_per_month_included</th>\n",
       "      <th>minutes_included</th>\n",
       "      <th>rub_monthly_fee</th>\n",
       "      <th>rub_per_gb</th>\n",
       "      <th>rub_per_message</th>\n",
       "      <th>rub_per_minute</th>\n",
       "      <th>tariff</th>\n",
       "      <th>user_id</th>\n",
       "      <th>city</th>\n",
       "      <th>service_month</th>\n",
       "      <th>duration_count</th>\n",
       "      <th>duration_sum</th>\n",
       "      <th>messages_count</th>\n",
       "      <th>mb_used</th>\n",
       "    </tr>\n",
       "  </thead>\n",
       "  <tbody>\n",
       "    <tr>\n",
       "      <th>0</th>\n",
       "      <td>50</td>\n",
       "      <td>15360</td>\n",
       "      <td>500</td>\n",
       "      <td>550</td>\n",
       "      <td>200</td>\n",
       "      <td>3</td>\n",
       "      <td>3</td>\n",
       "      <td>smart</td>\n",
       "      <td>1001</td>\n",
       "      <td>Москва</td>\n",
       "      <td>11.0</td>\n",
       "      <td>59.0</td>\n",
       "      <td>430.0</td>\n",
       "      <td>NaN</td>\n",
       "      <td>18.0</td>\n",
       "    </tr>\n",
       "    <tr>\n",
       "      <th>1</th>\n",
       "      <td>50</td>\n",
       "      <td>15360</td>\n",
       "      <td>500</td>\n",
       "      <td>550</td>\n",
       "      <td>200</td>\n",
       "      <td>3</td>\n",
       "      <td>3</td>\n",
       "      <td>smart</td>\n",
       "      <td>1001</td>\n",
       "      <td>Москва</td>\n",
       "      <td>12.0</td>\n",
       "      <td>63.0</td>\n",
       "      <td>414.0</td>\n",
       "      <td>NaN</td>\n",
       "      <td>14.0</td>\n",
       "    </tr>\n",
       "    <tr>\n",
       "      <th>2</th>\n",
       "      <td>50</td>\n",
       "      <td>15360</td>\n",
       "      <td>500</td>\n",
       "      <td>550</td>\n",
       "      <td>200</td>\n",
       "      <td>3</td>\n",
       "      <td>3</td>\n",
       "      <td>smart</td>\n",
       "      <td>1002</td>\n",
       "      <td>Стерлитамак</td>\n",
       "      <td>6.0</td>\n",
       "      <td>15.0</td>\n",
       "      <td>117.0</td>\n",
       "      <td>4.0</td>\n",
       "      <td>11.0</td>\n",
       "    </tr>\n",
       "    <tr>\n",
       "      <th>3</th>\n",
       "      <td>50</td>\n",
       "      <td>15360</td>\n",
       "      <td>500</td>\n",
       "      <td>550</td>\n",
       "      <td>200</td>\n",
       "      <td>3</td>\n",
       "      <td>3</td>\n",
       "      <td>smart</td>\n",
       "      <td>1002</td>\n",
       "      <td>Стерлитамак</td>\n",
       "      <td>7.0</td>\n",
       "      <td>26.0</td>\n",
       "      <td>214.0</td>\n",
       "      <td>11.0</td>\n",
       "      <td>18.0</td>\n",
       "    </tr>\n",
       "    <tr>\n",
       "      <th>4</th>\n",
       "      <td>50</td>\n",
       "      <td>15360</td>\n",
       "      <td>500</td>\n",
       "      <td>550</td>\n",
       "      <td>200</td>\n",
       "      <td>3</td>\n",
       "      <td>3</td>\n",
       "      <td>smart</td>\n",
       "      <td>1002</td>\n",
       "      <td>Стерлитамак</td>\n",
       "      <td>8.0</td>\n",
       "      <td>42.0</td>\n",
       "      <td>289.0</td>\n",
       "      <td>13.0</td>\n",
       "      <td>20.0</td>\n",
       "    </tr>\n",
       "    <tr>\n",
       "      <th>...</th>\n",
       "      <td>...</td>\n",
       "      <td>...</td>\n",
       "      <td>...</td>\n",
       "      <td>...</td>\n",
       "      <td>...</td>\n",
       "      <td>...</td>\n",
       "      <td>...</td>\n",
       "      <td>...</td>\n",
       "      <td>...</td>\n",
       "      <td>...</td>\n",
       "      <td>...</td>\n",
       "      <td>...</td>\n",
       "      <td>...</td>\n",
       "      <td>...</td>\n",
       "      <td>...</td>\n",
       "    </tr>\n",
       "    <tr>\n",
       "      <th>3211</th>\n",
       "      <td>1000</td>\n",
       "      <td>30720</td>\n",
       "      <td>3000</td>\n",
       "      <td>1950</td>\n",
       "      <td>150</td>\n",
       "      <td>1</td>\n",
       "      <td>1</td>\n",
       "      <td>ultra</td>\n",
       "      <td>1495</td>\n",
       "      <td>Иркутск</td>\n",
       "      <td>8.0</td>\n",
       "      <td>17.0</td>\n",
       "      <td>92.0</td>\n",
       "      <td>13.0</td>\n",
       "      <td>3.0</td>\n",
       "    </tr>\n",
       "    <tr>\n",
       "      <th>3212</th>\n",
       "      <td>1000</td>\n",
       "      <td>30720</td>\n",
       "      <td>3000</td>\n",
       "      <td>1950</td>\n",
       "      <td>150</td>\n",
       "      <td>1</td>\n",
       "      <td>1</td>\n",
       "      <td>ultra</td>\n",
       "      <td>1495</td>\n",
       "      <td>Иркутск</td>\n",
       "      <td>9.0</td>\n",
       "      <td>112.0</td>\n",
       "      <td>813.0</td>\n",
       "      <td>82.0</td>\n",
       "      <td>33.0</td>\n",
       "    </tr>\n",
       "    <tr>\n",
       "      <th>3213</th>\n",
       "      <td>1000</td>\n",
       "      <td>30720</td>\n",
       "      <td>3000</td>\n",
       "      <td>1950</td>\n",
       "      <td>150</td>\n",
       "      <td>1</td>\n",
       "      <td>1</td>\n",
       "      <td>ultra</td>\n",
       "      <td>1495</td>\n",
       "      <td>Иркутск</td>\n",
       "      <td>10.0</td>\n",
       "      <td>152.0</td>\n",
       "      <td>1030.0</td>\n",
       "      <td>82.0</td>\n",
       "      <td>29.0</td>\n",
       "    </tr>\n",
       "    <tr>\n",
       "      <th>3214</th>\n",
       "      <td>1000</td>\n",
       "      <td>30720</td>\n",
       "      <td>3000</td>\n",
       "      <td>1950</td>\n",
       "      <td>150</td>\n",
       "      <td>1</td>\n",
       "      <td>1</td>\n",
       "      <td>ultra</td>\n",
       "      <td>1495</td>\n",
       "      <td>Иркутск</td>\n",
       "      <td>11.0</td>\n",
       "      <td>129.0</td>\n",
       "      <td>954.0</td>\n",
       "      <td>79.0</td>\n",
       "      <td>39.0</td>\n",
       "    </tr>\n",
       "    <tr>\n",
       "      <th>3215</th>\n",
       "      <td>1000</td>\n",
       "      <td>30720</td>\n",
       "      <td>3000</td>\n",
       "      <td>1950</td>\n",
       "      <td>150</td>\n",
       "      <td>1</td>\n",
       "      <td>1</td>\n",
       "      <td>ultra</td>\n",
       "      <td>1495</td>\n",
       "      <td>Иркутск</td>\n",
       "      <td>12.0</td>\n",
       "      <td>155.0</td>\n",
       "      <td>1031.0</td>\n",
       "      <td>84.0</td>\n",
       "      <td>23.0</td>\n",
       "    </tr>\n",
       "  </tbody>\n",
       "</table>\n",
       "<p>3216 rows × 15 columns</p>\n",
       "</div>"
      ],
      "text/plain": [
       "      messages_included  mb_per_month_included  minutes_included  \\\n",
       "0                    50                  15360               500   \n",
       "1                    50                  15360               500   \n",
       "2                    50                  15360               500   \n",
       "3                    50                  15360               500   \n",
       "4                    50                  15360               500   \n",
       "...                 ...                    ...               ...   \n",
       "3211               1000                  30720              3000   \n",
       "3212               1000                  30720              3000   \n",
       "3213               1000                  30720              3000   \n",
       "3214               1000                  30720              3000   \n",
       "3215               1000                  30720              3000   \n",
       "\n",
       "      rub_monthly_fee  rub_per_gb  rub_per_message  rub_per_minute tariff  \\\n",
       "0                 550         200                3               3  smart   \n",
       "1                 550         200                3               3  smart   \n",
       "2                 550         200                3               3  smart   \n",
       "3                 550         200                3               3  smart   \n",
       "4                 550         200                3               3  smart   \n",
       "...               ...         ...              ...             ...    ...   \n",
       "3211             1950         150                1               1  ultra   \n",
       "3212             1950         150                1               1  ultra   \n",
       "3213             1950         150                1               1  ultra   \n",
       "3214             1950         150                1               1  ultra   \n",
       "3215             1950         150                1               1  ultra   \n",
       "\n",
       "      user_id         city  service_month  duration_count  duration_sum  \\\n",
       "0        1001       Москва           11.0            59.0         430.0   \n",
       "1        1001       Москва           12.0            63.0         414.0   \n",
       "2        1002  Стерлитамак            6.0            15.0         117.0   \n",
       "3        1002  Стерлитамак            7.0            26.0         214.0   \n",
       "4        1002  Стерлитамак            8.0            42.0         289.0   \n",
       "...       ...          ...            ...             ...           ...   \n",
       "3211     1495      Иркутск            8.0            17.0          92.0   \n",
       "3212     1495      Иркутск            9.0           112.0         813.0   \n",
       "3213     1495      Иркутск           10.0           152.0        1030.0   \n",
       "3214     1495      Иркутск           11.0           129.0         954.0   \n",
       "3215     1495      Иркутск           12.0           155.0        1031.0   \n",
       "\n",
       "      messages_count  mb_used  \n",
       "0                NaN     18.0  \n",
       "1                NaN     14.0  \n",
       "2                4.0     11.0  \n",
       "3               11.0     18.0  \n",
       "4               13.0     20.0  \n",
       "...              ...      ...  \n",
       "3211            13.0      3.0  \n",
       "3212            82.0     33.0  \n",
       "3213            82.0     29.0  \n",
       "3214            79.0     39.0  \n",
       "3215            84.0     23.0  \n",
       "\n",
       "[3216 rows x 15 columns]"
      ]
     },
     "execution_count": 35,
     "metadata": {},
     "output_type": "execute_result"
    }
   ],
   "source": [
    "df_full = df_users_tariffs.merge(df_all_services, on='user_id', how='outer').reset_index(drop=True)\n",
    "df_full"
   ]
  },
  {
   "cell_type": "code",
   "execution_count": 36,
   "metadata": {},
   "outputs": [
    {
     "data": {
      "text/plain": [
       "messages_included          0\n",
       "mb_per_month_included      0\n",
       "minutes_included           0\n",
       "rub_monthly_fee            0\n",
       "rub_per_gb                 0\n",
       "rub_per_message            0\n",
       "rub_per_minute             0\n",
       "tariff                     0\n",
       "user_id                    0\n",
       "city                       0\n",
       "service_month              2\n",
       "duration_count            42\n",
       "duration_sum              42\n",
       "messages_count           499\n",
       "mb_used                   13\n",
       "dtype: int64"
      ]
     },
     "execution_count": 36,
     "metadata": {},
     "output_type": "execute_result"
    }
   ],
   "source": [
    "df_full.isnull().sum()"
   ]
  },
  {
   "cell_type": "markdown",
   "metadata": {},
   "source": [
    "В объединенном датафрейме пропущенные значения могут означать, что пользователь просто не пользовался услугой в конкретный месяц, поэтому пропуски заменим на '0'"
   ]
  },
  {
   "cell_type": "code",
   "execution_count": 37,
   "metadata": {},
   "outputs": [],
   "source": [
    "df_full = df_full.fillna(0)"
   ]
  },
  {
   "cell_type": "code",
   "execution_count": 38,
   "metadata": {},
   "outputs": [
    {
     "data": {
      "text/plain": [
       "messages_included        0\n",
       "mb_per_month_included    0\n",
       "minutes_included         0\n",
       "rub_monthly_fee          0\n",
       "rub_per_gb               0\n",
       "rub_per_message          0\n",
       "rub_per_minute           0\n",
       "tariff                   0\n",
       "user_id                  0\n",
       "city                     0\n",
       "service_month            0\n",
       "duration_count           0\n",
       "duration_sum             0\n",
       "messages_count           0\n",
       "mb_used                  0\n",
       "dtype: int64"
      ]
     },
     "execution_count": 38,
     "metadata": {},
     "output_type": "execute_result"
    }
   ],
   "source": [
    "df_full.isna().sum()"
   ]
  },
  {
   "cell_type": "code",
   "execution_count": 39,
   "metadata": {},
   "outputs": [
    {
     "name": "stdout",
     "output_type": "stream",
     "text": [
      "<class 'pandas.core.frame.DataFrame'>\n",
      "RangeIndex: 3216 entries, 0 to 3215\n",
      "Data columns (total 15 columns):\n",
      " #   Column                 Non-Null Count  Dtype  \n",
      "---  ------                 --------------  -----  \n",
      " 0   messages_included      3216 non-null   int64  \n",
      " 1   mb_per_month_included  3216 non-null   int64  \n",
      " 2   minutes_included       3216 non-null   int64  \n",
      " 3   rub_monthly_fee        3216 non-null   int64  \n",
      " 4   rub_per_gb             3216 non-null   int64  \n",
      " 5   rub_per_message        3216 non-null   int64  \n",
      " 6   rub_per_minute         3216 non-null   int64  \n",
      " 7   tariff                 3216 non-null   object \n",
      " 8   user_id                3216 non-null   int64  \n",
      " 9   city                   3216 non-null   object \n",
      " 10  service_month          3216 non-null   float64\n",
      " 11  duration_count         3216 non-null   float64\n",
      " 12  duration_sum           3216 non-null   float64\n",
      " 13  messages_count         3216 non-null   float64\n",
      " 14  mb_used                3216 non-null   float64\n",
      "dtypes: float64(5), int64(8), object(2)\n",
      "memory usage: 377.0+ KB\n"
     ]
    }
   ],
   "source": [
    "df_full.info()"
   ]
  },
  {
   "cell_type": "markdown",
   "metadata": {},
   "source": [
    "Для удобства расчетов доработаем df_full в части метрики интернета и типов данных"
   ]
  },
  {
   "cell_type": "code",
   "execution_count": 40,
   "metadata": {},
   "outputs": [],
   "source": [
    "int_64 = ['service_month', 'duration_count', 'duration_sum', 'messages_count', 'mb_used', 'mb_per_month_included']\n",
    "\n",
    "for i in int_64:\n",
    "    df_full[i] = df_full[i].astype('Int64')"
   ]
  },
  {
   "cell_type": "code",
   "execution_count": 41,
   "metadata": {},
   "outputs": [],
   "source": [
    "df_full['mb_per_month_included'] = df_full['mb_per_month_included']/1024"
   ]
  },
  {
   "cell_type": "code",
   "execution_count": 42,
   "metadata": {},
   "outputs": [
    {
     "data": {
      "text/html": [
       "<div>\n",
       "<style scoped>\n",
       "    .dataframe tbody tr th:only-of-type {\n",
       "        vertical-align: middle;\n",
       "    }\n",
       "\n",
       "    .dataframe tbody tr th {\n",
       "        vertical-align: top;\n",
       "    }\n",
       "\n",
       "    .dataframe thead th {\n",
       "        text-align: right;\n",
       "    }\n",
       "</style>\n",
       "<table border=\"1\" class=\"dataframe\">\n",
       "  <thead>\n",
       "    <tr style=\"text-align: right;\">\n",
       "      <th></th>\n",
       "      <th>messages_included</th>\n",
       "      <th>mb_per_month_included</th>\n",
       "      <th>minutes_included</th>\n",
       "      <th>rub_monthly_fee</th>\n",
       "      <th>rub_per_gb</th>\n",
       "      <th>rub_per_message</th>\n",
       "      <th>rub_per_minute</th>\n",
       "      <th>tariff</th>\n",
       "      <th>user_id</th>\n",
       "      <th>city</th>\n",
       "      <th>service_month</th>\n",
       "      <th>duration_count</th>\n",
       "      <th>duration_sum</th>\n",
       "      <th>messages_count</th>\n",
       "      <th>mb_used</th>\n",
       "    </tr>\n",
       "  </thead>\n",
       "  <tbody>\n",
       "    <tr>\n",
       "      <th>0</th>\n",
       "      <td>50</td>\n",
       "      <td>15.0</td>\n",
       "      <td>500</td>\n",
       "      <td>550</td>\n",
       "      <td>200</td>\n",
       "      <td>3</td>\n",
       "      <td>3</td>\n",
       "      <td>smart</td>\n",
       "      <td>1001</td>\n",
       "      <td>Москва</td>\n",
       "      <td>11</td>\n",
       "      <td>59</td>\n",
       "      <td>430</td>\n",
       "      <td>0</td>\n",
       "      <td>18</td>\n",
       "    </tr>\n",
       "    <tr>\n",
       "      <th>1</th>\n",
       "      <td>50</td>\n",
       "      <td>15.0</td>\n",
       "      <td>500</td>\n",
       "      <td>550</td>\n",
       "      <td>200</td>\n",
       "      <td>3</td>\n",
       "      <td>3</td>\n",
       "      <td>smart</td>\n",
       "      <td>1001</td>\n",
       "      <td>Москва</td>\n",
       "      <td>12</td>\n",
       "      <td>63</td>\n",
       "      <td>414</td>\n",
       "      <td>0</td>\n",
       "      <td>14</td>\n",
       "    </tr>\n",
       "    <tr>\n",
       "      <th>2</th>\n",
       "      <td>50</td>\n",
       "      <td>15.0</td>\n",
       "      <td>500</td>\n",
       "      <td>550</td>\n",
       "      <td>200</td>\n",
       "      <td>3</td>\n",
       "      <td>3</td>\n",
       "      <td>smart</td>\n",
       "      <td>1002</td>\n",
       "      <td>Стерлитамак</td>\n",
       "      <td>6</td>\n",
       "      <td>15</td>\n",
       "      <td>117</td>\n",
       "      <td>4</td>\n",
       "      <td>11</td>\n",
       "    </tr>\n",
       "    <tr>\n",
       "      <th>3</th>\n",
       "      <td>50</td>\n",
       "      <td>15.0</td>\n",
       "      <td>500</td>\n",
       "      <td>550</td>\n",
       "      <td>200</td>\n",
       "      <td>3</td>\n",
       "      <td>3</td>\n",
       "      <td>smart</td>\n",
       "      <td>1002</td>\n",
       "      <td>Стерлитамак</td>\n",
       "      <td>7</td>\n",
       "      <td>26</td>\n",
       "      <td>214</td>\n",
       "      <td>11</td>\n",
       "      <td>18</td>\n",
       "    </tr>\n",
       "    <tr>\n",
       "      <th>4</th>\n",
       "      <td>50</td>\n",
       "      <td>15.0</td>\n",
       "      <td>500</td>\n",
       "      <td>550</td>\n",
       "      <td>200</td>\n",
       "      <td>3</td>\n",
       "      <td>3</td>\n",
       "      <td>smart</td>\n",
       "      <td>1002</td>\n",
       "      <td>Стерлитамак</td>\n",
       "      <td>8</td>\n",
       "      <td>42</td>\n",
       "      <td>289</td>\n",
       "      <td>13</td>\n",
       "      <td>20</td>\n",
       "    </tr>\n",
       "  </tbody>\n",
       "</table>\n",
       "</div>"
      ],
      "text/plain": [
       "   messages_included  mb_per_month_included  minutes_included  \\\n",
       "0                 50                   15.0               500   \n",
       "1                 50                   15.0               500   \n",
       "2                 50                   15.0               500   \n",
       "3                 50                   15.0               500   \n",
       "4                 50                   15.0               500   \n",
       "\n",
       "   rub_monthly_fee  rub_per_gb  rub_per_message  rub_per_minute tariff  \\\n",
       "0              550         200                3               3  smart   \n",
       "1              550         200                3               3  smart   \n",
       "2              550         200                3               3  smart   \n",
       "3              550         200                3               3  smart   \n",
       "4              550         200                3               3  smart   \n",
       "\n",
       "   user_id         city  service_month  duration_count  duration_sum  \\\n",
       "0     1001       Москва             11              59           430   \n",
       "1     1001       Москва             12              63           414   \n",
       "2     1002  Стерлитамак              6              15           117   \n",
       "3     1002  Стерлитамак              7              26           214   \n",
       "4     1002  Стерлитамак              8              42           289   \n",
       "\n",
       "   messages_count  mb_used  \n",
       "0               0       18  \n",
       "1               0       14  \n",
       "2               4       11  \n",
       "3              11       18  \n",
       "4              13       20  "
      ]
     },
     "execution_count": 42,
     "metadata": {},
     "output_type": "execute_result"
    }
   ],
   "source": [
    "df_full.head()"
   ]
  },
  {
   "cell_type": "code",
   "execution_count": 43,
   "metadata": {},
   "outputs": [],
   "source": [
    "df_full['mb_per_month_included'] = df_full['mb_per_month_included'].astype('Int64')"
   ]
  },
  {
   "cell_type": "code",
   "execution_count": 44,
   "metadata": {},
   "outputs": [
    {
     "data": {
      "text/html": [
       "<div>\n",
       "<style scoped>\n",
       "    .dataframe tbody tr th:only-of-type {\n",
       "        vertical-align: middle;\n",
       "    }\n",
       "\n",
       "    .dataframe tbody tr th {\n",
       "        vertical-align: top;\n",
       "    }\n",
       "\n",
       "    .dataframe thead th {\n",
       "        text-align: right;\n",
       "    }\n",
       "</style>\n",
       "<table border=\"1\" class=\"dataframe\">\n",
       "  <thead>\n",
       "    <tr style=\"text-align: right;\">\n",
       "      <th></th>\n",
       "      <th>messages_included</th>\n",
       "      <th>mb_per_month_included</th>\n",
       "      <th>minutes_included</th>\n",
       "      <th>rub_monthly_fee</th>\n",
       "      <th>rub_per_gb</th>\n",
       "      <th>rub_per_message</th>\n",
       "      <th>rub_per_minute</th>\n",
       "      <th>tariff</th>\n",
       "      <th>user_id</th>\n",
       "      <th>city</th>\n",
       "      <th>service_month</th>\n",
       "      <th>duration_count</th>\n",
       "      <th>duration_sum</th>\n",
       "      <th>messages_count</th>\n",
       "      <th>mb_used</th>\n",
       "    </tr>\n",
       "  </thead>\n",
       "  <tbody>\n",
       "    <tr>\n",
       "      <th>0</th>\n",
       "      <td>50</td>\n",
       "      <td>15</td>\n",
       "      <td>500</td>\n",
       "      <td>550</td>\n",
       "      <td>200</td>\n",
       "      <td>3</td>\n",
       "      <td>3</td>\n",
       "      <td>smart</td>\n",
       "      <td>1001</td>\n",
       "      <td>Москва</td>\n",
       "      <td>11</td>\n",
       "      <td>59</td>\n",
       "      <td>430</td>\n",
       "      <td>0</td>\n",
       "      <td>18</td>\n",
       "    </tr>\n",
       "    <tr>\n",
       "      <th>1</th>\n",
       "      <td>50</td>\n",
       "      <td>15</td>\n",
       "      <td>500</td>\n",
       "      <td>550</td>\n",
       "      <td>200</td>\n",
       "      <td>3</td>\n",
       "      <td>3</td>\n",
       "      <td>smart</td>\n",
       "      <td>1001</td>\n",
       "      <td>Москва</td>\n",
       "      <td>12</td>\n",
       "      <td>63</td>\n",
       "      <td>414</td>\n",
       "      <td>0</td>\n",
       "      <td>14</td>\n",
       "    </tr>\n",
       "    <tr>\n",
       "      <th>2</th>\n",
       "      <td>50</td>\n",
       "      <td>15</td>\n",
       "      <td>500</td>\n",
       "      <td>550</td>\n",
       "      <td>200</td>\n",
       "      <td>3</td>\n",
       "      <td>3</td>\n",
       "      <td>smart</td>\n",
       "      <td>1002</td>\n",
       "      <td>Стерлитамак</td>\n",
       "      <td>6</td>\n",
       "      <td>15</td>\n",
       "      <td>117</td>\n",
       "      <td>4</td>\n",
       "      <td>11</td>\n",
       "    </tr>\n",
       "    <tr>\n",
       "      <th>3</th>\n",
       "      <td>50</td>\n",
       "      <td>15</td>\n",
       "      <td>500</td>\n",
       "      <td>550</td>\n",
       "      <td>200</td>\n",
       "      <td>3</td>\n",
       "      <td>3</td>\n",
       "      <td>smart</td>\n",
       "      <td>1002</td>\n",
       "      <td>Стерлитамак</td>\n",
       "      <td>7</td>\n",
       "      <td>26</td>\n",
       "      <td>214</td>\n",
       "      <td>11</td>\n",
       "      <td>18</td>\n",
       "    </tr>\n",
       "    <tr>\n",
       "      <th>4</th>\n",
       "      <td>50</td>\n",
       "      <td>15</td>\n",
       "      <td>500</td>\n",
       "      <td>550</td>\n",
       "      <td>200</td>\n",
       "      <td>3</td>\n",
       "      <td>3</td>\n",
       "      <td>smart</td>\n",
       "      <td>1002</td>\n",
       "      <td>Стерлитамак</td>\n",
       "      <td>8</td>\n",
       "      <td>42</td>\n",
       "      <td>289</td>\n",
       "      <td>13</td>\n",
       "      <td>20</td>\n",
       "    </tr>\n",
       "  </tbody>\n",
       "</table>\n",
       "</div>"
      ],
      "text/plain": [
       "   messages_included  mb_per_month_included  minutes_included  \\\n",
       "0                 50                     15               500   \n",
       "1                 50                     15               500   \n",
       "2                 50                     15               500   \n",
       "3                 50                     15               500   \n",
       "4                 50                     15               500   \n",
       "\n",
       "   rub_monthly_fee  rub_per_gb  rub_per_message  rub_per_minute tariff  \\\n",
       "0              550         200                3               3  smart   \n",
       "1              550         200                3               3  smart   \n",
       "2              550         200                3               3  smart   \n",
       "3              550         200                3               3  smart   \n",
       "4              550         200                3               3  smart   \n",
       "\n",
       "   user_id         city  service_month  duration_count  duration_sum  \\\n",
       "0     1001       Москва             11              59           430   \n",
       "1     1001       Москва             12              63           414   \n",
       "2     1002  Стерлитамак              6              15           117   \n",
       "3     1002  Стерлитамак              7              26           214   \n",
       "4     1002  Стерлитамак              8              42           289   \n",
       "\n",
       "   messages_count  mb_used  \n",
       "0               0       18  \n",
       "1               0       14  \n",
       "2               4       11  \n",
       "3              11       18  \n",
       "4              13       20  "
      ]
     },
     "execution_count": 44,
     "metadata": {},
     "output_type": "execute_result"
    }
   ],
   "source": [
    "df_full.head()"
   ]
  },
  {
   "cell_type": "markdown",
   "metadata": {},
   "source": [
    "Посчитаем помесячную выручку сначала по каждой услуге с каждого пользователя:"
   ]
  },
  {
   "cell_type": "code",
   "execution_count": 45,
   "metadata": {},
   "outputs": [],
   "source": [
    "df_full['calls_revenue'] = ((df_full['duration_sum'] - df_full['minutes_included']) * df_full['rub_per_minute'])\n",
    "df_full['messages_revenue'] = ((df_full['messages_count'] - df_full['messages_included']) * df_full['rub_per_message'])\n",
    "df_full['mb_revenue'] = ((df_full['mb_used'] - df_full['mb_per_month_included']) * df_full['rub_per_gb'])"
   ]
  },
  {
   "cell_type": "code",
   "execution_count": 46,
   "metadata": {},
   "outputs": [
    {
     "data": {
      "text/html": [
       "<div>\n",
       "<style scoped>\n",
       "    .dataframe tbody tr th:only-of-type {\n",
       "        vertical-align: middle;\n",
       "    }\n",
       "\n",
       "    .dataframe tbody tr th {\n",
       "        vertical-align: top;\n",
       "    }\n",
       "\n",
       "    .dataframe thead th {\n",
       "        text-align: right;\n",
       "    }\n",
       "</style>\n",
       "<table border=\"1\" class=\"dataframe\">\n",
       "  <thead>\n",
       "    <tr style=\"text-align: right;\">\n",
       "      <th></th>\n",
       "      <th>messages_included</th>\n",
       "      <th>mb_per_month_included</th>\n",
       "      <th>minutes_included</th>\n",
       "      <th>rub_monthly_fee</th>\n",
       "      <th>rub_per_gb</th>\n",
       "      <th>rub_per_message</th>\n",
       "      <th>rub_per_minute</th>\n",
       "      <th>tariff</th>\n",
       "      <th>user_id</th>\n",
       "      <th>city</th>\n",
       "      <th>service_month</th>\n",
       "      <th>duration_count</th>\n",
       "      <th>duration_sum</th>\n",
       "      <th>messages_count</th>\n",
       "      <th>mb_used</th>\n",
       "      <th>calls_revenue</th>\n",
       "      <th>messages_revenue</th>\n",
       "      <th>mb_revenue</th>\n",
       "    </tr>\n",
       "  </thead>\n",
       "  <tbody>\n",
       "    <tr>\n",
       "      <th>2765</th>\n",
       "      <td>1000</td>\n",
       "      <td>30</td>\n",
       "      <td>3000</td>\n",
       "      <td>1950</td>\n",
       "      <td>150</td>\n",
       "      <td>1</td>\n",
       "      <td>1</td>\n",
       "      <td>ultra</td>\n",
       "      <td>1300</td>\n",
       "      <td>Москва</td>\n",
       "      <td>10</td>\n",
       "      <td>111</td>\n",
       "      <td>731</td>\n",
       "      <td>191</td>\n",
       "      <td>38</td>\n",
       "      <td>-2269</td>\n",
       "      <td>-809</td>\n",
       "      <td>1200</td>\n",
       "    </tr>\n",
       "    <tr>\n",
       "      <th>1544</th>\n",
       "      <td>50</td>\n",
       "      <td>15</td>\n",
       "      <td>500</td>\n",
       "      <td>550</td>\n",
       "      <td>200</td>\n",
       "      <td>3</td>\n",
       "      <td>3</td>\n",
       "      <td>smart</td>\n",
       "      <td>1339</td>\n",
       "      <td>Москва</td>\n",
       "      <td>12</td>\n",
       "      <td>77</td>\n",
       "      <td>617</td>\n",
       "      <td>0</td>\n",
       "      <td>21</td>\n",
       "      <td>351</td>\n",
       "      <td>-150</td>\n",
       "      <td>1200</td>\n",
       "    </tr>\n",
       "    <tr>\n",
       "      <th>1517</th>\n",
       "      <td>50</td>\n",
       "      <td>15</td>\n",
       "      <td>500</td>\n",
       "      <td>550</td>\n",
       "      <td>200</td>\n",
       "      <td>3</td>\n",
       "      <td>3</td>\n",
       "      <td>smart</td>\n",
       "      <td>1332</td>\n",
       "      <td>Москва</td>\n",
       "      <td>12</td>\n",
       "      <td>65</td>\n",
       "      <td>500</td>\n",
       "      <td>30</td>\n",
       "      <td>18</td>\n",
       "      <td>0</td>\n",
       "      <td>-60</td>\n",
       "      <td>600</td>\n",
       "    </tr>\n",
       "    <tr>\n",
       "      <th>2472</th>\n",
       "      <td>1000</td>\n",
       "      <td>30</td>\n",
       "      <td>3000</td>\n",
       "      <td>1950</td>\n",
       "      <td>150</td>\n",
       "      <td>1</td>\n",
       "      <td>1</td>\n",
       "      <td>ultra</td>\n",
       "      <td>1126</td>\n",
       "      <td>Санкт-Петербург</td>\n",
       "      <td>12</td>\n",
       "      <td>84</td>\n",
       "      <td>614</td>\n",
       "      <td>3</td>\n",
       "      <td>33</td>\n",
       "      <td>-2386</td>\n",
       "      <td>-997</td>\n",
       "      <td>450</td>\n",
       "    </tr>\n",
       "    <tr>\n",
       "      <th>119</th>\n",
       "      <td>50</td>\n",
       "      <td>15</td>\n",
       "      <td>500</td>\n",
       "      <td>550</td>\n",
       "      <td>200</td>\n",
       "      <td>3</td>\n",
       "      <td>3</td>\n",
       "      <td>smart</td>\n",
       "      <td>1026</td>\n",
       "      <td>Мурманск</td>\n",
       "      <td>10</td>\n",
       "      <td>72</td>\n",
       "      <td>535</td>\n",
       "      <td>39</td>\n",
       "      <td>14</td>\n",
       "      <td>105</td>\n",
       "      <td>-33</td>\n",
       "      <td>-200</td>\n",
       "    </tr>\n",
       "    <tr>\n",
       "      <th>1037</th>\n",
       "      <td>50</td>\n",
       "      <td>15</td>\n",
       "      <td>500</td>\n",
       "      <td>550</td>\n",
       "      <td>200</td>\n",
       "      <td>3</td>\n",
       "      <td>3</td>\n",
       "      <td>smart</td>\n",
       "      <td>1221</td>\n",
       "      <td>Белгород</td>\n",
       "      <td>8</td>\n",
       "      <td>24</td>\n",
       "      <td>138</td>\n",
       "      <td>33</td>\n",
       "      <td>16</td>\n",
       "      <td>-1086</td>\n",
       "      <td>-51</td>\n",
       "      <td>200</td>\n",
       "    </tr>\n",
       "    <tr>\n",
       "      <th>2097</th>\n",
       "      <td>50</td>\n",
       "      <td>15</td>\n",
       "      <td>500</td>\n",
       "      <td>550</td>\n",
       "      <td>200</td>\n",
       "      <td>3</td>\n",
       "      <td>3</td>\n",
       "      <td>smart</td>\n",
       "      <td>1475</td>\n",
       "      <td>Новокузнецк</td>\n",
       "      <td>4</td>\n",
       "      <td>42</td>\n",
       "      <td>230</td>\n",
       "      <td>21</td>\n",
       "      <td>13</td>\n",
       "      <td>-810</td>\n",
       "      <td>-87</td>\n",
       "      <td>-400</td>\n",
       "    </tr>\n",
       "    <tr>\n",
       "      <th>2556</th>\n",
       "      <td>1000</td>\n",
       "      <td>30</td>\n",
       "      <td>3000</td>\n",
       "      <td>1950</td>\n",
       "      <td>150</td>\n",
       "      <td>1</td>\n",
       "      <td>1</td>\n",
       "      <td>ultra</td>\n",
       "      <td>1185</td>\n",
       "      <td>Санкт-Петербург</td>\n",
       "      <td>8</td>\n",
       "      <td>121</td>\n",
       "      <td>797</td>\n",
       "      <td>0</td>\n",
       "      <td>42</td>\n",
       "      <td>-2203</td>\n",
       "      <td>-1000</td>\n",
       "      <td>1800</td>\n",
       "    </tr>\n",
       "    <tr>\n",
       "      <th>2558</th>\n",
       "      <td>1000</td>\n",
       "      <td>30</td>\n",
       "      <td>3000</td>\n",
       "      <td>1950</td>\n",
       "      <td>150</td>\n",
       "      <td>1</td>\n",
       "      <td>1</td>\n",
       "      <td>ultra</td>\n",
       "      <td>1185</td>\n",
       "      <td>Санкт-Петербург</td>\n",
       "      <td>10</td>\n",
       "      <td>125</td>\n",
       "      <td>929</td>\n",
       "      <td>0</td>\n",
       "      <td>38</td>\n",
       "      <td>-2071</td>\n",
       "      <td>-1000</td>\n",
       "      <td>1200</td>\n",
       "    </tr>\n",
       "    <tr>\n",
       "      <th>1699</th>\n",
       "      <td>50</td>\n",
       "      <td>15</td>\n",
       "      <td>500</td>\n",
       "      <td>550</td>\n",
       "      <td>200</td>\n",
       "      <td>3</td>\n",
       "      <td>3</td>\n",
       "      <td>smart</td>\n",
       "      <td>1386</td>\n",
       "      <td>Новосибирск</td>\n",
       "      <td>8</td>\n",
       "      <td>41</td>\n",
       "      <td>238</td>\n",
       "      <td>24</td>\n",
       "      <td>15</td>\n",
       "      <td>-786</td>\n",
       "      <td>-78</td>\n",
       "      <td>0</td>\n",
       "    </tr>\n",
       "    <tr>\n",
       "      <th>3163</th>\n",
       "      <td>1000</td>\n",
       "      <td>30</td>\n",
       "      <td>3000</td>\n",
       "      <td>1950</td>\n",
       "      <td>150</td>\n",
       "      <td>1</td>\n",
       "      <td>1</td>\n",
       "      <td>ultra</td>\n",
       "      <td>1466</td>\n",
       "      <td>Новосибирск</td>\n",
       "      <td>12</td>\n",
       "      <td>82</td>\n",
       "      <td>659</td>\n",
       "      <td>0</td>\n",
       "      <td>15</td>\n",
       "      <td>-2341</td>\n",
       "      <td>-1000</td>\n",
       "      <td>-2250</td>\n",
       "    </tr>\n",
       "    <tr>\n",
       "      <th>593</th>\n",
       "      <td>50</td>\n",
       "      <td>15</td>\n",
       "      <td>500</td>\n",
       "      <td>550</td>\n",
       "      <td>200</td>\n",
       "      <td>3</td>\n",
       "      <td>3</td>\n",
       "      <td>smart</td>\n",
       "      <td>1130</td>\n",
       "      <td>Тюмень</td>\n",
       "      <td>12</td>\n",
       "      <td>90</td>\n",
       "      <td>580</td>\n",
       "      <td>55</td>\n",
       "      <td>19</td>\n",
       "      <td>240</td>\n",
       "      <td>15</td>\n",
       "      <td>800</td>\n",
       "    </tr>\n",
       "    <tr>\n",
       "      <th>2371</th>\n",
       "      <td>1000</td>\n",
       "      <td>30</td>\n",
       "      <td>3000</td>\n",
       "      <td>1950</td>\n",
       "      <td>150</td>\n",
       "      <td>1</td>\n",
       "      <td>1</td>\n",
       "      <td>ultra</td>\n",
       "      <td>1089</td>\n",
       "      <td>Иркутск</td>\n",
       "      <td>6</td>\n",
       "      <td>61</td>\n",
       "      <td>415</td>\n",
       "      <td>146</td>\n",
       "      <td>15</td>\n",
       "      <td>-2585</td>\n",
       "      <td>-854</td>\n",
       "      <td>-2250</td>\n",
       "    </tr>\n",
       "    <tr>\n",
       "      <th>1283</th>\n",
       "      <td>50</td>\n",
       "      <td>15</td>\n",
       "      <td>500</td>\n",
       "      <td>550</td>\n",
       "      <td>200</td>\n",
       "      <td>3</td>\n",
       "      <td>3</td>\n",
       "      <td>smart</td>\n",
       "      <td>1282</td>\n",
       "      <td>Ульяновск</td>\n",
       "      <td>9</td>\n",
       "      <td>122</td>\n",
       "      <td>836</td>\n",
       "      <td>67</td>\n",
       "      <td>20</td>\n",
       "      <td>1008</td>\n",
       "      <td>51</td>\n",
       "      <td>1000</td>\n",
       "    </tr>\n",
       "    <tr>\n",
       "      <th>1228</th>\n",
       "      <td>50</td>\n",
       "      <td>15</td>\n",
       "      <td>500</td>\n",
       "      <td>550</td>\n",
       "      <td>200</td>\n",
       "      <td>3</td>\n",
       "      <td>3</td>\n",
       "      <td>smart</td>\n",
       "      <td>1267</td>\n",
       "      <td>Екатеринбург</td>\n",
       "      <td>9</td>\n",
       "      <td>81</td>\n",
       "      <td>539</td>\n",
       "      <td>15</td>\n",
       "      <td>19</td>\n",
       "      <td>117</td>\n",
       "      <td>-105</td>\n",
       "      <td>800</td>\n",
       "    </tr>\n",
       "    <tr>\n",
       "      <th>463</th>\n",
       "      <td>50</td>\n",
       "      <td>15</td>\n",
       "      <td>500</td>\n",
       "      <td>550</td>\n",
       "      <td>200</td>\n",
       "      <td>3</td>\n",
       "      <td>3</td>\n",
       "      <td>smart</td>\n",
       "      <td>1105</td>\n",
       "      <td>Улан-Удэ</td>\n",
       "      <td>9</td>\n",
       "      <td>6</td>\n",
       "      <td>26</td>\n",
       "      <td>5</td>\n",
       "      <td>1</td>\n",
       "      <td>-1422</td>\n",
       "      <td>-135</td>\n",
       "      <td>-2800</td>\n",
       "    </tr>\n",
       "    <tr>\n",
       "      <th>1258</th>\n",
       "      <td>50</td>\n",
       "      <td>15</td>\n",
       "      <td>500</td>\n",
       "      <td>550</td>\n",
       "      <td>200</td>\n",
       "      <td>3</td>\n",
       "      <td>3</td>\n",
       "      <td>smart</td>\n",
       "      <td>1275</td>\n",
       "      <td>Москва</td>\n",
       "      <td>8</td>\n",
       "      <td>72</td>\n",
       "      <td>451</td>\n",
       "      <td>29</td>\n",
       "      <td>15</td>\n",
       "      <td>-147</td>\n",
       "      <td>-63</td>\n",
       "      <td>0</td>\n",
       "    </tr>\n",
       "    <tr>\n",
       "      <th>171</th>\n",
       "      <td>50</td>\n",
       "      <td>15</td>\n",
       "      <td>500</td>\n",
       "      <td>550</td>\n",
       "      <td>200</td>\n",
       "      <td>3</td>\n",
       "      <td>3</td>\n",
       "      <td>smart</td>\n",
       "      <td>1035</td>\n",
       "      <td>Тюмень</td>\n",
       "      <td>8</td>\n",
       "      <td>60</td>\n",
       "      <td>494</td>\n",
       "      <td>54</td>\n",
       "      <td>12</td>\n",
       "      <td>-18</td>\n",
       "      <td>12</td>\n",
       "      <td>-600</td>\n",
       "    </tr>\n",
       "    <tr>\n",
       "      <th>267</th>\n",
       "      <td>50</td>\n",
       "      <td>15</td>\n",
       "      <td>500</td>\n",
       "      <td>550</td>\n",
       "      <td>200</td>\n",
       "      <td>3</td>\n",
       "      <td>3</td>\n",
       "      <td>smart</td>\n",
       "      <td>1056</td>\n",
       "      <td>Иркутск</td>\n",
       "      <td>4</td>\n",
       "      <td>32</td>\n",
       "      <td>193</td>\n",
       "      <td>23</td>\n",
       "      <td>7</td>\n",
       "      <td>-921</td>\n",
       "      <td>-81</td>\n",
       "      <td>-1600</td>\n",
       "    </tr>\n",
       "    <tr>\n",
       "      <th>710</th>\n",
       "      <td>50</td>\n",
       "      <td>15</td>\n",
       "      <td>500</td>\n",
       "      <td>550</td>\n",
       "      <td>200</td>\n",
       "      <td>3</td>\n",
       "      <td>3</td>\n",
       "      <td>smart</td>\n",
       "      <td>1155</td>\n",
       "      <td>Ставрополь</td>\n",
       "      <td>12</td>\n",
       "      <td>55</td>\n",
       "      <td>350</td>\n",
       "      <td>46</td>\n",
       "      <td>16</td>\n",
       "      <td>-450</td>\n",
       "      <td>-12</td>\n",
       "      <td>200</td>\n",
       "    </tr>\n",
       "    <tr>\n",
       "      <th>1265</th>\n",
       "      <td>50</td>\n",
       "      <td>15</td>\n",
       "      <td>500</td>\n",
       "      <td>550</td>\n",
       "      <td>200</td>\n",
       "      <td>3</td>\n",
       "      <td>3</td>\n",
       "      <td>smart</td>\n",
       "      <td>1279</td>\n",
       "      <td>Омск</td>\n",
       "      <td>9</td>\n",
       "      <td>68</td>\n",
       "      <td>413</td>\n",
       "      <td>0</td>\n",
       "      <td>10</td>\n",
       "      <td>-261</td>\n",
       "      <td>-150</td>\n",
       "      <td>-1000</td>\n",
       "    </tr>\n",
       "    <tr>\n",
       "      <th>652</th>\n",
       "      <td>50</td>\n",
       "      <td>15</td>\n",
       "      <td>500</td>\n",
       "      <td>550</td>\n",
       "      <td>200</td>\n",
       "      <td>3</td>\n",
       "      <td>3</td>\n",
       "      <td>smart</td>\n",
       "      <td>1144</td>\n",
       "      <td>Улан-Удэ</td>\n",
       "      <td>7</td>\n",
       "      <td>67</td>\n",
       "      <td>398</td>\n",
       "      <td>80</td>\n",
       "      <td>13</td>\n",
       "      <td>-306</td>\n",
       "      <td>90</td>\n",
       "      <td>-400</td>\n",
       "    </tr>\n",
       "    <tr>\n",
       "      <th>2076</th>\n",
       "      <td>50</td>\n",
       "      <td>15</td>\n",
       "      <td>500</td>\n",
       "      <td>550</td>\n",
       "      <td>200</td>\n",
       "      <td>3</td>\n",
       "      <td>3</td>\n",
       "      <td>smart</td>\n",
       "      <td>1468</td>\n",
       "      <td>Тамбов</td>\n",
       "      <td>10</td>\n",
       "      <td>26</td>\n",
       "      <td>195</td>\n",
       "      <td>14</td>\n",
       "      <td>14</td>\n",
       "      <td>-915</td>\n",
       "      <td>-108</td>\n",
       "      <td>-200</td>\n",
       "    </tr>\n",
       "    <tr>\n",
       "      <th>2969</th>\n",
       "      <td>1000</td>\n",
       "      <td>30</td>\n",
       "      <td>3000</td>\n",
       "      <td>1950</td>\n",
       "      <td>150</td>\n",
       "      <td>1</td>\n",
       "      <td>1</td>\n",
       "      <td>ultra</td>\n",
       "      <td>1381</td>\n",
       "      <td>Москва</td>\n",
       "      <td>2</td>\n",
       "      <td>98</td>\n",
       "      <td>762</td>\n",
       "      <td>44</td>\n",
       "      <td>28</td>\n",
       "      <td>-2238</td>\n",
       "      <td>-956</td>\n",
       "      <td>-300</td>\n",
       "    </tr>\n",
       "    <tr>\n",
       "      <th>1529</th>\n",
       "      <td>50</td>\n",
       "      <td>15</td>\n",
       "      <td>500</td>\n",
       "      <td>550</td>\n",
       "      <td>200</td>\n",
       "      <td>3</td>\n",
       "      <td>3</td>\n",
       "      <td>smart</td>\n",
       "      <td>1337</td>\n",
       "      <td>Вологда</td>\n",
       "      <td>10</td>\n",
       "      <td>28</td>\n",
       "      <td>241</td>\n",
       "      <td>8</td>\n",
       "      <td>22</td>\n",
       "      <td>-777</td>\n",
       "      <td>-126</td>\n",
       "      <td>1400</td>\n",
       "    </tr>\n",
       "  </tbody>\n",
       "</table>\n",
       "</div>"
      ],
      "text/plain": [
       "      messages_included  mb_per_month_included  minutes_included  \\\n",
       "2765               1000                     30              3000   \n",
       "1544                 50                     15               500   \n",
       "1517                 50                     15               500   \n",
       "2472               1000                     30              3000   \n",
       "119                  50                     15               500   \n",
       "1037                 50                     15               500   \n",
       "2097                 50                     15               500   \n",
       "2556               1000                     30              3000   \n",
       "2558               1000                     30              3000   \n",
       "1699                 50                     15               500   \n",
       "3163               1000                     30              3000   \n",
       "593                  50                     15               500   \n",
       "2371               1000                     30              3000   \n",
       "1283                 50                     15               500   \n",
       "1228                 50                     15               500   \n",
       "463                  50                     15               500   \n",
       "1258                 50                     15               500   \n",
       "171                  50                     15               500   \n",
       "267                  50                     15               500   \n",
       "710                  50                     15               500   \n",
       "1265                 50                     15               500   \n",
       "652                  50                     15               500   \n",
       "2076                 50                     15               500   \n",
       "2969               1000                     30              3000   \n",
       "1529                 50                     15               500   \n",
       "\n",
       "      rub_monthly_fee  rub_per_gb  rub_per_message  rub_per_minute tariff  \\\n",
       "2765             1950         150                1               1  ultra   \n",
       "1544              550         200                3               3  smart   \n",
       "1517              550         200                3               3  smart   \n",
       "2472             1950         150                1               1  ultra   \n",
       "119               550         200                3               3  smart   \n",
       "1037              550         200                3               3  smart   \n",
       "2097              550         200                3               3  smart   \n",
       "2556             1950         150                1               1  ultra   \n",
       "2558             1950         150                1               1  ultra   \n",
       "1699              550         200                3               3  smart   \n",
       "3163             1950         150                1               1  ultra   \n",
       "593               550         200                3               3  smart   \n",
       "2371             1950         150                1               1  ultra   \n",
       "1283              550         200                3               3  smart   \n",
       "1228              550         200                3               3  smart   \n",
       "463               550         200                3               3  smart   \n",
       "1258              550         200                3               3  smart   \n",
       "171               550         200                3               3  smart   \n",
       "267               550         200                3               3  smart   \n",
       "710               550         200                3               3  smart   \n",
       "1265              550         200                3               3  smart   \n",
       "652               550         200                3               3  smart   \n",
       "2076              550         200                3               3  smart   \n",
       "2969             1950         150                1               1  ultra   \n",
       "1529              550         200                3               3  smart   \n",
       "\n",
       "      user_id             city  service_month  duration_count  duration_sum  \\\n",
       "2765     1300           Москва             10             111           731   \n",
       "1544     1339           Москва             12              77           617   \n",
       "1517     1332           Москва             12              65           500   \n",
       "2472     1126  Санкт-Петербург             12              84           614   \n",
       "119      1026         Мурманск             10              72           535   \n",
       "1037     1221         Белгород              8              24           138   \n",
       "2097     1475      Новокузнецк              4              42           230   \n",
       "2556     1185  Санкт-Петербург              8             121           797   \n",
       "2558     1185  Санкт-Петербург             10             125           929   \n",
       "1699     1386      Новосибирск              8              41           238   \n",
       "3163     1466      Новосибирск             12              82           659   \n",
       "593      1130           Тюмень             12              90           580   \n",
       "2371     1089          Иркутск              6              61           415   \n",
       "1283     1282        Ульяновск              9             122           836   \n",
       "1228     1267     Екатеринбург              9              81           539   \n",
       "463      1105         Улан-Удэ              9               6            26   \n",
       "1258     1275           Москва              8              72           451   \n",
       "171      1035           Тюмень              8              60           494   \n",
       "267      1056          Иркутск              4              32           193   \n",
       "710      1155       Ставрополь             12              55           350   \n",
       "1265     1279             Омск              9              68           413   \n",
       "652      1144         Улан-Удэ              7              67           398   \n",
       "2076     1468           Тамбов             10              26           195   \n",
       "2969     1381           Москва              2              98           762   \n",
       "1529     1337          Вологда             10              28           241   \n",
       "\n",
       "      messages_count  mb_used  calls_revenue  messages_revenue  mb_revenue  \n",
       "2765             191       38          -2269              -809        1200  \n",
       "1544               0       21            351              -150        1200  \n",
       "1517              30       18              0               -60         600  \n",
       "2472               3       33          -2386              -997         450  \n",
       "119               39       14            105               -33        -200  \n",
       "1037              33       16          -1086               -51         200  \n",
       "2097              21       13           -810               -87        -400  \n",
       "2556               0       42          -2203             -1000        1800  \n",
       "2558               0       38          -2071             -1000        1200  \n",
       "1699              24       15           -786               -78           0  \n",
       "3163               0       15          -2341             -1000       -2250  \n",
       "593               55       19            240                15         800  \n",
       "2371             146       15          -2585              -854       -2250  \n",
       "1283              67       20           1008                51        1000  \n",
       "1228              15       19            117              -105         800  \n",
       "463                5        1          -1422              -135       -2800  \n",
       "1258              29       15           -147               -63           0  \n",
       "171               54       12            -18                12        -600  \n",
       "267               23        7           -921               -81       -1600  \n",
       "710               46       16           -450               -12         200  \n",
       "1265               0       10           -261              -150       -1000  \n",
       "652               80       13           -306                90        -400  \n",
       "2076              14       14           -915              -108        -200  \n",
       "2969              44       28          -2238              -956        -300  \n",
       "1529               8       22           -777              -126        1400  "
      ]
     },
     "execution_count": 46,
     "metadata": {},
     "output_type": "execute_result"
    }
   ],
   "source": [
    "df_full.sample(25)"
   ]
  },
  {
   "cell_type": "markdown",
   "metadata": {},
   "source": [
    "Отрицательные значения в колонка означают, что абонент не использовал полностью включенные в ежемесячный пакет опции. Выручка в таких случаях равна 0. Заменим отрицательные значения в созданных столбцах."
   ]
  },
  {
   "cell_type": "code",
   "execution_count": 47,
   "metadata": {},
   "outputs": [],
   "source": [
    "df_full['calls_revenue'] = df_full['calls_revenue'].clip(lower = 0)\n",
    "df_full['messages_revenue'] = df_full['messages_revenue'].clip(lower = 0)\n",
    "df_full['mb_revenue']= df_full['mb_revenue'].clip(lower = 0)"
   ]
  },
  {
   "cell_type": "markdown",
   "metadata": {},
   "source": [
    "Добавим ещё один столбец, который посчитает общую выручку, с учётом затрат на а/п:"
   ]
  },
  {
   "cell_type": "code",
   "execution_count": 48,
   "metadata": {},
   "outputs": [],
   "source": [
    "df_full['revenue'] = df_full['rub_monthly_fee'] + df_full['calls_revenue'] + df_full['messages_revenue'] + df_full['mb_revenue']"
   ]
  },
  {
   "cell_type": "markdown",
   "metadata": {},
   "source": [
    "Сгруппируем итоговые данные по тарифу, чтобы сравнить прибыль"
   ]
  },
  {
   "cell_type": "code",
   "execution_count": 49,
   "metadata": {},
   "outputs": [
    {
     "data": {
      "text/html": [
       "<div>\n",
       "<style scoped>\n",
       "    .dataframe tbody tr th:only-of-type {\n",
       "        vertical-align: middle;\n",
       "    }\n",
       "\n",
       "    .dataframe tbody tr th {\n",
       "        vertical-align: top;\n",
       "    }\n",
       "\n",
       "    .dataframe thead th {\n",
       "        text-align: right;\n",
       "    }\n",
       "</style>\n",
       "<table border=\"1\" class=\"dataframe\">\n",
       "  <thead>\n",
       "    <tr style=\"text-align: right;\">\n",
       "      <th></th>\n",
       "      <th>calls_revenue</th>\n",
       "      <th>mb_revenue</th>\n",
       "      <th>messages_revenue</th>\n",
       "      <th>revenue</th>\n",
       "    </tr>\n",
       "    <tr>\n",
       "      <th>tariff</th>\n",
       "      <th></th>\n",
       "      <th></th>\n",
       "      <th></th>\n",
       "      <th></th>\n",
       "    </tr>\n",
       "  </thead>\n",
       "  <tbody>\n",
       "    <tr>\n",
       "      <th>smart</th>\n",
       "      <td>278217</td>\n",
       "      <td>1332400</td>\n",
       "      <td>38784</td>\n",
       "      <td>2875901</td>\n",
       "    </tr>\n",
       "    <tr>\n",
       "      <th>ultra</th>\n",
       "      <td>0</td>\n",
       "      <td>118350</td>\n",
       "      <td>0</td>\n",
       "      <td>2041050</td>\n",
       "    </tr>\n",
       "  </tbody>\n",
       "</table>\n",
       "</div>"
      ],
      "text/plain": [
       "        calls_revenue  mb_revenue  messages_revenue  revenue\n",
       "tariff                                                      \n",
       "smart          278217     1332400             38784  2875901\n",
       "ultra               0      118350                 0  2041050"
      ]
     },
     "execution_count": 49,
     "metadata": {},
     "output_type": "execute_result"
    }
   ],
   "source": [
    "revenue_pivot = df_full.pivot_table(index = 'tariff', values = ['calls_revenue', 'messages_revenue', 'mb_revenue', 'revenue'], aggfunc = 'sum')\n",
    "revenue_pivot"
   ]
  },
  {
   "cell_type": "markdown",
   "metadata": {},
   "source": [
    "### Вывод"
   ]
  },
  {
   "cell_type": "markdown",
   "metadata": {},
   "source": [
    "За 2018 год бОльшую выручку Мегалайну принесли абоненты тарифа Смарт. Самая доходная статья - это интернет-трафик сверх того, что включено в абонентскую плату."
   ]
  },
  {
   "cell_type": "markdown",
   "metadata": {},
   "source": [
    "## Анализ данных\n",
    "Описать поведение клиентов оператора, исходя из выборки:\n",
    "- Сколько минут разговора, сколько сообщений и какой объём интернет-трафика требуется пользователям каждого тарифа в месяц? \n",
    "- Посчитать среднее количество, дисперсию и стандартное отклонение. Постройте гистограммы. Опишите распределения."
   ]
  },
  {
   "cell_type": "markdown",
   "metadata": {},
   "source": [
    "Чтобы описать поведение клиентов в зависимости от тарифа, нужно разделить df_full на две выборки по категории принадлежности к тарифу:"
   ]
  },
  {
   "cell_type": "code",
   "execution_count": 50,
   "metadata": {},
   "outputs": [
    {
     "data": {
      "text/html": [
       "<div>\n",
       "<style scoped>\n",
       "    .dataframe tbody tr th:only-of-type {\n",
       "        vertical-align: middle;\n",
       "    }\n",
       "\n",
       "    .dataframe tbody tr th {\n",
       "        vertical-align: top;\n",
       "    }\n",
       "\n",
       "    .dataframe thead th {\n",
       "        text-align: right;\n",
       "    }\n",
       "</style>\n",
       "<table border=\"1\" class=\"dataframe\">\n",
       "  <thead>\n",
       "    <tr style=\"text-align: right;\">\n",
       "      <th></th>\n",
       "      <th>messages_included</th>\n",
       "      <th>mb_per_month_included</th>\n",
       "      <th>minutes_included</th>\n",
       "      <th>rub_monthly_fee</th>\n",
       "      <th>rub_per_gb</th>\n",
       "      <th>rub_per_message</th>\n",
       "      <th>rub_per_minute</th>\n",
       "      <th>tariff</th>\n",
       "      <th>user_id</th>\n",
       "      <th>city</th>\n",
       "      <th>service_month</th>\n",
       "      <th>duration_count</th>\n",
       "      <th>duration_sum</th>\n",
       "      <th>messages_count</th>\n",
       "      <th>mb_used</th>\n",
       "      <th>calls_revenue</th>\n",
       "      <th>messages_revenue</th>\n",
       "      <th>mb_revenue</th>\n",
       "      <th>revenue</th>\n",
       "    </tr>\n",
       "  </thead>\n",
       "  <tbody>\n",
       "    <tr>\n",
       "      <th>0</th>\n",
       "      <td>50</td>\n",
       "      <td>15</td>\n",
       "      <td>500</td>\n",
       "      <td>550</td>\n",
       "      <td>200</td>\n",
       "      <td>3</td>\n",
       "      <td>3</td>\n",
       "      <td>smart</td>\n",
       "      <td>1001</td>\n",
       "      <td>Москва</td>\n",
       "      <td>11</td>\n",
       "      <td>59</td>\n",
       "      <td>430</td>\n",
       "      <td>0</td>\n",
       "      <td>18</td>\n",
       "      <td>0</td>\n",
       "      <td>0</td>\n",
       "      <td>600</td>\n",
       "      <td>1150</td>\n",
       "    </tr>\n",
       "    <tr>\n",
       "      <th>1</th>\n",
       "      <td>50</td>\n",
       "      <td>15</td>\n",
       "      <td>500</td>\n",
       "      <td>550</td>\n",
       "      <td>200</td>\n",
       "      <td>3</td>\n",
       "      <td>3</td>\n",
       "      <td>smart</td>\n",
       "      <td>1001</td>\n",
       "      <td>Москва</td>\n",
       "      <td>12</td>\n",
       "      <td>63</td>\n",
       "      <td>414</td>\n",
       "      <td>0</td>\n",
       "      <td>14</td>\n",
       "      <td>0</td>\n",
       "      <td>0</td>\n",
       "      <td>0</td>\n",
       "      <td>550</td>\n",
       "    </tr>\n",
       "    <tr>\n",
       "      <th>2</th>\n",
       "      <td>50</td>\n",
       "      <td>15</td>\n",
       "      <td>500</td>\n",
       "      <td>550</td>\n",
       "      <td>200</td>\n",
       "      <td>3</td>\n",
       "      <td>3</td>\n",
       "      <td>smart</td>\n",
       "      <td>1002</td>\n",
       "      <td>Стерлитамак</td>\n",
       "      <td>6</td>\n",
       "      <td>15</td>\n",
       "      <td>117</td>\n",
       "      <td>4</td>\n",
       "      <td>11</td>\n",
       "      <td>0</td>\n",
       "      <td>0</td>\n",
       "      <td>0</td>\n",
       "      <td>550</td>\n",
       "    </tr>\n",
       "    <tr>\n",
       "      <th>3</th>\n",
       "      <td>50</td>\n",
       "      <td>15</td>\n",
       "      <td>500</td>\n",
       "      <td>550</td>\n",
       "      <td>200</td>\n",
       "      <td>3</td>\n",
       "      <td>3</td>\n",
       "      <td>smart</td>\n",
       "      <td>1002</td>\n",
       "      <td>Стерлитамак</td>\n",
       "      <td>7</td>\n",
       "      <td>26</td>\n",
       "      <td>214</td>\n",
       "      <td>11</td>\n",
       "      <td>18</td>\n",
       "      <td>0</td>\n",
       "      <td>0</td>\n",
       "      <td>600</td>\n",
       "      <td>1150</td>\n",
       "    </tr>\n",
       "    <tr>\n",
       "      <th>4</th>\n",
       "      <td>50</td>\n",
       "      <td>15</td>\n",
       "      <td>500</td>\n",
       "      <td>550</td>\n",
       "      <td>200</td>\n",
       "      <td>3</td>\n",
       "      <td>3</td>\n",
       "      <td>smart</td>\n",
       "      <td>1002</td>\n",
       "      <td>Стерлитамак</td>\n",
       "      <td>8</td>\n",
       "      <td>42</td>\n",
       "      <td>289</td>\n",
       "      <td>13</td>\n",
       "      <td>20</td>\n",
       "      <td>0</td>\n",
       "      <td>0</td>\n",
       "      <td>1000</td>\n",
       "      <td>1550</td>\n",
       "    </tr>\n",
       "    <tr>\n",
       "      <th>...</th>\n",
       "      <td>...</td>\n",
       "      <td>...</td>\n",
       "      <td>...</td>\n",
       "      <td>...</td>\n",
       "      <td>...</td>\n",
       "      <td>...</td>\n",
       "      <td>...</td>\n",
       "      <td>...</td>\n",
       "      <td>...</td>\n",
       "      <td>...</td>\n",
       "      <td>...</td>\n",
       "      <td>...</td>\n",
       "      <td>...</td>\n",
       "      <td>...</td>\n",
       "      <td>...</td>\n",
       "      <td>...</td>\n",
       "      <td>...</td>\n",
       "      <td>...</td>\n",
       "      <td>...</td>\n",
       "    </tr>\n",
       "    <tr>\n",
       "      <th>2225</th>\n",
       "      <td>50</td>\n",
       "      <td>15</td>\n",
       "      <td>500</td>\n",
       "      <td>550</td>\n",
       "      <td>200</td>\n",
       "      <td>3</td>\n",
       "      <td>3</td>\n",
       "      <td>smart</td>\n",
       "      <td>1498</td>\n",
       "      <td>Владикавказ</td>\n",
       "      <td>10</td>\n",
       "      <td>41</td>\n",
       "      <td>247</td>\n",
       "      <td>42</td>\n",
       "      <td>21</td>\n",
       "      <td>0</td>\n",
       "      <td>0</td>\n",
       "      <td>1200</td>\n",
       "      <td>1750</td>\n",
       "    </tr>\n",
       "    <tr>\n",
       "      <th>2226</th>\n",
       "      <td>50</td>\n",
       "      <td>15</td>\n",
       "      <td>500</td>\n",
       "      <td>550</td>\n",
       "      <td>200</td>\n",
       "      <td>3</td>\n",
       "      <td>3</td>\n",
       "      <td>smart</td>\n",
       "      <td>1499</td>\n",
       "      <td>Пермь</td>\n",
       "      <td>9</td>\n",
       "      <td>9</td>\n",
       "      <td>70</td>\n",
       "      <td>11</td>\n",
       "      <td>2</td>\n",
       "      <td>0</td>\n",
       "      <td>0</td>\n",
       "      <td>0</td>\n",
       "      <td>550</td>\n",
       "    </tr>\n",
       "    <tr>\n",
       "      <th>2227</th>\n",
       "      <td>50</td>\n",
       "      <td>15</td>\n",
       "      <td>500</td>\n",
       "      <td>550</td>\n",
       "      <td>200</td>\n",
       "      <td>3</td>\n",
       "      <td>3</td>\n",
       "      <td>smart</td>\n",
       "      <td>1499</td>\n",
       "      <td>Пермь</td>\n",
       "      <td>10</td>\n",
       "      <td>68</td>\n",
       "      <td>449</td>\n",
       "      <td>48</td>\n",
       "      <td>18</td>\n",
       "      <td>0</td>\n",
       "      <td>0</td>\n",
       "      <td>600</td>\n",
       "      <td>1150</td>\n",
       "    </tr>\n",
       "    <tr>\n",
       "      <th>2228</th>\n",
       "      <td>50</td>\n",
       "      <td>15</td>\n",
       "      <td>500</td>\n",
       "      <td>550</td>\n",
       "      <td>200</td>\n",
       "      <td>3</td>\n",
       "      <td>3</td>\n",
       "      <td>smart</td>\n",
       "      <td>1499</td>\n",
       "      <td>Пермь</td>\n",
       "      <td>11</td>\n",
       "      <td>74</td>\n",
       "      <td>612</td>\n",
       "      <td>59</td>\n",
       "      <td>18</td>\n",
       "      <td>336</td>\n",
       "      <td>27</td>\n",
       "      <td>600</td>\n",
       "      <td>1513</td>\n",
       "    </tr>\n",
       "    <tr>\n",
       "      <th>2229</th>\n",
       "      <td>50</td>\n",
       "      <td>15</td>\n",
       "      <td>500</td>\n",
       "      <td>550</td>\n",
       "      <td>200</td>\n",
       "      <td>3</td>\n",
       "      <td>3</td>\n",
       "      <td>smart</td>\n",
       "      <td>1499</td>\n",
       "      <td>Пермь</td>\n",
       "      <td>12</td>\n",
       "      <td>69</td>\n",
       "      <td>492</td>\n",
       "      <td>66</td>\n",
       "      <td>13</td>\n",
       "      <td>0</td>\n",
       "      <td>48</td>\n",
       "      <td>0</td>\n",
       "      <td>598</td>\n",
       "    </tr>\n",
       "  </tbody>\n",
       "</table>\n",
       "<p>2230 rows × 19 columns</p>\n",
       "</div>"
      ],
      "text/plain": [
       "      messages_included  mb_per_month_included  minutes_included  \\\n",
       "0                    50                     15               500   \n",
       "1                    50                     15               500   \n",
       "2                    50                     15               500   \n",
       "3                    50                     15               500   \n",
       "4                    50                     15               500   \n",
       "...                 ...                    ...               ...   \n",
       "2225                 50                     15               500   \n",
       "2226                 50                     15               500   \n",
       "2227                 50                     15               500   \n",
       "2228                 50                     15               500   \n",
       "2229                 50                     15               500   \n",
       "\n",
       "      rub_monthly_fee  rub_per_gb  rub_per_message  rub_per_minute tariff  \\\n",
       "0                 550         200                3               3  smart   \n",
       "1                 550         200                3               3  smart   \n",
       "2                 550         200                3               3  smart   \n",
       "3                 550         200                3               3  smart   \n",
       "4                 550         200                3               3  smart   \n",
       "...               ...         ...              ...             ...    ...   \n",
       "2225              550         200                3               3  smart   \n",
       "2226              550         200                3               3  smart   \n",
       "2227              550         200                3               3  smart   \n",
       "2228              550         200                3               3  smart   \n",
       "2229              550         200                3               3  smart   \n",
       "\n",
       "      user_id         city  service_month  duration_count  duration_sum  \\\n",
       "0        1001       Москва             11              59           430   \n",
       "1        1001       Москва             12              63           414   \n",
       "2        1002  Стерлитамак              6              15           117   \n",
       "3        1002  Стерлитамак              7              26           214   \n",
       "4        1002  Стерлитамак              8              42           289   \n",
       "...       ...          ...            ...             ...           ...   \n",
       "2225     1498  Владикавказ             10              41           247   \n",
       "2226     1499        Пермь              9               9            70   \n",
       "2227     1499        Пермь             10              68           449   \n",
       "2228     1499        Пермь             11              74           612   \n",
       "2229     1499        Пермь             12              69           492   \n",
       "\n",
       "      messages_count  mb_used  calls_revenue  messages_revenue  mb_revenue  \\\n",
       "0                  0       18              0                 0         600   \n",
       "1                  0       14              0                 0           0   \n",
       "2                  4       11              0                 0           0   \n",
       "3                 11       18              0                 0         600   \n",
       "4                 13       20              0                 0        1000   \n",
       "...              ...      ...            ...               ...         ...   \n",
       "2225              42       21              0                 0        1200   \n",
       "2226              11        2              0                 0           0   \n",
       "2227              48       18              0                 0         600   \n",
       "2228              59       18            336                27         600   \n",
       "2229              66       13              0                48           0   \n",
       "\n",
       "      revenue  \n",
       "0        1150  \n",
       "1         550  \n",
       "2         550  \n",
       "3        1150  \n",
       "4        1550  \n",
       "...       ...  \n",
       "2225     1750  \n",
       "2226      550  \n",
       "2227     1150  \n",
       "2228     1513  \n",
       "2229      598  \n",
       "\n",
       "[2230 rows x 19 columns]"
      ]
     },
     "execution_count": 50,
     "metadata": {},
     "output_type": "execute_result"
    }
   ],
   "source": [
    "smart_users = df_full.query('tariff == \"smart\"')\n",
    "smart_users"
   ]
  },
  {
   "cell_type": "code",
   "execution_count": 51,
   "metadata": {},
   "outputs": [
    {
     "data": {
      "text/html": [
       "<div>\n",
       "<style scoped>\n",
       "    .dataframe tbody tr th:only-of-type {\n",
       "        vertical-align: middle;\n",
       "    }\n",
       "\n",
       "    .dataframe tbody tr th {\n",
       "        vertical-align: top;\n",
       "    }\n",
       "\n",
       "    .dataframe thead th {\n",
       "        text-align: right;\n",
       "    }\n",
       "</style>\n",
       "<table border=\"1\" class=\"dataframe\">\n",
       "  <thead>\n",
       "    <tr style=\"text-align: right;\">\n",
       "      <th></th>\n",
       "      <th>messages_included</th>\n",
       "      <th>mb_per_month_included</th>\n",
       "      <th>minutes_included</th>\n",
       "      <th>rub_monthly_fee</th>\n",
       "      <th>rub_per_gb</th>\n",
       "      <th>rub_per_message</th>\n",
       "      <th>rub_per_minute</th>\n",
       "      <th>tariff</th>\n",
       "      <th>user_id</th>\n",
       "      <th>city</th>\n",
       "      <th>service_month</th>\n",
       "      <th>duration_count</th>\n",
       "      <th>duration_sum</th>\n",
       "      <th>messages_count</th>\n",
       "      <th>mb_used</th>\n",
       "      <th>calls_revenue</th>\n",
       "      <th>messages_revenue</th>\n",
       "      <th>mb_revenue</th>\n",
       "      <th>revenue</th>\n",
       "    </tr>\n",
       "  </thead>\n",
       "  <tbody>\n",
       "    <tr>\n",
       "      <th>2230</th>\n",
       "      <td>1000</td>\n",
       "      <td>30</td>\n",
       "      <td>3000</td>\n",
       "      <td>1950</td>\n",
       "      <td>150</td>\n",
       "      <td>1</td>\n",
       "      <td>1</td>\n",
       "      <td>ultra</td>\n",
       "      <td>1000</td>\n",
       "      <td>Краснодар</td>\n",
       "      <td>5</td>\n",
       "      <td>22</td>\n",
       "      <td>159</td>\n",
       "      <td>22</td>\n",
       "      <td>3</td>\n",
       "      <td>0</td>\n",
       "      <td>0</td>\n",
       "      <td>0</td>\n",
       "      <td>1950</td>\n",
       "    </tr>\n",
       "    <tr>\n",
       "      <th>2231</th>\n",
       "      <td>1000</td>\n",
       "      <td>30</td>\n",
       "      <td>3000</td>\n",
       "      <td>1950</td>\n",
       "      <td>150</td>\n",
       "      <td>1</td>\n",
       "      <td>1</td>\n",
       "      <td>ultra</td>\n",
       "      <td>1000</td>\n",
       "      <td>Краснодар</td>\n",
       "      <td>6</td>\n",
       "      <td>43</td>\n",
       "      <td>172</td>\n",
       "      <td>60</td>\n",
       "      <td>23</td>\n",
       "      <td>0</td>\n",
       "      <td>0</td>\n",
       "      <td>0</td>\n",
       "      <td>1950</td>\n",
       "    </tr>\n",
       "    <tr>\n",
       "      <th>2232</th>\n",
       "      <td>1000</td>\n",
       "      <td>30</td>\n",
       "      <td>3000</td>\n",
       "      <td>1950</td>\n",
       "      <td>150</td>\n",
       "      <td>1</td>\n",
       "      <td>1</td>\n",
       "      <td>ultra</td>\n",
       "      <td>1000</td>\n",
       "      <td>Краснодар</td>\n",
       "      <td>7</td>\n",
       "      <td>47</td>\n",
       "      <td>340</td>\n",
       "      <td>75</td>\n",
       "      <td>14</td>\n",
       "      <td>0</td>\n",
       "      <td>0</td>\n",
       "      <td>0</td>\n",
       "      <td>1950</td>\n",
       "    </tr>\n",
       "    <tr>\n",
       "      <th>2233</th>\n",
       "      <td>1000</td>\n",
       "      <td>30</td>\n",
       "      <td>3000</td>\n",
       "      <td>1950</td>\n",
       "      <td>150</td>\n",
       "      <td>1</td>\n",
       "      <td>1</td>\n",
       "      <td>ultra</td>\n",
       "      <td>1000</td>\n",
       "      <td>Краснодар</td>\n",
       "      <td>8</td>\n",
       "      <td>52</td>\n",
       "      <td>408</td>\n",
       "      <td>81</td>\n",
       "      <td>14</td>\n",
       "      <td>0</td>\n",
       "      <td>0</td>\n",
       "      <td>0</td>\n",
       "      <td>1950</td>\n",
       "    </tr>\n",
       "    <tr>\n",
       "      <th>2234</th>\n",
       "      <td>1000</td>\n",
       "      <td>30</td>\n",
       "      <td>3000</td>\n",
       "      <td>1950</td>\n",
       "      <td>150</td>\n",
       "      <td>1</td>\n",
       "      <td>1</td>\n",
       "      <td>ultra</td>\n",
       "      <td>1000</td>\n",
       "      <td>Краснодар</td>\n",
       "      <td>9</td>\n",
       "      <td>58</td>\n",
       "      <td>466</td>\n",
       "      <td>57</td>\n",
       "      <td>15</td>\n",
       "      <td>0</td>\n",
       "      <td>0</td>\n",
       "      <td>0</td>\n",
       "      <td>1950</td>\n",
       "    </tr>\n",
       "    <tr>\n",
       "      <th>...</th>\n",
       "      <td>...</td>\n",
       "      <td>...</td>\n",
       "      <td>...</td>\n",
       "      <td>...</td>\n",
       "      <td>...</td>\n",
       "      <td>...</td>\n",
       "      <td>...</td>\n",
       "      <td>...</td>\n",
       "      <td>...</td>\n",
       "      <td>...</td>\n",
       "      <td>...</td>\n",
       "      <td>...</td>\n",
       "      <td>...</td>\n",
       "      <td>...</td>\n",
       "      <td>...</td>\n",
       "      <td>...</td>\n",
       "      <td>...</td>\n",
       "      <td>...</td>\n",
       "      <td>...</td>\n",
       "    </tr>\n",
       "    <tr>\n",
       "      <th>3211</th>\n",
       "      <td>1000</td>\n",
       "      <td>30</td>\n",
       "      <td>3000</td>\n",
       "      <td>1950</td>\n",
       "      <td>150</td>\n",
       "      <td>1</td>\n",
       "      <td>1</td>\n",
       "      <td>ultra</td>\n",
       "      <td>1495</td>\n",
       "      <td>Иркутск</td>\n",
       "      <td>8</td>\n",
       "      <td>17</td>\n",
       "      <td>92</td>\n",
       "      <td>13</td>\n",
       "      <td>3</td>\n",
       "      <td>0</td>\n",
       "      <td>0</td>\n",
       "      <td>0</td>\n",
       "      <td>1950</td>\n",
       "    </tr>\n",
       "    <tr>\n",
       "      <th>3212</th>\n",
       "      <td>1000</td>\n",
       "      <td>30</td>\n",
       "      <td>3000</td>\n",
       "      <td>1950</td>\n",
       "      <td>150</td>\n",
       "      <td>1</td>\n",
       "      <td>1</td>\n",
       "      <td>ultra</td>\n",
       "      <td>1495</td>\n",
       "      <td>Иркутск</td>\n",
       "      <td>9</td>\n",
       "      <td>112</td>\n",
       "      <td>813</td>\n",
       "      <td>82</td>\n",
       "      <td>33</td>\n",
       "      <td>0</td>\n",
       "      <td>0</td>\n",
       "      <td>450</td>\n",
       "      <td>2400</td>\n",
       "    </tr>\n",
       "    <tr>\n",
       "      <th>3213</th>\n",
       "      <td>1000</td>\n",
       "      <td>30</td>\n",
       "      <td>3000</td>\n",
       "      <td>1950</td>\n",
       "      <td>150</td>\n",
       "      <td>1</td>\n",
       "      <td>1</td>\n",
       "      <td>ultra</td>\n",
       "      <td>1495</td>\n",
       "      <td>Иркутск</td>\n",
       "      <td>10</td>\n",
       "      <td>152</td>\n",
       "      <td>1030</td>\n",
       "      <td>82</td>\n",
       "      <td>29</td>\n",
       "      <td>0</td>\n",
       "      <td>0</td>\n",
       "      <td>0</td>\n",
       "      <td>1950</td>\n",
       "    </tr>\n",
       "    <tr>\n",
       "      <th>3214</th>\n",
       "      <td>1000</td>\n",
       "      <td>30</td>\n",
       "      <td>3000</td>\n",
       "      <td>1950</td>\n",
       "      <td>150</td>\n",
       "      <td>1</td>\n",
       "      <td>1</td>\n",
       "      <td>ultra</td>\n",
       "      <td>1495</td>\n",
       "      <td>Иркутск</td>\n",
       "      <td>11</td>\n",
       "      <td>129</td>\n",
       "      <td>954</td>\n",
       "      <td>79</td>\n",
       "      <td>39</td>\n",
       "      <td>0</td>\n",
       "      <td>0</td>\n",
       "      <td>1350</td>\n",
       "      <td>3300</td>\n",
       "    </tr>\n",
       "    <tr>\n",
       "      <th>3215</th>\n",
       "      <td>1000</td>\n",
       "      <td>30</td>\n",
       "      <td>3000</td>\n",
       "      <td>1950</td>\n",
       "      <td>150</td>\n",
       "      <td>1</td>\n",
       "      <td>1</td>\n",
       "      <td>ultra</td>\n",
       "      <td>1495</td>\n",
       "      <td>Иркутск</td>\n",
       "      <td>12</td>\n",
       "      <td>155</td>\n",
       "      <td>1031</td>\n",
       "      <td>84</td>\n",
       "      <td>23</td>\n",
       "      <td>0</td>\n",
       "      <td>0</td>\n",
       "      <td>0</td>\n",
       "      <td>1950</td>\n",
       "    </tr>\n",
       "  </tbody>\n",
       "</table>\n",
       "<p>986 rows × 19 columns</p>\n",
       "</div>"
      ],
      "text/plain": [
       "      messages_included  mb_per_month_included  minutes_included  \\\n",
       "2230               1000                     30              3000   \n",
       "2231               1000                     30              3000   \n",
       "2232               1000                     30              3000   \n",
       "2233               1000                     30              3000   \n",
       "2234               1000                     30              3000   \n",
       "...                 ...                    ...               ...   \n",
       "3211               1000                     30              3000   \n",
       "3212               1000                     30              3000   \n",
       "3213               1000                     30              3000   \n",
       "3214               1000                     30              3000   \n",
       "3215               1000                     30              3000   \n",
       "\n",
       "      rub_monthly_fee  rub_per_gb  rub_per_message  rub_per_minute tariff  \\\n",
       "2230             1950         150                1               1  ultra   \n",
       "2231             1950         150                1               1  ultra   \n",
       "2232             1950         150                1               1  ultra   \n",
       "2233             1950         150                1               1  ultra   \n",
       "2234             1950         150                1               1  ultra   \n",
       "...               ...         ...              ...             ...    ...   \n",
       "3211             1950         150                1               1  ultra   \n",
       "3212             1950         150                1               1  ultra   \n",
       "3213             1950         150                1               1  ultra   \n",
       "3214             1950         150                1               1  ultra   \n",
       "3215             1950         150                1               1  ultra   \n",
       "\n",
       "      user_id       city  service_month  duration_count  duration_sum  \\\n",
       "2230     1000  Краснодар              5              22           159   \n",
       "2231     1000  Краснодар              6              43           172   \n",
       "2232     1000  Краснодар              7              47           340   \n",
       "2233     1000  Краснодар              8              52           408   \n",
       "2234     1000  Краснодар              9              58           466   \n",
       "...       ...        ...            ...             ...           ...   \n",
       "3211     1495    Иркутск              8              17            92   \n",
       "3212     1495    Иркутск              9             112           813   \n",
       "3213     1495    Иркутск             10             152          1030   \n",
       "3214     1495    Иркутск             11             129           954   \n",
       "3215     1495    Иркутск             12             155          1031   \n",
       "\n",
       "      messages_count  mb_used  calls_revenue  messages_revenue  mb_revenue  \\\n",
       "2230              22        3              0                 0           0   \n",
       "2231              60       23              0                 0           0   \n",
       "2232              75       14              0                 0           0   \n",
       "2233              81       14              0                 0           0   \n",
       "2234              57       15              0                 0           0   \n",
       "...              ...      ...            ...               ...         ...   \n",
       "3211              13        3              0                 0           0   \n",
       "3212              82       33              0                 0         450   \n",
       "3213              82       29              0                 0           0   \n",
       "3214              79       39              0                 0        1350   \n",
       "3215              84       23              0                 0           0   \n",
       "\n",
       "      revenue  \n",
       "2230     1950  \n",
       "2231     1950  \n",
       "2232     1950  \n",
       "2233     1950  \n",
       "2234     1950  \n",
       "...       ...  \n",
       "3211     1950  \n",
       "3212     2400  \n",
       "3213     1950  \n",
       "3214     3300  \n",
       "3215     1950  \n",
       "\n",
       "[986 rows x 19 columns]"
      ]
     },
     "execution_count": 51,
     "metadata": {},
     "output_type": "execute_result"
    }
   ],
   "source": [
    "ultra_users = df_full.query('tariff == \"ultra\"')\n",
    "ultra_users"
   ]
  },
  {
   "cell_type": "markdown",
   "metadata": {},
   "source": [
    "**SMART**"
   ]
  },
  {
   "cell_type": "code",
   "execution_count": 52,
   "metadata": {},
   "outputs": [
    {
     "data": {
      "text/html": [
       "<div>\n",
       "<style scoped>\n",
       "    .dataframe tbody tr th:only-of-type {\n",
       "        vertical-align: middle;\n",
       "    }\n",
       "\n",
       "    .dataframe tbody tr th {\n",
       "        vertical-align: top;\n",
       "    }\n",
       "\n",
       "    .dataframe thead th {\n",
       "        text-align: right;\n",
       "    }\n",
       "</style>\n",
       "<table border=\"1\" class=\"dataframe\">\n",
       "  <thead>\n",
       "    <tr style=\"text-align: right;\">\n",
       "      <th></th>\n",
       "      <th>duration_sum</th>\n",
       "      <th>mb_used</th>\n",
       "      <th>messages_count</th>\n",
       "    </tr>\n",
       "    <tr>\n",
       "      <th>service_month</th>\n",
       "      <th></th>\n",
       "      <th></th>\n",
       "      <th></th>\n",
       "    </tr>\n",
       "  </thead>\n",
       "  <tbody>\n",
       "    <tr>\n",
       "      <th>0</th>\n",
       "      <td>0.0</td>\n",
       "      <td>0.0</td>\n",
       "      <td>0.0</td>\n",
       "    </tr>\n",
       "    <tr>\n",
       "      <th>1</th>\n",
       "      <td>203.852941</td>\n",
       "      <td>8.735294</td>\n",
       "      <td>18.235294</td>\n",
       "    </tr>\n",
       "    <tr>\n",
       "      <th>2</th>\n",
       "      <td>298.689655</td>\n",
       "      <td>11.844828</td>\n",
       "      <td>24.086207</td>\n",
       "    </tr>\n",
       "    <tr>\n",
       "      <th>3</th>\n",
       "      <td>390.051948</td>\n",
       "      <td>15.233766</td>\n",
       "      <td>31.857143</td>\n",
       "    </tr>\n",
       "    <tr>\n",
       "      <th>4</th>\n",
       "      <td>367.133929</td>\n",
       "      <td>13.625</td>\n",
       "      <td>30.741071</td>\n",
       "    </tr>\n",
       "    <tr>\n",
       "      <th>5</th>\n",
       "      <td>387.361702</td>\n",
       "      <td>15.907801</td>\n",
       "      <td>33.77305</td>\n",
       "    </tr>\n",
       "    <tr>\n",
       "      <th>6</th>\n",
       "      <td>395.640244</td>\n",
       "      <td>15.95122</td>\n",
       "      <td>33.402439</td>\n",
       "    </tr>\n",
       "    <tr>\n",
       "      <th>7</th>\n",
       "      <td>408.353234</td>\n",
       "      <td>15.875622</td>\n",
       "      <td>33.751244</td>\n",
       "    </tr>\n",
       "    <tr>\n",
       "      <th>8</th>\n",
       "      <td>421.468085</td>\n",
       "      <td>16.73617</td>\n",
       "      <td>33.638298</td>\n",
       "    </tr>\n",
       "    <tr>\n",
       "      <th>9</th>\n",
       "      <td>428.611538</td>\n",
       "      <td>16.392308</td>\n",
       "      <td>33.638462</td>\n",
       "    </tr>\n",
       "    <tr>\n",
       "      <th>10</th>\n",
       "      <td>426.136054</td>\n",
       "      <td>16.880952</td>\n",
       "      <td>33.765306</td>\n",
       "    </tr>\n",
       "    <tr>\n",
       "      <th>11</th>\n",
       "      <td>435.265823</td>\n",
       "      <td>17.0</td>\n",
       "      <td>34.075949</td>\n",
       "    </tr>\n",
       "    <tr>\n",
       "      <th>12</th>\n",
       "      <td>478.560831</td>\n",
       "      <td>18.20178</td>\n",
       "      <td>35.994065</td>\n",
       "    </tr>\n",
       "  </tbody>\n",
       "</table>\n",
       "</div>"
      ],
      "text/plain": [
       "               duration_sum    mb_used  messages_count\n",
       "service_month                                         \n",
       "0                       0.0        0.0             0.0\n",
       "1                203.852941   8.735294       18.235294\n",
       "2                298.689655  11.844828       24.086207\n",
       "3                390.051948  15.233766       31.857143\n",
       "4                367.133929     13.625       30.741071\n",
       "5                387.361702  15.907801        33.77305\n",
       "6                395.640244   15.95122       33.402439\n",
       "7                408.353234  15.875622       33.751244\n",
       "8                421.468085   16.73617       33.638298\n",
       "9                428.611538  16.392308       33.638462\n",
       "10               426.136054  16.880952       33.765306\n",
       "11               435.265823       17.0       34.075949\n",
       "12               478.560831   18.20178       35.994065"
      ]
     },
     "execution_count": 52,
     "metadata": {},
     "output_type": "execute_result"
    }
   ],
   "source": [
    "smart_users_pivot = smart_users.pivot_table(index = ['service_month'], values = ['duration_sum', 'messages_count', 'mb_used'], aggfunc = 'mean')\n",
    "smart_users_pivot"
   ]
  },
  {
   "cell_type": "code",
   "execution_count": 53,
   "metadata": {},
   "outputs": [
    {
     "data": {
      "text/html": [
       "<div>\n",
       "<style scoped>\n",
       "    .dataframe tbody tr th:only-of-type {\n",
       "        vertical-align: middle;\n",
       "    }\n",
       "\n",
       "    .dataframe tbody tr th {\n",
       "        vertical-align: top;\n",
       "    }\n",
       "\n",
       "    .dataframe thead th {\n",
       "        text-align: right;\n",
       "    }\n",
       "</style>\n",
       "<table border=\"1\" class=\"dataframe\">\n",
       "  <thead>\n",
       "    <tr style=\"text-align: right;\">\n",
       "      <th></th>\n",
       "      <th>duration_sum</th>\n",
       "      <th>mb_used</th>\n",
       "      <th>messages_count</th>\n",
       "    </tr>\n",
       "    <tr>\n",
       "      <th>service_month</th>\n",
       "      <th></th>\n",
       "      <th></th>\n",
       "      <th></th>\n",
       "    </tr>\n",
       "  </thead>\n",
       "  <tbody>\n",
       "    <tr>\n",
       "      <th>1</th>\n",
       "      <td>203.852941</td>\n",
       "      <td>8.735294</td>\n",
       "      <td>18.235294</td>\n",
       "    </tr>\n",
       "    <tr>\n",
       "      <th>2</th>\n",
       "      <td>298.689655</td>\n",
       "      <td>11.844828</td>\n",
       "      <td>24.086207</td>\n",
       "    </tr>\n",
       "    <tr>\n",
       "      <th>3</th>\n",
       "      <td>390.051948</td>\n",
       "      <td>15.233766</td>\n",
       "      <td>31.857143</td>\n",
       "    </tr>\n",
       "    <tr>\n",
       "      <th>4</th>\n",
       "      <td>367.133929</td>\n",
       "      <td>13.625</td>\n",
       "      <td>30.741071</td>\n",
       "    </tr>\n",
       "    <tr>\n",
       "      <th>5</th>\n",
       "      <td>387.361702</td>\n",
       "      <td>15.907801</td>\n",
       "      <td>33.77305</td>\n",
       "    </tr>\n",
       "    <tr>\n",
       "      <th>6</th>\n",
       "      <td>395.640244</td>\n",
       "      <td>15.95122</td>\n",
       "      <td>33.402439</td>\n",
       "    </tr>\n",
       "    <tr>\n",
       "      <th>7</th>\n",
       "      <td>408.353234</td>\n",
       "      <td>15.875622</td>\n",
       "      <td>33.751244</td>\n",
       "    </tr>\n",
       "    <tr>\n",
       "      <th>8</th>\n",
       "      <td>421.468085</td>\n",
       "      <td>16.73617</td>\n",
       "      <td>33.638298</td>\n",
       "    </tr>\n",
       "    <tr>\n",
       "      <th>9</th>\n",
       "      <td>428.611538</td>\n",
       "      <td>16.392308</td>\n",
       "      <td>33.638462</td>\n",
       "    </tr>\n",
       "    <tr>\n",
       "      <th>10</th>\n",
       "      <td>426.136054</td>\n",
       "      <td>16.880952</td>\n",
       "      <td>33.765306</td>\n",
       "    </tr>\n",
       "    <tr>\n",
       "      <th>11</th>\n",
       "      <td>435.265823</td>\n",
       "      <td>17.0</td>\n",
       "      <td>34.075949</td>\n",
       "    </tr>\n",
       "    <tr>\n",
       "      <th>12</th>\n",
       "      <td>478.560831</td>\n",
       "      <td>18.20178</td>\n",
       "      <td>35.994065</td>\n",
       "    </tr>\n",
       "  </tbody>\n",
       "</table>\n",
       "</div>"
      ],
      "text/plain": [
       "               duration_sum    mb_used  messages_count\n",
       "service_month                                         \n",
       "1                203.852941   8.735294       18.235294\n",
       "2                298.689655  11.844828       24.086207\n",
       "3                390.051948  15.233766       31.857143\n",
       "4                367.133929     13.625       30.741071\n",
       "5                387.361702  15.907801        33.77305\n",
       "6                395.640244   15.95122       33.402439\n",
       "7                408.353234  15.875622       33.751244\n",
       "8                421.468085   16.73617       33.638298\n",
       "9                428.611538  16.392308       33.638462\n",
       "10               426.136054  16.880952       33.765306\n",
       "11               435.265823       17.0       34.075949\n",
       "12               478.560831   18.20178       35.994065"
      ]
     },
     "execution_count": 53,
     "metadata": {},
     "output_type": "execute_result"
    }
   ],
   "source": [
    "smart_users_pivot.drop(labels = [0],axis = 0, inplace = True)\n",
    "smart_users_pivot"
   ]
  },
  {
   "cell_type": "code",
   "execution_count": 54,
   "metadata": {},
   "outputs": [
    {
     "data": {
      "text/plain": [
       "count     12.000000\n",
       "mean     386.760499\n",
       "std       72.262004\n",
       "min      203.852941\n",
       "25%      382.304759\n",
       "50%      401.996739\n",
       "75%      426.754925\n",
       "max      478.560831\n",
       "Name: duration_sum, dtype: float64"
      ]
     },
     "execution_count": 54,
     "metadata": {},
     "output_type": "execute_result"
    }
   ],
   "source": [
    "smart_users_pivot['duration_sum'].describe()"
   ]
  },
  {
   "cell_type": "code",
   "execution_count": 55,
   "metadata": {},
   "outputs": [
    {
     "data": {
      "text/plain": [
       "count    12.000000\n",
       "mean     15.198728\n",
       "std       2.626973\n",
       "min       8.735294\n",
       "25%      14.831575\n",
       "50%      15.929510\n",
       "75%      16.772366\n",
       "max      18.201780\n",
       "Name: mb_used, dtype: float64"
      ]
     },
     "execution_count": 55,
     "metadata": {},
     "output_type": "execute_result"
    }
   ],
   "source": [
    "smart_users_pivot['mb_used'].describe()"
   ]
  },
  {
   "cell_type": "code",
   "execution_count": 56,
   "metadata": {},
   "outputs": [
    {
     "data": {
      "text/plain": [
       "count    12.000000\n",
       "mean     31.413211\n",
       "std       5.103413\n",
       "min      18.235294\n",
       "25%      31.578125\n",
       "50%      33.638380\n",
       "75%      33.767242\n",
       "max      35.994065\n",
       "Name: messages_count, dtype: float64"
      ]
     },
     "execution_count": 56,
     "metadata": {},
     "output_type": "execute_result"
    }
   ],
   "source": [
    "smart_users_pivot['messages_count'].describe()"
   ]
  },
  {
   "cell_type": "markdown",
   "metadata": {},
   "source": [
    "**Пользователям тарифа Smart в среднем в месяц требуется около 387 минут исходящих вызовов, 15 Гб интернет-трафика и 31-32 смски**"
   ]
  },
  {
   "cell_type": "markdown",
   "metadata": {},
   "source": [
    "Стандартное отклонение и дисперсия для среднемесячных показателей:"
   ]
  },
  {
   "cell_type": "code",
   "execution_count": 57,
   "metadata": {},
   "outputs": [
    {
     "name": "stdout",
     "output_type": "stream",
     "text": [
      "Стандартное отклонение (звонки): 72.26200398840187\n",
      "Дисперсия (звонки): 5221.797220419808\n",
      "Стандартное отклонение (Гб интернета): 2.6269725315358126\n",
      "Дисперсия (Гб интернета): 6.900984681443676\n",
      "Стандартное отклонение (смски): 5.103413278609601\n",
      "Дисперсия (смски): 26.044827092288795\n"
     ]
    }
   ],
   "source": [
    "print('Стандартное отклонение (звонки):', smart_users_pivot['duration_sum'].describe()['std'])\n",
    "print('Дисперсия (звонки):', smart_users_pivot['duration_sum'].describe()['std']**2)\n",
    "print('Стандартное отклонение (Гб интернета):', smart_users_pivot['mb_used'].describe()['std'])\n",
    "print('Дисперсия (Гб интернета):', smart_users_pivot['mb_used'].describe()['std']**2)\n",
    "print('Стандартное отклонение (смски):', smart_users_pivot['messages_count'].describe()['std'])\n",
    "print('Дисперсия (смски):', smart_users_pivot['messages_count'].describe()['std']**2)"
   ]
  },
  {
   "cell_type": "markdown",
   "metadata": {},
   "source": [
    "Стандартное отклонение и дисперсия для всей выборки по тарифу Смарт:"
   ]
  },
  {
   "cell_type": "code",
   "execution_count": 58,
   "metadata": {},
   "outputs": [
    {
     "name": "stdout",
     "output_type": "stream",
     "text": [
      "Стандартное отклонение (звонки): 190.4767540579285\n",
      "Дисперсия (звонки): 36281.393836444586\n",
      "Стандартное отклонение (Гб интернета): 5.7561665225657155\n",
      "Дисперсия (Гб интернета): 33.13345303550628\n",
      "Стандартное отклонение (смски): 28.230395954185852\n",
      "Дисперсия (смски): 796.9552557301129\n"
     ]
    }
   ],
   "source": [
    "print('Стандартное отклонение (звонки):', smart_users['duration_sum'].describe()['std'])\n",
    "print('Дисперсия (звонки):', smart_users['duration_sum'].describe()['std']**2)\n",
    "print('Стандартное отклонение (Гб интернета):', smart_users['mb_used'].describe()['std'])\n",
    "print('Дисперсия (Гб интернета):', smart_users['mb_used'].describe()['std']**2)\n",
    "print('Стандартное отклонение (смски):', smart_users['messages_count'].describe()['std'])\n",
    "print('Дисперсия (смски):', smart_users['messages_count'].describe()['std']**2)"
   ]
  },
  {
   "cell_type": "markdown",
   "metadata": {},
   "source": [
    "**ULTRA**"
   ]
  },
  {
   "cell_type": "code",
   "execution_count": 59,
   "metadata": {},
   "outputs": [
    {
     "data": {
      "text/html": [
       "<div>\n",
       "<style scoped>\n",
       "    .dataframe tbody tr th:only-of-type {\n",
       "        vertical-align: middle;\n",
       "    }\n",
       "\n",
       "    .dataframe tbody tr th {\n",
       "        vertical-align: top;\n",
       "    }\n",
       "\n",
       "    .dataframe thead th {\n",
       "        text-align: right;\n",
       "    }\n",
       "</style>\n",
       "<table border=\"1\" class=\"dataframe\">\n",
       "  <thead>\n",
       "    <tr style=\"text-align: right;\">\n",
       "      <th></th>\n",
       "      <th>duration_sum</th>\n",
       "      <th>mb_used</th>\n",
       "      <th>messages_count</th>\n",
       "    </tr>\n",
       "    <tr>\n",
       "      <th>service_month</th>\n",
       "      <th></th>\n",
       "      <th></th>\n",
       "      <th></th>\n",
       "    </tr>\n",
       "  </thead>\n",
       "  <tbody>\n",
       "    <tr>\n",
       "      <th>0</th>\n",
       "      <td>0.0</td>\n",
       "      <td>0.0</td>\n",
       "      <td>0.0</td>\n",
       "    </tr>\n",
       "    <tr>\n",
       "      <th>1</th>\n",
       "      <td>428.111111</td>\n",
       "      <td>13.222222</td>\n",
       "      <td>33.777778</td>\n",
       "    </tr>\n",
       "    <tr>\n",
       "      <th>2</th>\n",
       "      <td>297.125</td>\n",
       "      <td>12.0</td>\n",
       "      <td>21.958333</td>\n",
       "    </tr>\n",
       "    <tr>\n",
       "      <th>3</th>\n",
       "      <td>489.648649</td>\n",
       "      <td>17.648649</td>\n",
       "      <td>32.297297</td>\n",
       "    </tr>\n",
       "    <tr>\n",
       "      <th>4</th>\n",
       "      <td>458.018182</td>\n",
       "      <td>16.963636</td>\n",
       "      <td>31.563636</td>\n",
       "    </tr>\n",
       "    <tr>\n",
       "      <th>5</th>\n",
       "      <td>510.328358</td>\n",
       "      <td>19.373134</td>\n",
       "      <td>37.850746</td>\n",
       "    </tr>\n",
       "    <tr>\n",
       "      <th>6</th>\n",
       "      <td>479.702381</td>\n",
       "      <td>18.940476</td>\n",
       "      <td>41.72619</td>\n",
       "    </tr>\n",
       "    <tr>\n",
       "      <th>7</th>\n",
       "      <td>545.791209</td>\n",
       "      <td>20.505495</td>\n",
       "      <td>49.846154</td>\n",
       "    </tr>\n",
       "    <tr>\n",
       "      <th>8</th>\n",
       "      <td>510.775701</td>\n",
       "      <td>19.598131</td>\n",
       "      <td>48.439252</td>\n",
       "    </tr>\n",
       "    <tr>\n",
       "      <th>9</th>\n",
       "      <td>539.443478</td>\n",
       "      <td>19.243478</td>\n",
       "      <td>52.286957</td>\n",
       "    </tr>\n",
       "    <tr>\n",
       "      <th>10</th>\n",
       "      <td>558.081301</td>\n",
       "      <td>20.065041</td>\n",
       "      <td>58.430894</td>\n",
       "    </tr>\n",
       "    <tr>\n",
       "      <th>11</th>\n",
       "      <td>541.380597</td>\n",
       "      <td>19.80597</td>\n",
       "      <td>55.791045</td>\n",
       "    </tr>\n",
       "    <tr>\n",
       "      <th>12</th>\n",
       "      <td>592.805755</td>\n",
       "      <td>21.741007</td>\n",
       "      <td>60.611511</td>\n",
       "    </tr>\n",
       "  </tbody>\n",
       "</table>\n",
       "</div>"
      ],
      "text/plain": [
       "               duration_sum    mb_used  messages_count\n",
       "service_month                                         \n",
       "0                       0.0        0.0             0.0\n",
       "1                428.111111  13.222222       33.777778\n",
       "2                   297.125       12.0       21.958333\n",
       "3                489.648649  17.648649       32.297297\n",
       "4                458.018182  16.963636       31.563636\n",
       "5                510.328358  19.373134       37.850746\n",
       "6                479.702381  18.940476        41.72619\n",
       "7                545.791209  20.505495       49.846154\n",
       "8                510.775701  19.598131       48.439252\n",
       "9                539.443478  19.243478       52.286957\n",
       "10               558.081301  20.065041       58.430894\n",
       "11               541.380597   19.80597       55.791045\n",
       "12               592.805755  21.741007       60.611511"
      ]
     },
     "execution_count": 59,
     "metadata": {},
     "output_type": "execute_result"
    }
   ],
   "source": [
    "ultra_users_pivot = ultra_users.pivot_table(index = ['service_month'], values = ['duration_sum', 'messages_count', 'mb_used'], aggfunc = 'mean')\n",
    "ultra_users_pivot"
   ]
  },
  {
   "cell_type": "code",
   "execution_count": 60,
   "metadata": {},
   "outputs": [
    {
     "data": {
      "text/html": [
       "<div>\n",
       "<style scoped>\n",
       "    .dataframe tbody tr th:only-of-type {\n",
       "        vertical-align: middle;\n",
       "    }\n",
       "\n",
       "    .dataframe tbody tr th {\n",
       "        vertical-align: top;\n",
       "    }\n",
       "\n",
       "    .dataframe thead th {\n",
       "        text-align: right;\n",
       "    }\n",
       "</style>\n",
       "<table border=\"1\" class=\"dataframe\">\n",
       "  <thead>\n",
       "    <tr style=\"text-align: right;\">\n",
       "      <th></th>\n",
       "      <th>duration_sum</th>\n",
       "      <th>mb_used</th>\n",
       "      <th>messages_count</th>\n",
       "    </tr>\n",
       "    <tr>\n",
       "      <th>service_month</th>\n",
       "      <th></th>\n",
       "      <th></th>\n",
       "      <th></th>\n",
       "    </tr>\n",
       "  </thead>\n",
       "  <tbody>\n",
       "    <tr>\n",
       "      <th>1</th>\n",
       "      <td>428.111111</td>\n",
       "      <td>13.222222</td>\n",
       "      <td>33.777778</td>\n",
       "    </tr>\n",
       "    <tr>\n",
       "      <th>2</th>\n",
       "      <td>297.125</td>\n",
       "      <td>12.0</td>\n",
       "      <td>21.958333</td>\n",
       "    </tr>\n",
       "    <tr>\n",
       "      <th>3</th>\n",
       "      <td>489.648649</td>\n",
       "      <td>17.648649</td>\n",
       "      <td>32.297297</td>\n",
       "    </tr>\n",
       "    <tr>\n",
       "      <th>4</th>\n",
       "      <td>458.018182</td>\n",
       "      <td>16.963636</td>\n",
       "      <td>31.563636</td>\n",
       "    </tr>\n",
       "    <tr>\n",
       "      <th>5</th>\n",
       "      <td>510.328358</td>\n",
       "      <td>19.373134</td>\n",
       "      <td>37.850746</td>\n",
       "    </tr>\n",
       "    <tr>\n",
       "      <th>6</th>\n",
       "      <td>479.702381</td>\n",
       "      <td>18.940476</td>\n",
       "      <td>41.72619</td>\n",
       "    </tr>\n",
       "    <tr>\n",
       "      <th>7</th>\n",
       "      <td>545.791209</td>\n",
       "      <td>20.505495</td>\n",
       "      <td>49.846154</td>\n",
       "    </tr>\n",
       "    <tr>\n",
       "      <th>8</th>\n",
       "      <td>510.775701</td>\n",
       "      <td>19.598131</td>\n",
       "      <td>48.439252</td>\n",
       "    </tr>\n",
       "    <tr>\n",
       "      <th>9</th>\n",
       "      <td>539.443478</td>\n",
       "      <td>19.243478</td>\n",
       "      <td>52.286957</td>\n",
       "    </tr>\n",
       "    <tr>\n",
       "      <th>10</th>\n",
       "      <td>558.081301</td>\n",
       "      <td>20.065041</td>\n",
       "      <td>58.430894</td>\n",
       "    </tr>\n",
       "    <tr>\n",
       "      <th>11</th>\n",
       "      <td>541.380597</td>\n",
       "      <td>19.80597</td>\n",
       "      <td>55.791045</td>\n",
       "    </tr>\n",
       "    <tr>\n",
       "      <th>12</th>\n",
       "      <td>592.805755</td>\n",
       "      <td>21.741007</td>\n",
       "      <td>60.611511</td>\n",
       "    </tr>\n",
       "  </tbody>\n",
       "</table>\n",
       "</div>"
      ],
      "text/plain": [
       "               duration_sum    mb_used  messages_count\n",
       "service_month                                         \n",
       "1                428.111111  13.222222       33.777778\n",
       "2                   297.125       12.0       21.958333\n",
       "3                489.648649  17.648649       32.297297\n",
       "4                458.018182  16.963636       31.563636\n",
       "5                510.328358  19.373134       37.850746\n",
       "6                479.702381  18.940476        41.72619\n",
       "7                545.791209  20.505495       49.846154\n",
       "8                510.775701  19.598131       48.439252\n",
       "9                539.443478  19.243478       52.286957\n",
       "10               558.081301  20.065041       58.430894\n",
       "11               541.380597   19.80597       55.791045\n",
       "12               592.805755  21.741007       60.611511"
      ]
     },
     "execution_count": 60,
     "metadata": {},
     "output_type": "execute_result"
    }
   ],
   "source": [
    "ultra_users_pivot.drop(labels = [0],axis = 0, inplace = True)\n",
    "ultra_users_pivot"
   ]
  },
  {
   "cell_type": "code",
   "execution_count": 61,
   "metadata": {},
   "outputs": [
    {
     "data": {
      "text/plain": [
       "count     12.000000\n",
       "mean     495.934310\n",
       "std       77.450072\n",
       "min      297.125000\n",
       "25%      474.281331\n",
       "50%      510.552030\n",
       "75%      542.483250\n",
       "max      592.805755\n",
       "Name: duration_sum, dtype: float64"
      ]
     },
     "execution_count": 61,
     "metadata": {},
     "output_type": "execute_result"
    }
   ],
   "source": [
    "ultra_users_pivot['duration_sum'].describe()"
   ]
  },
  {
   "cell_type": "code",
   "execution_count": 62,
   "metadata": {},
   "outputs": [
    {
     "data": {
      "text/plain": [
       "count    12.000000\n",
       "mean     18.258937\n",
       "std       2.921533\n",
       "min      12.000000\n",
       "25%      17.477396\n",
       "50%      19.308306\n",
       "75%      19.870738\n",
       "max      21.741007\n",
       "Name: mb_used, dtype: float64"
      ]
     },
     "execution_count": 62,
     "metadata": {},
     "output_type": "execute_result"
    }
   ],
   "source": [
    "ultra_users_pivot['mb_used'].describe()"
   ]
  },
  {
   "cell_type": "code",
   "execution_count": 63,
   "metadata": {},
   "outputs": [
    {
     "data": {
      "text/plain": [
       "count    12.000000\n",
       "mean     43.714983\n",
       "std      12.320470\n",
       "min      21.958333\n",
       "25%      33.407658\n",
       "50%      45.082721\n",
       "75%      53.162979\n",
       "max      60.611511\n",
       "Name: messages_count, dtype: float64"
      ]
     },
     "execution_count": 63,
     "metadata": {},
     "output_type": "execute_result"
    }
   ],
   "source": [
    "ultra_users_pivot['messages_count'].describe()"
   ]
  },
  {
   "cell_type": "markdown",
   "metadata": {},
   "source": [
    "**Пользователям тарифа Ultra среднемесячно требуется 511 минут исходящих вызовов, 18 Гб интернета, 43-44 смски**"
   ]
  },
  {
   "cell_type": "markdown",
   "metadata": {},
   "source": [
    "Стандартное отклонение и дисперсия для среднемесячных показателей:"
   ]
  },
  {
   "cell_type": "code",
   "execution_count": 64,
   "metadata": {},
   "outputs": [
    {
     "name": "stdout",
     "output_type": "stream",
     "text": [
      "Стандартное отклонение (звонки): 77.45007182218454\n",
      "Дисперсия (звонки): 5998.513625261544\n",
      "Стандартное отклонение (Гб интернета): 2.921532788081398\n",
      "Дисперсия (Гб интернета): 8.535353831834666\n",
      "Стандартное отклонение (смски): 12.320470269273553\n",
      "Дисперсия (смски): 151.79398765605353\n"
     ]
    }
   ],
   "source": [
    "print('Стандартное отклонение (звонки):', ultra_users_pivot['duration_sum'].describe()['std'])\n",
    "print('Дисперсия (звонки):', ultra_users_pivot['duration_sum'].describe()['std']**2)\n",
    "print('Стандартное отклонение (Гб интернета):', ultra_users_pivot['mb_used'].describe()['std'])\n",
    "print('Дисперсия (Гб интернета):', ultra_users_pivot['mb_used'].describe()['std']**2)\n",
    "print('Стандартное отклонение (смски):', ultra_users_pivot['messages_count'].describe()['std'])\n",
    "print('Дисперсия (смски):', ultra_users_pivot['messages_count'].describe()['std']**2)"
   ]
  },
  {
   "cell_type": "markdown",
   "metadata": {},
   "source": [
    "Стандартное отклонение и дисперсия для всей выборки тарифа Ультра:"
   ]
  },
  {
   "cell_type": "code",
   "execution_count": 65,
   "metadata": {},
   "outputs": [
    {
     "name": "stdout",
     "output_type": "stream",
     "text": [
      "Стандартное отклонение (звонки): 317.8875485911392\n",
      "Дисперсия (звонки): 101052.49354928388\n",
      "Стандартное отклонение (Гб интернета): 9.868056763624352\n",
      "Дисперсия (Гб интернета): 97.37854429011233\n",
      "Стандартное отклонение (смски): 47.80603962530092\n",
      "Дисперсия (смски): 2285.4174246558414\n"
     ]
    }
   ],
   "source": [
    "print('Стандартное отклонение (звонки):', ultra_users['duration_sum'].describe()['std'])\n",
    "print('Дисперсия (звонки):', ultra_users['duration_sum'].describe()['std']**2)\n",
    "print('Стандартное отклонение (Гб интернета):', ultra_users['mb_used'].describe()['std'])\n",
    "print('Дисперсия (Гб интернета):', ultra_users['mb_used'].describe()['std']**2)\n",
    "print('Стандартное отклонение (смски):', ultra_users['messages_count'].describe()['std'])\n",
    "print('Дисперсия (смски):', ultra_users['messages_count'].describe()['std']**2)"
   ]
  },
  {
   "cell_type": "markdown",
   "metadata": {},
   "source": [
    "Построим графики распределения значений использования услуг Мегалайна для абонентов двух тарифов. Для визуализации используем исходные выборки."
   ]
  },
  {
   "cell_type": "code",
   "execution_count": 66,
   "metadata": {},
   "outputs": [
    {
     "data": {
      "image/png": "[encoded data removed]",
      "text/plain": [
       "<Figure size 432x288 with 1 Axes>"
      ]
     },
     "metadata": {
      "needs_background": "light"
     },
     "output_type": "display_data"
    }
   ],
   "source": [
    "ax = smart_users.plot(\n",
    "    kind='hist',\n",
    "    y='duration_sum',\n",
    "    histtype='step',\n",
    "    range=(0, 3000),\n",
    "    bins=50,\n",
    "    linewidth=5,\n",
    "    alpha=0.7,\n",
    "    label='смарт',\n",
    "    density=True\n",
    ")\n",
    "ultra_users.plot(\n",
    "    kind='hist',\n",
    "    y='duration_sum',\n",
    "    histtype='step',\n",
    "    range=(0, 3000),\n",
    "    bins=50,\n",
    "    linewidth=5,\n",
    "    alpha=0.7,\n",
    "    label='ультра',\n",
    "    ax=ax,\n",
    "    grid=True,\n",
    "    legend=True,\n",
    "    density=True\n",
    ")\n",
    "plt.title('Продолжительность звонков')\n",
    "plt.show()"
   ]
  },
  {
   "cell_type": "markdown",
   "metadata": {},
   "source": [
    "<div class=\"alert alert-info\">\n",
    "    \n",
    "благодарю, так намного лучше выглядит!)\n",
    "</div>"
   ]
  },
  {
   "cell_type": "markdown",
   "metadata": {},
   "source": [
    "Пользователи тарифа Смарт:\n",
    "- большинство пользователей укладываются в отведенный лимит 500 мину, но достаточное количество пользователей совершает звонки продолжительностью в два раза выше лимита.\n",
    "- есть небольшой сегмент пользователей, которые вообще не совершают исходящих звонков;\n",
    "- распределение можно назвать нормальным."
   ]
  },
  {
   "cell_type": "markdown",
   "metadata": {},
   "source": [
    "Пользователи тарифа Ультра:\n",
    "- Распределение скошено вправо;\n",
    "- Подавляющее большинство пользователей не выговариваеют отведенный лимит в 3000 минут;\n",
    "- Довольно высок сегмент пользователей, который вообще не используют сотовую связь!\n",
    "- Самое большое количество абооненотов разговаривают на уровне 250 - 750 минут."
   ]
  },
  {
   "cell_type": "code",
   "execution_count": 67,
   "metadata": {},
   "outputs": [
    {
     "data": {
      "image/png": "[encoded data removed]",
      "text/plain": [
       "<Figure size 432x288 with 1 Axes>"
      ]
     },
     "metadata": {
      "needs_background": "light"
     },
     "output_type": "display_data"
    }
   ],
   "source": [
    "ax = smart_users.plot(\n",
    "    kind='hist',\n",
    "    y='mb_used',\n",
    "    histtype='step',\n",
    "    range=(0, 200),\n",
    "    bins=50,\n",
    "    linewidth=5,\n",
    "    alpha=0.7,\n",
    "    label='смарт',\n",
    "    density=True\n",
    ")\n",
    "ultra_users.plot(\n",
    "    kind='hist',\n",
    "    y='mb_used',\n",
    "    histtype='step',\n",
    "    range=(0, 200),\n",
    "    bins=50,\n",
    "    linewidth=5,\n",
    "    alpha=0.7,\n",
    "    label='ультра',\n",
    "    ax=ax,\n",
    "    grid=True,\n",
    "    legend=True,\n",
    "    density=True\n",
    ")\n",
    "plt.title('Гб Интернета')\n",
    "plt.show()"
   ]
  },
  {
   "cell_type": "markdown",
   "metadata": {},
   "source": [
    "Пользователи тарифа Смарт:\n",
    "- Самое большое количество пользователей расходуют в месяц от 17-19 Гб интернета;\n",
    "- В отведенный тарифом лимит в 15 Гб укладывается меньшая часть абонентов;\n",
    "- Данные распределены нормально."
   ]
  },
  {
   "cell_type": "markdown",
   "metadata": {},
   "source": [
    "Пользователи тарифа Ультра:\n",
    "- Распределение снова скошено вправо;\n",
    "- некоторая часть пользователей вообще не использует мобильный интернет;\n",
    "- Большинство из выборки не превышает установленный лимит в 30 Гб.  \n",
    "- После 45 Гб хвост уже стремится к 0."
   ]
  },
  {
   "cell_type": "code",
   "execution_count": 68,
   "metadata": {},
   "outputs": [
    {
     "data": {
      "image/png": "[encoded data removed]",
      "text/plain": [
       "<Figure size 432x288 with 1 Axes>"
      ]
     },
     "metadata": {
      "needs_background": "light"
     },
     "output_type": "display_data"
    }
   ],
   "source": [
    "ax = smart_users.plot(\n",
    "    kind='hist',\n",
    "    y='messages_count',\n",
    "    histtype='step',\n",
    "    range=(0, 1500),\n",
    "    bins=50,\n",
    "    linewidth=5,\n",
    "    alpha=0.7,\n",
    "    label='смарт',\n",
    ")\n",
    "ultra_users.plot(\n",
    "    kind='hist',\n",
    "    y='messages_count',\n",
    "    histtype='step',\n",
    "    range=(0, 1500),\n",
    "    bins=50,\n",
    "    linewidth=5,\n",
    "    alpha=0.7,\n",
    "    label='ультра',\n",
    "    ax=ax,\n",
    "    grid=True,\n",
    "    legend=True,\n",
    ")\n",
    "plt.title('Отправленные сообщения')\n",
    "plt.show()"
   ]
  },
  {
   "cell_type": "markdown",
   "metadata": {},
   "source": [
    "Пользователи тарифа Смарт:\n",
    "- Распределение уже нельзя назвать нормальным, так как огромное количество пользователей ввобще не используют услугу (время месседжеров);\n",
    "- Большая часть пользователей укладывается в отведенный тарифом лимит 50 сообщений;\n",
    "- некоторое количество пользователей отправляют от 50 до 100 смс;\n",
    "- совсем уникальные абоненты создают до 150 смс."
   ]
  },
  {
   "cell_type": "markdown",
   "metadata": {},
   "source": [
    "Пользователи тарифа Ультра:\n",
    "- Распределение подобно распределению тарифа Смарт;\n",
    "- Максимальное количество смс немного больше;\n",
    "- После 200 сообщений хвост уже приближается к 0."
   ]
  },
  {
   "cell_type": "markdown",
   "metadata": {},
   "source": [
    "### Вывод"
   ]
  },
  {
   "cell_type": "markdown",
   "metadata": {},
   "source": [
    "Заключительные выводы, исходящие из произведенного анализа таковы:\n",
    "Распределения данных в двух совокупностях пользователей нельзя назвать нормальными, есть выбросы-хвосты в данных, от которых в данном случае избавляться не будем, так как при этом можно потерять цифры выручки, а именно с ней связаны поставленные задачи исследования;\n",
    "В основном, выручку компании составляют средства, полученные с превышения клиентами обоих тарифов лимита на мобильный интернет. В среднем, абонентам и \"смарта\" и \"ультра\" требуется  примерно одинаковое количество Гб интернета. Тариф ультра при этом приносит большую прибыль.\n",
    "Способ общения посредством смс уходит из повседневности, сотовая связь ещё остается востребованной, но уже выделяется сегмент абонентов, не использующих ее даже при условии включенных в ежемесячный тариф минут.\n"
   ]
  },
  {
   "cell_type": "markdown",
   "metadata": {},
   "source": [
    "## Проверка гипотез\n",
    "Проверить гипотезы:\n",
    "- средняя выручка пользователей тарифов «Ультра» и «Смарт» различаются;\n",
    "- средняя выручка пользователи из Москвы отличается от выручки пользователей из других регионов.\n",
    "Ответить на вопросы:\n",
    "- как вы сформулированы нулевая и альтернативная гипотезы;\n",
    "- какой критерий использован для проверки гипотез и почему."
   ]
  },
  {
   "cell_type": "markdown",
   "metadata": {},
   "source": [
    "**№1 Средняя выручка пользователей тарифов «Ультра» и «Смарт» различаются**"
   ]
  },
  {
   "cell_type": "markdown",
   "metadata": {},
   "source": [
    "Для расчетов будем использовать созданные две совокупности пользователей smart_users и ultra_users. За Н0 (нулевую гипотезу) примем утверждение, что \"выручка от абонентов двух тарифов одинакова\". Альтернативная гипотеза: \"выручка от абонентов двух тарифов отличается\".   Проверять  будем с помощью т-теста метода scipy.stats.ttest_ind (так как наши совокупности пользователей не взаимозависимы)"
   ]
  },
  {
   "cell_type": "code",
   "execution_count": 69,
   "metadata": {},
   "outputs": [
    {
     "name": "stdout",
     "output_type": "stream",
     "text": [
      "Дисперсия по критерию выручки смарт: 669730.763894807\n",
      "Дисперсия по критерию выручки ультра: 141387.7148093615\n"
     ]
    }
   ],
   "source": [
    "print('Дисперсия по критерию выручки смарт:', smart_users['revenue'].describe()['std']**2)\n",
    "print('Дисперсия по критерию выручки ультра:', ultra_users['revenue'].describe()['std']**2)"
   ]
  },
  {
   "cell_type": "code",
   "execution_count": 70,
   "metadata": {},
   "outputs": [
    {
     "name": "stdout",
     "output_type": "stream",
     "text": [
      "p-значение: 1.9270113944209404e-250\n",
      "Отвергаем нулевую гипотезу\n"
     ]
    }
   ],
   "source": [
    "smart = smart_users['revenue']\n",
    "ultra = ultra_users['revenue']\n",
    "#за критический уровень статистической значимости принимаем .05\n",
    "alpha = .05\n",
    "results = st.ttest_ind(\n",
    "    smart, \n",
    "    ultra, equal_var = False)\n",
    "\n",
    "print('p-значение:', results.pvalue)\n",
    "\n",
    "if (results.pvalue < alpha):\n",
    "    print(\"Отвергаем нулевую гипотезу\")\n",
    "else:\n",
    "    print(\"Не получилось отвергнуть нулевую гипотезу\")"
   ]
  },
  {
   "cell_type": "markdown",
   "metadata": {},
   "source": [
    "Старый вывод: Что и требовалось доказать, нулевая гипотеза неверна. Выручки от двух тарифов, действительно, отличны. И отличны они так, что выручка от тарифа смарт больше выручки от тарифа ультра. В самом конце пункта 2 представлена таблица, демонстрирующая, что выручка от абонентов тарифа Смарт превышает выручку тарифа:\n"
   ]
  },
  {
   "cell_type": "code",
   "execution_count": 71,
   "metadata": {},
   "outputs": [
    {
     "data": {
      "text/html": [
       "<div>\n",
       "<style scoped>\n",
       "    .dataframe tbody tr th:only-of-type {\n",
       "        vertical-align: middle;\n",
       "    }\n",
       "\n",
       "    .dataframe tbody tr th {\n",
       "        vertical-align: top;\n",
       "    }\n",
       "\n",
       "    .dataframe thead th {\n",
       "        text-align: right;\n",
       "    }\n",
       "</style>\n",
       "<table border=\"1\" class=\"dataframe\">\n",
       "  <thead>\n",
       "    <tr style=\"text-align: right;\">\n",
       "      <th></th>\n",
       "      <th>revenue</th>\n",
       "    </tr>\n",
       "    <tr>\n",
       "      <th>tariff</th>\n",
       "      <th></th>\n",
       "    </tr>\n",
       "  </thead>\n",
       "  <tbody>\n",
       "    <tr>\n",
       "      <th>smart</th>\n",
       "      <td>1289.641704</td>\n",
       "    </tr>\n",
       "    <tr>\n",
       "      <th>ultra</th>\n",
       "      <td>2070.030426</td>\n",
       "    </tr>\n",
       "  </tbody>\n",
       "</table>\n",
       "</div>"
      ],
      "text/plain": [
       "            revenue\n",
       "tariff             \n",
       "smart   1289.641704\n",
       "ultra   2070.030426"
      ]
     },
     "execution_count": 71,
     "metadata": {},
     "output_type": "execute_result"
    }
   ],
   "source": [
    "#средняя выручка по всем услугам по тарифу:\n",
    "revenue_pivot_mean = df_full.pivot_table(index = 'tariff', values = ['revenue'], aggfunc = 'mean')\n",
    "revenue_pivot_mean"
   ]
  },
  {
   "cell_type": "markdown",
   "metadata": {},
   "source": [
    "Средняя выручка  от абонентов тарифа ультра превышает выручки от абонентов смарта!!"
   ]
  },
  {
   "cell_type": "markdown",
   "metadata": {},
   "source": [
    "Понадобятся две новые выборки по принадлежности к региону: moscow и other"
   ]
  },
  {
   "cell_type": "code",
   "execution_count": 72,
   "metadata": {},
   "outputs": [],
   "source": [
    "moscow = df_full.query('city == \"Москва\"')\n",
    "other = df_full.query('city != \"Москва\"')"
   ]
  },
  {
   "cell_type": "markdown",
   "metadata": {},
   "source": [
    "Нулевая гипотеза будет звучать как \"Выручка от совокупности московских абонентов и немосковских, взятых в целом, приближенно равны\", альтернативная - \"Выручка от совокупности московских абонентов и немосковских, взятых в целом, отличны\""
   ]
  },
  {
   "cell_type": "code",
   "execution_count": 73,
   "metadata": {},
   "outputs": [
    {
     "name": "stdout",
     "output_type": "stream",
     "text": [
      "p-значение: 0.5216952110000286\n",
      "Не получилось отвергнуть нулевую гипотезу\n"
     ]
    }
   ],
   "source": [
    "moscow_revenue = moscow['revenue']\n",
    "other_revenue = other['revenue']\n",
    "#за критический уровень статистической значимости принимаем .05\n",
    "alpha = .05\n",
    "results = st.ttest_ind(\n",
    "    moscow_revenue, \n",
    "    other_revenue, equal_var = False)\n",
    "\n",
    "print('p-значение:', results.pvalue)\n",
    "\n",
    "if (results.pvalue < alpha):\n",
    "    print(\"Отвергаем нулевую гипотезу\")\n",
    "else:\n",
    "    print(\"Не получилось отвергнуть нулевую гипотезу\")"
   ]
  },
  {
   "cell_type": "markdown",
   "metadata": {},
   "source": [
    "Расходы только столичных абонентов делают примерно такую же выручку, как абоненты всей остальной страны, взятые вместе. "
   ]
  },
  {
   "cell_type": "code",
   "execution_count": 74,
   "metadata": {},
   "outputs": [
    {
     "name": "stdout",
     "output_type": "stream",
     "text": [
      "Среднее выручки за 2018 год от московских абонентов: 1546.7135842880523\n",
      "Среднее выручки год от абонентов из остальных регионов: 1524.7251439539348\n"
     ]
    }
   ],
   "source": [
    "print('Среднее выручки за 2018 год от московских абонентов:', moscow['revenue'].mean())\n",
    "print('Среднее выручки год от абонентов из остальных регионов:',other['revenue'].mean())"
   ]
  },
  {
   "cell_type": "markdown",
   "metadata": {},
   "source": [
    "### Вывод"
   ]
  },
  {
   "cell_type": "markdown",
   "metadata": {},
   "source": [
    "Статистический тест позволил ответить на поставленные исследованием вопросы:\n",
    "- определил, что средняя выручка от пользователей двух тарифов различается;\n",
    "- средняя выручка пользователи из Москвы почти не отличается от выручки пользователей из других регионов. "
   ]
  },
  {
   "cell_type": "markdown",
   "metadata": {},
   "source": [
    "##  Общий вывод"
   ]
  },
  {
   "cell_type": "markdown",
   "metadata": {},
   "source": [
    "Более прибыльными оказались абоненты тарифа Ультра. Московские абоненты приносят компании денег как все остальные регионы, взятые вместе. Мегалайну стот провести рекламные акции в Москве с целью привлечь большее количество пользователей на тариф Ультра. Чтобы смоделировать оптимальные условия перехода для компании и привлекательные для абонентов, нужно проводить специальное  тестирование.\n"
   ]
  }
 ],
 "metadata": {
  "ExecuteTimeLog": [
   {
    "duration": 1425,
    "start_time": "2022-02-08T16:23:36.025Z"
   },
   {
    "duration": 422,
    "start_time": "2022-02-08T16:44:24.571Z"
   },
   {
    "duration": 6,
    "start_time": "2022-02-08T16:44:47.710Z"
   },
   {
    "duration": 5,
    "start_time": "2022-02-08T16:46:15.715Z"
   },
   {
    "duration": 6,
    "start_time": "2022-02-08T16:46:24.468Z"
   },
   {
    "duration": 15,
    "start_time": "2022-02-08T16:50:23.212Z"
   },
   {
    "duration": 407,
    "start_time": "2022-02-08T16:50:58.607Z"
   },
   {
    "duration": 12,
    "start_time": "2022-02-08T16:51:01.333Z"
   },
   {
    "duration": 11,
    "start_time": "2022-02-08T16:51:10.597Z"
   },
   {
    "duration": 12,
    "start_time": "2022-02-08T17:01:38.945Z"
   },
   {
    "duration": 16,
    "start_time": "2022-02-08T17:01:45.074Z"
   },
   {
    "duration": 360,
    "start_time": "2022-02-08T17:12:27.848Z"
   },
   {
    "duration": 5,
    "start_time": "2022-02-08T17:13:17.752Z"
   },
   {
    "duration": 5,
    "start_time": "2022-02-08T17:13:20.924Z"
   },
   {
    "duration": 369,
    "start_time": "2022-02-08T17:16:05.366Z"
   },
   {
    "duration": 6942,
    "start_time": "2022-02-08T17:16:26.400Z"
   },
   {
    "duration": 8745,
    "start_time": "2022-02-08T17:16:53.147Z"
   },
   {
    "duration": 283,
    "start_time": "2022-02-08T17:17:20.409Z"
   },
   {
    "duration": 1717,
    "start_time": "2022-02-08T17:17:40.627Z"
   },
   {
    "duration": 5,
    "start_time": "2022-02-08T17:19:42.552Z"
   },
   {
    "duration": 29,
    "start_time": "2022-02-08T17:43:35.193Z"
   },
   {
    "duration": 5,
    "start_time": "2022-02-08T17:48:04.684Z"
   },
   {
    "duration": 28,
    "start_time": "2022-02-08T18:01:36.305Z"
   },
   {
    "duration": 28,
    "start_time": "2022-02-08T18:01:38.070Z"
   },
   {
    "duration": 6,
    "start_time": "2022-02-08T18:02:46.226Z"
   },
   {
    "duration": 315,
    "start_time": "2022-02-09T06:42:27.094Z"
   },
   {
    "duration": 1082,
    "start_time": "2022-02-09T06:42:38.892Z"
   },
   {
    "duration": 354,
    "start_time": "2022-02-09T06:42:39.975Z"
   },
   {
    "duration": 17,
    "start_time": "2022-02-09T06:42:40.331Z"
   },
   {
    "duration": 5,
    "start_time": "2022-02-09T06:42:40.350Z"
   },
   {
    "duration": 7,
    "start_time": "2022-02-09T06:42:40.357Z"
   },
   {
    "duration": 7,
    "start_time": "2022-02-09T06:42:40.365Z"
   },
   {
    "duration": 29,
    "start_time": "2022-02-09T06:42:40.374Z"
   },
   {
    "duration": 7,
    "start_time": "2022-02-09T06:42:40.404Z"
   },
   {
    "duration": 6635,
    "start_time": "2022-02-09T06:45:17.210Z"
   },
   {
    "duration": 28,
    "start_time": "2022-02-09T06:45:56.650Z"
   },
   {
    "duration": 296,
    "start_time": "2022-02-09T06:50:08.962Z"
   },
   {
    "duration": 280,
    "start_time": "2022-02-09T06:50:31.159Z"
   },
   {
    "duration": 21,
    "start_time": "2022-02-09T06:50:51.016Z"
   },
   {
    "duration": 20,
    "start_time": "2022-02-09T07:04:10.613Z"
   },
   {
    "duration": 18,
    "start_time": "2022-02-09T07:08:13.601Z"
   },
   {
    "duration": 14,
    "start_time": "2022-02-09T07:11:23.909Z"
   },
   {
    "duration": 24,
    "start_time": "2022-02-09T07:16:10.823Z"
   },
   {
    "duration": 6,
    "start_time": "2022-02-09T07:22:33.342Z"
   },
   {
    "duration": 21,
    "start_time": "2022-02-09T07:26:32.223Z"
   },
   {
    "duration": 17,
    "start_time": "2022-02-09T07:27:18.175Z"
   },
   {
    "duration": 27,
    "start_time": "2022-02-09T07:40:11.081Z"
   },
   {
    "duration": 1162,
    "start_time": "2022-02-09T07:40:47.819Z"
   },
   {
    "duration": 8,
    "start_time": "2022-02-09T07:41:27.462Z"
   },
   {
    "duration": 8,
    "start_time": "2022-02-09T07:41:57.027Z"
   },
   {
    "duration": 83,
    "start_time": "2022-02-09T07:51:55.832Z"
   },
   {
    "duration": 275,
    "start_time": "2022-02-09T07:52:37.783Z"
   },
   {
    "duration": 52,
    "start_time": "2022-02-09T07:55:34.930Z"
   },
   {
    "duration": 12,
    "start_time": "2022-02-09T07:56:15.505Z"
   },
   {
    "duration": 133,
    "start_time": "2022-02-09T08:02:46.538Z"
   },
   {
    "duration": 287,
    "start_time": "2022-02-09T08:03:09.340Z"
   },
   {
    "duration": 292,
    "start_time": "2022-02-09T08:03:24.604Z"
   },
   {
    "duration": 1127,
    "start_time": "2022-02-09T08:06:00.009Z"
   },
   {
    "duration": 396,
    "start_time": "2022-02-09T08:06:01.138Z"
   },
   {
    "duration": 22,
    "start_time": "2022-02-09T08:06:01.536Z"
   },
   {
    "duration": 5,
    "start_time": "2022-02-09T08:06:01.560Z"
   },
   {
    "duration": 11,
    "start_time": "2022-02-09T08:06:01.567Z"
   },
   {
    "duration": 12,
    "start_time": "2022-02-09T08:06:01.580Z"
   },
   {
    "duration": 31,
    "start_time": "2022-02-09T08:06:01.593Z"
   },
   {
    "duration": 5,
    "start_time": "2022-02-09T08:06:01.627Z"
   },
   {
    "duration": 60,
    "start_time": "2022-02-09T08:06:01.634Z"
   },
   {
    "duration": 25,
    "start_time": "2022-02-09T08:06:01.699Z"
   },
   {
    "duration": 14,
    "start_time": "2022-02-09T08:06:01.726Z"
   },
   {
    "duration": 50,
    "start_time": "2022-02-09T08:06:01.741Z"
   },
   {
    "duration": 24,
    "start_time": "2022-02-09T08:06:01.793Z"
   },
   {
    "duration": 13,
    "start_time": "2022-02-09T08:06:01.819Z"
   },
   {
    "duration": 62,
    "start_time": "2022-02-09T08:06:01.834Z"
   },
   {
    "duration": 21,
    "start_time": "2022-02-09T08:06:01.897Z"
   },
   {
    "duration": 15,
    "start_time": "2022-02-09T08:06:01.920Z"
   },
   {
    "duration": 5,
    "start_time": "2022-02-09T08:06:01.937Z"
   },
   {
    "duration": 29,
    "start_time": "2022-02-09T08:06:01.944Z"
   },
   {
    "duration": 92,
    "start_time": "2022-02-09T08:06:01.975Z"
   },
   {
    "duration": 1697,
    "start_time": "2022-02-09T08:06:00.372Z"
   },
   {
    "duration": 1683,
    "start_time": "2022-02-09T08:06:00.387Z"
   },
   {
    "duration": 360,
    "start_time": "2022-02-09T08:06:32.411Z"
   },
   {
    "duration": 549,
    "start_time": "2022-02-09T08:08:05.165Z"
   },
   {
    "duration": 1030,
    "start_time": "2022-02-09T08:08:24.535Z"
   },
   {
    "duration": 385,
    "start_time": "2022-02-09T08:08:25.567Z"
   },
   {
    "duration": 19,
    "start_time": "2022-02-09T08:08:25.954Z"
   },
   {
    "duration": 5,
    "start_time": "2022-02-09T08:08:25.975Z"
   },
   {
    "duration": 6,
    "start_time": "2022-02-09T08:08:25.982Z"
   },
   {
    "duration": 7,
    "start_time": "2022-02-09T08:08:25.990Z"
   },
   {
    "duration": 37,
    "start_time": "2022-02-09T08:08:25.999Z"
   },
   {
    "duration": 6,
    "start_time": "2022-02-09T08:08:26.038Z"
   },
   {
    "duration": 55,
    "start_time": "2022-02-09T08:08:26.045Z"
   },
   {
    "duration": 21,
    "start_time": "2022-02-09T08:08:26.102Z"
   },
   {
    "duration": 12,
    "start_time": "2022-02-09T08:08:26.125Z"
   },
   {
    "duration": 37,
    "start_time": "2022-02-09T08:08:26.139Z"
   },
   {
    "duration": 16,
    "start_time": "2022-02-09T08:08:26.177Z"
   },
   {
    "duration": 13,
    "start_time": "2022-02-09T08:08:26.194Z"
   },
   {
    "duration": 24,
    "start_time": "2022-02-09T08:08:26.208Z"
   },
   {
    "duration": 43,
    "start_time": "2022-02-09T08:08:26.234Z"
   },
   {
    "duration": 15,
    "start_time": "2022-02-09T08:08:26.278Z"
   },
   {
    "duration": 5,
    "start_time": "2022-02-09T08:08:26.295Z"
   },
   {
    "duration": 9,
    "start_time": "2022-02-09T08:08:26.301Z"
   },
   {
    "duration": 409,
    "start_time": "2022-02-09T08:08:26.311Z"
   },
   {
    "duration": 1680,
    "start_time": "2022-02-09T08:08:25.042Z"
   },
   {
    "duration": 1672,
    "start_time": "2022-02-09T08:08:25.051Z"
   },
   {
    "duration": 61,
    "start_time": "2022-02-09T08:09:03.568Z"
   },
   {
    "duration": 1448,
    "start_time": "2022-02-09T11:57:43.432Z"
   },
   {
    "duration": 577,
    "start_time": "2022-02-09T11:57:44.883Z"
   },
   {
    "duration": 30,
    "start_time": "2022-02-09T11:57:45.463Z"
   },
   {
    "duration": 9,
    "start_time": "2022-02-09T11:57:45.495Z"
   },
   {
    "duration": 22,
    "start_time": "2022-02-09T11:57:45.506Z"
   },
   {
    "duration": 29,
    "start_time": "2022-02-09T11:57:45.530Z"
   },
   {
    "duration": 58,
    "start_time": "2022-02-09T11:57:45.560Z"
   },
   {
    "duration": 8,
    "start_time": "2022-02-09T11:57:45.621Z"
   },
   {
    "duration": 59,
    "start_time": "2022-02-09T11:57:45.632Z"
   },
   {
    "duration": 28,
    "start_time": "2022-02-09T11:57:45.693Z"
   },
   {
    "duration": 19,
    "start_time": "2022-02-09T11:57:45.723Z"
   },
   {
    "duration": 53,
    "start_time": "2022-02-09T11:57:45.744Z"
   },
   {
    "duration": 28,
    "start_time": "2022-02-09T11:57:45.800Z"
   },
   {
    "duration": 19,
    "start_time": "2022-02-09T11:57:45.831Z"
   },
   {
    "duration": 27,
    "start_time": "2022-02-09T11:57:45.852Z"
   },
   {
    "duration": 46,
    "start_time": "2022-02-09T11:57:45.881Z"
   },
   {
    "duration": 54,
    "start_time": "2022-02-09T11:57:45.929Z"
   },
   {
    "duration": 22,
    "start_time": "2022-02-09T11:57:45.985Z"
   },
   {
    "duration": 17,
    "start_time": "2022-02-09T11:57:46.009Z"
   },
   {
    "duration": 8,
    "start_time": "2022-02-09T11:57:46.028Z"
   },
   {
    "duration": 34,
    "start_time": "2022-02-09T11:57:46.038Z"
   },
   {
    "duration": 88,
    "start_time": "2022-02-09T11:57:46.074Z"
   },
   {
    "duration": 17,
    "start_time": "2022-02-09T11:57:46.174Z"
   },
   {
    "duration": 1934,
    "start_time": "2022-02-09T11:57:46.193Z"
   },
   {
    "duration": 51,
    "start_time": "2022-02-09T12:02:47.785Z"
   },
   {
    "duration": 76,
    "start_time": "2022-02-09T12:09:11.766Z"
   },
   {
    "duration": 51,
    "start_time": "2022-02-09T12:09:37.201Z"
   },
   {
    "duration": 29,
    "start_time": "2022-02-09T12:10:19.993Z"
   },
   {
    "duration": 1049,
    "start_time": "2022-02-09T12:59:41.309Z"
   },
   {
    "duration": 370,
    "start_time": "2022-02-09T12:59:42.359Z"
   },
   {
    "duration": 17,
    "start_time": "2022-02-09T12:59:42.731Z"
   },
   {
    "duration": 6,
    "start_time": "2022-02-09T12:59:42.750Z"
   },
   {
    "duration": 5,
    "start_time": "2022-02-09T12:59:42.757Z"
   },
   {
    "duration": 8,
    "start_time": "2022-02-09T12:59:42.764Z"
   },
   {
    "duration": 29,
    "start_time": "2022-02-09T12:59:42.774Z"
   },
   {
    "duration": 5,
    "start_time": "2022-02-09T12:59:42.805Z"
   },
   {
    "duration": 28,
    "start_time": "2022-02-09T12:59:42.812Z"
   },
   {
    "duration": 42,
    "start_time": "2022-02-09T12:59:42.842Z"
   },
   {
    "duration": 12,
    "start_time": "2022-02-09T12:59:42.886Z"
   },
   {
    "duration": 20,
    "start_time": "2022-02-09T12:59:42.900Z"
   },
   {
    "duration": 15,
    "start_time": "2022-02-09T12:59:42.922Z"
   },
   {
    "duration": 37,
    "start_time": "2022-02-09T12:59:42.939Z"
   },
   {
    "duration": 7,
    "start_time": "2022-02-09T12:59:42.978Z"
   },
   {
    "duration": 25,
    "start_time": "2022-02-09T12:59:42.987Z"
   },
   {
    "duration": 19,
    "start_time": "2022-02-09T12:59:43.013Z"
   },
   {
    "duration": 41,
    "start_time": "2022-02-09T12:59:43.034Z"
   },
   {
    "duration": 13,
    "start_time": "2022-02-09T12:59:43.077Z"
   },
   {
    "duration": 6,
    "start_time": "2022-02-09T12:59:43.091Z"
   },
   {
    "duration": 10,
    "start_time": "2022-02-09T12:59:43.099Z"
   },
   {
    "duration": 96,
    "start_time": "2022-02-09T12:59:43.110Z"
   },
   {
    "duration": 12,
    "start_time": "2022-02-09T12:59:43.209Z"
   },
   {
    "duration": 1456,
    "start_time": "2022-02-09T12:59:43.223Z"
   },
   {
    "duration": 26,
    "start_time": "2022-02-09T12:59:44.681Z"
   },
   {
    "duration": 343,
    "start_time": "2022-02-09T13:02:21.490Z"
   },
   {
    "duration": 8,
    "start_time": "2022-02-09T13:02:44.004Z"
   },
   {
    "duration": 105,
    "start_time": "2022-02-09T13:04:34.419Z"
   },
   {
    "duration": 5,
    "start_time": "2022-02-09T13:04:47.438Z"
   },
   {
    "duration": 8,
    "start_time": "2022-02-09T13:05:07.475Z"
   },
   {
    "duration": 6,
    "start_time": "2022-02-09T13:05:40.656Z"
   },
   {
    "duration": 5,
    "start_time": "2022-02-09T13:05:48.823Z"
   },
   {
    "duration": 7,
    "start_time": "2022-02-09T13:05:51.390Z"
   },
   {
    "duration": 12,
    "start_time": "2022-02-09T13:06:55.737Z"
   },
   {
    "duration": 7,
    "start_time": "2022-02-09T13:07:08.142Z"
   },
   {
    "duration": 513,
    "start_time": "2022-02-09T13:10:05.927Z"
   },
   {
    "duration": 3,
    "start_time": "2022-02-09T13:14:52.180Z"
   },
   {
    "duration": 10,
    "start_time": "2022-02-09T13:15:49.414Z"
   },
   {
    "duration": 987,
    "start_time": "2022-02-09T13:20:07.733Z"
   },
   {
    "duration": 1117,
    "start_time": "2022-02-09T13:22:34.245Z"
   },
   {
    "duration": 365,
    "start_time": "2022-02-09T13:22:35.363Z"
   },
   {
    "duration": 17,
    "start_time": "2022-02-09T13:22:35.730Z"
   },
   {
    "duration": 5,
    "start_time": "2022-02-09T13:22:35.749Z"
   },
   {
    "duration": 5,
    "start_time": "2022-02-09T13:22:35.756Z"
   },
   {
    "duration": 10,
    "start_time": "2022-02-09T13:22:35.763Z"
   },
   {
    "duration": 30,
    "start_time": "2022-02-09T13:22:35.775Z"
   },
   {
    "duration": 7,
    "start_time": "2022-02-09T13:22:35.807Z"
   },
   {
    "duration": 29,
    "start_time": "2022-02-09T13:22:35.816Z"
   },
   {
    "duration": 41,
    "start_time": "2022-02-09T13:22:35.847Z"
   },
   {
    "duration": 11,
    "start_time": "2022-02-09T13:22:35.890Z"
   },
   {
    "duration": 20,
    "start_time": "2022-02-09T13:22:35.902Z"
   },
   {
    "duration": 15,
    "start_time": "2022-02-09T13:22:35.924Z"
   },
   {
    "duration": 38,
    "start_time": "2022-02-09T13:22:35.940Z"
   },
   {
    "duration": 28,
    "start_time": "2022-02-09T13:22:35.980Z"
   },
   {
    "duration": 21,
    "start_time": "2022-02-09T13:22:36.009Z"
   },
   {
    "duration": 40,
    "start_time": "2022-02-09T13:22:36.032Z"
   },
   {
    "duration": 13,
    "start_time": "2022-02-09T13:22:36.073Z"
   },
   {
    "duration": 6,
    "start_time": "2022-02-09T13:22:36.088Z"
   },
   {
    "duration": 8,
    "start_time": "2022-02-09T13:22:36.096Z"
   },
   {
    "duration": 71,
    "start_time": "2022-02-09T13:22:36.106Z"
   },
   {
    "duration": 10,
    "start_time": "2022-02-09T13:22:36.179Z"
   },
   {
    "duration": 304,
    "start_time": "2022-02-09T13:22:36.191Z"
   },
   {
    "duration": 23,
    "start_time": "2022-02-09T13:22:36.496Z"
   },
   {
    "duration": 298,
    "start_time": "2022-02-09T13:22:46.961Z"
   },
   {
    "duration": 282,
    "start_time": "2022-02-09T13:23:35.171Z"
   },
   {
    "duration": 37,
    "start_time": "2022-02-09T13:23:54.651Z"
   },
   {
    "duration": 27,
    "start_time": "2022-02-09T13:24:03.932Z"
   },
   {
    "duration": 3,
    "start_time": "2022-02-09T13:26:13.811Z"
   },
   {
    "duration": 1045,
    "start_time": "2022-02-09T15:42:07.395Z"
   },
   {
    "duration": 358,
    "start_time": "2022-02-09T15:42:08.442Z"
   },
   {
    "duration": 19,
    "start_time": "2022-02-09T15:42:08.802Z"
   },
   {
    "duration": 6,
    "start_time": "2022-02-09T15:42:08.823Z"
   },
   {
    "duration": 9,
    "start_time": "2022-02-09T15:42:08.831Z"
   },
   {
    "duration": 12,
    "start_time": "2022-02-09T15:42:08.842Z"
   },
   {
    "duration": 26,
    "start_time": "2022-02-09T15:42:08.856Z"
   },
   {
    "duration": 5,
    "start_time": "2022-02-09T15:42:08.884Z"
   },
   {
    "duration": 53,
    "start_time": "2022-02-09T15:42:08.891Z"
   },
   {
    "duration": 24,
    "start_time": "2022-02-09T15:42:08.946Z"
   },
   {
    "duration": 10,
    "start_time": "2022-02-09T15:42:08.972Z"
   },
   {
    "duration": 19,
    "start_time": "2022-02-09T15:42:08.984Z"
   },
   {
    "duration": 43,
    "start_time": "2022-02-09T15:42:09.004Z"
   },
   {
    "duration": 13,
    "start_time": "2022-02-09T15:42:09.048Z"
   },
   {
    "duration": 25,
    "start_time": "2022-02-09T15:42:09.063Z"
   },
   {
    "duration": 39,
    "start_time": "2022-02-09T15:42:09.090Z"
   },
   {
    "duration": 16,
    "start_time": "2022-02-09T15:42:09.131Z"
   },
   {
    "duration": 12,
    "start_time": "2022-02-09T15:42:09.148Z"
   },
   {
    "duration": 7,
    "start_time": "2022-02-09T15:42:09.161Z"
   },
   {
    "duration": 16,
    "start_time": "2022-02-09T15:42:09.170Z"
   },
   {
    "duration": 96,
    "start_time": "2022-02-09T15:42:09.188Z"
   },
   {
    "duration": 8,
    "start_time": "2022-02-09T15:42:09.286Z"
   },
   {
    "duration": 40,
    "start_time": "2022-02-09T15:42:09.297Z"
   },
   {
    "duration": 3,
    "start_time": "2022-02-09T15:42:09.338Z"
   },
   {
    "duration": 25,
    "start_time": "2022-02-09T15:42:09.342Z"
   },
   {
    "duration": 21,
    "start_time": "2022-02-09T15:45:36.973Z"
   },
   {
    "duration": 25,
    "start_time": "2022-02-09T15:45:45.003Z"
   },
   {
    "duration": 5,
    "start_time": "2022-02-09T15:58:46.964Z"
   },
   {
    "duration": 1423,
    "start_time": "2022-02-09T15:59:15.191Z"
   },
   {
    "duration": 512,
    "start_time": "2022-02-09T15:59:16.616Z"
   },
   {
    "duration": 28,
    "start_time": "2022-02-09T15:59:17.130Z"
   },
   {
    "duration": 8,
    "start_time": "2022-02-09T15:59:17.160Z"
   },
   {
    "duration": 6,
    "start_time": "2022-02-09T15:59:17.170Z"
   },
   {
    "duration": 8,
    "start_time": "2022-02-09T15:59:17.177Z"
   },
   {
    "duration": 53,
    "start_time": "2022-02-09T15:59:17.186Z"
   },
   {
    "duration": 6,
    "start_time": "2022-02-09T15:59:17.242Z"
   },
   {
    "duration": 29,
    "start_time": "2022-02-09T15:59:17.250Z"
   },
   {
    "duration": 21,
    "start_time": "2022-02-09T15:59:17.280Z"
   },
   {
    "duration": 33,
    "start_time": "2022-02-09T15:59:17.303Z"
   },
   {
    "duration": 20,
    "start_time": "2022-02-09T15:59:17.337Z"
   },
   {
    "duration": 15,
    "start_time": "2022-02-09T15:59:17.359Z"
   },
   {
    "duration": 13,
    "start_time": "2022-02-09T15:59:17.376Z"
   },
   {
    "duration": 50,
    "start_time": "2022-02-09T15:59:17.391Z"
   },
   {
    "duration": 19,
    "start_time": "2022-02-09T15:59:17.443Z"
   },
   {
    "duration": 16,
    "start_time": "2022-02-09T15:59:17.463Z"
   },
   {
    "duration": 14,
    "start_time": "2022-02-09T15:59:17.480Z"
   },
   {
    "duration": 34,
    "start_time": "2022-02-09T15:59:17.496Z"
   },
   {
    "duration": 11,
    "start_time": "2022-02-09T15:59:17.532Z"
   },
   {
    "duration": 56,
    "start_time": "2022-02-09T15:59:17.545Z"
   },
   {
    "duration": 27,
    "start_time": "2022-02-09T15:59:17.603Z"
   },
   {
    "duration": 26,
    "start_time": "2022-02-09T15:59:17.634Z"
   },
   {
    "duration": 3,
    "start_time": "2022-02-09T15:59:17.661Z"
   },
   {
    "duration": 24,
    "start_time": "2022-02-09T15:59:17.665Z"
   },
   {
    "duration": 9,
    "start_time": "2022-02-09T16:00:50.414Z"
   },
   {
    "duration": 1076,
    "start_time": "2022-02-09T16:00:57.831Z"
   },
   {
    "duration": 371,
    "start_time": "2022-02-09T16:00:58.909Z"
   },
   {
    "duration": 21,
    "start_time": "2022-02-09T16:00:59.282Z"
   },
   {
    "duration": 5,
    "start_time": "2022-02-09T16:00:59.305Z"
   },
   {
    "duration": 9,
    "start_time": "2022-02-09T16:00:59.312Z"
   },
   {
    "duration": 11,
    "start_time": "2022-02-09T16:00:59.323Z"
   },
   {
    "duration": 34,
    "start_time": "2022-02-09T16:00:59.335Z"
   },
   {
    "duration": 5,
    "start_time": "2022-02-09T16:00:59.372Z"
   },
   {
    "duration": 29,
    "start_time": "2022-02-09T16:00:59.379Z"
   },
   {
    "duration": 29,
    "start_time": "2022-02-09T16:00:59.409Z"
   },
   {
    "duration": 13,
    "start_time": "2022-02-09T16:00:59.439Z"
   },
   {
    "duration": 20,
    "start_time": "2022-02-09T16:00:59.454Z"
   },
   {
    "duration": 24,
    "start_time": "2022-02-09T16:00:59.476Z"
   },
   {
    "duration": 41,
    "start_time": "2022-02-09T16:00:59.501Z"
   },
   {
    "duration": 40,
    "start_time": "2022-02-09T16:00:59.544Z"
   },
   {
    "duration": 48,
    "start_time": "2022-02-09T16:00:59.586Z"
   },
   {
    "duration": 16,
    "start_time": "2022-02-09T16:00:59.635Z"
   },
   {
    "duration": 14,
    "start_time": "2022-02-09T16:00:59.652Z"
   },
   {
    "duration": 8,
    "start_time": "2022-02-09T16:00:59.667Z"
   },
   {
    "duration": 8,
    "start_time": "2022-02-09T16:00:59.676Z"
   },
   {
    "duration": 10,
    "start_time": "2022-02-09T16:00:59.685Z"
   },
   {
    "duration": 99,
    "start_time": "2022-02-09T16:00:59.697Z"
   },
   {
    "duration": 13,
    "start_time": "2022-02-09T16:00:59.800Z"
   },
   {
    "duration": 41,
    "start_time": "2022-02-09T16:00:59.827Z"
   },
   {
    "duration": 3,
    "start_time": "2022-02-09T16:00:59.869Z"
   },
   {
    "duration": 26,
    "start_time": "2022-02-09T16:00:59.873Z"
   },
   {
    "duration": 6,
    "start_time": "2022-02-09T16:02:40.168Z"
   },
   {
    "duration": 1059,
    "start_time": "2022-02-09T16:02:55.172Z"
   },
   {
    "duration": 369,
    "start_time": "2022-02-09T16:02:56.235Z"
   },
   {
    "duration": 18,
    "start_time": "2022-02-09T16:02:56.606Z"
   },
   {
    "duration": 5,
    "start_time": "2022-02-09T16:02:56.626Z"
   },
   {
    "duration": 6,
    "start_time": "2022-02-09T16:02:56.633Z"
   },
   {
    "duration": 7,
    "start_time": "2022-02-09T16:02:56.641Z"
   },
   {
    "duration": 30,
    "start_time": "2022-02-09T16:02:56.650Z"
   },
   {
    "duration": 5,
    "start_time": "2022-02-09T16:02:56.682Z"
   },
   {
    "duration": 53,
    "start_time": "2022-02-09T16:02:56.689Z"
   },
   {
    "duration": 20,
    "start_time": "2022-02-09T16:02:56.743Z"
   },
   {
    "duration": 12,
    "start_time": "2022-02-09T16:02:56.765Z"
   },
   {
    "duration": 20,
    "start_time": "2022-02-09T16:02:56.778Z"
   },
   {
    "duration": 35,
    "start_time": "2022-02-09T16:02:56.800Z"
   },
   {
    "duration": 13,
    "start_time": "2022-02-09T16:02:56.837Z"
   },
   {
    "duration": 24,
    "start_time": "2022-02-09T16:02:56.851Z"
   },
   {
    "duration": 18,
    "start_time": "2022-02-09T16:02:56.877Z"
   },
   {
    "duration": 36,
    "start_time": "2022-02-09T16:02:56.896Z"
   },
   {
    "duration": 13,
    "start_time": "2022-02-09T16:02:56.933Z"
   },
   {
    "duration": 4,
    "start_time": "2022-02-09T16:02:56.948Z"
   },
   {
    "duration": 7,
    "start_time": "2022-02-09T16:02:56.953Z"
   },
   {
    "duration": 6,
    "start_time": "2022-02-09T16:02:56.961Z"
   },
   {
    "duration": 9,
    "start_time": "2022-02-09T16:02:56.968Z"
   },
   {
    "duration": 81,
    "start_time": "2022-02-09T16:02:56.979Z"
   },
   {
    "duration": 9,
    "start_time": "2022-02-09T16:02:57.061Z"
   },
   {
    "duration": 27,
    "start_time": "2022-02-09T16:02:57.072Z"
   },
   {
    "duration": 2,
    "start_time": "2022-02-09T16:02:57.102Z"
   },
   {
    "duration": 44,
    "start_time": "2022-02-09T16:02:57.106Z"
   },
   {
    "duration": 26,
    "start_time": "2022-02-09T16:03:06.682Z"
   },
   {
    "duration": 1093,
    "start_time": "2022-02-09T16:03:47.825Z"
   },
   {
    "duration": 360,
    "start_time": "2022-02-09T16:03:48.920Z"
   },
   {
    "duration": 19,
    "start_time": "2022-02-09T16:03:51.628Z"
   },
   {
    "duration": 6,
    "start_time": "2022-02-09T16:03:58.870Z"
   },
   {
    "duration": 5,
    "start_time": "2022-02-09T16:04:00.518Z"
   },
   {
    "duration": 7,
    "start_time": "2022-02-09T16:04:01.278Z"
   },
   {
    "duration": 30,
    "start_time": "2022-02-09T16:04:03.987Z"
   },
   {
    "duration": 7,
    "start_time": "2022-02-09T16:04:06.692Z"
   },
   {
    "duration": 29,
    "start_time": "2022-02-09T16:04:08.504Z"
   },
   {
    "duration": 22,
    "start_time": "2022-02-09T16:04:09.585Z"
   },
   {
    "duration": 12,
    "start_time": "2022-02-09T16:04:10.420Z"
   },
   {
    "duration": 22,
    "start_time": "2022-02-09T16:04:13.417Z"
   },
   {
    "duration": 17,
    "start_time": "2022-02-09T16:04:17.641Z"
   },
   {
    "duration": 14,
    "start_time": "2022-02-09T16:04:18.251Z"
   },
   {
    "duration": 25,
    "start_time": "2022-02-09T16:04:20.697Z"
   },
   {
    "duration": 19,
    "start_time": "2022-02-09T16:04:22.590Z"
   },
   {
    "duration": 18,
    "start_time": "2022-02-09T16:04:23.204Z"
   },
   {
    "duration": 13,
    "start_time": "2022-02-09T16:04:24.096Z"
   },
   {
    "duration": 8,
    "start_time": "2022-02-09T16:04:25.464Z"
   },
   {
    "duration": 5,
    "start_time": "2022-02-09T16:04:26.403Z"
   },
   {
    "duration": 5,
    "start_time": "2022-02-09T16:04:28.378Z"
   },
   {
    "duration": 7,
    "start_time": "2022-02-09T16:04:29.105Z"
   },
   {
    "duration": 54,
    "start_time": "2022-02-09T16:04:32.762Z"
   },
   {
    "duration": 49,
    "start_time": "2022-02-09T16:05:27.810Z"
   },
   {
    "duration": 47,
    "start_time": "2022-02-09T16:05:40.515Z"
   },
   {
    "duration": 46,
    "start_time": "2022-02-09T16:08:29.870Z"
   },
   {
    "duration": 9,
    "start_time": "2022-02-09T16:08:32.117Z"
   },
   {
    "duration": 28,
    "start_time": "2022-02-09T16:08:35.123Z"
   },
   {
    "duration": 3,
    "start_time": "2022-02-09T16:08:40.446Z"
   },
   {
    "duration": 23,
    "start_time": "2022-02-09T16:08:41.540Z"
   },
   {
    "duration": 1318,
    "start_time": "2022-02-09T16:24:17.191Z"
   },
   {
    "duration": 372,
    "start_time": "2022-02-09T16:24:18.510Z"
   },
   {
    "duration": 17,
    "start_time": "2022-02-09T16:24:18.884Z"
   },
   {
    "duration": 9,
    "start_time": "2022-02-09T16:24:18.903Z"
   },
   {
    "duration": 11,
    "start_time": "2022-02-09T16:24:18.913Z"
   },
   {
    "duration": 10,
    "start_time": "2022-02-09T16:24:18.925Z"
   },
   {
    "duration": 36,
    "start_time": "2022-02-09T16:24:18.936Z"
   },
   {
    "duration": 5,
    "start_time": "2022-02-09T16:24:18.974Z"
   },
   {
    "duration": 29,
    "start_time": "2022-02-09T16:24:18.981Z"
   },
   {
    "duration": 25,
    "start_time": "2022-02-09T16:24:19.011Z"
   },
   {
    "duration": 13,
    "start_time": "2022-02-09T16:24:19.038Z"
   },
   {
    "duration": 21,
    "start_time": "2022-02-09T16:24:19.053Z"
   },
   {
    "duration": 16,
    "start_time": "2022-02-09T16:24:19.076Z"
   },
   {
    "duration": 42,
    "start_time": "2022-02-09T16:24:19.094Z"
   },
   {
    "duration": 33,
    "start_time": "2022-02-09T16:24:19.138Z"
   },
   {
    "duration": 20,
    "start_time": "2022-02-09T16:24:19.173Z"
   },
   {
    "duration": 32,
    "start_time": "2022-02-09T16:24:19.195Z"
   },
   {
    "duration": 15,
    "start_time": "2022-02-09T16:24:19.228Z"
   },
   {
    "duration": 9,
    "start_time": "2022-02-09T16:24:19.244Z"
   },
   {
    "duration": 6,
    "start_time": "2022-02-09T16:24:19.254Z"
   },
   {
    "duration": 5,
    "start_time": "2022-02-09T16:24:19.261Z"
   },
   {
    "duration": 10,
    "start_time": "2022-02-09T16:24:19.268Z"
   },
   {
    "duration": 73,
    "start_time": "2022-02-09T16:24:19.280Z"
   },
   {
    "duration": 9,
    "start_time": "2022-02-09T16:24:19.354Z"
   },
   {
    "duration": 30,
    "start_time": "2022-02-09T16:24:19.364Z"
   },
   {
    "duration": 2,
    "start_time": "2022-02-09T16:24:19.395Z"
   },
   {
    "duration": 41,
    "start_time": "2022-02-09T16:24:19.399Z"
   },
   {
    "duration": 8,
    "start_time": "2022-02-09T16:30:12.441Z"
   },
   {
    "duration": 1063,
    "start_time": "2022-02-09T16:30:42.756Z"
   },
   {
    "duration": 363,
    "start_time": "2022-02-09T16:30:43.820Z"
   },
   {
    "duration": 18,
    "start_time": "2022-02-09T16:30:44.187Z"
   },
   {
    "duration": 5,
    "start_time": "2022-02-09T16:30:44.206Z"
   },
   {
    "duration": 6,
    "start_time": "2022-02-09T16:30:44.212Z"
   },
   {
    "duration": 5,
    "start_time": "2022-02-09T16:30:44.227Z"
   },
   {
    "duration": 28,
    "start_time": "2022-02-09T16:30:44.234Z"
   },
   {
    "duration": 6,
    "start_time": "2022-02-09T16:30:44.264Z"
   },
   {
    "duration": 29,
    "start_time": "2022-02-09T16:30:44.271Z"
   },
   {
    "duration": 21,
    "start_time": "2022-02-09T16:30:44.327Z"
   },
   {
    "duration": 14,
    "start_time": "2022-02-09T16:30:44.349Z"
   },
   {
    "duration": 21,
    "start_time": "2022-02-09T16:30:44.364Z"
   },
   {
    "duration": 15,
    "start_time": "2022-02-09T16:30:44.386Z"
   },
   {
    "duration": 14,
    "start_time": "2022-02-09T16:30:44.426Z"
   },
   {
    "duration": 25,
    "start_time": "2022-02-09T16:30:44.441Z"
   },
   {
    "duration": 19,
    "start_time": "2022-02-09T16:30:44.467Z"
   },
   {
    "duration": 16,
    "start_time": "2022-02-09T16:30:44.487Z"
   },
   {
    "duration": 13,
    "start_time": "2022-02-09T16:30:44.527Z"
   },
   {
    "duration": 8,
    "start_time": "2022-02-09T16:30:44.541Z"
   },
   {
    "duration": 6,
    "start_time": "2022-02-09T16:30:44.550Z"
   },
   {
    "duration": 5,
    "start_time": "2022-02-09T16:30:44.557Z"
   },
   {
    "duration": 7,
    "start_time": "2022-02-09T16:30:44.565Z"
   },
   {
    "duration": 75,
    "start_time": "2022-02-09T16:30:44.573Z"
   },
   {
    "duration": 8,
    "start_time": "2022-02-09T16:30:44.650Z"
   },
   {
    "duration": 31,
    "start_time": "2022-02-09T16:30:44.659Z"
   },
   {
    "duration": 3,
    "start_time": "2022-02-09T16:30:44.691Z"
   },
   {
    "duration": 44,
    "start_time": "2022-02-09T16:30:44.696Z"
   },
   {
    "duration": 20,
    "start_time": "2022-02-09T16:31:14.661Z"
   },
   {
    "duration": 6,
    "start_time": "2022-02-09T16:32:21.717Z"
   },
   {
    "duration": 7761,
    "start_time": "2022-02-09T16:37:14.260Z"
   },
   {
    "duration": 1794,
    "start_time": "2022-02-09T16:37:20.229Z"
   },
   {
    "duration": 3,
    "start_time": "2022-02-09T16:38:31.677Z"
   },
   {
    "duration": 6,
    "start_time": "2022-02-09T16:41:16.539Z"
   },
   {
    "duration": 1054,
    "start_time": "2022-02-09T16:42:15.627Z"
   },
   {
    "duration": 358,
    "start_time": "2022-02-09T16:42:17.045Z"
   },
   {
    "duration": 18,
    "start_time": "2022-02-09T16:42:20.568Z"
   },
   {
    "duration": 6,
    "start_time": "2022-02-09T16:42:23.040Z"
   },
   {
    "duration": 4,
    "start_time": "2022-02-09T16:42:24.914Z"
   },
   {
    "duration": 6,
    "start_time": "2022-02-09T16:42:25.901Z"
   },
   {
    "duration": 29,
    "start_time": "2022-02-09T16:42:37.295Z"
   },
   {
    "duration": 6,
    "start_time": "2022-02-09T16:42:40.335Z"
   },
   {
    "duration": 6,
    "start_time": "2022-02-09T16:42:51.102Z"
   },
   {
    "duration": 29,
    "start_time": "2022-02-09T16:42:53.749Z"
   },
   {
    "duration": 21,
    "start_time": "2022-02-09T16:42:54.695Z"
   },
   {
    "duration": 5,
    "start_time": "2022-02-09T16:43:08.123Z"
   },
   {
    "duration": 8,
    "start_time": "2022-02-09T16:43:08.924Z"
   },
   {
    "duration": 21,
    "start_time": "2022-02-09T16:43:09.655Z"
   },
   {
    "duration": 11,
    "start_time": "2022-02-09T16:43:11.373Z"
   },
   {
    "duration": 20,
    "start_time": "2022-02-09T16:43:12.947Z"
   },
   {
    "duration": 17,
    "start_time": "2022-02-09T16:43:18.071Z"
   },
   {
    "duration": 13,
    "start_time": "2022-02-09T16:43:18.713Z"
   },
   {
    "duration": 37,
    "start_time": "2022-02-09T16:43:21.382Z"
   },
   {
    "duration": 20,
    "start_time": "2022-02-09T16:43:23.322Z"
   },
   {
    "duration": 16,
    "start_time": "2022-02-09T16:43:23.936Z"
   },
   {
    "duration": 13,
    "start_time": "2022-02-09T16:43:24.448Z"
   },
   {
    "duration": 8,
    "start_time": "2022-02-09T16:43:25.411Z"
   },
   {
    "duration": 4,
    "start_time": "2022-02-09T16:43:25.858Z"
   },
   {
    "duration": 5,
    "start_time": "2022-02-09T16:43:26.337Z"
   },
   {
    "duration": 9,
    "start_time": "2022-02-09T16:43:29.667Z"
   },
   {
    "duration": 7,
    "start_time": "2022-02-09T16:43:30.107Z"
   },
   {
    "duration": 49,
    "start_time": "2022-02-09T16:43:34.849Z"
   },
   {
    "duration": 8,
    "start_time": "2022-02-09T16:43:42.150Z"
   },
   {
    "duration": 28,
    "start_time": "2022-02-09T16:43:43.186Z"
   },
   {
    "duration": 3,
    "start_time": "2022-02-09T16:43:51.130Z"
   },
   {
    "duration": 24,
    "start_time": "2022-02-09T16:43:52.591Z"
   },
   {
    "duration": 1181,
    "start_time": "2022-02-09T16:47:29.903Z"
   },
   {
    "duration": 5,
    "start_time": "2022-02-09T16:48:39.382Z"
   },
   {
    "duration": 1080,
    "start_time": "2022-02-09T16:48:51.130Z"
   },
   {
    "duration": 340,
    "start_time": "2022-02-09T16:48:52.211Z"
   },
   {
    "duration": 17,
    "start_time": "2022-02-09T16:48:52.553Z"
   },
   {
    "duration": 8,
    "start_time": "2022-02-09T16:48:52.572Z"
   },
   {
    "duration": 6,
    "start_time": "2022-02-09T16:48:52.581Z"
   },
   {
    "duration": 6,
    "start_time": "2022-02-09T16:48:52.588Z"
   },
   {
    "duration": 44,
    "start_time": "2022-02-09T16:48:52.596Z"
   },
   {
    "duration": 5,
    "start_time": "2022-02-09T16:48:52.642Z"
   },
   {
    "duration": 29,
    "start_time": "2022-02-09T16:48:52.649Z"
   },
   {
    "duration": 20,
    "start_time": "2022-02-09T16:48:52.680Z"
   },
   {
    "duration": 31,
    "start_time": "2022-02-09T16:48:52.701Z"
   },
   {
    "duration": 19,
    "start_time": "2022-02-09T16:48:52.734Z"
   },
   {
    "duration": 15,
    "start_time": "2022-02-09T16:48:52.755Z"
   },
   {
    "duration": 13,
    "start_time": "2022-02-09T16:48:52.772Z"
   },
   {
    "duration": 58,
    "start_time": "2022-02-09T16:48:52.787Z"
   },
   {
    "duration": 18,
    "start_time": "2022-02-09T16:48:52.846Z"
   },
   {
    "duration": 15,
    "start_time": "2022-02-09T16:48:52.865Z"
   },
   {
    "duration": 11,
    "start_time": "2022-02-09T16:48:52.882Z"
   },
   {
    "duration": 8,
    "start_time": "2022-02-09T16:48:52.894Z"
   },
   {
    "duration": 24,
    "start_time": "2022-02-09T16:48:52.904Z"
   },
   {
    "duration": 6,
    "start_time": "2022-02-09T16:48:52.929Z"
   },
   {
    "duration": 12,
    "start_time": "2022-02-09T16:48:52.936Z"
   },
   {
    "duration": 12,
    "start_time": "2022-02-09T16:48:52.950Z"
   },
   {
    "duration": 49,
    "start_time": "2022-02-09T16:48:52.964Z"
   },
   {
    "duration": 18,
    "start_time": "2022-02-09T16:48:53.015Z"
   },
   {
    "duration": 36,
    "start_time": "2022-02-09T16:48:53.035Z"
   },
   {
    "duration": 3,
    "start_time": "2022-02-09T16:48:53.072Z"
   },
   {
    "duration": 30,
    "start_time": "2022-02-09T16:48:53.076Z"
   },
   {
    "duration": 1114,
    "start_time": "2022-02-09T16:50:48.208Z"
   },
   {
    "duration": 364,
    "start_time": "2022-02-09T16:50:49.324Z"
   },
   {
    "duration": 18,
    "start_time": "2022-02-09T16:50:49.689Z"
   },
   {
    "duration": 5,
    "start_time": "2022-02-09T16:50:49.708Z"
   },
   {
    "duration": 6,
    "start_time": "2022-02-09T16:50:49.715Z"
   },
   {
    "duration": 7,
    "start_time": "2022-02-09T16:50:49.722Z"
   },
   {
    "duration": 46,
    "start_time": "2022-02-09T16:50:49.731Z"
   },
   {
    "duration": 5,
    "start_time": "2022-02-09T16:50:49.780Z"
   },
   {
    "duration": 54,
    "start_time": "2022-02-09T16:50:49.787Z"
   },
   {
    "duration": 25,
    "start_time": "2022-02-09T16:50:49.843Z"
   },
   {
    "duration": 17,
    "start_time": "2022-02-09T16:50:49.869Z"
   },
   {
    "duration": 43,
    "start_time": "2022-02-09T16:50:49.888Z"
   },
   {
    "duration": 23,
    "start_time": "2022-02-09T16:50:49.933Z"
   },
   {
    "duration": 13,
    "start_time": "2022-02-09T16:50:49.957Z"
   },
   {
    "duration": 24,
    "start_time": "2022-02-09T16:50:49.972Z"
   },
   {
    "duration": 39,
    "start_time": "2022-02-09T16:50:49.997Z"
   },
   {
    "duration": 15,
    "start_time": "2022-02-09T16:50:50.038Z"
   },
   {
    "duration": 13,
    "start_time": "2022-02-09T16:50:50.055Z"
   },
   {
    "duration": 5,
    "start_time": "2022-02-09T16:50:50.070Z"
   },
   {
    "duration": 7,
    "start_time": "2022-02-09T16:50:50.077Z"
   },
   {
    "duration": 8,
    "start_time": "2022-02-09T16:50:50.086Z"
   },
   {
    "duration": 74,
    "start_time": "2022-02-09T16:50:50.096Z"
   },
   {
    "duration": 8,
    "start_time": "2022-02-09T16:50:50.172Z"
   },
   {
    "duration": 29,
    "start_time": "2022-02-09T16:50:50.182Z"
   },
   {
    "duration": 2,
    "start_time": "2022-02-09T16:50:50.227Z"
   },
   {
    "duration": 30,
    "start_time": "2022-02-09T16:50:50.231Z"
   },
   {
    "duration": 7,
    "start_time": "2022-02-09T16:57:33.494Z"
   },
   {
    "duration": 6,
    "start_time": "2022-02-09T17:19:59.248Z"
   },
   {
    "duration": 1134,
    "start_time": "2022-02-09T17:20:14.787Z"
   },
   {
    "duration": 432,
    "start_time": "2022-02-09T17:20:15.923Z"
   },
   {
    "duration": 19,
    "start_time": "2022-02-09T17:20:16.357Z"
   },
   {
    "duration": 6,
    "start_time": "2022-02-09T17:20:16.378Z"
   },
   {
    "duration": 7,
    "start_time": "2022-02-09T17:20:16.385Z"
   },
   {
    "duration": 7,
    "start_time": "2022-02-09T17:20:16.393Z"
   },
   {
    "duration": 30,
    "start_time": "2022-02-09T17:20:16.401Z"
   },
   {
    "duration": 5,
    "start_time": "2022-02-09T17:20:16.433Z"
   },
   {
    "duration": 28,
    "start_time": "2022-02-09T17:20:16.440Z"
   },
   {
    "duration": 19,
    "start_time": "2022-02-09T17:20:16.469Z"
   },
   {
    "duration": 12,
    "start_time": "2022-02-09T17:20:16.490Z"
   },
   {
    "duration": 27,
    "start_time": "2022-02-09T17:20:16.504Z"
   },
   {
    "duration": 16,
    "start_time": "2022-02-09T17:20:16.532Z"
   },
   {
    "duration": 13,
    "start_time": "2022-02-09T17:20:16.549Z"
   },
   {
    "duration": 23,
    "start_time": "2022-02-09T17:20:16.563Z"
   },
   {
    "duration": 19,
    "start_time": "2022-02-09T17:20:16.587Z"
   },
   {
    "duration": 23,
    "start_time": "2022-02-09T17:20:16.608Z"
   },
   {
    "duration": 14,
    "start_time": "2022-02-09T17:20:16.633Z"
   },
   {
    "duration": 5,
    "start_time": "2022-02-09T17:20:16.648Z"
   },
   {
    "duration": 7,
    "start_time": "2022-02-09T17:20:16.655Z"
   },
   {
    "duration": 6,
    "start_time": "2022-02-09T17:20:16.663Z"
   },
   {
    "duration": 11,
    "start_time": "2022-02-09T17:20:16.670Z"
   },
   {
    "duration": 51,
    "start_time": "2022-02-09T17:20:16.683Z"
   },
   {
    "duration": 9,
    "start_time": "2022-02-09T17:20:16.735Z"
   },
   {
    "duration": 31,
    "start_time": "2022-02-09T17:20:16.745Z"
   },
   {
    "duration": 3,
    "start_time": "2022-02-09T17:20:16.777Z"
   },
   {
    "duration": 29,
    "start_time": "2022-02-09T17:20:16.781Z"
   },
   {
    "duration": 17,
    "start_time": "2022-02-09T18:14:20.094Z"
   },
   {
    "duration": 23,
    "start_time": "2022-02-09T18:14:28.701Z"
   },
   {
    "duration": 17,
    "start_time": "2022-02-09T18:14:44.021Z"
   },
   {
    "duration": 22,
    "start_time": "2022-02-09T18:14:53.850Z"
   },
   {
    "duration": 28,
    "start_time": "2022-02-09T18:15:00.069Z"
   },
   {
    "duration": 1098,
    "start_time": "2022-02-09T18:15:06.025Z"
   },
   {
    "duration": 368,
    "start_time": "2022-02-09T18:15:07.125Z"
   },
   {
    "duration": 19,
    "start_time": "2022-02-09T18:15:07.497Z"
   },
   {
    "duration": 11,
    "start_time": "2022-02-09T18:15:07.517Z"
   },
   {
    "duration": 8,
    "start_time": "2022-02-09T18:15:07.530Z"
   },
   {
    "duration": 19,
    "start_time": "2022-02-09T18:15:07.539Z"
   },
   {
    "duration": 36,
    "start_time": "2022-02-09T18:15:07.561Z"
   },
   {
    "duration": 6,
    "start_time": "2022-02-09T18:15:07.599Z"
   },
   {
    "duration": 39,
    "start_time": "2022-02-09T18:15:07.606Z"
   },
   {
    "duration": 21,
    "start_time": "2022-02-09T18:15:07.647Z"
   },
   {
    "duration": 13,
    "start_time": "2022-02-09T18:15:07.670Z"
   },
   {
    "duration": 44,
    "start_time": "2022-02-09T18:15:07.684Z"
   },
   {
    "duration": 24,
    "start_time": "2022-02-09T18:15:07.730Z"
   },
   {
    "duration": 16,
    "start_time": "2022-02-09T18:15:07.756Z"
   },
   {
    "duration": 29,
    "start_time": "2022-02-09T18:15:07.774Z"
   },
   {
    "duration": 40,
    "start_time": "2022-02-09T18:15:07.805Z"
   },
   {
    "duration": 15,
    "start_time": "2022-02-09T18:15:07.846Z"
   },
   {
    "duration": 13,
    "start_time": "2022-02-09T18:15:07.863Z"
   },
   {
    "duration": 11,
    "start_time": "2022-02-09T18:15:07.878Z"
   },
   {
    "duration": 10,
    "start_time": "2022-02-09T18:15:07.891Z"
   },
   {
    "duration": 19,
    "start_time": "2022-02-09T18:15:07.903Z"
   },
   {
    "duration": 11,
    "start_time": "2022-02-09T18:15:07.928Z"
   },
   {
    "duration": 60,
    "start_time": "2022-02-09T18:15:07.940Z"
   },
   {
    "duration": 9,
    "start_time": "2022-02-09T18:15:08.002Z"
   },
   {
    "duration": 50,
    "start_time": "2022-02-09T18:15:08.013Z"
   },
   {
    "duration": 41,
    "start_time": "2022-02-09T18:15:08.065Z"
   },
   {
    "duration": 3,
    "start_time": "2022-02-09T18:15:08.108Z"
   },
   {
    "duration": 34,
    "start_time": "2022-02-09T18:15:08.112Z"
   },
   {
    "duration": 24,
    "start_time": "2022-02-09T18:15:34.509Z"
   },
   {
    "duration": 8,
    "start_time": "2022-02-09T18:17:00.431Z"
   },
   {
    "duration": 1085,
    "start_time": "2022-02-09T18:17:07.933Z"
   },
   {
    "duration": 370,
    "start_time": "2022-02-09T18:17:09.020Z"
   },
   {
    "duration": 18,
    "start_time": "2022-02-09T18:17:09.392Z"
   },
   {
    "duration": 5,
    "start_time": "2022-02-09T18:17:09.413Z"
   },
   {
    "duration": 5,
    "start_time": "2022-02-09T18:17:09.420Z"
   },
   {
    "duration": 7,
    "start_time": "2022-02-09T18:17:09.427Z"
   },
   {
    "duration": 32,
    "start_time": "2022-02-09T18:17:09.435Z"
   },
   {
    "duration": 9,
    "start_time": "2022-02-09T18:17:09.470Z"
   },
   {
    "duration": 48,
    "start_time": "2022-02-09T18:17:09.480Z"
   },
   {
    "duration": 20,
    "start_time": "2022-02-09T18:17:09.529Z"
   },
   {
    "duration": 12,
    "start_time": "2022-02-09T18:17:09.551Z"
   },
   {
    "duration": 34,
    "start_time": "2022-02-09T18:17:09.564Z"
   },
   {
    "duration": 35,
    "start_time": "2022-02-09T18:17:09.600Z"
   },
   {
    "duration": 15,
    "start_time": "2022-02-09T18:17:09.637Z"
   },
   {
    "duration": 38,
    "start_time": "2022-02-09T18:17:09.654Z"
   },
   {
    "duration": 50,
    "start_time": "2022-02-09T18:17:09.694Z"
   },
   {
    "duration": 20,
    "start_time": "2022-02-09T18:17:09.746Z"
   },
   {
    "duration": 16,
    "start_time": "2022-02-09T18:17:09.767Z"
   },
   {
    "duration": 6,
    "start_time": "2022-02-09T18:17:09.785Z"
   },
   {
    "duration": 10,
    "start_time": "2022-02-09T18:17:09.792Z"
   },
   {
    "duration": 7,
    "start_time": "2022-02-09T18:17:09.803Z"
   },
   {
    "duration": 6,
    "start_time": "2022-02-09T18:17:09.827Z"
   },
   {
    "duration": 48,
    "start_time": "2022-02-09T18:17:09.836Z"
   },
   {
    "duration": 8,
    "start_time": "2022-02-09T18:17:09.886Z"
   },
   {
    "duration": 46,
    "start_time": "2022-02-09T18:17:09.896Z"
   },
   {
    "duration": 27,
    "start_time": "2022-02-09T18:17:09.944Z"
   },
   {
    "duration": 2,
    "start_time": "2022-02-09T18:17:09.973Z"
   },
   {
    "duration": 24,
    "start_time": "2022-02-09T18:17:09.976Z"
   },
   {
    "duration": 12,
    "start_time": "2022-02-09T18:17:16.415Z"
   },
   {
    "duration": 462,
    "start_time": "2022-02-10T06:33:10.525Z"
   },
   {
    "duration": 1466,
    "start_time": "2022-02-10T06:33:21.121Z"
   },
   {
    "duration": 519,
    "start_time": "2022-02-10T06:33:22.590Z"
   },
   {
    "duration": 30,
    "start_time": "2022-02-10T06:33:23.112Z"
   },
   {
    "duration": 24,
    "start_time": "2022-02-10T06:33:23.146Z"
   },
   {
    "duration": 21,
    "start_time": "2022-02-10T06:33:23.172Z"
   },
   {
    "duration": 18,
    "start_time": "2022-02-10T06:33:23.195Z"
   },
   {
    "duration": 60,
    "start_time": "2022-02-10T06:33:23.215Z"
   },
   {
    "duration": 7,
    "start_time": "2022-02-10T06:33:23.280Z"
   },
   {
    "duration": 66,
    "start_time": "2022-02-10T06:33:23.289Z"
   },
   {
    "duration": 33,
    "start_time": "2022-02-10T06:33:23.358Z"
   },
   {
    "duration": 19,
    "start_time": "2022-02-10T06:33:23.394Z"
   },
   {
    "duration": 66,
    "start_time": "2022-02-10T06:33:23.417Z"
   },
   {
    "duration": 27,
    "start_time": "2022-02-10T06:33:23.485Z"
   },
   {
    "duration": 22,
    "start_time": "2022-02-10T06:33:23.515Z"
   },
   {
    "duration": 63,
    "start_time": "2022-02-10T06:33:23.540Z"
   },
   {
    "duration": 31,
    "start_time": "2022-02-10T06:33:23.605Z"
   },
   {
    "duration": 44,
    "start_time": "2022-02-10T06:33:23.639Z"
   },
   {
    "duration": 18,
    "start_time": "2022-02-10T06:33:23.686Z"
   },
   {
    "duration": 7,
    "start_time": "2022-02-10T06:33:23.707Z"
   },
   {
    "duration": 10,
    "start_time": "2022-02-10T06:33:23.717Z"
   },
   {
    "duration": 46,
    "start_time": "2022-02-10T06:33:23.730Z"
   },
   {
    "duration": 12,
    "start_time": "2022-02-10T06:33:23.778Z"
   },
   {
    "duration": 111,
    "start_time": "2022-02-10T06:33:23.795Z"
   },
   {
    "duration": 15,
    "start_time": "2022-02-10T06:33:23.908Z"
   },
   {
    "duration": 66,
    "start_time": "2022-02-10T06:33:23.925Z"
   },
   {
    "duration": 51,
    "start_time": "2022-02-10T06:33:23.994Z"
   },
   {
    "duration": 4,
    "start_time": "2022-02-10T06:33:24.069Z"
   },
   {
    "duration": 40,
    "start_time": "2022-02-10T06:33:24.077Z"
   },
   {
    "duration": 559,
    "start_time": "2022-02-10T06:33:59.769Z"
   },
   {
    "duration": 8,
    "start_time": "2022-02-10T06:34:18.927Z"
   },
   {
    "duration": 9,
    "start_time": "2022-02-10T06:34:20.644Z"
   },
   {
    "duration": 32,
    "start_time": "2022-02-10T06:34:21.621Z"
   },
   {
    "duration": 10,
    "start_time": "2022-02-10T06:36:01.194Z"
   },
   {
    "duration": 7,
    "start_time": "2022-02-10T06:36:52.252Z"
   },
   {
    "duration": 8,
    "start_time": "2022-02-10T06:39:47.425Z"
   },
   {
    "duration": 11,
    "start_time": "2022-02-10T06:39:54.743Z"
   },
   {
    "duration": 32,
    "start_time": "2022-02-10T06:39:57.033Z"
   },
   {
    "duration": 14,
    "start_time": "2022-02-10T06:40:07.019Z"
   },
   {
    "duration": 38,
    "start_time": "2022-02-10T06:40:20.910Z"
   },
   {
    "duration": 9,
    "start_time": "2022-02-10T06:40:23.689Z"
   },
   {
    "duration": 21,
    "start_time": "2022-02-10T06:40:24.182Z"
   },
   {
    "duration": 27,
    "start_time": "2022-02-10T06:40:26.986Z"
   },
   {
    "duration": 10,
    "start_time": "2022-02-10T06:40:35.157Z"
   },
   {
    "duration": 25,
    "start_time": "2022-02-10T06:40:36.337Z"
   },
   {
    "duration": 6,
    "start_time": "2022-02-10T06:42:07.608Z"
   },
   {
    "duration": 9,
    "start_time": "2022-02-10T06:42:26.650Z"
   },
   {
    "duration": 11,
    "start_time": "2022-02-10T06:47:58.514Z"
   },
   {
    "duration": 10,
    "start_time": "2022-02-10T06:48:04.369Z"
   },
   {
    "duration": 9,
    "start_time": "2022-02-10T06:48:07.114Z"
   },
   {
    "duration": 12,
    "start_time": "2022-02-10T06:48:09.030Z"
   },
   {
    "duration": 311,
    "start_time": "2022-02-10T06:48:21.599Z"
   },
   {
    "duration": 77,
    "start_time": "2022-02-10T06:48:31.809Z"
   },
   {
    "duration": 79,
    "start_time": "2022-02-10T06:48:52.829Z"
   },
   {
    "duration": 15,
    "start_time": "2022-02-10T06:48:56.096Z"
   },
   {
    "duration": 45,
    "start_time": "2022-02-10T06:49:37.878Z"
   },
   {
    "duration": 4,
    "start_time": "2022-02-10T06:49:43.272Z"
   },
   {
    "duration": 40,
    "start_time": "2022-02-10T06:49:51.155Z"
   },
   {
    "duration": 7823,
    "start_time": "2022-02-10T06:50:40.402Z"
   },
   {
    "duration": 7694,
    "start_time": "2022-02-10T06:51:08.065Z"
   },
   {
    "duration": 7492,
    "start_time": "2022-02-10T06:51:26.151Z"
   },
   {
    "duration": 743,
    "start_time": "2022-02-10T06:51:32.902Z"
   },
   {
    "duration": 1503,
    "start_time": "2022-02-10T06:52:24.359Z"
   },
   {
    "duration": 527,
    "start_time": "2022-02-10T06:52:25.864Z"
   },
   {
    "duration": 31,
    "start_time": "2022-02-10T06:52:26.394Z"
   },
   {
    "duration": 9,
    "start_time": "2022-02-10T06:52:26.427Z"
   },
   {
    "duration": 31,
    "start_time": "2022-02-10T06:52:26.438Z"
   },
   {
    "duration": 10,
    "start_time": "2022-02-10T06:52:26.472Z"
   },
   {
    "duration": 52,
    "start_time": "2022-02-10T06:52:26.484Z"
   },
   {
    "duration": 29,
    "start_time": "2022-02-10T06:52:26.540Z"
   },
   {
    "duration": 6,
    "start_time": "2022-02-10T06:52:26.572Z"
   },
   {
    "duration": 46,
    "start_time": "2022-02-10T06:52:26.580Z"
   },
   {
    "duration": 57,
    "start_time": "2022-02-10T06:52:26.628Z"
   },
   {
    "duration": 22,
    "start_time": "2022-02-10T06:52:26.687Z"
   },
   {
    "duration": 33,
    "start_time": "2022-02-10T06:52:26.712Z"
   },
   {
    "duration": 25,
    "start_time": "2022-02-10T06:52:26.770Z"
   },
   {
    "duration": 20,
    "start_time": "2022-02-10T06:52:26.798Z"
   },
   {
    "duration": 70,
    "start_time": "2022-02-10T06:52:26.821Z"
   },
   {
    "duration": 34,
    "start_time": "2022-02-10T06:52:26.894Z"
   },
   {
    "duration": 50,
    "start_time": "2022-02-10T06:52:26.930Z"
   },
   {
    "duration": 5,
    "start_time": "2022-02-10T06:52:26.983Z"
   },
   {
    "duration": 16,
    "start_time": "2022-02-10T06:52:26.990Z"
   },
   {
    "duration": 446,
    "start_time": "2022-02-10T06:52:27.009Z"
   },
   {
    "duration": 744,
    "start_time": "2022-02-10T06:52:26.714Z"
   },
   {
    "duration": 740,
    "start_time": "2022-02-10T06:52:26.719Z"
   },
   {
    "duration": 733,
    "start_time": "2022-02-10T06:52:26.727Z"
   },
   {
    "duration": 732,
    "start_time": "2022-02-10T06:52:26.730Z"
   },
   {
    "duration": 730,
    "start_time": "2022-02-10T06:52:26.733Z"
   },
   {
    "duration": 728,
    "start_time": "2022-02-10T06:52:26.736Z"
   },
   {
    "duration": 720,
    "start_time": "2022-02-10T06:52:26.745Z"
   },
   {
    "duration": 4,
    "start_time": "2022-02-10T06:52:35.161Z"
   },
   {
    "duration": 502,
    "start_time": "2022-02-10T06:52:35.657Z"
   },
   {
    "duration": 27,
    "start_time": "2022-02-10T06:52:37.258Z"
   },
   {
    "duration": 10,
    "start_time": "2022-02-10T06:52:38.874Z"
   },
   {
    "duration": 6,
    "start_time": "2022-02-10T06:52:40.516Z"
   },
   {
    "duration": 10,
    "start_time": "2022-02-10T06:52:41.524Z"
   },
   {
    "duration": 47,
    "start_time": "2022-02-10T06:52:44.633Z"
   },
   {
    "duration": 9,
    "start_time": "2022-02-10T06:52:46.007Z"
   },
   {
    "duration": 6,
    "start_time": "2022-02-10T06:52:46.602Z"
   },
   {
    "duration": 44,
    "start_time": "2022-02-10T06:52:47.264Z"
   },
   {
    "duration": 33,
    "start_time": "2022-02-10T06:52:48.103Z"
   },
   {
    "duration": 23,
    "start_time": "2022-02-10T06:52:49.185Z"
   },
   {
    "duration": 34,
    "start_time": "2022-02-10T06:53:00.058Z"
   },
   {
    "duration": 25,
    "start_time": "2022-02-10T06:53:01.576Z"
   },
   {
    "duration": 21,
    "start_time": "2022-02-10T06:53:02.048Z"
   },
   {
    "duration": 39,
    "start_time": "2022-02-10T06:53:03.266Z"
   },
   {
    "duration": 31,
    "start_time": "2022-02-10T06:53:05.620Z"
   },
   {
    "duration": 24,
    "start_time": "2022-02-10T06:53:06.162Z"
   },
   {
    "duration": 7,
    "start_time": "2022-02-10T06:53:09.035Z"
   },
   {
    "duration": 22,
    "start_time": "2022-02-10T06:53:17.894Z"
   },
   {
    "duration": 10,
    "start_time": "2022-02-10T06:53:20.185Z"
   },
   {
    "duration": 12,
    "start_time": "2022-02-10T06:53:21.166Z"
   },
   {
    "duration": 88,
    "start_time": "2022-02-10T06:53:24.088Z"
   },
   {
    "duration": 15,
    "start_time": "2022-02-10T06:53:25.503Z"
   },
   {
    "duration": 46,
    "start_time": "2022-02-10T06:53:26.744Z"
   },
   {
    "duration": 4,
    "start_time": "2022-02-10T06:53:27.637Z"
   },
   {
    "duration": 38,
    "start_time": "2022-02-10T06:53:34.276Z"
   },
   {
    "duration": 358,
    "start_time": "2022-02-10T07:11:02.872Z"
   },
   {
    "duration": 296,
    "start_time": "2022-02-10T07:11:22.630Z"
   },
   {
    "duration": 1626,
    "start_time": "2022-02-10T07:11:30.943Z"
   },
   {
    "duration": 532,
    "start_time": "2022-02-10T07:11:32.572Z"
   },
   {
    "duration": 32,
    "start_time": "2022-02-10T07:11:33.107Z"
   },
   {
    "duration": 18,
    "start_time": "2022-02-10T07:11:33.142Z"
   },
   {
    "duration": 26,
    "start_time": "2022-02-10T07:11:33.169Z"
   },
   {
    "duration": 24,
    "start_time": "2022-02-10T07:11:33.197Z"
   },
   {
    "duration": 54,
    "start_time": "2022-02-10T07:11:33.223Z"
   },
   {
    "duration": 6,
    "start_time": "2022-02-10T07:11:33.281Z"
   },
   {
    "duration": 13,
    "start_time": "2022-02-10T07:11:33.291Z"
   },
   {
    "duration": 68,
    "start_time": "2022-02-10T07:11:33.307Z"
   },
   {
    "duration": 36,
    "start_time": "2022-02-10T07:11:33.378Z"
   },
   {
    "duration": 25,
    "start_time": "2022-02-10T07:11:33.417Z"
   },
   {
    "duration": 56,
    "start_time": "2022-02-10T07:11:33.445Z"
   },
   {
    "duration": 28,
    "start_time": "2022-02-10T07:11:33.504Z"
   },
   {
    "duration": 51,
    "start_time": "2022-02-10T07:11:33.534Z"
   },
   {
    "duration": 39,
    "start_time": "2022-02-10T07:11:33.588Z"
   },
   {
    "duration": 60,
    "start_time": "2022-02-10T07:11:33.629Z"
   },
   {
    "duration": 26,
    "start_time": "2022-02-10T07:11:33.692Z"
   },
   {
    "duration": 11,
    "start_time": "2022-02-10T07:11:33.720Z"
   },
   {
    "duration": 34,
    "start_time": "2022-02-10T07:11:33.734Z"
   },
   {
    "duration": 23,
    "start_time": "2022-02-10T07:11:33.770Z"
   },
   {
    "duration": 9,
    "start_time": "2022-02-10T07:11:33.795Z"
   },
   {
    "duration": 30,
    "start_time": "2022-02-10T07:11:33.808Z"
   },
   {
    "duration": 99,
    "start_time": "2022-02-10T07:11:33.840Z"
   },
   {
    "duration": 27,
    "start_time": "2022-02-10T07:11:33.942Z"
   },
   {
    "duration": 57,
    "start_time": "2022-02-10T07:11:33.971Z"
   },
   {
    "duration": 3,
    "start_time": "2022-02-10T07:11:34.031Z"
   },
   {
    "duration": 71,
    "start_time": "2022-02-10T07:11:34.036Z"
   },
   {
    "duration": 123,
    "start_time": "2022-02-10T07:11:34.109Z"
   },
   {
    "duration": 23,
    "start_time": "2022-02-10T07:12:22.755Z"
   },
   {
    "duration": 24,
    "start_time": "2022-02-10T08:00:21.377Z"
   },
   {
    "duration": 460,
    "start_time": "2022-02-10T08:17:48.159Z"
   },
   {
    "duration": 309,
    "start_time": "2022-02-10T08:18:11.354Z"
   },
   {
    "duration": 328,
    "start_time": "2022-02-10T08:18:53.648Z"
   },
   {
    "duration": 292,
    "start_time": "2022-02-10T08:20:41.856Z"
   },
   {
    "duration": 6,
    "start_time": "2022-02-10T08:20:50.877Z"
   },
   {
    "duration": 4,
    "start_time": "2022-02-10T08:26:37.283Z"
   },
   {
    "duration": 303,
    "start_time": "2022-02-10T08:26:59.408Z"
   },
   {
    "duration": 7,
    "start_time": "2022-02-10T08:27:09.500Z"
   },
   {
    "duration": 442,
    "start_time": "2022-02-10T08:27:31.624Z"
   },
   {
    "duration": 44,
    "start_time": "2022-02-10T08:27:40.920Z"
   },
   {
    "duration": 45,
    "start_time": "2022-02-10T08:28:54.436Z"
   },
   {
    "duration": 37,
    "start_time": "2022-02-10T08:30:48.407Z"
   },
   {
    "duration": 35,
    "start_time": "2022-02-10T08:31:49.085Z"
   },
   {
    "duration": 31,
    "start_time": "2022-02-10T08:39:39.571Z"
   },
   {
    "duration": 38,
    "start_time": "2022-02-10T08:44:48.031Z"
   },
   {
    "duration": 40,
    "start_time": "2022-02-10T08:45:21.714Z"
   },
   {
    "duration": 38,
    "start_time": "2022-02-10T08:45:33.303Z"
   },
   {
    "duration": 8,
    "start_time": "2022-02-10T08:46:30.455Z"
   },
   {
    "duration": 33,
    "start_time": "2022-02-10T09:01:51.134Z"
   },
   {
    "duration": 9,
    "start_time": "2022-02-10T09:02:01.437Z"
   },
   {
    "duration": 31,
    "start_time": "2022-02-10T09:02:30.203Z"
   },
   {
    "duration": 9,
    "start_time": "2022-02-10T09:02:32.930Z"
   },
   {
    "duration": 9,
    "start_time": "2022-02-10T09:03:40.295Z"
   },
   {
    "duration": 43,
    "start_time": "2022-02-10T09:03:43.453Z"
   },
   {
    "duration": 10,
    "start_time": "2022-02-10T09:03:45.743Z"
   },
   {
    "duration": 1494,
    "start_time": "2022-02-10T09:16:06.062Z"
   },
   {
    "duration": 526,
    "start_time": "2022-02-10T09:16:07.558Z"
   },
   {
    "duration": 32,
    "start_time": "2022-02-10T09:16:08.087Z"
   },
   {
    "duration": 20,
    "start_time": "2022-02-10T09:16:08.122Z"
   },
   {
    "duration": 22,
    "start_time": "2022-02-10T09:16:08.145Z"
   },
   {
    "duration": 20,
    "start_time": "2022-02-10T09:16:08.170Z"
   },
   {
    "duration": 59,
    "start_time": "2022-02-10T09:16:08.192Z"
   },
   {
    "duration": 15,
    "start_time": "2022-02-10T09:16:08.254Z"
   },
   {
    "duration": 12,
    "start_time": "2022-02-10T09:16:08.272Z"
   },
   {
    "duration": 52,
    "start_time": "2022-02-10T09:16:08.287Z"
   },
   {
    "duration": 50,
    "start_time": "2022-02-10T09:16:08.341Z"
   },
   {
    "duration": 29,
    "start_time": "2022-02-10T09:16:08.394Z"
   },
   {
    "duration": 62,
    "start_time": "2022-02-10T09:16:08.426Z"
   },
   {
    "duration": 26,
    "start_time": "2022-02-10T09:16:08.491Z"
   },
   {
    "duration": 21,
    "start_time": "2022-02-10T09:16:08.520Z"
   },
   {
    "duration": 41,
    "start_time": "2022-02-10T09:16:08.568Z"
   },
   {
    "duration": 61,
    "start_time": "2022-02-10T09:16:08.611Z"
   },
   {
    "duration": 25,
    "start_time": "2022-02-10T09:16:08.675Z"
   },
   {
    "duration": 5,
    "start_time": "2022-02-10T09:16:08.703Z"
   },
   {
    "duration": 23,
    "start_time": "2022-02-10T09:16:08.710Z"
   },
   {
    "duration": 40,
    "start_time": "2022-02-10T09:16:08.735Z"
   },
   {
    "duration": 9,
    "start_time": "2022-02-10T09:16:08.777Z"
   },
   {
    "duration": 24,
    "start_time": "2022-02-10T09:16:08.791Z"
   },
   {
    "duration": 23,
    "start_time": "2022-02-10T09:16:08.818Z"
   },
   {
    "duration": 23,
    "start_time": "2022-02-10T09:16:08.844Z"
   },
   {
    "duration": 94,
    "start_time": "2022-02-10T09:16:08.869Z"
   },
   {
    "duration": 15,
    "start_time": "2022-02-10T09:16:08.966Z"
   },
   {
    "duration": 54,
    "start_time": "2022-02-10T09:16:08.983Z"
   },
   {
    "duration": 3,
    "start_time": "2022-02-10T09:16:09.040Z"
   },
   {
    "duration": 54,
    "start_time": "2022-02-10T09:16:09.046Z"
   },
   {
    "duration": 24,
    "start_time": "2022-02-10T09:16:09.102Z"
   },
   {
    "duration": 50,
    "start_time": "2022-02-10T09:16:09.128Z"
   },
   {
    "duration": 31,
    "start_time": "2022-02-10T09:16:09.180Z"
   },
   {
    "duration": 70,
    "start_time": "2022-02-10T09:16:09.214Z"
   },
   {
    "duration": 9,
    "start_time": "2022-02-10T09:16:09.286Z"
   },
   {
    "duration": 37,
    "start_time": "2022-02-10T09:16:09.297Z"
   },
   {
    "duration": 34,
    "start_time": "2022-02-10T09:16:09.336Z"
   },
   {
    "duration": 6,
    "start_time": "2022-02-10T09:16:27.598Z"
   },
   {
    "duration": 10,
    "start_time": "2022-02-10T09:16:31.052Z"
   },
   {
    "duration": 1479,
    "start_time": "2022-02-10T10:14:46.399Z"
   },
   {
    "duration": 539,
    "start_time": "2022-02-10T10:14:47.880Z"
   },
   {
    "duration": 34,
    "start_time": "2022-02-10T10:14:48.422Z"
   },
   {
    "duration": 11,
    "start_time": "2022-02-10T10:14:48.471Z"
   },
   {
    "duration": 17,
    "start_time": "2022-02-10T10:14:48.484Z"
   },
   {
    "duration": 19,
    "start_time": "2022-02-10T10:14:48.503Z"
   },
   {
    "duration": 62,
    "start_time": "2022-02-10T10:14:48.525Z"
   },
   {
    "duration": 8,
    "start_time": "2022-02-10T10:14:48.592Z"
   },
   {
    "duration": 9,
    "start_time": "2022-02-10T10:14:48.604Z"
   },
   {
    "duration": 98,
    "start_time": "2022-02-10T10:14:48.616Z"
   },
   {
    "duration": 41,
    "start_time": "2022-02-10T10:14:48.717Z"
   },
   {
    "duration": 29,
    "start_time": "2022-02-10T10:14:48.770Z"
   },
   {
    "duration": 32,
    "start_time": "2022-02-10T10:14:48.802Z"
   },
   {
    "duration": 57,
    "start_time": "2022-02-10T10:14:48.837Z"
   },
   {
    "duration": 21,
    "start_time": "2022-02-10T10:14:48.897Z"
   },
   {
    "duration": 68,
    "start_time": "2022-02-10T10:14:48.920Z"
   },
   {
    "duration": 33,
    "start_time": "2022-02-10T10:14:48.991Z"
   },
   {
    "duration": 43,
    "start_time": "2022-02-10T10:14:49.026Z"
   },
   {
    "duration": 5,
    "start_time": "2022-02-10T10:14:49.072Z"
   },
   {
    "duration": 13,
    "start_time": "2022-02-10T10:14:49.080Z"
   },
   {
    "duration": 22,
    "start_time": "2022-02-10T10:14:49.096Z"
   },
   {
    "duration": 9,
    "start_time": "2022-02-10T10:14:49.121Z"
   },
   {
    "duration": 12,
    "start_time": "2022-02-10T10:14:49.171Z"
   },
   {
    "duration": 6,
    "start_time": "2022-02-10T10:14:49.187Z"
   },
   {
    "duration": 8,
    "start_time": "2022-02-10T10:14:49.196Z"
   },
   {
    "duration": 126,
    "start_time": "2022-02-10T10:14:49.206Z"
   },
   {
    "duration": 16,
    "start_time": "2022-02-10T10:14:49.334Z"
   },
   {
    "duration": 59,
    "start_time": "2022-02-10T10:14:49.352Z"
   },
   {
    "duration": 5,
    "start_time": "2022-02-10T10:14:49.413Z"
   },
   {
    "duration": 61,
    "start_time": "2022-02-10T10:14:49.421Z"
   },
   {
    "duration": 30,
    "start_time": "2022-02-10T10:14:49.485Z"
   },
   {
    "duration": 53,
    "start_time": "2022-02-10T10:14:49.518Z"
   },
   {
    "duration": 32,
    "start_time": "2022-02-10T10:14:49.573Z"
   },
   {
    "duration": 64,
    "start_time": "2022-02-10T10:14:49.607Z"
   },
   {
    "duration": 8,
    "start_time": "2022-02-10T10:14:49.674Z"
   },
   {
    "duration": 12,
    "start_time": "2022-02-10T10:14:49.685Z"
   },
   {
    "duration": 9,
    "start_time": "2022-02-10T10:14:49.699Z"
   },
   {
    "duration": 10,
    "start_time": "2022-02-10T10:19:32.468Z"
   },
   {
    "duration": 13,
    "start_time": "2022-02-10T10:27:48.951Z"
   },
   {
    "duration": 1490,
    "start_time": "2022-02-10T10:29:18.877Z"
   },
   {
    "duration": 513,
    "start_time": "2022-02-10T10:29:20.370Z"
   },
   {
    "duration": 32,
    "start_time": "2022-02-10T10:29:20.886Z"
   },
   {
    "duration": 10,
    "start_time": "2022-02-10T10:29:21.385Z"
   },
   {
    "duration": 8,
    "start_time": "2022-02-10T10:29:22.391Z"
   },
   {
    "duration": 12,
    "start_time": "2022-02-10T10:29:22.809Z"
   },
   {
    "duration": 54,
    "start_time": "2022-02-10T10:29:24.220Z"
   },
   {
    "duration": 8,
    "start_time": "2022-02-10T10:29:25.304Z"
   },
   {
    "duration": 7,
    "start_time": "2022-02-10T10:29:25.713Z"
   },
   {
    "duration": 68,
    "start_time": "2022-02-10T10:29:26.206Z"
   },
   {
    "duration": 41,
    "start_time": "2022-02-10T10:29:26.684Z"
   },
   {
    "duration": 29,
    "start_time": "2022-02-10T10:29:27.167Z"
   },
   {
    "duration": 49,
    "start_time": "2022-02-10T10:29:29.725Z"
   },
   {
    "duration": 38,
    "start_time": "2022-02-10T10:29:31.819Z"
   },
   {
    "duration": 26,
    "start_time": "2022-02-10T10:29:32.285Z"
   },
   {
    "duration": 59,
    "start_time": "2022-02-10T10:29:33.273Z"
   },
   {
    "duration": 35,
    "start_time": "2022-02-10T10:29:37.385Z"
   },
   {
    "duration": 25,
    "start_time": "2022-02-10T10:29:41.606Z"
   },
   {
    "duration": 10,
    "start_time": "2022-02-10T10:30:31.675Z"
   },
   {
    "duration": 6,
    "start_time": "2022-02-10T10:30:37.622Z"
   },
   {
    "duration": 22,
    "start_time": "2022-02-10T10:30:40.765Z"
   },
   {
    "duration": 9,
    "start_time": "2022-02-10T10:30:45.054Z"
   },
   {
    "duration": 12,
    "start_time": "2022-02-10T10:30:45.634Z"
   },
   {
    "duration": 5,
    "start_time": "2022-02-10T10:30:46.253Z"
   },
   {
    "duration": 7,
    "start_time": "2022-02-10T10:30:46.697Z"
   },
   {
    "duration": 86,
    "start_time": "2022-02-10T10:30:48.775Z"
   },
   {
    "duration": 16,
    "start_time": "2022-02-10T10:30:49.406Z"
   },
   {
    "duration": 46,
    "start_time": "2022-02-10T10:30:50.529Z"
   },
   {
    "duration": 5,
    "start_time": "2022-02-10T10:30:51.039Z"
   },
   {
    "duration": 52,
    "start_time": "2022-02-10T10:30:52.243Z"
   },
   {
    "duration": 23,
    "start_time": "2022-02-10T10:30:53.306Z"
   },
   {
    "duration": 24,
    "start_time": "2022-02-10T10:30:53.766Z"
   },
   {
    "duration": 32,
    "start_time": "2022-02-10T10:30:54.697Z"
   },
   {
    "duration": 35,
    "start_time": "2022-02-10T10:30:56.196Z"
   },
   {
    "duration": 9,
    "start_time": "2022-02-10T10:31:09.970Z"
   },
   {
    "duration": 7,
    "start_time": "2022-02-10T10:31:11.347Z"
   },
   {
    "duration": 9,
    "start_time": "2022-02-10T10:31:11.803Z"
   },
   {
    "duration": 11,
    "start_time": "2022-02-10T10:31:12.284Z"
   },
   {
    "duration": 11,
    "start_time": "2022-02-10T10:31:13.363Z"
   },
   {
    "duration": 8,
    "start_time": "2022-02-10T10:31:32.181Z"
   },
   {
    "duration": 22,
    "start_time": "2022-02-10T10:58:44.398Z"
   },
   {
    "duration": 6,
    "start_time": "2022-02-10T11:08:17.814Z"
   },
   {
    "duration": 22,
    "start_time": "2022-02-10T11:08:32.273Z"
   },
   {
    "duration": 5,
    "start_time": "2022-02-10T11:10:04.240Z"
   },
   {
    "duration": 498,
    "start_time": "2022-02-10T11:10:06.027Z"
   },
   {
    "duration": 22,
    "start_time": "2022-02-10T11:10:19.578Z"
   },
   {
    "duration": 5,
    "start_time": "2022-02-10T11:10:59.831Z"
   },
   {
    "duration": 30,
    "start_time": "2022-02-10T11:11:33.233Z"
   },
   {
    "duration": 1487,
    "start_time": "2022-02-10T11:12:45.903Z"
   },
   {
    "duration": 600,
    "start_time": "2022-02-10T11:12:47.393Z"
   },
   {
    "duration": 31,
    "start_time": "2022-02-10T11:12:47.996Z"
   },
   {
    "duration": 9,
    "start_time": "2022-02-10T11:12:48.030Z"
   },
   {
    "duration": 27,
    "start_time": "2022-02-10T11:12:48.042Z"
   },
   {
    "duration": 13,
    "start_time": "2022-02-10T11:12:48.072Z"
   },
   {
    "duration": 52,
    "start_time": "2022-02-10T11:12:48.087Z"
   },
   {
    "duration": 6,
    "start_time": "2022-02-10T11:12:48.143Z"
   },
   {
    "duration": 6,
    "start_time": "2022-02-10T11:12:48.171Z"
   },
   {
    "duration": 47,
    "start_time": "2022-02-10T11:12:48.180Z"
   },
   {
    "duration": 61,
    "start_time": "2022-02-10T11:12:48.229Z"
   },
   {
    "duration": 20,
    "start_time": "2022-02-10T11:12:48.292Z"
   },
   {
    "duration": 61,
    "start_time": "2022-02-10T11:12:48.314Z"
   },
   {
    "duration": 25,
    "start_time": "2022-02-10T11:12:48.377Z"
   },
   {
    "duration": 22,
    "start_time": "2022-02-10T11:12:48.404Z"
   },
   {
    "duration": 70,
    "start_time": "2022-02-10T11:12:48.428Z"
   },
   {
    "duration": 33,
    "start_time": "2022-02-10T11:12:48.501Z"
   },
   {
    "duration": 49,
    "start_time": "2022-02-10T11:12:48.536Z"
   },
   {
    "duration": 9,
    "start_time": "2022-02-10T11:12:48.588Z"
   },
   {
    "duration": 6,
    "start_time": "2022-02-10T11:12:48.600Z"
   },
   {
    "duration": 26,
    "start_time": "2022-02-10T11:12:48.609Z"
   },
   {
    "duration": 35,
    "start_time": "2022-02-10T11:12:48.637Z"
   },
   {
    "duration": 12,
    "start_time": "2022-02-10T11:12:48.679Z"
   },
   {
    "duration": 5,
    "start_time": "2022-02-10T11:12:48.695Z"
   },
   {
    "duration": 7,
    "start_time": "2022-02-10T11:12:48.703Z"
   },
   {
    "duration": 128,
    "start_time": "2022-02-10T11:12:48.712Z"
   },
   {
    "duration": 27,
    "start_time": "2022-02-10T11:12:48.843Z"
   },
   {
    "duration": 61,
    "start_time": "2022-02-10T11:12:48.873Z"
   },
   {
    "duration": 5,
    "start_time": "2022-02-10T11:12:48.937Z"
   },
   {
    "duration": 57,
    "start_time": "2022-02-10T11:12:48.945Z"
   },
   {
    "duration": 22,
    "start_time": "2022-02-10T11:12:49.005Z"
   },
   {
    "duration": 61,
    "start_time": "2022-02-10T11:12:49.030Z"
   },
   {
    "duration": 32,
    "start_time": "2022-02-10T11:12:49.094Z"
   },
   {
    "duration": 78,
    "start_time": "2022-02-10T11:12:49.129Z"
   },
   {
    "duration": 10,
    "start_time": "2022-02-10T11:12:49.210Z"
   },
   {
    "duration": 7,
    "start_time": "2022-02-10T11:12:49.222Z"
   },
   {
    "duration": 37,
    "start_time": "2022-02-10T11:12:49.232Z"
   },
   {
    "duration": 10,
    "start_time": "2022-02-10T11:12:49.272Z"
   },
   {
    "duration": 10,
    "start_time": "2022-02-10T11:12:49.285Z"
   },
   {
    "duration": 104,
    "start_time": "2022-02-10T11:12:49.297Z"
   },
   {
    "duration": 5,
    "start_time": "2022-02-10T11:13:08.404Z"
   },
   {
    "duration": 22,
    "start_time": "2022-02-10T11:13:21.572Z"
   },
   {
    "duration": 9,
    "start_time": "2022-02-10T11:13:53.474Z"
   },
   {
    "duration": 14,
    "start_time": "2022-02-10T11:31:31.006Z"
   },
   {
    "duration": 13,
    "start_time": "2022-02-10T11:31:47.309Z"
   },
   {
    "duration": 22,
    "start_time": "2022-02-10T11:32:08.264Z"
   },
   {
    "duration": 12,
    "start_time": "2022-02-10T11:33:15.168Z"
   },
   {
    "duration": 6,
    "start_time": "2022-02-10T11:33:27.691Z"
   },
   {
    "duration": 6,
    "start_time": "2022-02-10T11:33:38.785Z"
   },
   {
    "duration": 9,
    "start_time": "2022-02-10T11:34:03.705Z"
   },
   {
    "duration": 13,
    "start_time": "2022-02-10T11:53:45.205Z"
   },
   {
    "duration": 11,
    "start_time": "2022-02-10T11:53:49.257Z"
   },
   {
    "duration": 23,
    "start_time": "2022-02-10T12:02:16.999Z"
   },
   {
    "duration": 10,
    "start_time": "2022-02-10T12:02:23.223Z"
   },
   {
    "duration": 25,
    "start_time": "2022-02-10T12:02:24.347Z"
   },
   {
    "duration": 1969,
    "start_time": "2022-02-10T12:02:43.687Z"
   },
   {
    "duration": 691,
    "start_time": "2022-02-10T12:02:45.659Z"
   },
   {
    "duration": 37,
    "start_time": "2022-02-10T12:02:46.354Z"
   },
   {
    "duration": 9,
    "start_time": "2022-02-10T12:02:46.394Z"
   },
   {
    "duration": 10,
    "start_time": "2022-02-10T12:02:46.406Z"
   },
   {
    "duration": 15,
    "start_time": "2022-02-10T12:02:46.419Z"
   },
   {
    "duration": 67,
    "start_time": "2022-02-10T12:02:46.469Z"
   },
   {
    "duration": 28,
    "start_time": "2022-02-10T12:02:46.541Z"
   },
   {
    "duration": 5,
    "start_time": "2022-02-10T12:02:46.572Z"
   },
   {
    "duration": 45,
    "start_time": "2022-02-10T12:02:46.580Z"
   },
   {
    "duration": 61,
    "start_time": "2022-02-10T12:02:46.627Z"
   },
   {
    "duration": 21,
    "start_time": "2022-02-10T12:02:46.691Z"
   },
   {
    "duration": 56,
    "start_time": "2022-02-10T12:02:46.715Z"
   },
   {
    "duration": 25,
    "start_time": "2022-02-10T12:02:46.774Z"
   },
   {
    "duration": 21,
    "start_time": "2022-02-10T12:02:46.802Z"
   },
   {
    "duration": 67,
    "start_time": "2022-02-10T12:02:46.826Z"
   },
   {
    "duration": 34,
    "start_time": "2022-02-10T12:02:46.895Z"
   },
   {
    "duration": 53,
    "start_time": "2022-02-10T12:02:46.931Z"
   },
   {
    "duration": 10,
    "start_time": "2022-02-10T12:02:46.987Z"
   },
   {
    "duration": 6,
    "start_time": "2022-02-10T12:02:47.000Z"
   },
   {
    "duration": 28,
    "start_time": "2022-02-10T12:02:47.008Z"
   },
   {
    "duration": 33,
    "start_time": "2022-02-10T12:02:47.039Z"
   },
   {
    "duration": 15,
    "start_time": "2022-02-10T12:02:47.079Z"
   },
   {
    "duration": 7,
    "start_time": "2022-02-10T12:02:47.098Z"
   },
   {
    "duration": 7,
    "start_time": "2022-02-10T12:02:47.108Z"
   },
   {
    "duration": 157,
    "start_time": "2022-02-10T12:02:47.118Z"
   },
   {
    "duration": 14,
    "start_time": "2022-02-10T12:02:47.278Z"
   },
   {
    "duration": 47,
    "start_time": "2022-02-10T12:02:47.295Z"
   },
   {
    "duration": 25,
    "start_time": "2022-02-10T12:02:47.345Z"
   },
   {
    "duration": 45,
    "start_time": "2022-02-10T12:02:47.374Z"
   },
   {
    "duration": 61,
    "start_time": "2022-02-10T12:02:47.424Z"
   },
   {
    "duration": 26,
    "start_time": "2022-02-10T12:02:47.488Z"
   },
   {
    "duration": 57,
    "start_time": "2022-02-10T12:02:47.516Z"
   },
   {
    "duration": 36,
    "start_time": "2022-02-10T12:02:47.575Z"
   },
   {
    "duration": 8,
    "start_time": "2022-02-10T12:02:47.613Z"
   },
   {
    "duration": 8,
    "start_time": "2022-02-10T12:02:47.623Z"
   },
   {
    "duration": 10,
    "start_time": "2022-02-10T12:02:47.669Z"
   },
   {
    "duration": 10,
    "start_time": "2022-02-10T12:02:47.682Z"
   },
   {
    "duration": 11,
    "start_time": "2022-02-10T12:02:47.694Z"
   },
   {
    "duration": 4,
    "start_time": "2022-02-10T12:02:47.708Z"
   },
   {
    "duration": 67,
    "start_time": "2022-02-10T12:02:47.715Z"
   },
   {
    "duration": 12,
    "start_time": "2022-02-10T12:02:47.785Z"
   },
   {
    "duration": 24,
    "start_time": "2022-02-10T12:02:47.800Z"
   },
   {
    "duration": 14,
    "start_time": "2022-02-10T12:02:47.826Z"
   },
   {
    "duration": 34,
    "start_time": "2022-02-10T12:02:47.843Z"
   },
   {
    "duration": 6,
    "start_time": "2022-02-10T12:03:24.966Z"
   },
   {
    "duration": 30,
    "start_time": "2022-02-10T12:03:26.757Z"
   },
   {
    "duration": 11,
    "start_time": "2022-02-10T12:03:28.678Z"
   },
   {
    "duration": 15,
    "start_time": "2022-02-10T12:03:29.380Z"
   },
   {
    "duration": 440,
    "start_time": "2022-02-10T12:13:16.512Z"
   },
   {
    "duration": 1247,
    "start_time": "2022-02-10T12:15:32.158Z"
   },
   {
    "duration": 7,
    "start_time": "2022-02-10T12:16:31.753Z"
   },
   {
    "duration": 8,
    "start_time": "2022-02-10T12:17:54.473Z"
   },
   {
    "duration": 8,
    "start_time": "2022-02-10T12:18:14.904Z"
   },
   {
    "duration": 7,
    "start_time": "2022-02-10T12:18:30.669Z"
   },
   {
    "duration": 9,
    "start_time": "2022-02-10T12:18:31.678Z"
   },
   {
    "duration": 1765,
    "start_time": "2022-02-10T12:21:02.633Z"
   },
   {
    "duration": 2413,
    "start_time": "2022-02-10T12:21:04.401Z"
   },
   {
    "duration": 50,
    "start_time": "2022-02-10T12:21:06.819Z"
   },
   {
    "duration": 14,
    "start_time": "2022-02-10T12:21:06.874Z"
   },
   {
    "duration": 17,
    "start_time": "2022-02-10T12:21:06.891Z"
   },
   {
    "duration": 18,
    "start_time": "2022-02-10T12:21:06.911Z"
   },
   {
    "duration": 74,
    "start_time": "2022-02-10T12:21:06.932Z"
   },
   {
    "duration": 8,
    "start_time": "2022-02-10T12:21:07.008Z"
   },
   {
    "duration": 9,
    "start_time": "2022-02-10T12:21:07.021Z"
   },
   {
    "duration": 98,
    "start_time": "2022-02-10T12:21:07.033Z"
   },
   {
    "duration": 43,
    "start_time": "2022-02-10T12:21:07.134Z"
   },
   {
    "duration": 23,
    "start_time": "2022-02-10T12:21:07.179Z"
   },
   {
    "duration": 33,
    "start_time": "2022-02-10T12:21:07.205Z"
   },
   {
    "duration": 52,
    "start_time": "2022-02-10T12:21:07.241Z"
   },
   {
    "duration": 22,
    "start_time": "2022-02-10T12:21:07.296Z"
   },
   {
    "duration": 68,
    "start_time": "2022-02-10T12:21:07.321Z"
   },
   {
    "duration": 39,
    "start_time": "2022-02-10T12:21:07.393Z"
   },
   {
    "duration": 54,
    "start_time": "2022-02-10T12:21:07.435Z"
   },
   {
    "duration": 13,
    "start_time": "2022-02-10T12:21:07.492Z"
   },
   {
    "duration": 7,
    "start_time": "2022-02-10T12:21:07.508Z"
   },
   {
    "duration": 28,
    "start_time": "2022-02-10T12:21:07.518Z"
   },
   {
    "duration": 10,
    "start_time": "2022-02-10T12:21:07.570Z"
   },
   {
    "duration": 29,
    "start_time": "2022-02-10T12:21:07.583Z"
   },
   {
    "duration": 19,
    "start_time": "2022-02-10T12:21:07.615Z"
   },
   {
    "duration": 27,
    "start_time": "2022-02-10T12:21:07.638Z"
   },
   {
    "duration": 125,
    "start_time": "2022-02-10T12:21:07.668Z"
   },
   {
    "duration": 23,
    "start_time": "2022-02-10T12:21:07.802Z"
   },
   {
    "duration": 89,
    "start_time": "2022-02-10T12:21:07.829Z"
   },
   {
    "duration": 5,
    "start_time": "2022-02-10T12:21:07.921Z"
   },
   {
    "duration": 68,
    "start_time": "2022-02-10T12:21:07.929Z"
   },
   {
    "duration": 33,
    "start_time": "2022-02-10T12:21:08.000Z"
   },
   {
    "duration": 53,
    "start_time": "2022-02-10T12:21:08.036Z"
   },
   {
    "duration": 32,
    "start_time": "2022-02-10T12:21:08.092Z"
   },
   {
    "duration": 71,
    "start_time": "2022-02-10T12:21:08.127Z"
   },
   {
    "duration": 11,
    "start_time": "2022-02-10T12:21:08.201Z"
   },
   {
    "duration": 17,
    "start_time": "2022-02-10T12:21:08.215Z"
   },
   {
    "duration": 33,
    "start_time": "2022-02-10T12:21:08.235Z"
   },
   {
    "duration": 16,
    "start_time": "2022-02-10T12:21:08.271Z"
   },
   {
    "duration": 16,
    "start_time": "2022-02-10T12:21:08.290Z"
   },
   {
    "duration": 8,
    "start_time": "2022-02-10T12:21:08.309Z"
   },
   {
    "duration": 59,
    "start_time": "2022-02-10T12:21:08.320Z"
   },
   {
    "duration": 11,
    "start_time": "2022-02-10T12:21:08.382Z"
   },
   {
    "duration": 26,
    "start_time": "2022-02-10T12:21:08.396Z"
   },
   {
    "duration": 12,
    "start_time": "2022-02-10T12:21:08.425Z"
   },
   {
    "duration": 9,
    "start_time": "2022-02-10T12:22:16.728Z"
   },
   {
    "duration": 483,
    "start_time": "2022-02-10T12:24:17.969Z"
   },
   {
    "duration": 315,
    "start_time": "2022-02-10T12:24:24.276Z"
   },
   {
    "duration": 66,
    "start_time": "2022-02-10T12:24:29.235Z"
   },
   {
    "duration": 9,
    "start_time": "2022-02-10T12:24:39.453Z"
   },
   {
    "duration": 96,
    "start_time": "2022-02-10T12:25:28.723Z"
   },
   {
    "duration": 9,
    "start_time": "2022-02-10T12:25:29.731Z"
   },
   {
    "duration": 346,
    "start_time": "2022-02-10T12:39:12.588Z"
   },
   {
    "duration": 47,
    "start_time": "2022-02-10T12:39:41.691Z"
   },
   {
    "duration": 104,
    "start_time": "2022-02-10T13:11:39.008Z"
   },
   {
    "duration": 297,
    "start_time": "2022-02-10T13:11:47.742Z"
   },
   {
    "duration": 15,
    "start_time": "2022-02-10T13:12:03.586Z"
   },
   {
    "duration": 9,
    "start_time": "2022-02-10T13:12:16.864Z"
   },
   {
    "duration": 45,
    "start_time": "2022-02-10T13:15:32.110Z"
   },
   {
    "duration": 9,
    "start_time": "2022-02-10T13:25:55.048Z"
   },
   {
    "duration": 53,
    "start_time": "2022-02-10T13:26:02.446Z"
   },
   {
    "duration": 14,
    "start_time": "2022-02-10T13:40:11.912Z"
   },
   {
    "duration": 51,
    "start_time": "2022-02-10T13:40:55.135Z"
   },
   {
    "duration": 12,
    "start_time": "2022-02-10T13:41:19.587Z"
   },
   {
    "duration": 51,
    "start_time": "2022-02-10T13:41:20.806Z"
   },
   {
    "duration": 1530,
    "start_time": "2022-02-10T13:41:51.124Z"
   },
   {
    "duration": 533,
    "start_time": "2022-02-10T13:41:52.656Z"
   },
   {
    "duration": 32,
    "start_time": "2022-02-10T13:41:53.192Z"
   },
   {
    "duration": 9,
    "start_time": "2022-02-10T13:41:53.228Z"
   },
   {
    "duration": 31,
    "start_time": "2022-02-10T13:41:53.241Z"
   },
   {
    "duration": 16,
    "start_time": "2022-02-10T13:41:53.275Z"
   },
   {
    "duration": 47,
    "start_time": "2022-02-10T13:41:53.294Z"
   },
   {
    "duration": 7,
    "start_time": "2022-02-10T13:41:53.370Z"
   },
   {
    "duration": 15,
    "start_time": "2022-02-10T13:41:53.380Z"
   },
   {
    "duration": 52,
    "start_time": "2022-02-10T13:41:53.398Z"
   },
   {
    "duration": 45,
    "start_time": "2022-02-10T13:41:53.452Z"
   },
   {
    "duration": 23,
    "start_time": "2022-02-10T13:41:53.501Z"
   },
   {
    "duration": 63,
    "start_time": "2022-02-10T13:41:53.526Z"
   },
   {
    "duration": 27,
    "start_time": "2022-02-10T13:41:53.591Z"
   },
   {
    "duration": 53,
    "start_time": "2022-02-10T13:41:53.620Z"
   },
   {
    "duration": 40,
    "start_time": "2022-02-10T13:41:53.676Z"
   },
   {
    "duration": 54,
    "start_time": "2022-02-10T13:41:53.718Z"
   },
   {
    "duration": 25,
    "start_time": "2022-02-10T13:41:53.774Z"
   },
   {
    "duration": 12,
    "start_time": "2022-02-10T13:41:53.802Z"
   },
   {
    "duration": 6,
    "start_time": "2022-02-10T13:41:53.817Z"
   },
   {
    "duration": 48,
    "start_time": "2022-02-10T13:41:53.826Z"
   },
   {
    "duration": 9,
    "start_time": "2022-02-10T13:41:53.876Z"
   },
   {
    "duration": 15,
    "start_time": "2022-02-10T13:41:53.891Z"
   },
   {
    "duration": 5,
    "start_time": "2022-02-10T13:41:53.911Z"
   },
   {
    "duration": 9,
    "start_time": "2022-02-10T13:41:53.919Z"
   },
   {
    "duration": 157,
    "start_time": "2022-02-10T13:41:53.931Z"
   },
   {
    "duration": 21,
    "start_time": "2022-02-10T13:41:54.091Z"
   },
   {
    "duration": 91,
    "start_time": "2022-02-10T13:41:54.115Z"
   },
   {
    "duration": 5,
    "start_time": "2022-02-10T13:41:54.209Z"
   },
   {
    "duration": 79,
    "start_time": "2022-02-10T13:41:54.217Z"
   },
   {
    "duration": 27,
    "start_time": "2022-02-10T13:41:54.299Z"
   },
   {
    "duration": 62,
    "start_time": "2022-02-10T13:41:54.329Z"
   },
   {
    "duration": 42,
    "start_time": "2022-02-10T13:41:54.393Z"
   },
   {
    "duration": 59,
    "start_time": "2022-02-10T13:41:54.438Z"
   },
   {
    "duration": 8,
    "start_time": "2022-02-10T13:41:54.500Z"
   },
   {
    "duration": 8,
    "start_time": "2022-02-10T13:41:54.511Z"
   },
   {
    "duration": 51,
    "start_time": "2022-02-10T13:41:54.521Z"
   },
   {
    "duration": 12,
    "start_time": "2022-02-10T13:41:54.575Z"
   },
   {
    "duration": 13,
    "start_time": "2022-02-10T13:41:54.589Z"
   },
   {
    "duration": 6,
    "start_time": "2022-02-10T13:41:54.605Z"
   },
   {
    "duration": 73,
    "start_time": "2022-02-10T13:41:54.614Z"
   },
   {
    "duration": 7,
    "start_time": "2022-02-10T13:41:54.690Z"
   },
   {
    "duration": 34,
    "start_time": "2022-02-10T13:41:54.700Z"
   },
   {
    "duration": 40,
    "start_time": "2022-02-10T13:41:54.738Z"
   },
   {
    "duration": 61,
    "start_time": "2022-02-10T13:41:54.782Z"
   },
   {
    "duration": 32,
    "start_time": "2022-02-10T13:41:54.846Z"
   },
   {
    "duration": 72,
    "start_time": "2022-02-10T13:41:54.881Z"
   },
   {
    "duration": 38,
    "start_time": "2022-02-10T13:42:20.359Z"
   },
   {
    "duration": 41,
    "start_time": "2022-02-10T13:42:37.055Z"
   },
   {
    "duration": 8,
    "start_time": "2022-02-10T13:49:27.255Z"
   },
   {
    "duration": 37,
    "start_time": "2022-02-10T13:49:28.954Z"
   },
   {
    "duration": 10,
    "start_time": "2022-02-10T13:49:50.038Z"
   },
   {
    "duration": 62,
    "start_time": "2022-02-10T13:49:56.164Z"
   },
   {
    "duration": 29,
    "start_time": "2022-02-10T13:50:15.257Z"
   },
   {
    "duration": 6,
    "start_time": "2022-02-10T13:50:44.312Z"
   },
   {
    "duration": 624,
    "start_time": "2022-02-10T13:58:51.672Z"
   },
   {
    "duration": 7,
    "start_time": "2022-02-10T13:59:00.603Z"
   },
   {
    "duration": 22,
    "start_time": "2022-02-10T14:07:35.377Z"
   },
   {
    "duration": 30,
    "start_time": "2022-02-10T14:07:48.474Z"
   },
   {
    "duration": 1093,
    "start_time": "2022-02-11T07:50:53.017Z"
   },
   {
    "duration": 353,
    "start_time": "2022-02-11T07:50:54.112Z"
   },
   {
    "duration": 18,
    "start_time": "2022-02-11T07:50:54.467Z"
   },
   {
    "duration": 6,
    "start_time": "2022-02-11T07:50:54.486Z"
   },
   {
    "duration": 6,
    "start_time": "2022-02-11T07:50:54.493Z"
   },
   {
    "duration": 8,
    "start_time": "2022-02-11T07:50:54.500Z"
   },
   {
    "duration": 29,
    "start_time": "2022-02-11T07:50:54.509Z"
   },
   {
    "duration": 3,
    "start_time": "2022-02-11T07:50:54.540Z"
   },
   {
    "duration": 8,
    "start_time": "2022-02-11T07:50:54.545Z"
   },
   {
    "duration": 29,
    "start_time": "2022-02-11T07:50:54.554Z"
   },
   {
    "duration": 20,
    "start_time": "2022-02-11T07:50:54.584Z"
   },
   {
    "duration": 31,
    "start_time": "2022-02-11T07:50:54.605Z"
   },
   {
    "duration": 20,
    "start_time": "2022-02-11T07:50:54.637Z"
   },
   {
    "duration": 20,
    "start_time": "2022-02-11T07:50:54.658Z"
   },
   {
    "duration": 14,
    "start_time": "2022-02-11T07:50:54.679Z"
   },
   {
    "duration": 44,
    "start_time": "2022-02-11T07:50:54.694Z"
   },
   {
    "duration": 19,
    "start_time": "2022-02-11T07:50:54.739Z"
   },
   {
    "duration": 15,
    "start_time": "2022-02-11T07:50:54.760Z"
   },
   {
    "duration": 7,
    "start_time": "2022-02-11T07:50:54.776Z"
   },
   {
    "duration": 3,
    "start_time": "2022-02-11T07:50:54.784Z"
   },
   {
    "duration": 17,
    "start_time": "2022-02-11T07:50:54.788Z"
   },
   {
    "duration": 21,
    "start_time": "2022-02-11T07:50:54.807Z"
   },
   {
    "duration": 6,
    "start_time": "2022-02-11T07:50:54.832Z"
   },
   {
    "duration": 4,
    "start_time": "2022-02-11T07:50:54.840Z"
   },
   {
    "duration": 6,
    "start_time": "2022-02-11T07:50:54.845Z"
   },
   {
    "duration": 49,
    "start_time": "2022-02-11T07:50:54.852Z"
   },
   {
    "duration": 30,
    "start_time": "2022-02-11T07:50:54.902Z"
   },
   {
    "duration": 32,
    "start_time": "2022-02-11T07:50:54.933Z"
   },
   {
    "duration": 2,
    "start_time": "2022-02-11T07:50:54.966Z"
   },
   {
    "duration": 23,
    "start_time": "2022-02-11T07:50:54.970Z"
   },
   {
    "duration": 12,
    "start_time": "2022-02-11T07:50:54.994Z"
   },
   {
    "duration": 31,
    "start_time": "2022-02-11T07:50:55.008Z"
   },
   {
    "duration": 17,
    "start_time": "2022-02-11T07:50:55.040Z"
   },
   {
    "duration": 18,
    "start_time": "2022-02-11T07:50:55.059Z"
   },
   {
    "duration": 5,
    "start_time": "2022-02-11T07:50:55.079Z"
   },
   {
    "duration": 5,
    "start_time": "2022-02-11T07:50:55.085Z"
   },
   {
    "duration": 36,
    "start_time": "2022-02-11T07:50:55.092Z"
   },
   {
    "duration": 9,
    "start_time": "2022-02-11T07:50:55.129Z"
   },
   {
    "duration": 7,
    "start_time": "2022-02-11T07:50:55.140Z"
   },
   {
    "duration": 6,
    "start_time": "2022-02-11T07:50:55.148Z"
   },
   {
    "duration": 12,
    "start_time": "2022-02-11T07:50:55.155Z"
   },
   {
    "duration": 3,
    "start_time": "2022-02-11T07:50:55.169Z"
   },
   {
    "duration": 15,
    "start_time": "2022-02-11T07:50:55.174Z"
   },
   {
    "duration": 7,
    "start_time": "2022-02-11T07:50:55.191Z"
   },
   {
    "duration": 45,
    "start_time": "2022-02-11T07:50:55.199Z"
   },
   {
    "duration": 6,
    "start_time": "2022-02-11T07:50:55.246Z"
   },
   {
    "duration": 9,
    "start_time": "2022-02-11T07:50:55.253Z"
   },
   {
    "duration": 18,
    "start_time": "2022-02-11T07:50:55.263Z"
   },
   {
    "duration": 25,
    "start_time": "2022-02-11T07:54:06.264Z"
   },
   {
    "duration": 25,
    "start_time": "2022-02-11T07:56:07.793Z"
   },
   {
    "duration": 350,
    "start_time": "2022-02-11T08:03:52.355Z"
   },
   {
    "duration": 29,
    "start_time": "2022-02-11T08:04:26.988Z"
   },
   {
    "duration": 56,
    "start_time": "2022-02-11T08:04:39.956Z"
   },
   {
    "duration": 23,
    "start_time": "2022-02-11T08:05:32.936Z"
   },
   {
    "duration": 24,
    "start_time": "2022-02-11T08:06:52.589Z"
   },
   {
    "duration": 23,
    "start_time": "2022-02-11T08:07:02.959Z"
   },
   {
    "duration": 8,
    "start_time": "2022-02-11T08:08:35.924Z"
   },
   {
    "duration": 8,
    "start_time": "2022-02-11T08:08:56.836Z"
   },
   {
    "duration": 8,
    "start_time": "2022-02-11T08:09:24.764Z"
   },
   {
    "duration": 7,
    "start_time": "2022-02-11T08:11:32.339Z"
   },
   {
    "duration": 8,
    "start_time": "2022-02-11T08:12:01.479Z"
   },
   {
    "duration": 7,
    "start_time": "2022-02-11T08:12:26.576Z"
   },
   {
    "duration": 18,
    "start_time": "2022-02-11T08:28:13.024Z"
   },
   {
    "duration": 23,
    "start_time": "2022-02-11T08:39:38.206Z"
   },
   {
    "duration": 9,
    "start_time": "2022-02-11T08:40:10.886Z"
   },
   {
    "duration": 7,
    "start_time": "2022-02-11T08:41:02.569Z"
   },
   {
    "duration": 7,
    "start_time": "2022-02-11T08:41:21.190Z"
   },
   {
    "duration": 8,
    "start_time": "2022-02-11T08:41:41.416Z"
   },
   {
    "duration": 17,
    "start_time": "2022-02-11T08:44:13.884Z"
   },
   {
    "duration": 18,
    "start_time": "2022-02-11T08:45:18.214Z"
   },
   {
    "duration": 14,
    "start_time": "2022-02-11T08:49:45.992Z"
   },
   {
    "duration": 171,
    "start_time": "2022-02-11T08:55:42.442Z"
   },
   {
    "duration": 7037,
    "start_time": "2022-02-11T08:57:44.470Z"
   },
   {
    "duration": 269,
    "start_time": "2022-02-11T09:07:11.779Z"
   },
   {
    "duration": 190,
    "start_time": "2022-02-11T09:12:20.741Z"
   },
   {
    "duration": 191,
    "start_time": "2022-02-11T09:12:34.748Z"
   },
   {
    "duration": 209,
    "start_time": "2022-02-11T09:15:57.808Z"
   },
   {
    "duration": 189,
    "start_time": "2022-02-11T09:17:54.827Z"
   },
   {
    "duration": 230,
    "start_time": "2022-02-11T09:18:38.972Z"
   },
   {
    "duration": 182,
    "start_time": "2022-02-11T09:18:44.553Z"
   },
   {
    "duration": 284,
    "start_time": "2022-02-11T09:18:53.913Z"
   },
   {
    "duration": 213,
    "start_time": "2022-02-11T09:19:08.020Z"
   },
   {
    "duration": 222,
    "start_time": "2022-02-11T09:19:59.760Z"
   },
   {
    "duration": 167,
    "start_time": "2022-02-11T09:23:25.378Z"
   },
   {
    "duration": 169,
    "start_time": "2022-02-11T09:23:40.339Z"
   },
   {
    "duration": 178,
    "start_time": "2022-02-11T09:24:34.678Z"
   },
   {
    "duration": 172,
    "start_time": "2022-02-11T09:25:01.238Z"
   },
   {
    "duration": 178,
    "start_time": "2022-02-11T09:32:46.883Z"
   },
   {
    "duration": 231,
    "start_time": "2022-02-11T09:38:37.309Z"
   },
   {
    "duration": 23,
    "start_time": "2022-02-11T09:47:40.057Z"
   },
   {
    "duration": 20,
    "start_time": "2022-02-11T09:50:46.733Z"
   },
   {
    "duration": 1111,
    "start_time": "2022-02-11T09:50:54.213Z"
   },
   {
    "duration": 376,
    "start_time": "2022-02-11T09:50:55.326Z"
   },
   {
    "duration": 20,
    "start_time": "2022-02-11T09:50:55.703Z"
   },
   {
    "duration": 6,
    "start_time": "2022-02-11T09:50:55.724Z"
   },
   {
    "duration": 7,
    "start_time": "2022-02-11T09:50:55.731Z"
   },
   {
    "duration": 12,
    "start_time": "2022-02-11T09:50:55.740Z"
   },
   {
    "duration": 31,
    "start_time": "2022-02-11T09:50:55.754Z"
   },
   {
    "duration": 3,
    "start_time": "2022-02-11T09:50:55.787Z"
   },
   {
    "duration": 4,
    "start_time": "2022-02-11T09:50:55.792Z"
   },
   {
    "duration": 28,
    "start_time": "2022-02-11T09:50:55.798Z"
   },
   {
    "duration": 20,
    "start_time": "2022-02-11T09:50:55.828Z"
   },
   {
    "duration": 14,
    "start_time": "2022-02-11T09:50:55.849Z"
   },
   {
    "duration": 20,
    "start_time": "2022-02-11T09:50:55.864Z"
   },
   {
    "duration": 15,
    "start_time": "2022-02-11T09:50:55.886Z"
   },
   {
    "duration": 13,
    "start_time": "2022-02-11T09:50:55.903Z"
   },
   {
    "duration": 28,
    "start_time": "2022-02-11T09:50:55.918Z"
   },
   {
    "duration": 20,
    "start_time": "2022-02-11T09:50:55.948Z"
   },
   {
    "duration": 17,
    "start_time": "2022-02-11T09:50:55.969Z"
   },
   {
    "duration": 17,
    "start_time": "2022-02-11T09:50:55.987Z"
   },
   {
    "duration": 4,
    "start_time": "2022-02-11T09:50:56.006Z"
   },
   {
    "duration": 19,
    "start_time": "2022-02-11T09:50:56.011Z"
   },
   {
    "duration": 5,
    "start_time": "2022-02-11T09:50:56.032Z"
   },
   {
    "duration": 8,
    "start_time": "2022-02-11T09:50:56.040Z"
   },
   {
    "duration": 9,
    "start_time": "2022-02-11T09:50:56.050Z"
   },
   {
    "duration": 5,
    "start_time": "2022-02-11T09:50:56.061Z"
   },
   {
    "duration": 70,
    "start_time": "2022-02-11T09:50:56.068Z"
   },
   {
    "duration": 9,
    "start_time": "2022-02-11T09:50:56.139Z"
   },
   {
    "duration": 29,
    "start_time": "2022-02-11T09:50:56.150Z"
   },
   {
    "duration": 2,
    "start_time": "2022-02-11T09:50:56.181Z"
   },
   {
    "duration": 49,
    "start_time": "2022-02-11T09:50:56.184Z"
   },
   {
    "duration": 13,
    "start_time": "2022-02-11T09:50:56.234Z"
   },
   {
    "duration": 14,
    "start_time": "2022-02-11T09:50:56.249Z"
   },
   {
    "duration": 17,
    "start_time": "2022-02-11T09:50:56.264Z"
   },
   {
    "duration": 19,
    "start_time": "2022-02-11T09:50:56.282Z"
   },
   {
    "duration": 5,
    "start_time": "2022-02-11T09:50:56.303Z"
   },
   {
    "duration": 18,
    "start_time": "2022-02-11T09:50:56.309Z"
   },
   {
    "duration": 18,
    "start_time": "2022-02-11T09:50:56.328Z"
   },
   {
    "duration": 7,
    "start_time": "2022-02-11T09:50:56.348Z"
   },
   {
    "duration": 7,
    "start_time": "2022-02-11T09:50:56.357Z"
   },
   {
    "duration": 10,
    "start_time": "2022-02-11T09:50:56.365Z"
   },
   {
    "duration": 21,
    "start_time": "2022-02-11T09:50:56.376Z"
   },
   {
    "duration": 5,
    "start_time": "2022-02-11T09:50:56.398Z"
   },
   {
    "duration": 11,
    "start_time": "2022-02-11T09:50:56.427Z"
   },
   {
    "duration": 12,
    "start_time": "2022-02-11T09:50:56.439Z"
   },
   {
    "duration": 19,
    "start_time": "2022-02-11T09:50:56.452Z"
   },
   {
    "duration": 9,
    "start_time": "2022-02-11T09:50:56.473Z"
   },
   {
    "duration": 9,
    "start_time": "2022-02-11T09:50:56.483Z"
   },
   {
    "duration": 23,
    "start_time": "2022-02-11T09:50:56.494Z"
   },
   {
    "duration": 24,
    "start_time": "2022-02-11T09:50:56.518Z"
   },
   {
    "duration": 24,
    "start_time": "2022-02-11T09:50:56.543Z"
   },
   {
    "duration": 24,
    "start_time": "2022-02-11T09:50:56.568Z"
   },
   {
    "duration": 8,
    "start_time": "2022-02-11T09:50:56.593Z"
   },
   {
    "duration": 12,
    "start_time": "2022-02-11T09:50:56.602Z"
   },
   {
    "duration": 8,
    "start_time": "2022-02-11T09:50:56.616Z"
   },
   {
    "duration": 7,
    "start_time": "2022-02-11T09:50:56.625Z"
   },
   {
    "duration": 17,
    "start_time": "2022-02-11T09:50:56.634Z"
   },
   {
    "duration": 19,
    "start_time": "2022-02-11T09:50:56.652Z"
   },
   {
    "duration": 24,
    "start_time": "2022-02-11T09:50:56.673Z"
   },
   {
    "duration": 7,
    "start_time": "2022-02-11T09:50:56.698Z"
   },
   {
    "duration": 7,
    "start_time": "2022-02-11T09:50:56.707Z"
   },
   {
    "duration": 9,
    "start_time": "2022-02-11T09:50:56.716Z"
   },
   {
    "duration": 6,
    "start_time": "2022-02-11T09:50:56.727Z"
   },
   {
    "duration": 16,
    "start_time": "2022-02-11T09:50:56.735Z"
   },
   {
    "duration": 18,
    "start_time": "2022-02-11T09:50:56.752Z"
   },
   {
    "duration": 178,
    "start_time": "2022-02-11T09:50:56.771Z"
   },
   {
    "duration": 175,
    "start_time": "2022-02-11T09:57:02.541Z"
   },
   {
    "duration": 90,
    "start_time": "2022-02-11T10:06:45.139Z"
   },
   {
    "duration": 169,
    "start_time": "2022-02-11T10:07:03.617Z"
   },
   {
    "duration": 172,
    "start_time": "2022-02-11T10:11:09.803Z"
   },
   {
    "duration": 185,
    "start_time": "2022-02-11T10:21:01.011Z"
   },
   {
    "duration": 172,
    "start_time": "2022-02-11T10:32:29.665Z"
   },
   {
    "duration": 228,
    "start_time": "2022-02-11T10:32:55.049Z"
   },
   {
    "duration": 1147,
    "start_time": "2022-02-11T13:57:35.283Z"
   },
   {
    "duration": 359,
    "start_time": "2022-02-11T13:57:36.432Z"
   },
   {
    "duration": 19,
    "start_time": "2022-02-11T13:57:36.793Z"
   },
   {
    "duration": 5,
    "start_time": "2022-02-11T13:57:36.814Z"
   },
   {
    "duration": 11,
    "start_time": "2022-02-11T13:57:36.821Z"
   },
   {
    "duration": 8,
    "start_time": "2022-02-11T13:57:36.834Z"
   },
   {
    "duration": 33,
    "start_time": "2022-02-11T13:57:36.843Z"
   },
   {
    "duration": 5,
    "start_time": "2022-02-11T13:57:36.880Z"
   },
   {
    "duration": 29,
    "start_time": "2022-02-11T13:57:36.887Z"
   },
   {
    "duration": 32,
    "start_time": "2022-02-11T13:57:36.918Z"
   },
   {
    "duration": 22,
    "start_time": "2022-02-11T13:57:36.952Z"
   },
   {
    "duration": 42,
    "start_time": "2022-02-11T13:57:36.976Z"
   },
   {
    "duration": 21,
    "start_time": "2022-02-11T13:57:37.020Z"
   },
   {
    "duration": 18,
    "start_time": "2022-02-11T13:57:37.043Z"
   },
   {
    "duration": 14,
    "start_time": "2022-02-11T13:57:37.062Z"
   },
   {
    "duration": 50,
    "start_time": "2022-02-11T13:57:37.077Z"
   },
   {
    "duration": 23,
    "start_time": "2022-02-11T13:57:37.129Z"
   },
   {
    "duration": 18,
    "start_time": "2022-02-11T13:57:37.153Z"
   },
   {
    "duration": 5,
    "start_time": "2022-02-11T13:57:37.172Z"
   },
   {
    "duration": 4,
    "start_time": "2022-02-11T13:57:37.178Z"
   },
   {
    "duration": 44,
    "start_time": "2022-02-11T13:57:37.184Z"
   },
   {
    "duration": 6,
    "start_time": "2022-02-11T13:57:37.229Z"
   },
   {
    "duration": 8,
    "start_time": "2022-02-11T13:57:37.239Z"
   },
   {
    "duration": 3,
    "start_time": "2022-02-11T13:57:37.249Z"
   },
   {
    "duration": 5,
    "start_time": "2022-02-11T13:57:37.253Z"
   },
   {
    "duration": 85,
    "start_time": "2022-02-11T13:57:37.259Z"
   },
   {
    "duration": 9,
    "start_time": "2022-02-11T13:57:37.346Z"
   },
   {
    "duration": 29,
    "start_time": "2022-02-11T13:57:37.357Z"
   },
   {
    "duration": 3,
    "start_time": "2022-02-11T13:57:37.388Z"
   },
   {
    "duration": 24,
    "start_time": "2022-02-11T13:57:37.412Z"
   },
   {
    "duration": 14,
    "start_time": "2022-02-11T13:57:37.437Z"
   },
   {
    "duration": 15,
    "start_time": "2022-02-11T13:57:37.452Z"
   },
   {
    "duration": 48,
    "start_time": "2022-02-11T13:57:37.469Z"
   },
   {
    "duration": 22,
    "start_time": "2022-02-11T13:57:37.519Z"
   },
   {
    "duration": 6,
    "start_time": "2022-02-11T13:57:37.543Z"
   },
   {
    "duration": 5,
    "start_time": "2022-02-11T13:57:37.551Z"
   },
   {
    "duration": 6,
    "start_time": "2022-02-11T13:57:37.557Z"
   },
   {
    "duration": 7,
    "start_time": "2022-02-11T13:57:37.565Z"
   },
   {
    "duration": 9,
    "start_time": "2022-02-11T13:57:37.612Z"
   },
   {
    "duration": 6,
    "start_time": "2022-02-11T13:57:37.623Z"
   },
   {
    "duration": 23,
    "start_time": "2022-02-11T13:57:37.630Z"
   },
   {
    "duration": 4,
    "start_time": "2022-02-11T13:57:37.654Z"
   },
   {
    "duration": 19,
    "start_time": "2022-02-11T13:57:37.660Z"
   },
   {
    "duration": 8,
    "start_time": "2022-02-11T13:57:37.680Z"
   },
   {
    "duration": 38,
    "start_time": "2022-02-11T13:57:37.689Z"
   },
   {
    "duration": 8,
    "start_time": "2022-02-11T13:57:37.729Z"
   },
   {
    "duration": 14,
    "start_time": "2022-02-11T13:57:37.739Z"
   },
   {
    "duration": 22,
    "start_time": "2022-02-11T13:57:37.754Z"
   },
   {
    "duration": 43,
    "start_time": "2022-02-11T13:57:37.778Z"
   },
   {
    "duration": 26,
    "start_time": "2022-02-11T13:57:37.823Z"
   },
   {
    "duration": 26,
    "start_time": "2022-02-11T13:57:37.850Z"
   },
   {
    "duration": 9,
    "start_time": "2022-02-11T13:57:37.878Z"
   },
   {
    "duration": 30,
    "start_time": "2022-02-11T13:57:37.889Z"
   },
   {
    "duration": 8,
    "start_time": "2022-02-11T13:57:37.921Z"
   },
   {
    "duration": 8,
    "start_time": "2022-02-11T13:57:37.931Z"
   },
   {
    "duration": 20,
    "start_time": "2022-02-11T13:57:37.941Z"
   },
   {
    "duration": 66,
    "start_time": "2022-02-11T13:57:37.963Z"
   },
   {
    "duration": 25,
    "start_time": "2022-02-11T13:57:38.031Z"
   },
   {
    "duration": 8,
    "start_time": "2022-02-11T13:57:38.058Z"
   },
   {
    "duration": 8,
    "start_time": "2022-02-11T13:57:38.067Z"
   },
   {
    "duration": 6,
    "start_time": "2022-02-11T13:57:38.076Z"
   },
   {
    "duration": 6,
    "start_time": "2022-02-11T13:57:38.112Z"
   },
   {
    "duration": 20,
    "start_time": "2022-02-11T13:57:38.120Z"
   },
   {
    "duration": 22,
    "start_time": "2022-02-11T13:57:38.141Z"
   },
   {
    "duration": 232,
    "start_time": "2022-02-11T13:57:38.165Z"
   },
   {
    "duration": 212,
    "start_time": "2022-02-11T13:57:38.399Z"
   },
   {
    "duration": 209,
    "start_time": "2022-02-11T13:57:38.613Z"
   },
   {
    "duration": 15,
    "start_time": "2022-02-11T14:18:09.835Z"
   },
   {
    "duration": 6,
    "start_time": "2022-02-11T14:28:31.085Z"
   },
   {
    "duration": 10,
    "start_time": "2022-02-11T14:35:49.434Z"
   },
   {
    "duration": 7,
    "start_time": "2022-02-11T14:40:39.406Z"
   },
   {
    "duration": 16,
    "start_time": "2022-02-11T14:45:18.827Z"
   },
   {
    "duration": 4,
    "start_time": "2022-02-11T14:52:26.812Z"
   },
   {
    "duration": 4,
    "start_time": "2022-02-11T14:53:10.336Z"
   },
   {
    "duration": 5,
    "start_time": "2022-02-11T14:53:32.011Z"
   },
   {
    "duration": 5,
    "start_time": "2022-02-11T14:54:00.659Z"
   },
   {
    "duration": 6,
    "start_time": "2022-02-11T14:59:49.401Z"
   },
   {
    "duration": 6,
    "start_time": "2022-02-11T15:00:30.665Z"
   },
   {
    "duration": 7,
    "start_time": "2022-02-11T15:02:05.695Z"
   },
   {
    "duration": 71,
    "start_time": "2022-02-11T15:02:23.945Z"
   },
   {
    "duration": 7,
    "start_time": "2022-02-11T15:02:32.808Z"
   },
   {
    "duration": 6,
    "start_time": "2022-02-11T15:03:52.881Z"
   },
   {
    "duration": 79,
    "start_time": "2022-02-11T15:04:02.410Z"
   },
   {
    "duration": 6,
    "start_time": "2022-02-11T15:04:07.585Z"
   },
   {
    "duration": 7,
    "start_time": "2022-02-11T15:04:50.169Z"
   },
   {
    "duration": 6,
    "start_time": "2022-02-11T15:04:57.909Z"
   },
   {
    "duration": 6,
    "start_time": "2022-02-11T15:05:15.541Z"
   },
   {
    "duration": 1106,
    "start_time": "2022-02-13T17:04:38.189Z"
   },
   {
    "duration": 389,
    "start_time": "2022-02-13T17:04:39.298Z"
   },
   {
    "duration": 23,
    "start_time": "2022-02-13T17:04:39.690Z"
   },
   {
    "duration": 6,
    "start_time": "2022-02-13T17:04:39.715Z"
   },
   {
    "duration": 10,
    "start_time": "2022-02-13T17:04:39.724Z"
   },
   {
    "duration": 24,
    "start_time": "2022-02-13T17:04:39.736Z"
   },
   {
    "duration": 31,
    "start_time": "2022-02-13T17:04:39.761Z"
   },
   {
    "duration": 5,
    "start_time": "2022-02-13T17:04:39.795Z"
   },
   {
    "duration": 9,
    "start_time": "2022-02-13T17:04:39.802Z"
   },
   {
    "duration": 57,
    "start_time": "2022-02-13T17:04:39.813Z"
   },
   {
    "duration": 22,
    "start_time": "2022-02-13T17:04:39.872Z"
   },
   {
    "duration": 17,
    "start_time": "2022-02-13T17:04:39.896Z"
   },
   {
    "duration": 43,
    "start_time": "2022-02-13T17:04:39.915Z"
   },
   {
    "duration": 19,
    "start_time": "2022-02-13T17:04:39.961Z"
   },
   {
    "duration": 16,
    "start_time": "2022-02-13T17:04:39.982Z"
   },
   {
    "duration": 59,
    "start_time": "2022-02-13T17:04:40.000Z"
   },
   {
    "duration": 24,
    "start_time": "2022-02-13T17:04:40.062Z"
   },
   {
    "duration": 19,
    "start_time": "2022-02-13T17:04:40.088Z"
   },
   {
    "duration": 6,
    "start_time": "2022-02-13T17:04:40.109Z"
   },
   {
    "duration": 8,
    "start_time": "2022-02-13T17:04:40.117Z"
   },
   {
    "duration": 43,
    "start_time": "2022-02-13T17:04:40.127Z"
   },
   {
    "duration": 6,
    "start_time": "2022-02-13T17:04:40.172Z"
   },
   {
    "duration": 9,
    "start_time": "2022-02-13T17:04:40.182Z"
   },
   {
    "duration": 4,
    "start_time": "2022-02-13T17:04:40.194Z"
   },
   {
    "duration": 8,
    "start_time": "2022-02-13T17:04:40.200Z"
   },
   {
    "duration": 83,
    "start_time": "2022-02-13T17:04:40.210Z"
   },
   {
    "duration": 10,
    "start_time": "2022-02-13T17:04:40.295Z"
   },
   {
    "duration": 52,
    "start_time": "2022-02-13T17:04:40.307Z"
   },
   {
    "duration": 4,
    "start_time": "2022-02-13T17:04:40.361Z"
   },
   {
    "duration": 36,
    "start_time": "2022-02-13T17:04:40.368Z"
   },
   {
    "duration": 18,
    "start_time": "2022-02-13T17:04:40.406Z"
   },
   {
    "duration": 45,
    "start_time": "2022-02-13T17:04:40.426Z"
   },
   {
    "duration": 24,
    "start_time": "2022-02-13T17:04:40.473Z"
   },
   {
    "duration": 25,
    "start_time": "2022-02-13T17:04:40.500Z"
   },
   {
    "duration": 37,
    "start_time": "2022-02-13T17:04:40.527Z"
   },
   {
    "duration": 6,
    "start_time": "2022-02-13T17:04:40.566Z"
   },
   {
    "duration": 7,
    "start_time": "2022-02-13T17:04:40.574Z"
   },
   {
    "duration": 12,
    "start_time": "2022-02-13T17:04:40.583Z"
   },
   {
    "duration": 8,
    "start_time": "2022-02-13T17:04:40.597Z"
   },
   {
    "duration": 6,
    "start_time": "2022-02-13T17:04:40.606Z"
   },
   {
    "duration": 46,
    "start_time": "2022-02-13T17:04:40.614Z"
   },
   {
    "duration": 5,
    "start_time": "2022-02-13T17:04:40.662Z"
   },
   {
    "duration": 16,
    "start_time": "2022-02-13T17:04:40.669Z"
   },
   {
    "duration": 8,
    "start_time": "2022-02-13T17:04:40.688Z"
   },
   {
    "duration": 24,
    "start_time": "2022-02-13T17:04:40.698Z"
   },
   {
    "duration": 40,
    "start_time": "2022-02-13T17:04:40.723Z"
   },
   {
    "duration": 10,
    "start_time": "2022-02-13T17:04:40.765Z"
   },
   {
    "duration": 22,
    "start_time": "2022-02-13T17:04:40.777Z"
   },
   {
    "duration": 27,
    "start_time": "2022-02-13T17:04:40.800Z"
   },
   {
    "duration": 50,
    "start_time": "2022-02-13T17:04:40.829Z"
   },
   {
    "duration": 26,
    "start_time": "2022-02-13T17:04:40.881Z"
   },
   {
    "duration": 8,
    "start_time": "2022-02-13T17:04:40.909Z"
   },
   {
    "duration": 10,
    "start_time": "2022-02-13T17:04:40.919Z"
   },
   {
    "duration": 39,
    "start_time": "2022-02-13T17:04:40.931Z"
   },
   {
    "duration": 13,
    "start_time": "2022-02-13T17:04:40.972Z"
   },
   {
    "duration": 23,
    "start_time": "2022-02-13T17:04:40.986Z"
   },
   {
    "duration": 23,
    "start_time": "2022-02-13T17:04:41.011Z"
   },
   {
    "duration": 48,
    "start_time": "2022-02-13T17:04:41.035Z"
   },
   {
    "duration": 8,
    "start_time": "2022-02-13T17:04:41.085Z"
   },
   {
    "duration": 10,
    "start_time": "2022-02-13T17:04:41.095Z"
   },
   {
    "duration": 10,
    "start_time": "2022-02-13T17:04:41.106Z"
   },
   {
    "duration": 9,
    "start_time": "2022-02-13T17:04:41.117Z"
   },
   {
    "duration": 46,
    "start_time": "2022-02-13T17:04:41.128Z"
   },
   {
    "duration": 24,
    "start_time": "2022-02-13T17:04:41.176Z"
   },
   {
    "duration": 229,
    "start_time": "2022-02-13T17:04:41.202Z"
   },
   {
    "duration": 214,
    "start_time": "2022-02-13T17:04:41.433Z"
   },
   {
    "duration": 229,
    "start_time": "2022-02-13T17:04:41.649Z"
   },
   {
    "duration": 6,
    "start_time": "2022-02-13T17:04:41.883Z"
   },
   {
    "duration": 22,
    "start_time": "2022-02-13T17:04:41.891Z"
   },
   {
    "duration": 10,
    "start_time": "2022-02-13T17:04:41.914Z"
   },
   {
    "duration": 6,
    "start_time": "2022-02-13T17:04:41.925Z"
   },
   {
    "duration": 28,
    "start_time": "2022-02-13T17:04:41.933Z"
   },
   {
    "duration": 6,
    "start_time": "2022-02-13T17:05:45.093Z"
   },
   {
    "duration": 7,
    "start_time": "2022-02-13T17:06:01.273Z"
   },
   {
    "duration": 1384,
    "start_time": "2022-02-13T17:07:58.768Z"
   },
   {
    "duration": 13,
    "start_time": "2022-02-13T17:15:46.551Z"
   },
   {
    "duration": 1514,
    "start_time": "2022-02-14T15:46:36.993Z"
   },
   {
    "duration": 476,
    "start_time": "2022-02-14T15:46:38.510Z"
   },
   {
    "duration": 30,
    "start_time": "2022-02-14T15:46:38.989Z"
   },
   {
    "duration": 8,
    "start_time": "2022-02-14T15:46:39.033Z"
   },
   {
    "duration": 9,
    "start_time": "2022-02-14T15:46:39.044Z"
   },
   {
    "duration": 9,
    "start_time": "2022-02-14T15:46:39.055Z"
   },
   {
    "duration": 66,
    "start_time": "2022-02-14T15:46:39.066Z"
   },
   {
    "duration": 5,
    "start_time": "2022-02-14T15:46:39.136Z"
   },
   {
    "duration": 8,
    "start_time": "2022-02-14T15:46:39.144Z"
   },
   {
    "duration": 45,
    "start_time": "2022-02-14T15:46:39.154Z"
   },
   {
    "duration": 56,
    "start_time": "2022-02-14T15:46:39.201Z"
   },
   {
    "duration": 21,
    "start_time": "2022-02-14T15:46:39.260Z"
   },
   {
    "duration": 59,
    "start_time": "2022-02-14T15:46:39.283Z"
   },
   {
    "duration": 27,
    "start_time": "2022-02-14T15:46:39.345Z"
   },
   {
    "duration": 24,
    "start_time": "2022-02-14T15:46:39.374Z"
   },
   {
    "duration": 67,
    "start_time": "2022-02-14T15:46:39.400Z"
   },
   {
    "duration": 30,
    "start_time": "2022-02-14T15:46:39.469Z"
   },
   {
    "duration": 45,
    "start_time": "2022-02-14T15:46:39.501Z"
   },
   {
    "duration": 9,
    "start_time": "2022-02-14T15:46:39.549Z"
   },
   {
    "duration": 5,
    "start_time": "2022-02-14T15:46:39.561Z"
   },
   {
    "duration": 32,
    "start_time": "2022-02-14T15:46:39.568Z"
   },
   {
    "duration": 12,
    "start_time": "2022-02-14T15:46:39.632Z"
   },
   {
    "duration": 13,
    "start_time": "2022-02-14T15:46:39.651Z"
   },
   {
    "duration": 5,
    "start_time": "2022-02-14T15:46:39.669Z"
   },
   {
    "duration": 14,
    "start_time": "2022-02-14T15:46:39.677Z"
   },
   {
    "duration": 106,
    "start_time": "2022-02-14T15:46:39.694Z"
   },
   {
    "duration": 31,
    "start_time": "2022-02-14T15:46:39.802Z"
   },
   {
    "duration": 43,
    "start_time": "2022-02-14T15:46:39.835Z"
   },
   {
    "duration": 4,
    "start_time": "2022-02-14T15:46:39.881Z"
   },
   {
    "duration": 68,
    "start_time": "2022-02-14T15:46:39.889Z"
   },
   {
    "duration": 25,
    "start_time": "2022-02-14T15:46:39.960Z"
   },
   {
    "duration": 51,
    "start_time": "2022-02-14T15:46:39.988Z"
   },
   {
    "duration": 29,
    "start_time": "2022-02-14T15:46:40.041Z"
   },
   {
    "duration": 35,
    "start_time": "2022-02-14T15:46:40.073Z"
   },
   {
    "duration": 8,
    "start_time": "2022-02-14T15:46:40.132Z"
   },
   {
    "duration": 7,
    "start_time": "2022-02-14T15:46:40.142Z"
   },
   {
    "duration": 8,
    "start_time": "2022-02-14T15:46:40.151Z"
   },
   {
    "duration": 10,
    "start_time": "2022-02-14T15:46:40.161Z"
   },
   {
    "duration": 11,
    "start_time": "2022-02-14T15:46:40.173Z"
   },
   {
    "duration": 51,
    "start_time": "2022-02-14T15:46:40.187Z"
   },
   {
    "duration": 23,
    "start_time": "2022-02-14T15:46:40.241Z"
   },
   {
    "duration": 6,
    "start_time": "2022-02-14T15:46:40.266Z"
   },
   {
    "duration": 22,
    "start_time": "2022-02-14T15:46:40.274Z"
   },
   {
    "duration": 40,
    "start_time": "2022-02-14T15:46:40.298Z"
   },
   {
    "duration": 48,
    "start_time": "2022-02-14T15:46:40.341Z"
   },
   {
    "duration": 8,
    "start_time": "2022-02-14T15:46:40.392Z"
   },
   {
    "duration": 30,
    "start_time": "2022-02-14T15:46:40.402Z"
   },
   {
    "duration": 30,
    "start_time": "2022-02-14T15:46:40.434Z"
   },
   {
    "duration": 65,
    "start_time": "2022-02-14T15:46:40.467Z"
   },
   {
    "duration": 44,
    "start_time": "2022-02-14T15:46:40.535Z"
   },
   {
    "duration": 69,
    "start_time": "2022-02-14T15:46:40.581Z"
   },
   {
    "duration": 12,
    "start_time": "2022-02-14T15:46:40.653Z"
   },
   {
    "duration": 23,
    "start_time": "2022-02-14T15:46:40.668Z"
   },
   {
    "duration": 10,
    "start_time": "2022-02-14T15:46:40.693Z"
   },
   {
    "duration": 32,
    "start_time": "2022-02-14T15:46:40.705Z"
   },
   {
    "duration": 31,
    "start_time": "2022-02-14T15:46:40.739Z"
   },
   {
    "duration": 62,
    "start_time": "2022-02-14T15:46:40.773Z"
   },
   {
    "duration": 42,
    "start_time": "2022-02-14T15:46:40.838Z"
   },
   {
    "duration": 12,
    "start_time": "2022-02-14T15:46:40.882Z"
   },
   {
    "duration": 38,
    "start_time": "2022-02-14T15:46:40.897Z"
   },
   {
    "duration": 10,
    "start_time": "2022-02-14T15:46:40.937Z"
   },
   {
    "duration": 13,
    "start_time": "2022-02-14T15:46:40.950Z"
   },
   {
    "duration": 74,
    "start_time": "2022-02-14T15:46:40.965Z"
   },
   {
    "duration": 31,
    "start_time": "2022-02-14T15:46:41.041Z"
   },
   {
    "duration": 352,
    "start_time": "2022-02-14T15:46:41.075Z"
   },
   {
    "duration": 323,
    "start_time": "2022-02-14T15:46:41.429Z"
   },
   {
    "duration": 346,
    "start_time": "2022-02-14T15:46:41.754Z"
   },
   {
    "duration": 28,
    "start_time": "2022-02-14T15:46:42.106Z"
   },
   {
    "duration": 9,
    "start_time": "2022-02-14T15:46:42.136Z"
   },
   {
    "duration": 23,
    "start_time": "2022-02-14T15:46:42.147Z"
   },
   {
    "duration": 17,
    "start_time": "2022-02-14T15:46:42.172Z"
   },
   {
    "duration": 107,
    "start_time": "2022-02-14T15:46:42.191Z"
   },
   {
    "duration": 73,
    "start_time": "2022-02-14T15:46:42.300Z"
   },
   {
    "duration": 10,
    "start_time": "2022-02-14T15:47:20.296Z"
   },
   {
    "duration": 9,
    "start_time": "2022-02-14T15:47:38.608Z"
   },
   {
    "duration": 1475,
    "start_time": "2022-02-21T15:14:22.662Z"
   },
   {
    "duration": 485,
    "start_time": "2022-02-21T15:14:24.140Z"
   },
   {
    "duration": 33,
    "start_time": "2022-02-21T15:14:24.629Z"
   },
   {
    "duration": 10,
    "start_time": "2022-02-21T15:14:24.665Z"
   },
   {
    "duration": 17,
    "start_time": "2022-02-21T15:14:24.677Z"
   },
   {
    "duration": 16,
    "start_time": "2022-02-21T15:14:24.696Z"
   },
   {
    "duration": 64,
    "start_time": "2022-02-21T15:14:24.714Z"
   },
   {
    "duration": 7,
    "start_time": "2022-02-21T15:14:24.782Z"
   },
   {
    "duration": 10,
    "start_time": "2022-02-21T15:14:24.792Z"
   },
   {
    "duration": 70,
    "start_time": "2022-02-21T15:14:24.805Z"
   },
   {
    "duration": 32,
    "start_time": "2022-02-21T15:14:24.878Z"
   },
   {
    "duration": 37,
    "start_time": "2022-02-21T15:14:24.912Z"
   },
   {
    "duration": 34,
    "start_time": "2022-02-21T15:14:24.952Z"
   },
   {
    "duration": 28,
    "start_time": "2022-02-21T15:14:24.989Z"
   },
   {
    "duration": 48,
    "start_time": "2022-02-21T15:14:25.020Z"
   },
   {
    "duration": 41,
    "start_time": "2022-02-21T15:14:25.071Z"
   },
   {
    "duration": 57,
    "start_time": "2022-02-21T15:14:25.115Z"
   },
   {
    "duration": 25,
    "start_time": "2022-02-21T15:14:25.174Z"
   },
   {
    "duration": 11,
    "start_time": "2022-02-21T15:14:25.202Z"
   },
   {
    "duration": 33,
    "start_time": "2022-02-21T15:14:25.216Z"
   },
   {
    "duration": 22,
    "start_time": "2022-02-21T15:14:25.251Z"
   },
   {
    "duration": 9,
    "start_time": "2022-02-21T15:14:25.275Z"
   },
   {
    "duration": 21,
    "start_time": "2022-02-21T15:14:25.292Z"
   },
   {
    "duration": 32,
    "start_time": "2022-02-21T15:14:25.317Z"
   },
   {
    "duration": 27,
    "start_time": "2022-02-21T15:14:25.351Z"
   },
   {
    "duration": 93,
    "start_time": "2022-02-21T15:14:25.381Z"
   },
   {
    "duration": 15,
    "start_time": "2022-02-21T15:14:25.477Z"
   },
   {
    "duration": 62,
    "start_time": "2022-02-21T15:14:25.495Z"
   },
   {
    "duration": 4,
    "start_time": "2022-02-21T15:14:25.559Z"
   },
   {
    "duration": 41,
    "start_time": "2022-02-21T15:14:25.565Z"
   },
   {
    "duration": 47,
    "start_time": "2022-02-21T15:14:25.608Z"
   },
   {
    "duration": 26,
    "start_time": "2022-02-21T15:14:25.658Z"
   },
   {
    "duration": 32,
    "start_time": "2022-02-21T15:14:25.687Z"
   },
   {
    "duration": 37,
    "start_time": "2022-02-21T15:14:25.749Z"
   },
   {
    "duration": 8,
    "start_time": "2022-02-21T15:14:25.789Z"
   },
   {
    "duration": 10,
    "start_time": "2022-02-21T15:14:25.799Z"
   },
   {
    "duration": 40,
    "start_time": "2022-02-21T15:14:25.811Z"
   },
   {
    "duration": 21,
    "start_time": "2022-02-21T15:14:25.854Z"
   },
   {
    "duration": 14,
    "start_time": "2022-02-21T15:14:25.878Z"
   },
   {
    "duration": 8,
    "start_time": "2022-02-21T15:14:25.894Z"
   },
   {
    "duration": 44,
    "start_time": "2022-02-21T15:14:25.904Z"
   },
   {
    "duration": 6,
    "start_time": "2022-02-21T15:14:25.951Z"
   },
   {
    "duration": 25,
    "start_time": "2022-02-21T15:14:25.959Z"
   },
   {
    "duration": 16,
    "start_time": "2022-02-21T15:14:25.987Z"
   },
   {
    "duration": 68,
    "start_time": "2022-02-21T15:14:26.006Z"
   },
   {
    "duration": 9,
    "start_time": "2022-02-21T15:14:26.077Z"
   },
   {
    "duration": 9,
    "start_time": "2022-02-21T15:14:26.089Z"
   },
   {
    "duration": 56,
    "start_time": "2022-02-21T15:14:26.100Z"
   },
   {
    "duration": 50,
    "start_time": "2022-02-21T15:14:26.159Z"
   },
   {
    "duration": 66,
    "start_time": "2022-02-21T15:14:26.212Z"
   },
   {
    "duration": 69,
    "start_time": "2022-02-21T15:14:26.281Z"
   },
   {
    "duration": 12,
    "start_time": "2022-02-21T15:14:26.353Z"
   },
   {
    "duration": 20,
    "start_time": "2022-02-21T15:14:26.368Z"
   },
   {
    "duration": 18,
    "start_time": "2022-02-21T15:14:26.390Z"
   },
   {
    "duration": 13,
    "start_time": "2022-02-21T15:14:26.410Z"
   },
   {
    "duration": 32,
    "start_time": "2022-02-21T15:14:26.448Z"
   },
   {
    "duration": 36,
    "start_time": "2022-02-21T15:14:26.482Z"
   },
   {
    "duration": 47,
    "start_time": "2022-02-21T15:14:26.550Z"
   },
   {
    "duration": 13,
    "start_time": "2022-02-21T15:14:26.599Z"
   },
   {
    "duration": 40,
    "start_time": "2022-02-21T15:14:26.615Z"
   },
   {
    "duration": 11,
    "start_time": "2022-02-21T15:14:26.658Z"
   },
   {
    "duration": 14,
    "start_time": "2022-02-21T15:14:26.672Z"
   },
   {
    "duration": 69,
    "start_time": "2022-02-21T15:14:26.688Z"
   },
   {
    "duration": 32,
    "start_time": "2022-02-21T15:14:26.759Z"
   },
   {
    "duration": 376,
    "start_time": "2022-02-21T15:14:26.794Z"
   },
   {
    "duration": 365,
    "start_time": "2022-02-21T15:14:27.172Z"
   },
   {
    "duration": 356,
    "start_time": "2022-02-21T15:14:27.540Z"
   },
   {
    "duration": 18,
    "start_time": "2022-02-21T15:14:27.903Z"
   },
   {
    "duration": 36,
    "start_time": "2022-02-21T15:14:27.924Z"
   },
   {
    "duration": 49,
    "start_time": "2022-02-21T15:14:27.963Z"
   },
   {
    "duration": 20,
    "start_time": "2022-02-21T15:14:28.015Z"
   },
   {
    "duration": 35,
    "start_time": "2022-02-21T15:14:28.038Z"
   },
   {
    "duration": 36,
    "start_time": "2022-02-21T15:14:28.076Z"
   },
   {
    "duration": 21,
    "start_time": "2022-02-21T15:29:48.609Z"
   },
   {
    "duration": 400,
    "start_time": "2022-02-21T15:40:25.912Z"
   },
   {
    "duration": 20,
    "start_time": "2022-02-21T15:43:44.676Z"
   },
   {
    "duration": 1302,
    "start_time": "2022-02-21T17:14:38.179Z"
   },
   {
    "duration": 418,
    "start_time": "2022-02-21T17:14:39.483Z"
   },
   {
    "duration": 25,
    "start_time": "2022-02-21T17:14:39.904Z"
   },
   {
    "duration": 9,
    "start_time": "2022-02-21T17:14:39.932Z"
   },
   {
    "duration": 8,
    "start_time": "2022-02-21T17:14:39.944Z"
   },
   {
    "duration": 13,
    "start_time": "2022-02-21T17:14:39.954Z"
   },
   {
    "duration": 75,
    "start_time": "2022-02-21T17:14:39.969Z"
   },
   {
    "duration": 5,
    "start_time": "2022-02-21T17:14:40.047Z"
   },
   {
    "duration": 10,
    "start_time": "2022-02-21T17:14:40.055Z"
   },
   {
    "duration": 59,
    "start_time": "2022-02-21T17:14:40.068Z"
   },
   {
    "duration": 27,
    "start_time": "2022-02-21T17:14:40.129Z"
   },
   {
    "duration": 19,
    "start_time": "2022-02-21T17:14:40.158Z"
   },
   {
    "duration": 48,
    "start_time": "2022-02-21T17:14:40.179Z"
   },
   {
    "duration": 23,
    "start_time": "2022-02-21T17:14:40.229Z"
   },
   {
    "duration": 17,
    "start_time": "2022-02-21T17:14:40.254Z"
   },
   {
    "duration": 61,
    "start_time": "2022-02-21T17:14:40.273Z"
   },
   {
    "duration": 28,
    "start_time": "2022-02-21T17:14:40.336Z"
   },
   {
    "duration": 42,
    "start_time": "2022-02-21T17:14:40.366Z"
   },
   {
    "duration": 6,
    "start_time": "2022-02-21T17:14:40.411Z"
   },
   {
    "duration": 11,
    "start_time": "2022-02-21T17:14:40.419Z"
   },
   {
    "duration": 22,
    "start_time": "2022-02-21T17:14:40.432Z"
   },
   {
    "duration": 9,
    "start_time": "2022-02-21T17:14:40.456Z"
   },
   {
    "duration": 12,
    "start_time": "2022-02-21T17:14:40.470Z"
   },
   {
    "duration": 9,
    "start_time": "2022-02-21T17:14:40.507Z"
   },
   {
    "duration": 9,
    "start_time": "2022-02-21T17:14:40.519Z"
   },
   {
    "duration": 65,
    "start_time": "2022-02-21T17:14:40.530Z"
   },
   {
    "duration": 11,
    "start_time": "2022-02-21T17:14:40.608Z"
   },
   {
    "duration": 38,
    "start_time": "2022-02-21T17:14:40.621Z"
   },
   {
    "duration": 4,
    "start_time": "2022-02-21T17:14:40.662Z"
   },
   {
    "duration": 55,
    "start_time": "2022-02-21T17:14:40.668Z"
   },
   {
    "duration": 18,
    "start_time": "2022-02-21T17:14:40.725Z"
   },
   {
    "duration": 18,
    "start_time": "2022-02-21T17:14:40.745Z"
   },
   {
    "duration": 51,
    "start_time": "2022-02-21T17:14:40.765Z"
   },
   {
    "duration": 25,
    "start_time": "2022-02-21T17:14:40.819Z"
   },
   {
    "duration": 6,
    "start_time": "2022-02-21T17:14:40.846Z"
   },
   {
    "duration": 5,
    "start_time": "2022-02-21T17:14:40.855Z"
   },
   {
    "duration": 8,
    "start_time": "2022-02-21T17:14:40.862Z"
   },
   {
    "duration": 39,
    "start_time": "2022-02-21T17:14:40.872Z"
   },
   {
    "duration": 10,
    "start_time": "2022-02-21T17:14:40.913Z"
   },
   {
    "duration": 98,
    "start_time": "2022-02-21T17:14:40.928Z"
   },
   {
    "duration": 187,
    "start_time": "2022-02-21T17:14:41.029Z"
   },
   {
    "duration": 72,
    "start_time": "2022-02-21T17:14:41.219Z"
   },
   {
    "duration": 18,
    "start_time": "2022-02-21T17:14:41.293Z"
   },
   {
    "duration": 10,
    "start_time": "2022-02-21T17:14:41.313Z"
   },
   {
    "duration": 31,
    "start_time": "2022-02-21T17:14:41.325Z"
   },
   {
    "duration": 9,
    "start_time": "2022-02-21T17:14:41.359Z"
   },
   {
    "duration": 11,
    "start_time": "2022-02-21T17:14:41.370Z"
   },
   {
    "duration": 42,
    "start_time": "2022-02-21T17:14:41.383Z"
   },
   {
    "duration": 34,
    "start_time": "2022-02-21T17:14:41.427Z"
   },
   {
    "duration": 56,
    "start_time": "2022-02-21T17:14:41.463Z"
   },
   {
    "duration": 31,
    "start_time": "2022-02-21T17:14:41.521Z"
   },
   {
    "duration": 10,
    "start_time": "2022-02-21T17:14:41.554Z"
   },
   {
    "duration": 13,
    "start_time": "2022-02-21T17:14:41.566Z"
   },
   {
    "duration": 31,
    "start_time": "2022-02-21T17:14:41.581Z"
   },
   {
    "duration": 8,
    "start_time": "2022-02-21T17:14:41.615Z"
   },
   {
    "duration": 24,
    "start_time": "2022-02-21T17:14:41.625Z"
   },
   {
    "duration": 62,
    "start_time": "2022-02-21T17:14:41.651Z"
   },
   {
    "duration": 33,
    "start_time": "2022-02-21T17:14:41.715Z"
   },
   {
    "duration": 10,
    "start_time": "2022-02-21T17:14:41.750Z"
   },
   {
    "duration": 11,
    "start_time": "2022-02-21T17:14:41.762Z"
   },
   {
    "duration": 38,
    "start_time": "2022-02-21T17:14:41.775Z"
   },
   {
    "duration": 12,
    "start_time": "2022-02-21T17:14:41.815Z"
   },
   {
    "duration": 23,
    "start_time": "2022-02-21T17:14:41.829Z"
   },
   {
    "duration": 53,
    "start_time": "2022-02-21T17:14:41.854Z"
   },
   {
    "duration": 231,
    "start_time": "2022-02-21T17:14:41.909Z"
   },
   {
    "duration": 248,
    "start_time": "2022-02-21T17:14:42.142Z"
   },
   {
    "duration": 253,
    "start_time": "2022-02-21T17:14:42.393Z"
   },
   {
    "duration": 11,
    "start_time": "2022-02-21T17:14:42.652Z"
   },
   {
    "duration": 17,
    "start_time": "2022-02-21T17:14:42.665Z"
   },
   {
    "duration": 34,
    "start_time": "2022-02-21T17:14:42.684Z"
   },
   {
    "duration": 11,
    "start_time": "2022-02-21T17:14:42.720Z"
   },
   {
    "duration": 7,
    "start_time": "2022-02-21T17:14:42.733Z"
   },
   {
    "duration": 18,
    "start_time": "2022-02-21T17:14:42.742Z"
   },
   {
    "duration": 1236,
    "start_time": "2022-02-21T17:16:25.158Z"
   },
   {
    "duration": 425,
    "start_time": "2022-02-21T17:16:26.396Z"
   },
   {
    "duration": 23,
    "start_time": "2022-02-21T17:16:26.824Z"
   },
   {
    "duration": 7,
    "start_time": "2022-02-21T17:16:26.850Z"
   },
   {
    "duration": 11,
    "start_time": "2022-02-21T17:16:26.859Z"
   },
   {
    "duration": 12,
    "start_time": "2022-02-21T17:16:26.872Z"
   },
   {
    "duration": 54,
    "start_time": "2022-02-21T17:16:26.886Z"
   },
   {
    "duration": 5,
    "start_time": "2022-02-21T17:16:26.943Z"
   },
   {
    "duration": 6,
    "start_time": "2022-02-21T17:16:26.950Z"
   },
   {
    "duration": 67,
    "start_time": "2022-02-21T17:16:26.958Z"
   },
   {
    "duration": 26,
    "start_time": "2022-02-21T17:16:27.027Z"
   },
   {
    "duration": 19,
    "start_time": "2022-02-21T17:16:27.055Z"
   },
   {
    "duration": 45,
    "start_time": "2022-02-21T17:16:27.076Z"
   },
   {
    "duration": 23,
    "start_time": "2022-02-21T17:16:27.123Z"
   },
   {
    "duration": 17,
    "start_time": "2022-02-21T17:16:27.149Z"
   },
   {
    "duration": 63,
    "start_time": "2022-02-21T17:16:27.168Z"
   },
   {
    "duration": 27,
    "start_time": "2022-02-21T17:16:27.233Z"
   },
   {
    "duration": 21,
    "start_time": "2022-02-21T17:16:27.262Z"
   },
   {
    "duration": 9,
    "start_time": "2022-02-21T17:16:27.308Z"
   },
   {
    "duration": 310,
    "start_time": "2022-02-21T17:16:27.319Z"
   },
   {
    "duration": 2739,
    "start_time": "2022-02-21T17:16:24.894Z"
   },
   {
    "duration": 2735,
    "start_time": "2022-02-21T17:16:24.899Z"
   },
   {
    "duration": 2732,
    "start_time": "2022-02-21T17:16:24.903Z"
   },
   {
    "duration": 2729,
    "start_time": "2022-02-21T17:16:24.908Z"
   },
   {
    "duration": 2726,
    "start_time": "2022-02-21T17:16:24.912Z"
   },
   {
    "duration": 2723,
    "start_time": "2022-02-21T17:16:24.917Z"
   },
   {
    "duration": 2720,
    "start_time": "2022-02-21T17:16:24.921Z"
   },
   {
    "duration": 2717,
    "start_time": "2022-02-21T17:16:24.925Z"
   },
   {
    "duration": 2713,
    "start_time": "2022-02-21T17:16:24.931Z"
   },
   {
    "duration": 2709,
    "start_time": "2022-02-21T17:16:24.936Z"
   },
   {
    "duration": 2706,
    "start_time": "2022-02-21T17:16:24.940Z"
   },
   {
    "duration": 2702,
    "start_time": "2022-02-21T17:16:24.945Z"
   },
   {
    "duration": 2698,
    "start_time": "2022-02-21T17:16:24.950Z"
   },
   {
    "duration": 2696,
    "start_time": "2022-02-21T17:16:24.954Z"
   },
   {
    "duration": 2694,
    "start_time": "2022-02-21T17:16:24.957Z"
   },
   {
    "duration": 2690,
    "start_time": "2022-02-21T17:16:24.962Z"
   },
   {
    "duration": 2686,
    "start_time": "2022-02-21T17:16:24.967Z"
   },
   {
    "duration": 2683,
    "start_time": "2022-02-21T17:16:24.971Z"
   },
   {
    "duration": 2680,
    "start_time": "2022-02-21T17:16:24.975Z"
   },
   {
    "duration": 2676,
    "start_time": "2022-02-21T17:16:24.980Z"
   },
   {
    "duration": 2673,
    "start_time": "2022-02-21T17:16:24.985Z"
   },
   {
    "duration": 2660,
    "start_time": "2022-02-21T17:16:24.999Z"
   },
   {
    "duration": 2657,
    "start_time": "2022-02-21T17:16:25.004Z"
   },
   {
    "duration": 2653,
    "start_time": "2022-02-21T17:16:25.009Z"
   },
   {
    "duration": 2650,
    "start_time": "2022-02-21T17:16:25.013Z"
   },
   {
    "duration": 2646,
    "start_time": "2022-02-21T17:16:25.019Z"
   },
   {
    "duration": 2643,
    "start_time": "2022-02-21T17:16:25.023Z"
   },
   {
    "duration": 2640,
    "start_time": "2022-02-21T17:16:25.028Z"
   },
   {
    "duration": 2636,
    "start_time": "2022-02-21T17:16:25.033Z"
   },
   {
    "duration": 2669,
    "start_time": "2022-02-21T17:16:25.038Z"
   },
   {
    "duration": 2666,
    "start_time": "2022-02-21T17:16:25.042Z"
   },
   {
    "duration": 2663,
    "start_time": "2022-02-21T17:16:25.046Z"
   },
   {
    "duration": 2660,
    "start_time": "2022-02-21T17:16:25.051Z"
   },
   {
    "duration": 2657,
    "start_time": "2022-02-21T17:16:25.055Z"
   },
   {
    "duration": 2653,
    "start_time": "2022-02-21T17:16:25.059Z"
   },
   {
    "duration": 2649,
    "start_time": "2022-02-21T17:16:25.064Z"
   },
   {
    "duration": 2646,
    "start_time": "2022-02-21T17:16:25.068Z"
   },
   {
    "duration": 2642,
    "start_time": "2022-02-21T17:16:25.073Z"
   },
   {
    "duration": 2639,
    "start_time": "2022-02-21T17:16:25.077Z"
   },
   {
    "duration": 2633,
    "start_time": "2022-02-21T17:16:25.084Z"
   },
   {
    "duration": 2614,
    "start_time": "2022-02-21T17:16:25.103Z"
   },
   {
    "duration": 2599,
    "start_time": "2022-02-21T17:16:25.119Z"
   },
   {
    "duration": 2594,
    "start_time": "2022-02-21T17:16:25.125Z"
   },
   {
    "duration": 2569,
    "start_time": "2022-02-21T17:16:25.151Z"
   },
   {
    "duration": 2558,
    "start_time": "2022-02-21T17:16:25.163Z"
   },
   {
    "duration": 2544,
    "start_time": "2022-02-21T17:16:25.178Z"
   },
   {
    "duration": 2540,
    "start_time": "2022-02-21T17:16:25.183Z"
   },
   {
    "duration": 2527,
    "start_time": "2022-02-21T17:16:25.197Z"
   },
   {
    "duration": 2523,
    "start_time": "2022-02-21T17:16:25.202Z"
   },
   {
    "duration": 2512,
    "start_time": "2022-02-21T17:16:25.213Z"
   },
   {
    "duration": 2507,
    "start_time": "2022-02-21T17:16:25.219Z"
   },
   {
    "duration": 2497,
    "start_time": "2022-02-21T17:16:25.230Z"
   },
   {
    "duration": 216,
    "start_time": "2022-02-21T17:16:45.999Z"
   },
   {
    "duration": 13,
    "start_time": "2022-02-21T17:16:55.116Z"
   },
   {
    "duration": 1233,
    "start_time": "2022-02-21T17:17:14.255Z"
   },
   {
    "duration": 421,
    "start_time": "2022-02-21T17:17:15.490Z"
   },
   {
    "duration": 23,
    "start_time": "2022-02-21T17:17:15.914Z"
   },
   {
    "duration": 39,
    "start_time": "2022-02-21T17:17:15.940Z"
   },
   {
    "duration": 35,
    "start_time": "2022-02-21T17:17:15.982Z"
   },
   {
    "duration": 42,
    "start_time": "2022-02-21T17:17:16.019Z"
   },
   {
    "duration": 56,
    "start_time": "2022-02-21T17:17:16.063Z"
   },
   {
    "duration": 6,
    "start_time": "2022-02-21T17:17:16.123Z"
   },
   {
    "duration": 29,
    "start_time": "2022-02-21T17:17:16.132Z"
   },
   {
    "duration": 42,
    "start_time": "2022-02-21T17:17:16.163Z"
   },
   {
    "duration": 28,
    "start_time": "2022-02-21T17:17:16.207Z"
   },
   {
    "duration": 21,
    "start_time": "2022-02-21T17:17:16.238Z"
   },
   {
    "duration": 49,
    "start_time": "2022-02-21T17:17:16.261Z"
   },
   {
    "duration": 24,
    "start_time": "2022-02-21T17:17:16.313Z"
   },
   {
    "duration": 27,
    "start_time": "2022-02-21T17:17:16.340Z"
   },
   {
    "duration": 47,
    "start_time": "2022-02-21T17:17:16.369Z"
   },
   {
    "duration": 26,
    "start_time": "2022-02-21T17:17:16.418Z"
   },
   {
    "duration": 20,
    "start_time": "2022-02-21T17:17:16.447Z"
   },
   {
    "duration": 29,
    "start_time": "2022-02-21T17:17:16.469Z"
   },
   {
    "duration": 50,
    "start_time": "2022-02-21T17:17:16.500Z"
   },
   {
    "duration": 29,
    "start_time": "2022-02-21T17:17:16.552Z"
   },
   {
    "duration": 30,
    "start_time": "2022-02-21T17:17:16.583Z"
   },
   {
    "duration": 32,
    "start_time": "2022-02-21T17:17:16.618Z"
   },
   {
    "duration": 44,
    "start_time": "2022-02-21T17:17:16.653Z"
   },
   {
    "duration": 81,
    "start_time": "2022-02-21T17:17:16.699Z"
   },
   {
    "duration": 12,
    "start_time": "2022-02-21T17:17:16.782Z"
   },
   {
    "duration": 53,
    "start_time": "2022-02-21T17:17:16.796Z"
   },
   {
    "duration": 3,
    "start_time": "2022-02-21T17:17:16.851Z"
   },
   {
    "duration": 44,
    "start_time": "2022-02-21T17:17:16.856Z"
   },
   {
    "duration": 27,
    "start_time": "2022-02-21T17:17:16.902Z"
   },
   {
    "duration": 43,
    "start_time": "2022-02-21T17:17:16.931Z"
   },
   {
    "duration": 54,
    "start_time": "2022-02-21T17:17:16.976Z"
   },
   {
    "duration": 28,
    "start_time": "2022-02-21T17:17:17.032Z"
   },
   {
    "duration": 8,
    "start_time": "2022-02-21T17:17:17.062Z"
   },
   {
    "duration": 32,
    "start_time": "2022-02-21T17:17:17.072Z"
   },
   {
    "duration": 24,
    "start_time": "2022-02-21T17:17:17.107Z"
   },
   {
    "duration": 21,
    "start_time": "2022-02-21T17:17:17.134Z"
   },
   {
    "duration": 6700,
    "start_time": "2022-02-21T17:17:17.157Z"
   },
   {
    "duration": 3033,
    "start_time": "2022-02-21T17:17:20.827Z"
   },
   {
    "duration": 3029,
    "start_time": "2022-02-21T17:17:20.832Z"
   },
   {
    "duration": 3020,
    "start_time": "2022-02-21T17:17:20.843Z"
   },
   {
    "duration": 3015,
    "start_time": "2022-02-21T17:17:20.848Z"
   },
   {
    "duration": 3007,
    "start_time": "2022-02-21T17:17:20.857Z"
   },
   {
    "duration": 3004,
    "start_time": "2022-02-21T17:17:20.861Z"
   },
   {
    "duration": 3002,
    "start_time": "2022-02-21T17:17:20.865Z"
   },
   {
    "duration": 2993,
    "start_time": "2022-02-21T17:17:20.875Z"
   },
   {
    "duration": 2991,
    "start_time": "2022-02-21T17:17:20.878Z"
   },
   {
    "duration": 2987,
    "start_time": "2022-02-21T17:17:20.884Z"
   },
   {
    "duration": 2980,
    "start_time": "2022-02-21T17:17:20.892Z"
   },
   {
    "duration": 2976,
    "start_time": "2022-02-21T17:17:20.897Z"
   },
   {
    "duration": 2968,
    "start_time": "2022-02-21T17:17:20.906Z"
   },
   {
    "duration": 2965,
    "start_time": "2022-02-21T17:17:20.910Z"
   },
   {
    "duration": 2962,
    "start_time": "2022-02-21T17:17:20.914Z"
   },
   {
    "duration": 2959,
    "start_time": "2022-02-21T17:17:20.918Z"
   },
   {
    "duration": 2956,
    "start_time": "2022-02-21T17:17:20.923Z"
   },
   {
    "duration": 2953,
    "start_time": "2022-02-21T17:17:20.927Z"
   },
   {
    "duration": 2950,
    "start_time": "2022-02-21T17:17:20.931Z"
   },
   {
    "duration": 2947,
    "start_time": "2022-02-21T17:17:20.935Z"
   },
   {
    "duration": 2946,
    "start_time": "2022-02-21T17:17:20.938Z"
   },
   {
    "duration": 2942,
    "start_time": "2022-02-21T17:17:20.943Z"
   },
   {
    "duration": 2939,
    "start_time": "2022-02-21T17:17:20.947Z"
   },
   {
    "duration": 2937,
    "start_time": "2022-02-21T17:17:20.951Z"
   },
   {
    "duration": 2934,
    "start_time": "2022-02-21T17:17:20.955Z"
   },
   {
    "duration": 2931,
    "start_time": "2022-02-21T17:17:20.959Z"
   },
   {
    "duration": 2928,
    "start_time": "2022-02-21T17:17:20.963Z"
   },
   {
    "duration": 2925,
    "start_time": "2022-02-21T17:17:20.967Z"
   },
   {
    "duration": 2922,
    "start_time": "2022-02-21T17:17:20.971Z"
   },
   {
    "duration": 2919,
    "start_time": "2022-02-21T17:17:20.975Z"
   },
   {
    "duration": 2918,
    "start_time": "2022-02-21T17:17:20.978Z"
   },
   {
    "duration": 2914,
    "start_time": "2022-02-21T17:17:20.983Z"
   },
   {
    "duration": 2912,
    "start_time": "2022-02-21T17:17:20.986Z"
   },
   {
    "duration": 2909,
    "start_time": "2022-02-21T17:17:20.990Z"
   },
   {
    "duration": 5,
    "start_time": "2022-02-21T17:18:39.542Z"
   },
   {
    "duration": 11,
    "start_time": "2022-02-21T17:18:52.100Z"
   },
   {
    "duration": 3,
    "start_time": "2022-02-21T17:19:08.396Z"
   },
   {
    "duration": 11,
    "start_time": "2022-02-21T17:19:10.045Z"
   },
   {
    "duration": 18,
    "start_time": "2022-02-21T17:22:35.757Z"
   },
   {
    "duration": 20,
    "start_time": "2022-02-21T17:24:33.771Z"
   },
   {
    "duration": 22,
    "start_time": "2022-02-21T17:24:51.617Z"
   },
   {
    "duration": 24,
    "start_time": "2022-02-21T17:26:51.773Z"
   },
   {
    "duration": 29,
    "start_time": "2022-02-21T17:27:07.265Z"
   },
   {
    "duration": 8,
    "start_time": "2022-02-21T17:27:16.290Z"
   },
   {
    "duration": 7,
    "start_time": "2022-02-21T17:28:01.250Z"
   },
   {
    "duration": 8,
    "start_time": "2022-02-21T17:28:02.107Z"
   },
   {
    "duration": 10,
    "start_time": "2022-02-21T17:28:11.798Z"
   },
   {
    "duration": 5,
    "start_time": "2022-02-21T17:28:15.048Z"
   },
   {
    "duration": 17,
    "start_time": "2022-02-21T17:28:19.845Z"
   },
   {
    "duration": 5,
    "start_time": "2022-02-21T17:28:23.828Z"
   },
   {
    "duration": 17,
    "start_time": "2022-02-21T17:28:24.868Z"
   },
   {
    "duration": 11,
    "start_time": "2022-02-21T17:28:37.726Z"
   },
   {
    "duration": 28,
    "start_time": "2022-02-21T17:28:39.832Z"
   },
   {
    "duration": 9,
    "start_time": "2022-02-21T17:28:48.103Z"
   },
   {
    "duration": 5,
    "start_time": "2022-02-21T17:28:52.588Z"
   },
   {
    "duration": 22,
    "start_time": "2022-02-21T17:28:57.524Z"
   },
   {
    "duration": 35,
    "start_time": "2022-02-21T17:29:20.763Z"
   },
   {
    "duration": 31,
    "start_time": "2022-02-21T17:29:23.289Z"
   },
   {
    "duration": 30,
    "start_time": "2022-02-21T17:29:32.891Z"
   },
   {
    "duration": 11,
    "start_time": "2022-02-21T17:29:36.645Z"
   },
   {
    "duration": 10,
    "start_time": "2022-02-21T17:29:52.472Z"
   },
   {
    "duration": 12,
    "start_time": "2022-02-21T17:29:56.937Z"
   },
   {
    "duration": 25,
    "start_time": "2022-02-21T17:30:27.783Z"
   },
   {
    "duration": 33,
    "start_time": "2022-02-21T17:33:47.868Z"
   },
   {
    "duration": 36,
    "start_time": "2022-02-21T17:33:57.552Z"
   },
   {
    "duration": 11,
    "start_time": "2022-02-21T17:34:06.992Z"
   },
   {
    "duration": 10,
    "start_time": "2022-02-21T17:34:19.000Z"
   },
   {
    "duration": 11,
    "start_time": "2022-02-21T17:34:26.296Z"
   },
   {
    "duration": 9,
    "start_time": "2022-02-21T17:34:28.610Z"
   },
   {
    "duration": 32,
    "start_time": "2022-02-21T17:35:03.445Z"
   },
   {
    "duration": 38,
    "start_time": "2022-02-21T17:35:14.995Z"
   },
   {
    "duration": 228,
    "start_time": "2022-02-21T17:35:26.417Z"
   },
   {
    "duration": 245,
    "start_time": "2022-02-21T17:35:57.728Z"
   },
   {
    "duration": 243,
    "start_time": "2022-02-21T17:39:38.275Z"
   },
   {
    "duration": 235,
    "start_time": "2022-02-21T17:45:38.160Z"
   },
   {
    "duration": 282,
    "start_time": "2022-02-21T17:46:48.604Z"
   },
   {
    "duration": 12,
    "start_time": "2022-02-21T17:48:13.246Z"
   },
   {
    "duration": 8,
    "start_time": "2022-02-21T17:48:21.744Z"
   },
   {
    "duration": 19,
    "start_time": "2022-02-21T17:48:40.280Z"
   },
   {
    "duration": 18,
    "start_time": "2022-02-21T17:50:50.162Z"
   },
   {
    "duration": 99,
    "start_time": "2022-02-21T17:51:50.712Z"
   },
   {
    "duration": 14,
    "start_time": "2022-02-21T17:52:02.455Z"
   },
   {
    "duration": 8,
    "start_time": "2022-02-21T17:52:20.266Z"
   },
   {
    "duration": 5,
    "start_time": "2022-02-21T17:52:24.837Z"
   },
   {
    "duration": 1248,
    "start_time": "2022-02-21T18:04:43.041Z"
   },
   {
    "duration": 447,
    "start_time": "2022-02-21T18:04:44.291Z"
   },
   {
    "duration": 25,
    "start_time": "2022-02-21T18:04:44.741Z"
   },
   {
    "duration": 7,
    "start_time": "2022-02-21T18:04:44.769Z"
   },
   {
    "duration": 9,
    "start_time": "2022-02-21T18:04:44.778Z"
   },
   {
    "duration": 24,
    "start_time": "2022-02-21T18:04:44.789Z"
   },
   {
    "duration": 40,
    "start_time": "2022-02-21T18:04:44.815Z"
   },
   {
    "duration": 5,
    "start_time": "2022-02-21T18:04:44.859Z"
   },
   {
    "duration": 9,
    "start_time": "2022-02-21T18:04:44.867Z"
   },
   {
    "duration": 67,
    "start_time": "2022-02-21T18:04:44.877Z"
   },
   {
    "duration": 27,
    "start_time": "2022-02-21T18:04:44.946Z"
   },
   {
    "duration": 34,
    "start_time": "2022-02-21T18:04:44.975Z"
   },
   {
    "duration": 29,
    "start_time": "2022-02-21T18:04:45.012Z"
   },
   {
    "duration": 30,
    "start_time": "2022-02-21T18:04:45.043Z"
   },
   {
    "duration": 38,
    "start_time": "2022-02-21T18:04:45.075Z"
   },
   {
    "duration": 33,
    "start_time": "2022-02-21T18:04:45.115Z"
   },
   {
    "duration": 27,
    "start_time": "2022-02-21T18:04:45.150Z"
   },
   {
    "duration": 44,
    "start_time": "2022-02-21T18:04:45.180Z"
   },
   {
    "duration": 6,
    "start_time": "2022-02-21T18:04:45.226Z"
   },
   {
    "duration": 17,
    "start_time": "2022-02-21T18:04:45.233Z"
   },
   {
    "duration": 7,
    "start_time": "2022-02-21T18:04:45.253Z"
   },
   {
    "duration": 19,
    "start_time": "2022-02-21T18:04:45.261Z"
   },
   {
    "duration": 25,
    "start_time": "2022-02-21T18:04:45.284Z"
   },
   {
    "duration": 8,
    "start_time": "2022-02-21T18:04:45.312Z"
   },
   {
    "duration": 67,
    "start_time": "2022-02-21T18:04:45.322Z"
   },
   {
    "duration": 26,
    "start_time": "2022-02-21T18:04:45.391Z"
   },
   {
    "duration": 45,
    "start_time": "2022-02-21T18:04:45.419Z"
   },
   {
    "duration": 3,
    "start_time": "2022-02-21T18:04:45.466Z"
   },
   {
    "duration": 51,
    "start_time": "2022-02-21T18:04:45.471Z"
   },
   {
    "duration": 3,
    "start_time": "2022-02-21T18:04:45.524Z"
   },
   {
    "duration": 20,
    "start_time": "2022-02-21T18:04:45.529Z"
   },
   {
    "duration": 24,
    "start_time": "2022-02-21T18:04:45.551Z"
   },
   {
    "duration": 39,
    "start_time": "2022-02-21T18:04:45.578Z"
   },
   {
    "duration": 22,
    "start_time": "2022-02-21T18:04:45.619Z"
   },
   {
    "duration": 30,
    "start_time": "2022-02-21T18:04:45.643Z"
   },
   {
    "duration": 33,
    "start_time": "2022-02-21T18:04:45.676Z"
   },
   {
    "duration": 4,
    "start_time": "2022-02-21T18:04:45.711Z"
   },
   {
    "duration": 12,
    "start_time": "2022-02-21T18:04:45.717Z"
   },
   {
    "duration": 11,
    "start_time": "2022-02-21T18:04:45.730Z"
   },
   {
    "duration": 11,
    "start_time": "2022-02-21T18:04:45.743Z"
   },
   {
    "duration": 7,
    "start_time": "2022-02-21T18:04:45.756Z"
   },
   {
    "duration": 44,
    "start_time": "2022-02-21T18:04:45.765Z"
   },
   {
    "duration": 4,
    "start_time": "2022-02-21T18:04:45.812Z"
   },
   {
    "duration": 21,
    "start_time": "2022-02-21T18:04:45.818Z"
   },
   {
    "duration": 9,
    "start_time": "2022-02-21T18:04:45.842Z"
   },
   {
    "duration": 56,
    "start_time": "2022-02-21T18:04:45.853Z"
   },
   {
    "duration": 9,
    "start_time": "2022-02-21T18:04:45.912Z"
   },
   {
    "duration": 7,
    "start_time": "2022-02-21T18:04:45.923Z"
   },
   {
    "duration": 26,
    "start_time": "2022-02-21T18:04:45.932Z"
   },
   {
    "duration": 58,
    "start_time": "2022-02-21T18:04:45.960Z"
   },
   {
    "duration": 33,
    "start_time": "2022-02-21T18:04:46.021Z"
   },
   {
    "duration": 53,
    "start_time": "2022-02-21T18:04:46.056Z"
   },
   {
    "duration": 10,
    "start_time": "2022-02-21T18:04:46.111Z"
   },
   {
    "duration": 11,
    "start_time": "2022-02-21T18:04:46.123Z"
   },
   {
    "duration": 10,
    "start_time": "2022-02-21T18:04:46.136Z"
   },
   {
    "duration": 11,
    "start_time": "2022-02-21T18:04:46.148Z"
   },
   {
    "duration": 56,
    "start_time": "2022-02-21T18:04:46.161Z"
   },
   {
    "duration": 27,
    "start_time": "2022-02-21T18:04:46.219Z"
   },
   {
    "duration": 31,
    "start_time": "2022-02-21T18:04:46.248Z"
   },
   {
    "duration": 34,
    "start_time": "2022-02-21T18:04:46.281Z"
   },
   {
    "duration": 21,
    "start_time": "2022-02-21T18:04:46.317Z"
   },
   {
    "duration": 23,
    "start_time": "2022-02-21T18:04:46.340Z"
   },
   {
    "duration": 13,
    "start_time": "2022-02-21T18:04:46.365Z"
   },
   {
    "duration": 42,
    "start_time": "2022-02-21T18:04:46.380Z"
   },
   {
    "duration": 30,
    "start_time": "2022-02-21T18:04:46.424Z"
   },
   {
    "duration": 266,
    "start_time": "2022-02-21T18:04:46.456Z"
   },
   {
    "duration": 253,
    "start_time": "2022-02-21T18:04:46.724Z"
   },
   {
    "duration": 239,
    "start_time": "2022-02-21T18:04:46.983Z"
   },
   {
    "duration": 13,
    "start_time": "2022-02-21T18:04:47.224Z"
   },
   {
    "duration": 31,
    "start_time": "2022-02-21T18:04:47.239Z"
   },
   {
    "duration": 34,
    "start_time": "2022-02-21T18:04:47.272Z"
   },
   {
    "duration": 24,
    "start_time": "2022-02-21T18:04:47.308Z"
   },
   {
    "duration": 22,
    "start_time": "2022-02-21T18:04:47.334Z"
   },
   {
    "duration": 38,
    "start_time": "2022-02-21T18:04:47.359Z"
   },
   {
    "duration": 22,
    "start_time": "2022-02-21T18:07:35.135Z"
   },
   {
    "duration": 1656,
    "start_time": "2022-02-22T12:21:14.306Z"
   },
   {
    "duration": 418,
    "start_time": "2022-02-22T12:21:15.963Z"
   },
   {
    "duration": 22,
    "start_time": "2022-02-22T12:21:16.383Z"
   },
   {
    "duration": 6,
    "start_time": "2022-02-22T12:21:16.407Z"
   },
   {
    "duration": 6,
    "start_time": "2022-02-22T12:21:16.415Z"
   },
   {
    "duration": 12,
    "start_time": "2022-02-22T12:21:16.423Z"
   },
   {
    "duration": 52,
    "start_time": "2022-02-22T12:21:16.437Z"
   },
   {
    "duration": 5,
    "start_time": "2022-02-22T12:21:16.491Z"
   },
   {
    "duration": 10,
    "start_time": "2022-02-22T12:21:16.498Z"
   },
   {
    "duration": 53,
    "start_time": "2022-02-22T12:21:16.509Z"
   },
   {
    "duration": 23,
    "start_time": "2022-02-22T12:21:16.564Z"
   },
   {
    "duration": 20,
    "start_time": "2022-02-22T12:21:16.589Z"
   },
   {
    "duration": 24,
    "start_time": "2022-02-22T12:21:16.611Z"
   },
   {
    "duration": 39,
    "start_time": "2022-02-22T12:21:16.637Z"
   },
   {
    "duration": 15,
    "start_time": "2022-02-22T12:21:16.678Z"
   },
   {
    "duration": 28,
    "start_time": "2022-02-22T12:21:16.694Z"
   },
   {
    "duration": 52,
    "start_time": "2022-02-22T12:21:16.723Z"
   },
   {
    "duration": 17,
    "start_time": "2022-02-22T12:21:16.777Z"
   },
   {
    "duration": 6,
    "start_time": "2022-02-22T12:21:16.795Z"
   },
   {
    "duration": 18,
    "start_time": "2022-02-22T12:21:16.802Z"
   },
   {
    "duration": 6,
    "start_time": "2022-02-22T12:21:16.822Z"
   },
   {
    "duration": 37,
    "start_time": "2022-02-22T12:21:16.829Z"
   },
   {
    "duration": 5,
    "start_time": "2022-02-22T12:21:16.870Z"
   },
   {
    "duration": 6,
    "start_time": "2022-02-22T12:21:16.877Z"
   },
   {
    "duration": 87,
    "start_time": "2022-02-22T12:21:16.885Z"
   },
   {
    "duration": 10,
    "start_time": "2022-02-22T12:21:16.974Z"
   },
   {
    "duration": 37,
    "start_time": "2022-02-22T12:21:16.986Z"
   },
   {
    "duration": 3,
    "start_time": "2022-02-22T12:21:17.024Z"
   },
   {
    "duration": 49,
    "start_time": "2022-02-22T12:21:17.028Z"
   },
   {
    "duration": 3,
    "start_time": "2022-02-22T12:21:17.079Z"
   },
   {
    "duration": 33,
    "start_time": "2022-02-22T12:21:17.084Z"
   },
   {
    "duration": 29,
    "start_time": "2022-02-22T12:21:17.119Z"
   },
   {
    "duration": 26,
    "start_time": "2022-02-22T12:21:17.150Z"
   },
   {
    "duration": 21,
    "start_time": "2022-02-22T12:21:17.178Z"
   },
   {
    "duration": 29,
    "start_time": "2022-02-22T12:21:17.200Z"
   },
   {
    "duration": 5,
    "start_time": "2022-02-22T12:21:17.231Z"
   },
   {
    "duration": 5,
    "start_time": "2022-02-22T12:21:17.260Z"
   },
   {
    "duration": 16,
    "start_time": "2022-02-22T12:21:17.267Z"
   },
   {
    "duration": 20,
    "start_time": "2022-02-22T12:21:17.285Z"
   },
   {
    "duration": 17,
    "start_time": "2022-02-22T12:21:17.307Z"
   },
   {
    "duration": 14,
    "start_time": "2022-02-22T12:21:17.326Z"
   },
   {
    "duration": 27,
    "start_time": "2022-02-22T12:21:17.342Z"
   },
   {
    "duration": 26,
    "start_time": "2022-02-22T12:21:17.371Z"
   },
   {
    "duration": 24,
    "start_time": "2022-02-22T12:21:17.398Z"
   },
   {
    "duration": 9,
    "start_time": "2022-02-22T12:21:17.424Z"
   },
   {
    "duration": 23,
    "start_time": "2022-02-22T12:21:17.435Z"
   },
   {
    "duration": 9,
    "start_time": "2022-02-22T12:21:17.460Z"
   },
   {
    "duration": 7,
    "start_time": "2022-02-22T12:21:17.470Z"
   },
   {
    "duration": 22,
    "start_time": "2022-02-22T12:21:17.478Z"
   },
   {
    "duration": 57,
    "start_time": "2022-02-22T12:21:17.502Z"
   },
   {
    "duration": 27,
    "start_time": "2022-02-22T12:21:17.561Z"
   },
   {
    "duration": 26,
    "start_time": "2022-02-22T12:21:17.590Z"
   },
   {
    "duration": 8,
    "start_time": "2022-02-22T12:21:17.618Z"
   },
   {
    "duration": 37,
    "start_time": "2022-02-22T12:21:17.628Z"
   },
   {
    "duration": 8,
    "start_time": "2022-02-22T12:21:17.666Z"
   },
   {
    "duration": 7,
    "start_time": "2022-02-22T12:21:17.675Z"
   },
   {
    "duration": 19,
    "start_time": "2022-02-22T12:21:17.683Z"
   },
   {
    "duration": 21,
    "start_time": "2022-02-22T12:21:17.704Z"
   },
   {
    "duration": 56,
    "start_time": "2022-02-22T12:21:17.727Z"
   },
   {
    "duration": 9,
    "start_time": "2022-02-22T12:21:17.784Z"
   },
   {
    "duration": 26,
    "start_time": "2022-02-22T12:21:17.794Z"
   },
   {
    "duration": 7,
    "start_time": "2022-02-22T12:21:17.822Z"
   },
   {
    "duration": 7,
    "start_time": "2022-02-22T12:21:17.831Z"
   },
   {
    "duration": 38,
    "start_time": "2022-02-22T12:21:17.839Z"
   },
   {
    "duration": 22,
    "start_time": "2022-02-22T12:21:17.879Z"
   },
   {
    "duration": 251,
    "start_time": "2022-02-22T12:21:17.903Z"
   },
   {
    "duration": 240,
    "start_time": "2022-02-22T12:21:18.159Z"
   },
   {
    "duration": 236,
    "start_time": "2022-02-22T12:21:18.404Z"
   },
   {
    "duration": 19,
    "start_time": "2022-02-22T12:21:18.642Z"
   },
   {
    "duration": 5,
    "start_time": "2022-02-22T12:21:18.663Z"
   },
   {
    "duration": 26,
    "start_time": "2022-02-22T12:21:18.670Z"
   },
   {
    "duration": 11,
    "start_time": "2022-02-22T12:21:18.698Z"
   },
   {
    "duration": 6,
    "start_time": "2022-02-22T12:21:18.710Z"
   },
   {
    "duration": 12,
    "start_time": "2022-02-22T12:21:18.718Z"
   },
   {
    "duration": 4,
    "start_time": "2022-02-22T12:25:01.089Z"
   },
   {
    "duration": 16,
    "start_time": "2022-02-22T12:25:16.668Z"
   },
   {
    "duration": 1243,
    "start_time": "2022-05-30T16:10:47.857Z"
   },
   {
    "duration": 925,
    "start_time": "2022-05-30T16:10:49.102Z"
   },
   {
    "duration": 32,
    "start_time": "2022-05-30T16:10:50.029Z"
   },
   {
    "duration": 6,
    "start_time": "2022-05-30T16:10:50.064Z"
   },
   {
    "duration": 33,
    "start_time": "2022-05-30T16:10:50.072Z"
   },
   {
    "duration": 28,
    "start_time": "2022-05-30T16:10:50.107Z"
   },
   {
    "duration": 44,
    "start_time": "2022-05-30T16:10:50.137Z"
   },
   {
    "duration": 5,
    "start_time": "2022-05-30T16:10:50.182Z"
   },
   {
    "duration": 25,
    "start_time": "2022-05-30T16:10:50.188Z"
   },
   {
    "duration": 37,
    "start_time": "2022-05-30T16:10:50.216Z"
   },
   {
    "duration": 24,
    "start_time": "2022-05-30T16:10:50.255Z"
   },
   {
    "duration": 17,
    "start_time": "2022-05-30T16:10:50.280Z"
   },
   {
    "duration": 44,
    "start_time": "2022-05-30T16:10:50.299Z"
   },
   {
    "duration": 22,
    "start_time": "2022-05-30T16:10:50.344Z"
   },
   {
    "duration": 15,
    "start_time": "2022-05-30T16:10:50.368Z"
   },
   {
    "duration": 62,
    "start_time": "2022-05-30T16:10:50.385Z"
   },
   {
    "duration": 27,
    "start_time": "2022-05-30T16:10:50.448Z"
   },
   {
    "duration": 21,
    "start_time": "2022-05-30T16:10:50.476Z"
   },
   {
    "duration": 28,
    "start_time": "2022-05-30T16:10:50.499Z"
   },
   {
    "duration": 14,
    "start_time": "2022-05-30T16:10:50.529Z"
   },
   {
    "duration": 12,
    "start_time": "2022-05-30T16:10:50.545Z"
   },
   {
    "duration": 19,
    "start_time": "2022-05-30T16:10:50.558Z"
   },
   {
    "duration": 6,
    "start_time": "2022-05-30T16:10:50.578Z"
   },
   {
    "duration": 19,
    "start_time": "2022-05-30T16:10:50.586Z"
   },
   {
    "duration": 65,
    "start_time": "2022-05-30T16:10:50.607Z"
   },
   {
    "duration": 12,
    "start_time": "2022-05-30T16:10:50.674Z"
   },
   {
    "duration": 48,
    "start_time": "2022-05-30T16:10:50.687Z"
   },
   {
    "duration": 2,
    "start_time": "2022-05-30T16:10:50.740Z"
   },
   {
    "duration": 60,
    "start_time": "2022-05-30T16:10:50.744Z"
   },
   {
    "duration": 4,
    "start_time": "2022-05-30T16:10:50.805Z"
   },
   {
    "duration": 22,
    "start_time": "2022-05-30T16:10:50.811Z"
   },
   {
    "duration": 32,
    "start_time": "2022-05-30T16:10:50.835Z"
   },
   {
    "duration": 23,
    "start_time": "2022-05-30T16:10:50.869Z"
   },
   {
    "duration": 17,
    "start_time": "2022-05-30T16:10:50.894Z"
   },
   {
    "duration": 32,
    "start_time": "2022-05-30T16:10:50.913Z"
   },
   {
    "duration": 8,
    "start_time": "2022-05-30T16:10:50.947Z"
   },
   {
    "duration": 8,
    "start_time": "2022-05-30T16:10:50.956Z"
   },
   {
    "duration": 9,
    "start_time": "2022-05-30T16:10:50.966Z"
   },
   {
    "duration": 29,
    "start_time": "2022-05-30T16:10:50.976Z"
   },
   {
    "duration": 19,
    "start_time": "2022-05-30T16:10:51.007Z"
   },
   {
    "duration": 4,
    "start_time": "2022-05-30T16:10:51.028Z"
   },
   {
    "duration": 18,
    "start_time": "2022-05-30T16:10:51.034Z"
   },
   {
    "duration": 10,
    "start_time": "2022-05-30T16:10:51.053Z"
   },
   {
    "duration": 19,
    "start_time": "2022-05-30T16:10:51.065Z"
   },
   {
    "duration": 15,
    "start_time": "2022-05-30T16:10:51.085Z"
   },
   {
    "duration": 26,
    "start_time": "2022-05-30T16:10:51.101Z"
   },
   {
    "duration": 11,
    "start_time": "2022-05-30T16:10:51.129Z"
   },
   {
    "duration": 39,
    "start_time": "2022-05-30T16:10:51.141Z"
   },
   {
    "duration": 25,
    "start_time": "2022-05-30T16:10:51.182Z"
   },
   {
    "duration": 26,
    "start_time": "2022-05-30T16:10:51.208Z"
   },
   {
    "duration": 25,
    "start_time": "2022-05-30T16:10:51.236Z"
   },
   {
    "duration": 16,
    "start_time": "2022-05-30T16:10:51.262Z"
   },
   {
    "duration": 8,
    "start_time": "2022-05-30T16:10:51.279Z"
   },
   {
    "duration": 12,
    "start_time": "2022-05-30T16:10:51.289Z"
   },
   {
    "duration": 8,
    "start_time": "2022-05-30T16:10:51.326Z"
   },
   {
    "duration": 10,
    "start_time": "2022-05-30T16:10:51.335Z"
   },
   {
    "duration": 18,
    "start_time": "2022-05-30T16:10:51.346Z"
   },
   {
    "duration": 25,
    "start_time": "2022-05-30T16:10:51.366Z"
   },
   {
    "duration": 45,
    "start_time": "2022-05-30T16:10:51.392Z"
   },
   {
    "duration": 9,
    "start_time": "2022-05-30T16:10:51.439Z"
   },
   {
    "duration": 10,
    "start_time": "2022-05-30T16:10:51.449Z"
   },
   {
    "duration": 12,
    "start_time": "2022-05-30T16:10:51.461Z"
   },
   {
    "duration": 12,
    "start_time": "2022-05-30T16:10:51.474Z"
   },
   {
    "duration": 40,
    "start_time": "2022-05-30T16:10:51.487Z"
   },
   {
    "duration": 22,
    "start_time": "2022-05-30T16:10:51.528Z"
   },
   {
    "duration": 269,
    "start_time": "2022-05-30T16:10:51.552Z"
   },
   {
    "duration": 179,
    "start_time": "2022-05-30T16:10:51.822Z"
   },
   {
    "duration": 187,
    "start_time": "2022-05-30T16:10:52.002Z"
   },
   {
    "duration": 12,
    "start_time": "2022-05-30T16:10:52.191Z"
   },
   {
    "duration": 22,
    "start_time": "2022-05-30T16:10:52.205Z"
   },
   {
    "duration": 15,
    "start_time": "2022-05-30T16:10:52.229Z"
   },
   {
    "duration": 10,
    "start_time": "2022-05-30T16:10:52.246Z"
   },
   {
    "duration": 8,
    "start_time": "2022-05-30T16:10:52.257Z"
   },
   {
    "duration": 5,
    "start_time": "2022-05-30T16:10:52.266Z"
   },
   {
    "duration": 1515,
    "start_time": "2022-06-17T07:36:44.640Z"
   },
   {
    "duration": 1233,
    "start_time": "2022-06-17T07:36:46.157Z"
   },
   {
    "duration": 32,
    "start_time": "2022-06-17T07:36:47.393Z"
   },
   {
    "duration": 8,
    "start_time": "2022-06-17T07:36:47.428Z"
   },
   {
    "duration": 5,
    "start_time": "2022-06-17T07:36:47.438Z"
   },
   {
    "duration": 9,
    "start_time": "2022-06-17T07:36:47.445Z"
   },
   {
    "duration": 80,
    "start_time": "2022-06-17T07:36:47.456Z"
   },
   {
    "duration": 4,
    "start_time": "2022-06-17T07:36:47.538Z"
   },
   {
    "duration": 8,
    "start_time": "2022-06-17T07:36:47.544Z"
   },
   {
    "duration": 54,
    "start_time": "2022-06-17T07:36:47.555Z"
   },
   {
    "duration": 22,
    "start_time": "2022-06-17T07:36:47.611Z"
   },
   {
    "duration": 43,
    "start_time": "2022-06-17T07:36:47.635Z"
   },
   {
    "duration": 37,
    "start_time": "2022-06-17T07:36:47.680Z"
   },
   {
    "duration": 21,
    "start_time": "2022-06-17T07:36:47.719Z"
   },
   {
    "duration": 42,
    "start_time": "2022-06-17T07:36:47.742Z"
   },
   {
    "duration": 38,
    "start_time": "2022-06-17T07:36:47.789Z"
   },
   {
    "duration": 26,
    "start_time": "2022-06-17T07:36:47.829Z"
   },
   {
    "duration": 28,
    "start_time": "2022-06-17T07:36:47.857Z"
   },
   {
    "duration": 16,
    "start_time": "2022-06-17T07:36:47.887Z"
   },
   {
    "duration": 15,
    "start_time": "2022-06-17T07:36:47.905Z"
   },
   {
    "duration": 11,
    "start_time": "2022-06-17T07:36:47.922Z"
   },
   {
    "duration": 10,
    "start_time": "2022-06-17T07:36:47.934Z"
   },
   {
    "duration": 4,
    "start_time": "2022-06-17T07:36:47.965Z"
   },
   {
    "duration": 10,
    "start_time": "2022-06-17T07:36:47.970Z"
   },
   {
    "duration": 81,
    "start_time": "2022-06-17T07:36:47.982Z"
   },
   {
    "duration": 18,
    "start_time": "2022-06-17T07:36:48.070Z"
   },
   {
    "duration": 41,
    "start_time": "2022-06-17T07:36:48.091Z"
   },
   {
    "duration": 3,
    "start_time": "2022-06-17T07:36:48.135Z"
   },
   {
    "duration": 35,
    "start_time": "2022-06-17T07:36:48.140Z"
   },
   {
    "duration": 6,
    "start_time": "2022-06-17T07:36:48.179Z"
   },
   {
    "duration": 28,
    "start_time": "2022-06-17T07:36:48.187Z"
   },
   {
    "duration": 20,
    "start_time": "2022-06-17T07:36:48.217Z"
   },
   {
    "duration": 20,
    "start_time": "2022-06-17T07:36:48.239Z"
   },
   {
    "duration": 29,
    "start_time": "2022-06-17T07:36:48.264Z"
   },
   {
    "duration": 42,
    "start_time": "2022-06-17T07:36:48.296Z"
   },
   {
    "duration": 8,
    "start_time": "2022-06-17T07:36:48.339Z"
   },
   {
    "duration": 9,
    "start_time": "2022-06-17T07:36:48.349Z"
   },
   {
    "duration": 31,
    "start_time": "2022-06-17T07:36:48.370Z"
   },
   {
    "duration": 12,
    "start_time": "2022-06-17T07:36:48.403Z"
   },
   {
    "duration": 8,
    "start_time": "2022-06-17T07:36:48.417Z"
   },
   {
    "duration": 4,
    "start_time": "2022-06-17T07:36:48.427Z"
   },
   {
    "duration": 15,
    "start_time": "2022-06-17T07:36:48.432Z"
   },
   {
    "duration": 7,
    "start_time": "2022-06-17T07:36:48.468Z"
   },
   {
    "duration": 34,
    "start_time": "2022-06-17T07:36:48.477Z"
   },
   {
    "duration": 8,
    "start_time": "2022-06-17T07:36:48.513Z"
   },
   {
    "duration": 21,
    "start_time": "2022-06-17T07:36:48.523Z"
   },
   {
    "duration": 28,
    "start_time": "2022-06-17T07:36:48.546Z"
   },
   {
    "duration": 37,
    "start_time": "2022-06-17T07:36:48.576Z"
   },
   {
    "duration": 21,
    "start_time": "2022-06-17T07:36:48.615Z"
   },
   {
    "duration": 24,
    "start_time": "2022-06-17T07:36:48.638Z"
   },
   {
    "duration": 37,
    "start_time": "2022-06-17T07:36:48.664Z"
   },
   {
    "duration": 16,
    "start_time": "2022-06-17T07:36:48.704Z"
   },
   {
    "duration": 10,
    "start_time": "2022-06-17T07:36:48.721Z"
   },
   {
    "duration": 41,
    "start_time": "2022-06-17T07:36:48.733Z"
   },
   {
    "duration": 29,
    "start_time": "2022-06-17T07:36:48.776Z"
   },
   {
    "duration": 10,
    "start_time": "2022-06-17T07:36:48.807Z"
   },
   {
    "duration": 20,
    "start_time": "2022-06-17T07:36:48.819Z"
   },
   {
    "duration": 33,
    "start_time": "2022-06-17T07:36:48.841Z"
   },
   {
    "duration": 59,
    "start_time": "2022-06-17T07:36:48.877Z"
   },
   {
    "duration": 14,
    "start_time": "2022-06-17T07:36:48.939Z"
   },
   {
    "duration": 14,
    "start_time": "2022-06-17T07:36:48.955Z"
   },
   {
    "duration": 48,
    "start_time": "2022-06-17T07:36:48.971Z"
   },
   {
    "duration": 15,
    "start_time": "2022-06-17T07:36:49.022Z"
   },
   {
    "duration": 87,
    "start_time": "2022-06-17T07:36:49.039Z"
   },
   {
    "duration": 40,
    "start_time": "2022-06-17T07:36:49.129Z"
   },
   {
    "duration": 261,
    "start_time": "2022-06-17T07:36:49.171Z"
   },
   {
    "duration": 207,
    "start_time": "2022-06-17T07:36:49.433Z"
   },
   {
    "duration": 201,
    "start_time": "2022-06-17T07:36:49.642Z"
   },
   {
    "duration": 15,
    "start_time": "2022-06-17T07:36:49.845Z"
   },
   {
    "duration": 15,
    "start_time": "2022-06-17T07:36:49.865Z"
   },
   {
    "duration": 36,
    "start_time": "2022-06-17T07:36:49.886Z"
   },
   {
    "duration": 10,
    "start_time": "2022-06-17T07:36:49.924Z"
   },
   {
    "duration": 6,
    "start_time": "2022-06-17T07:36:49.936Z"
   },
   {
    "duration": 9,
    "start_time": "2022-06-17T07:36:49.944Z"
   }
  ],
  "kernelspec": {
   "display_name": "Python 3 (ipykernel)",
   "language": "python",
   "name": "python3"
  },
  "language_info": {
   "codemirror_mode": {
    "name": "ipython",
    "version": 3
   },
   "file_extension": ".py",
   "mimetype": "text/x-python",
   "name": "python",
   "nbconvert_exporter": "python",
   "pygments_lexer": "ipython3",
   "version": "3.9.7"
  },
  "toc": {
   "base_numbering": 1,
   "nav_menu": {},
   "number_sections": true,
   "sideBar": true,
   "skip_h1_title": true,
   "title_cell": "Table of Contents",
   "title_sidebar": "Contents",
   "toc_cell": false,
   "toc_position": {},
   "toc_section_display": true,
   "toc_window_display": false
  }
 },
 "nbformat": 4,
 "nbformat_minor": 2
}
