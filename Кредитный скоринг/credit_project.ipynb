{
 "cells": [
  {
   "cell_type": "markdown",
   "metadata": {},
   "source": [
    "# Исследование надёжности заёмщиков\n",
    "\n",
    "Заказчик — кредитный отдел банка. Нужно разобраться, влияет ли семейное положение и количество детей клиента на факт погашения кредита в срок. Входные данные от банка — статистика о платёжеспособности клиентов.\n",
    "\n",
    "Результаты исследования будут учтены при построении модели **кредитного скоринга** — специальной системы, которая оценивает способность потенциального заёмщика вернуть кредит банку."
   ]
  },
  {
   "cell_type": "markdown",
   "metadata": {},
   "source": [
    "## Шаг 1. Откройте файл с данными и изучите общую информацию"
   ]
  },
  {
   "cell_type": "code",
   "execution_count": 1,
   "metadata": {
    "scrolled": true
   },
   "outputs": [
    {
     "data": {
      "text/html": [
       "<div>\n",
       "<style scoped>\n",
       "    .dataframe tbody tr th:only-of-type {\n",
       "        vertical-align: middle;\n",
       "    }\n",
       "\n",
       "    .dataframe tbody tr th {\n",
       "        vertical-align: top;\n",
       "    }\n",
       "\n",
       "    .dataframe thead th {\n",
       "        text-align: right;\n",
       "    }\n",
       "</style>\n",
       "<table border=\"1\" class=\"dataframe\">\n",
       "  <thead>\n",
       "    <tr style=\"text-align: right;\">\n",
       "      <th></th>\n",
       "      <th>children</th>\n",
       "      <th>days_employed</th>\n",
       "      <th>dob_years</th>\n",
       "      <th>education</th>\n",
       "      <th>education_id</th>\n",
       "      <th>family_status</th>\n",
       "      <th>family_status_id</th>\n",
       "      <th>gender</th>\n",
       "      <th>income_type</th>\n",
       "      <th>debt</th>\n",
       "      <th>total_income</th>\n",
       "      <th>purpose</th>\n",
       "    </tr>\n",
       "  </thead>\n",
       "  <tbody>\n",
       "    <tr>\n",
       "      <td>0</td>\n",
       "      <td>1</td>\n",
       "      <td>-8437.673028</td>\n",
       "      <td>42</td>\n",
       "      <td>высшее</td>\n",
       "      <td>0</td>\n",
       "      <td>женат / замужем</td>\n",
       "      <td>0</td>\n",
       "      <td>F</td>\n",
       "      <td>сотрудник</td>\n",
       "      <td>0</td>\n",
       "      <td>253875.639453</td>\n",
       "      <td>покупка жилья</td>\n",
       "    </tr>\n",
       "    <tr>\n",
       "      <td>1</td>\n",
       "      <td>1</td>\n",
       "      <td>-4024.803754</td>\n",
       "      <td>36</td>\n",
       "      <td>среднее</td>\n",
       "      <td>1</td>\n",
       "      <td>женат / замужем</td>\n",
       "      <td>0</td>\n",
       "      <td>F</td>\n",
       "      <td>сотрудник</td>\n",
       "      <td>0</td>\n",
       "      <td>112080.014102</td>\n",
       "      <td>приобретение автомобиля</td>\n",
       "    </tr>\n",
       "    <tr>\n",
       "      <td>2</td>\n",
       "      <td>0</td>\n",
       "      <td>-5623.422610</td>\n",
       "      <td>33</td>\n",
       "      <td>Среднее</td>\n",
       "      <td>1</td>\n",
       "      <td>женат / замужем</td>\n",
       "      <td>0</td>\n",
       "      <td>M</td>\n",
       "      <td>сотрудник</td>\n",
       "      <td>0</td>\n",
       "      <td>145885.952297</td>\n",
       "      <td>покупка жилья</td>\n",
       "    </tr>\n",
       "    <tr>\n",
       "      <td>3</td>\n",
       "      <td>3</td>\n",
       "      <td>-4124.747207</td>\n",
       "      <td>32</td>\n",
       "      <td>среднее</td>\n",
       "      <td>1</td>\n",
       "      <td>женат / замужем</td>\n",
       "      <td>0</td>\n",
       "      <td>M</td>\n",
       "      <td>сотрудник</td>\n",
       "      <td>0</td>\n",
       "      <td>267628.550329</td>\n",
       "      <td>дополнительное образование</td>\n",
       "    </tr>\n",
       "    <tr>\n",
       "      <td>4</td>\n",
       "      <td>0</td>\n",
       "      <td>340266.072047</td>\n",
       "      <td>53</td>\n",
       "      <td>среднее</td>\n",
       "      <td>1</td>\n",
       "      <td>гражданский брак</td>\n",
       "      <td>1</td>\n",
       "      <td>F</td>\n",
       "      <td>пенсионер</td>\n",
       "      <td>0</td>\n",
       "      <td>158616.077870</td>\n",
       "      <td>сыграть свадьбу</td>\n",
       "    </tr>\n",
       "    <tr>\n",
       "      <td>...</td>\n",
       "      <td>...</td>\n",
       "      <td>...</td>\n",
       "      <td>...</td>\n",
       "      <td>...</td>\n",
       "      <td>...</td>\n",
       "      <td>...</td>\n",
       "      <td>...</td>\n",
       "      <td>...</td>\n",
       "      <td>...</td>\n",
       "      <td>...</td>\n",
       "      <td>...</td>\n",
       "      <td>...</td>\n",
       "    </tr>\n",
       "    <tr>\n",
       "      <td>21520</td>\n",
       "      <td>1</td>\n",
       "      <td>-4529.316663</td>\n",
       "      <td>43</td>\n",
       "      <td>среднее</td>\n",
       "      <td>1</td>\n",
       "      <td>гражданский брак</td>\n",
       "      <td>1</td>\n",
       "      <td>F</td>\n",
       "      <td>компаньон</td>\n",
       "      <td>0</td>\n",
       "      <td>224791.862382</td>\n",
       "      <td>операции с жильем</td>\n",
       "    </tr>\n",
       "    <tr>\n",
       "      <td>21521</td>\n",
       "      <td>0</td>\n",
       "      <td>343937.404131</td>\n",
       "      <td>67</td>\n",
       "      <td>среднее</td>\n",
       "      <td>1</td>\n",
       "      <td>женат / замужем</td>\n",
       "      <td>0</td>\n",
       "      <td>F</td>\n",
       "      <td>пенсионер</td>\n",
       "      <td>0</td>\n",
       "      <td>155999.806512</td>\n",
       "      <td>сделка с автомобилем</td>\n",
       "    </tr>\n",
       "    <tr>\n",
       "      <td>21522</td>\n",
       "      <td>1</td>\n",
       "      <td>-2113.346888</td>\n",
       "      <td>38</td>\n",
       "      <td>среднее</td>\n",
       "      <td>1</td>\n",
       "      <td>гражданский брак</td>\n",
       "      <td>1</td>\n",
       "      <td>M</td>\n",
       "      <td>сотрудник</td>\n",
       "      <td>1</td>\n",
       "      <td>89672.561153</td>\n",
       "      <td>недвижимость</td>\n",
       "    </tr>\n",
       "    <tr>\n",
       "      <td>21523</td>\n",
       "      <td>3</td>\n",
       "      <td>-3112.481705</td>\n",
       "      <td>38</td>\n",
       "      <td>среднее</td>\n",
       "      <td>1</td>\n",
       "      <td>женат / замужем</td>\n",
       "      <td>0</td>\n",
       "      <td>M</td>\n",
       "      <td>сотрудник</td>\n",
       "      <td>1</td>\n",
       "      <td>244093.050500</td>\n",
       "      <td>на покупку своего автомобиля</td>\n",
       "    </tr>\n",
       "    <tr>\n",
       "      <td>21524</td>\n",
       "      <td>2</td>\n",
       "      <td>-1984.507589</td>\n",
       "      <td>40</td>\n",
       "      <td>среднее</td>\n",
       "      <td>1</td>\n",
       "      <td>женат / замужем</td>\n",
       "      <td>0</td>\n",
       "      <td>F</td>\n",
       "      <td>сотрудник</td>\n",
       "      <td>0</td>\n",
       "      <td>82047.418899</td>\n",
       "      <td>на покупку автомобиля</td>\n",
       "    </tr>\n",
       "  </tbody>\n",
       "</table>\n",
       "<p>21525 rows × 12 columns</p>\n",
       "</div>"
      ],
      "text/plain": [
       "       children  days_employed  dob_years education  education_id  \\\n",
       "0             1   -8437.673028         42    высшее             0   \n",
       "1             1   -4024.803754         36   среднее             1   \n",
       "2             0   -5623.422610         33   Среднее             1   \n",
       "3             3   -4124.747207         32   среднее             1   \n",
       "4             0  340266.072047         53   среднее             1   \n",
       "...         ...            ...        ...       ...           ...   \n",
       "21520         1   -4529.316663         43   среднее             1   \n",
       "21521         0  343937.404131         67   среднее             1   \n",
       "21522         1   -2113.346888         38   среднее             1   \n",
       "21523         3   -3112.481705         38   среднее             1   \n",
       "21524         2   -1984.507589         40   среднее             1   \n",
       "\n",
       "          family_status  family_status_id gender income_type  debt  \\\n",
       "0       женат / замужем                 0      F   сотрудник     0   \n",
       "1       женат / замужем                 0      F   сотрудник     0   \n",
       "2       женат / замужем                 0      M   сотрудник     0   \n",
       "3       женат / замужем                 0      M   сотрудник     0   \n",
       "4      гражданский брак                 1      F   пенсионер     0   \n",
       "...                 ...               ...    ...         ...   ...   \n",
       "21520  гражданский брак                 1      F   компаньон     0   \n",
       "21521   женат / замужем                 0      F   пенсионер     0   \n",
       "21522  гражданский брак                 1      M   сотрудник     1   \n",
       "21523   женат / замужем                 0      M   сотрудник     1   \n",
       "21524   женат / замужем                 0      F   сотрудник     0   \n",
       "\n",
       "        total_income                       purpose  \n",
       "0      253875.639453                 покупка жилья  \n",
       "1      112080.014102       приобретение автомобиля  \n",
       "2      145885.952297                 покупка жилья  \n",
       "3      267628.550329    дополнительное образование  \n",
       "4      158616.077870               сыграть свадьбу  \n",
       "...              ...                           ...  \n",
       "21520  224791.862382             операции с жильем  \n",
       "21521  155999.806512          сделка с автомобилем  \n",
       "21522   89672.561153                  недвижимость  \n",
       "21523  244093.050500  на покупку своего автомобиля  \n",
       "21524   82047.418899         на покупку автомобиля  \n",
       "\n",
       "[21525 rows x 12 columns]"
      ]
     },
     "metadata": {},
     "output_type": "display_data"
    },
    {
     "name": "stdout",
     "output_type": "stream",
     "text": [
      "<class 'pandas.core.frame.DataFrame'>\n",
      "RangeIndex: 21525 entries, 0 to 21524\n",
      "Data columns (total 12 columns):\n",
      "children            21525 non-null int64\n",
      "days_employed       19351 non-null float64\n",
      "dob_years           21525 non-null int64\n",
      "education           21525 non-null object\n",
      "education_id        21525 non-null int64\n",
      "family_status       21525 non-null object\n",
      "family_status_id    21525 non-null int64\n",
      "gender              21525 non-null object\n",
      "income_type         21525 non-null object\n",
      "debt                21525 non-null int64\n",
      "total_income        19351 non-null float64\n",
      "purpose             21525 non-null object\n",
      "dtypes: float64(2), int64(5), object(5)\n",
      "memory usage: 2.0+ MB\n"
     ]
    }
   ],
   "source": [
    "import pandas as pd\n",
    "data = pd.read_csv('/datasets/data.csv')\n",
    "display(data)\n",
    "data.info()"
   ]
  },
  {
   "cell_type": "code",
   "execution_count": 2,
   "metadata": {},
   "outputs": [
    {
     "data": {
      "text/html": [
       "<div>\n",
       "<style scoped>\n",
       "    .dataframe tbody tr th:only-of-type {\n",
       "        vertical-align: middle;\n",
       "    }\n",
       "\n",
       "    .dataframe tbody tr th {\n",
       "        vertical-align: top;\n",
       "    }\n",
       "\n",
       "    .dataframe thead th {\n",
       "        text-align: right;\n",
       "    }\n",
       "</style>\n",
       "<table border=\"1\" class=\"dataframe\">\n",
       "  <thead>\n",
       "    <tr style=\"text-align: right;\">\n",
       "      <th></th>\n",
       "      <th>children</th>\n",
       "      <th>days_employed</th>\n",
       "      <th>dob_years</th>\n",
       "      <th>education_id</th>\n",
       "      <th>family_status_id</th>\n",
       "      <th>debt</th>\n",
       "      <th>total_income</th>\n",
       "    </tr>\n",
       "  </thead>\n",
       "  <tbody>\n",
       "    <tr>\n",
       "      <td>count</td>\n",
       "      <td>21525.000000</td>\n",
       "      <td>19351.000000</td>\n",
       "      <td>21525.000000</td>\n",
       "      <td>21525.000000</td>\n",
       "      <td>21525.000000</td>\n",
       "      <td>21525.000000</td>\n",
       "      <td>1.935100e+04</td>\n",
       "    </tr>\n",
       "    <tr>\n",
       "      <td>mean</td>\n",
       "      <td>0.538908</td>\n",
       "      <td>63046.497661</td>\n",
       "      <td>43.293380</td>\n",
       "      <td>0.817236</td>\n",
       "      <td>0.972544</td>\n",
       "      <td>0.080883</td>\n",
       "      <td>1.674223e+05</td>\n",
       "    </tr>\n",
       "    <tr>\n",
       "      <td>std</td>\n",
       "      <td>1.381587</td>\n",
       "      <td>140827.311974</td>\n",
       "      <td>12.574584</td>\n",
       "      <td>0.548138</td>\n",
       "      <td>1.420324</td>\n",
       "      <td>0.272661</td>\n",
       "      <td>1.029716e+05</td>\n",
       "    </tr>\n",
       "    <tr>\n",
       "      <td>min</td>\n",
       "      <td>-1.000000</td>\n",
       "      <td>-18388.949901</td>\n",
       "      <td>0.000000</td>\n",
       "      <td>0.000000</td>\n",
       "      <td>0.000000</td>\n",
       "      <td>0.000000</td>\n",
       "      <td>2.066726e+04</td>\n",
       "    </tr>\n",
       "    <tr>\n",
       "      <td>25%</td>\n",
       "      <td>0.000000</td>\n",
       "      <td>-2747.423625</td>\n",
       "      <td>33.000000</td>\n",
       "      <td>1.000000</td>\n",
       "      <td>0.000000</td>\n",
       "      <td>0.000000</td>\n",
       "      <td>1.030532e+05</td>\n",
       "    </tr>\n",
       "    <tr>\n",
       "      <td>50%</td>\n",
       "      <td>0.000000</td>\n",
       "      <td>-1203.369529</td>\n",
       "      <td>42.000000</td>\n",
       "      <td>1.000000</td>\n",
       "      <td>0.000000</td>\n",
       "      <td>0.000000</td>\n",
       "      <td>1.450179e+05</td>\n",
       "    </tr>\n",
       "    <tr>\n",
       "      <td>75%</td>\n",
       "      <td>1.000000</td>\n",
       "      <td>-291.095954</td>\n",
       "      <td>53.000000</td>\n",
       "      <td>1.000000</td>\n",
       "      <td>1.000000</td>\n",
       "      <td>0.000000</td>\n",
       "      <td>2.034351e+05</td>\n",
       "    </tr>\n",
       "    <tr>\n",
       "      <td>max</td>\n",
       "      <td>20.000000</td>\n",
       "      <td>401755.400475</td>\n",
       "      <td>75.000000</td>\n",
       "      <td>4.000000</td>\n",
       "      <td>4.000000</td>\n",
       "      <td>1.000000</td>\n",
       "      <td>2.265604e+06</td>\n",
       "    </tr>\n",
       "  </tbody>\n",
       "</table>\n",
       "</div>"
      ],
      "text/plain": [
       "           children  days_employed     dob_years  education_id  \\\n",
       "count  21525.000000   19351.000000  21525.000000  21525.000000   \n",
       "mean       0.538908   63046.497661     43.293380      0.817236   \n",
       "std        1.381587  140827.311974     12.574584      0.548138   \n",
       "min       -1.000000  -18388.949901      0.000000      0.000000   \n",
       "25%        0.000000   -2747.423625     33.000000      1.000000   \n",
       "50%        0.000000   -1203.369529     42.000000      1.000000   \n",
       "75%        1.000000    -291.095954     53.000000      1.000000   \n",
       "max       20.000000  401755.400475     75.000000      4.000000   \n",
       "\n",
       "       family_status_id          debt  total_income  \n",
       "count      21525.000000  21525.000000  1.935100e+04  \n",
       "mean           0.972544      0.080883  1.674223e+05  \n",
       "std            1.420324      0.272661  1.029716e+05  \n",
       "min            0.000000      0.000000  2.066726e+04  \n",
       "25%            0.000000      0.000000  1.030532e+05  \n",
       "50%            0.000000      0.000000  1.450179e+05  \n",
       "75%            1.000000      0.000000  2.034351e+05  \n",
       "max            4.000000      1.000000  2.265604e+06  "
      ]
     },
     "execution_count": 2,
     "metadata": {},
     "output_type": "execute_result"
    }
   ],
   "source": [
    "data.describe()"
   ]
  },
  {
   "cell_type": "code",
   "execution_count": 3,
   "metadata": {},
   "outputs": [
    {
     "data": {
      "text/plain": [
       "2174"
      ]
     },
     "execution_count": 3,
     "metadata": {},
     "output_type": "execute_result"
    }
   ],
   "source": [
    "len(data[data['days_employed'].isna()])"
   ]
  },
  {
   "cell_type": "code",
   "execution_count": 4,
   "metadata": {},
   "outputs": [
    {
     "data": {
      "text/plain": [
       "2174"
      ]
     },
     "execution_count": 4,
     "metadata": {},
     "output_type": "execute_result"
    }
   ],
   "source": [
    "len(data[data['total_income'].isna()])"
   ]
  },
  {
   "cell_type": "markdown",
   "metadata": {},
   "source": [
    "# **Вывод**"
   ]
  },
  {
   "cell_type": "markdown",
   "metadata": {},
   "source": [
    "Из 12 столбцов датафрейма два содержат пропуски: общий трудовой стаж в днях (2174) и ежемесячный доход (2174). Эти же столбцы имеют вещественный тип данных. Некоторые их них являются отрицательными числами, что свидетельствует о техногенной природе ошибки. 2174 строки - существенный объем данных. Чтобы не исказить результат, их можно заменить медианными значениями для каждого столбца."
   ]
  },
  {
   "cell_type": "markdown",
   "metadata": {},
   "source": [
    "## Шаг 2. Предобработка данных"
   ]
  },
  {
   "cell_type": "markdown",
   "metadata": {},
   "source": [
    "### Обработка пропусков"
   ]
  },
  {
   "cell_type": "markdown",
   "metadata": {},
   "source": [
    "Переведем из датафрейма все отрицательные числа в натуральные, чтобы они не повлияли на медиану, а затем заменим на соответствующее медианное значение все пропуски в столбцах. "
   ]
  },
  {
   "cell_type": "code",
   "execution_count": 5,
   "metadata": {},
   "outputs": [],
   "source": [
    "data['days_employed'] = abs(data['days_employed'])\n",
    "data['total_income'] = abs(data['total_income'])"
   ]
  },
  {
   "cell_type": "code",
   "execution_count": 6,
   "metadata": {},
   "outputs": [
    {
     "data": {
      "text/plain": [
       "0"
      ]
     },
     "execution_count": 6,
     "metadata": {},
     "output_type": "execute_result"
    }
   ],
   "source": [
    "data['days_employed'] = data['days_employed'].fillna(data.groupby('dob_years')['days_employed'].transform('median'))\n",
    "len(data[data['days_employed'].isna()])"
   ]
  },
  {
   "cell_type": "code",
   "execution_count": 7,
   "metadata": {},
   "outputs": [
    {
     "data": {
      "text/plain": [
       "0"
      ]
     },
     "execution_count": 7,
     "metadata": {},
     "output_type": "execute_result"
    }
   ],
   "source": [
    "data['total_income'] = data['total_income'].fillna(data.groupby('income_type')['total_income'].transform('median'))\n",
    "len(data[data['total_income'].isna()])"
   ]
  },
  {
   "cell_type": "code",
   "execution_count": 8,
   "metadata": {},
   "outputs": [
    {
     "name": "stdout",
     "output_type": "stream",
     "text": [
      "<class 'pandas.core.frame.DataFrame'>\n",
      "RangeIndex: 21525 entries, 0 to 21524\n",
      "Data columns (total 12 columns):\n",
      "children            21525 non-null int64\n",
      "days_employed       21525 non-null float64\n",
      "dob_years           21525 non-null int64\n",
      "education           21525 non-null object\n",
      "education_id        21525 non-null int64\n",
      "family_status       21525 non-null object\n",
      "family_status_id    21525 non-null int64\n",
      "gender              21525 non-null object\n",
      "income_type         21525 non-null object\n",
      "debt                21525 non-null int64\n",
      "total_income        21525 non-null float64\n",
      "purpose             21525 non-null object\n",
      "dtypes: float64(2), int64(5), object(5)\n",
      "memory usage: 2.0+ MB\n"
     ]
    }
   ],
   "source": [
    "data.info()"
   ]
  },
  {
   "cell_type": "markdown",
   "metadata": {},
   "source": [
    "**Вывод**"
   ]
  },
  {
   "cell_type": "markdown",
   "metadata": {},
   "source": [
    "В датафрейме не осталось пропущенных значений."
   ]
  },
  {
   "cell_type": "markdown",
   "metadata": {},
   "source": [
    "### Замена типа данных"
   ]
  },
  {
   "cell_type": "code",
   "execution_count": 9,
   "metadata": {},
   "outputs": [
    {
     "name": "stdout",
     "output_type": "stream",
     "text": [
      "<class 'pandas.core.frame.DataFrame'>\n",
      "RangeIndex: 21525 entries, 0 to 21524\n",
      "Data columns (total 12 columns):\n",
      "children            21525 non-null int64\n",
      "days_employed       21525 non-null int64\n",
      "dob_years           21525 non-null int64\n",
      "education           21525 non-null object\n",
      "education_id        21525 non-null int64\n",
      "family_status       21525 non-null object\n",
      "family_status_id    21525 non-null int64\n",
      "gender              21525 non-null object\n",
      "income_type         21525 non-null object\n",
      "debt                21525 non-null int64\n",
      "total_income        21525 non-null int64\n",
      "purpose             21525 non-null object\n",
      "dtypes: int64(7), object(5)\n",
      "memory usage: 2.0+ MB\n"
     ]
    }
   ],
   "source": [
    "data['days_employed'] = data['days_employed'].astype('int')\n",
    "data['total_income'] = data['total_income'].astype('int')\n",
    "data.info()\n"
   ]
  },
  {
   "cell_type": "markdown",
   "metadata": {},
   "source": [
    "**Вывод**"
   ]
  },
  {
   "cell_type": "markdown",
   "metadata": {},
   "source": [
    "В Датафрейме теперь все числовые значения имеют вид целочисленных."
   ]
  },
  {
   "cell_type": "markdown",
   "metadata": {},
   "source": [
    "### Обработка дубликатов"
   ]
  },
  {
   "cell_type": "code",
   "execution_count": 10,
   "metadata": {},
   "outputs": [
    {
     "data": {
      "text/plain": [
       "54"
      ]
     },
     "execution_count": 10,
     "metadata": {},
     "output_type": "execute_result"
    }
   ],
   "source": [
    "data.duplicated().sum()"
   ]
  },
  {
   "cell_type": "code",
   "execution_count": 11,
   "metadata": {},
   "outputs": [
    {
     "data": {
      "text/html": [
       "<div>\n",
       "<style scoped>\n",
       "    .dataframe tbody tr th:only-of-type {\n",
       "        vertical-align: middle;\n",
       "    }\n",
       "\n",
       "    .dataframe tbody tr th {\n",
       "        vertical-align: top;\n",
       "    }\n",
       "\n",
       "    .dataframe thead th {\n",
       "        text-align: right;\n",
       "    }\n",
       "</style>\n",
       "<table border=\"1\" class=\"dataframe\">\n",
       "  <thead>\n",
       "    <tr style=\"text-align: right;\">\n",
       "      <th></th>\n",
       "      <th>children</th>\n",
       "      <th>days_employed</th>\n",
       "      <th>dob_years</th>\n",
       "      <th>education</th>\n",
       "      <th>education_id</th>\n",
       "      <th>family_status</th>\n",
       "      <th>family_status_id</th>\n",
       "      <th>gender</th>\n",
       "      <th>income_type</th>\n",
       "      <th>debt</th>\n",
       "      <th>total_income</th>\n",
       "      <th>purpose</th>\n",
       "    </tr>\n",
       "  </thead>\n",
       "  <tbody>\n",
       "    <tr>\n",
       "      <td>2849</td>\n",
       "      <td>0</td>\n",
       "      <td>1864</td>\n",
       "      <td>41</td>\n",
       "      <td>среднее</td>\n",
       "      <td>1</td>\n",
       "      <td>женат / замужем</td>\n",
       "      <td>0</td>\n",
       "      <td>F</td>\n",
       "      <td>сотрудник</td>\n",
       "      <td>0</td>\n",
       "      <td>142594</td>\n",
       "      <td>покупка жилья для семьи</td>\n",
       "    </tr>\n",
       "    <tr>\n",
       "      <td>4182</td>\n",
       "      <td>1</td>\n",
       "      <td>1615</td>\n",
       "      <td>34</td>\n",
       "      <td>ВЫСШЕЕ</td>\n",
       "      <td>0</td>\n",
       "      <td>гражданский брак</td>\n",
       "      <td>1</td>\n",
       "      <td>F</td>\n",
       "      <td>сотрудник</td>\n",
       "      <td>0</td>\n",
       "      <td>142594</td>\n",
       "      <td>свадьба</td>\n",
       "    </tr>\n",
       "    <tr>\n",
       "      <td>4851</td>\n",
       "      <td>0</td>\n",
       "      <td>349414</td>\n",
       "      <td>60</td>\n",
       "      <td>среднее</td>\n",
       "      <td>1</td>\n",
       "      <td>гражданский брак</td>\n",
       "      <td>1</td>\n",
       "      <td>F</td>\n",
       "      <td>пенсионер</td>\n",
       "      <td>0</td>\n",
       "      <td>118514</td>\n",
       "      <td>свадьба</td>\n",
       "    </tr>\n",
       "    <tr>\n",
       "      <td>5557</td>\n",
       "      <td>0</td>\n",
       "      <td>331245</td>\n",
       "      <td>58</td>\n",
       "      <td>среднее</td>\n",
       "      <td>1</td>\n",
       "      <td>гражданский брак</td>\n",
       "      <td>1</td>\n",
       "      <td>F</td>\n",
       "      <td>пенсионер</td>\n",
       "      <td>0</td>\n",
       "      <td>118514</td>\n",
       "      <td>сыграть свадьбу</td>\n",
       "    </tr>\n",
       "    <tr>\n",
       "      <td>7808</td>\n",
       "      <td>0</td>\n",
       "      <td>333953</td>\n",
       "      <td>57</td>\n",
       "      <td>среднее</td>\n",
       "      <td>1</td>\n",
       "      <td>гражданский брак</td>\n",
       "      <td>1</td>\n",
       "      <td>F</td>\n",
       "      <td>пенсионер</td>\n",
       "      <td>0</td>\n",
       "      <td>118514</td>\n",
       "      <td>на проведение свадьбы</td>\n",
       "    </tr>\n",
       "    <tr>\n",
       "      <td>8583</td>\n",
       "      <td>0</td>\n",
       "      <td>331245</td>\n",
       "      <td>58</td>\n",
       "      <td>высшее</td>\n",
       "      <td>0</td>\n",
       "      <td>Не женат / не замужем</td>\n",
       "      <td>4</td>\n",
       "      <td>F</td>\n",
       "      <td>пенсионер</td>\n",
       "      <td>0</td>\n",
       "      <td>118514</td>\n",
       "      <td>дополнительное образование</td>\n",
       "    </tr>\n",
       "    <tr>\n",
       "      <td>9238</td>\n",
       "      <td>2</td>\n",
       "      <td>1615</td>\n",
       "      <td>34</td>\n",
       "      <td>среднее</td>\n",
       "      <td>1</td>\n",
       "      <td>женат / замужем</td>\n",
       "      <td>0</td>\n",
       "      <td>F</td>\n",
       "      <td>сотрудник</td>\n",
       "      <td>0</td>\n",
       "      <td>142594</td>\n",
       "      <td>покупка жилья для сдачи</td>\n",
       "    </tr>\n",
       "    <tr>\n",
       "      <td>9528</td>\n",
       "      <td>0</td>\n",
       "      <td>363827</td>\n",
       "      <td>66</td>\n",
       "      <td>среднее</td>\n",
       "      <td>1</td>\n",
       "      <td>вдовец / вдова</td>\n",
       "      <td>2</td>\n",
       "      <td>F</td>\n",
       "      <td>пенсионер</td>\n",
       "      <td>0</td>\n",
       "      <td>118514</td>\n",
       "      <td>операции со своей недвижимостью</td>\n",
       "    </tr>\n",
       "    <tr>\n",
       "      <td>9627</td>\n",
       "      <td>0</td>\n",
       "      <td>6850</td>\n",
       "      <td>56</td>\n",
       "      <td>среднее</td>\n",
       "      <td>1</td>\n",
       "      <td>женат / замужем</td>\n",
       "      <td>0</td>\n",
       "      <td>F</td>\n",
       "      <td>пенсионер</td>\n",
       "      <td>0</td>\n",
       "      <td>118514</td>\n",
       "      <td>операции со своей недвижимостью</td>\n",
       "    </tr>\n",
       "    <tr>\n",
       "      <td>10462</td>\n",
       "      <td>0</td>\n",
       "      <td>354981</td>\n",
       "      <td>62</td>\n",
       "      <td>среднее</td>\n",
       "      <td>1</td>\n",
       "      <td>женат / замужем</td>\n",
       "      <td>0</td>\n",
       "      <td>F</td>\n",
       "      <td>пенсионер</td>\n",
       "      <td>0</td>\n",
       "      <td>118514</td>\n",
       "      <td>покупка коммерческой недвижимости</td>\n",
       "    </tr>\n",
       "    <tr>\n",
       "      <td>10697</td>\n",
       "      <td>0</td>\n",
       "      <td>1728</td>\n",
       "      <td>40</td>\n",
       "      <td>среднее</td>\n",
       "      <td>1</td>\n",
       "      <td>гражданский брак</td>\n",
       "      <td>1</td>\n",
       "      <td>F</td>\n",
       "      <td>компаньон</td>\n",
       "      <td>0</td>\n",
       "      <td>172357</td>\n",
       "      <td>сыграть свадьбу</td>\n",
       "    </tr>\n",
       "    <tr>\n",
       "      <td>10864</td>\n",
       "      <td>0</td>\n",
       "      <td>354981</td>\n",
       "      <td>62</td>\n",
       "      <td>среднее</td>\n",
       "      <td>1</td>\n",
       "      <td>женат / замужем</td>\n",
       "      <td>0</td>\n",
       "      <td>F</td>\n",
       "      <td>пенсионер</td>\n",
       "      <td>0</td>\n",
       "      <td>118514</td>\n",
       "      <td>ремонт жилью</td>\n",
       "    </tr>\n",
       "    <tr>\n",
       "      <td>10994</td>\n",
       "      <td>0</td>\n",
       "      <td>354981</td>\n",
       "      <td>62</td>\n",
       "      <td>среднее</td>\n",
       "      <td>1</td>\n",
       "      <td>женат / замужем</td>\n",
       "      <td>0</td>\n",
       "      <td>F</td>\n",
       "      <td>пенсионер</td>\n",
       "      <td>0</td>\n",
       "      <td>118514</td>\n",
       "      <td>ремонт жилью</td>\n",
       "    </tr>\n",
       "    <tr>\n",
       "      <td>11791</td>\n",
       "      <td>0</td>\n",
       "      <td>2203</td>\n",
       "      <td>47</td>\n",
       "      <td>среднее</td>\n",
       "      <td>1</td>\n",
       "      <td>женат / замужем</td>\n",
       "      <td>0</td>\n",
       "      <td>F</td>\n",
       "      <td>сотрудник</td>\n",
       "      <td>0</td>\n",
       "      <td>142594</td>\n",
       "      <td>строительство недвижимости</td>\n",
       "    </tr>\n",
       "    <tr>\n",
       "      <td>12373</td>\n",
       "      <td>0</td>\n",
       "      <td>331245</td>\n",
       "      <td>58</td>\n",
       "      <td>среднее</td>\n",
       "      <td>1</td>\n",
       "      <td>женат / замужем</td>\n",
       "      <td>0</td>\n",
       "      <td>M</td>\n",
       "      <td>сотрудник</td>\n",
       "      <td>0</td>\n",
       "      <td>142594</td>\n",
       "      <td>покупка недвижимости</td>\n",
       "    </tr>\n",
       "    <tr>\n",
       "      <td>12375</td>\n",
       "      <td>1</td>\n",
       "      <td>1816</td>\n",
       "      <td>37</td>\n",
       "      <td>среднее</td>\n",
       "      <td>1</td>\n",
       "      <td>женат / замужем</td>\n",
       "      <td>0</td>\n",
       "      <td>F</td>\n",
       "      <td>сотрудник</td>\n",
       "      <td>0</td>\n",
       "      <td>142594</td>\n",
       "      <td>покупка недвижимости</td>\n",
       "    </tr>\n",
       "    <tr>\n",
       "      <td>12736</td>\n",
       "      <td>0</td>\n",
       "      <td>344372</td>\n",
       "      <td>59</td>\n",
       "      <td>среднее</td>\n",
       "      <td>1</td>\n",
       "      <td>женат / замужем</td>\n",
       "      <td>0</td>\n",
       "      <td>F</td>\n",
       "      <td>пенсионер</td>\n",
       "      <td>0</td>\n",
       "      <td>118514</td>\n",
       "      <td>заняться образованием</td>\n",
       "    </tr>\n",
       "    <tr>\n",
       "      <td>13025</td>\n",
       "      <td>1</td>\n",
       "      <td>2084</td>\n",
       "      <td>44</td>\n",
       "      <td>среднее</td>\n",
       "      <td>1</td>\n",
       "      <td>женат / замужем</td>\n",
       "      <td>0</td>\n",
       "      <td>F</td>\n",
       "      <td>сотрудник</td>\n",
       "      <td>0</td>\n",
       "      <td>142594</td>\n",
       "      <td>сделка с подержанным автомобилем</td>\n",
       "    </tr>\n",
       "    <tr>\n",
       "      <td>13639</td>\n",
       "      <td>0</td>\n",
       "      <td>355781</td>\n",
       "      <td>64</td>\n",
       "      <td>среднее</td>\n",
       "      <td>1</td>\n",
       "      <td>женат / замужем</td>\n",
       "      <td>0</td>\n",
       "      <td>F</td>\n",
       "      <td>пенсионер</td>\n",
       "      <td>0</td>\n",
       "      <td>118514</td>\n",
       "      <td>автомобиль</td>\n",
       "    </tr>\n",
       "    <tr>\n",
       "      <td>13773</td>\n",
       "      <td>0</td>\n",
       "      <td>1613</td>\n",
       "      <td>35</td>\n",
       "      <td>среднее</td>\n",
       "      <td>1</td>\n",
       "      <td>гражданский брак</td>\n",
       "      <td>1</td>\n",
       "      <td>F</td>\n",
       "      <td>сотрудник</td>\n",
       "      <td>0</td>\n",
       "      <td>142594</td>\n",
       "      <td>сыграть свадьбу</td>\n",
       "    </tr>\n",
       "    <tr>\n",
       "      <td>13878</td>\n",
       "      <td>1</td>\n",
       "      <td>1308</td>\n",
       "      <td>31</td>\n",
       "      <td>среднее</td>\n",
       "      <td>1</td>\n",
       "      <td>женат / замужем</td>\n",
       "      <td>0</td>\n",
       "      <td>F</td>\n",
       "      <td>компаньон</td>\n",
       "      <td>0</td>\n",
       "      <td>172357</td>\n",
       "      <td>покупка жилья</td>\n",
       "    </tr>\n",
       "    <tr>\n",
       "      <td>13942</td>\n",
       "      <td>0</td>\n",
       "      <td>2084</td>\n",
       "      <td>44</td>\n",
       "      <td>среднее</td>\n",
       "      <td>1</td>\n",
       "      <td>женат / замужем</td>\n",
       "      <td>0</td>\n",
       "      <td>F</td>\n",
       "      <td>сотрудник</td>\n",
       "      <td>0</td>\n",
       "      <td>142594</td>\n",
       "      <td>приобретение автомобиля</td>\n",
       "    </tr>\n",
       "    <tr>\n",
       "      <td>14432</td>\n",
       "      <td>2</td>\n",
       "      <td>1799</td>\n",
       "      <td>36</td>\n",
       "      <td>высшее</td>\n",
       "      <td>0</td>\n",
       "      <td>женат / замужем</td>\n",
       "      <td>0</td>\n",
       "      <td>F</td>\n",
       "      <td>госслужащий</td>\n",
       "      <td>0</td>\n",
       "      <td>150447</td>\n",
       "      <td>получение образования</td>\n",
       "    </tr>\n",
       "    <tr>\n",
       "      <td>14832</td>\n",
       "      <td>0</td>\n",
       "      <td>2626</td>\n",
       "      <td>50</td>\n",
       "      <td>среднее</td>\n",
       "      <td>1</td>\n",
       "      <td>Не женат / не замужем</td>\n",
       "      <td>4</td>\n",
       "      <td>F</td>\n",
       "      <td>сотрудник</td>\n",
       "      <td>0</td>\n",
       "      <td>142594</td>\n",
       "      <td>недвижимость</td>\n",
       "    </tr>\n",
       "    <tr>\n",
       "      <td>15091</td>\n",
       "      <td>0</td>\n",
       "      <td>331245</td>\n",
       "      <td>58</td>\n",
       "      <td>среднее</td>\n",
       "      <td>1</td>\n",
       "      <td>гражданский брак</td>\n",
       "      <td>1</td>\n",
       "      <td>M</td>\n",
       "      <td>сотрудник</td>\n",
       "      <td>0</td>\n",
       "      <td>142594</td>\n",
       "      <td>на проведение свадьбы</td>\n",
       "    </tr>\n",
       "    <tr>\n",
       "      <td>15188</td>\n",
       "      <td>0</td>\n",
       "      <td>349414</td>\n",
       "      <td>60</td>\n",
       "      <td>среднее</td>\n",
       "      <td>1</td>\n",
       "      <td>женат / замужем</td>\n",
       "      <td>0</td>\n",
       "      <td>M</td>\n",
       "      <td>сотрудник</td>\n",
       "      <td>0</td>\n",
       "      <td>142594</td>\n",
       "      <td>покупка недвижимости</td>\n",
       "    </tr>\n",
       "    <tr>\n",
       "      <td>15273</td>\n",
       "      <td>0</td>\n",
       "      <td>333953</td>\n",
       "      <td>57</td>\n",
       "      <td>среднее</td>\n",
       "      <td>1</td>\n",
       "      <td>гражданский брак</td>\n",
       "      <td>1</td>\n",
       "      <td>F</td>\n",
       "      <td>пенсионер</td>\n",
       "      <td>0</td>\n",
       "      <td>118514</td>\n",
       "      <td>свадьба</td>\n",
       "    </tr>\n",
       "    <tr>\n",
       "      <td>16176</td>\n",
       "      <td>0</td>\n",
       "      <td>2203</td>\n",
       "      <td>47</td>\n",
       "      <td>среднее</td>\n",
       "      <td>1</td>\n",
       "      <td>женат / замужем</td>\n",
       "      <td>0</td>\n",
       "      <td>F</td>\n",
       "      <td>сотрудник</td>\n",
       "      <td>0</td>\n",
       "      <td>142594</td>\n",
       "      <td>ремонт жилью</td>\n",
       "    </tr>\n",
       "    <tr>\n",
       "      <td>16378</td>\n",
       "      <td>0</td>\n",
       "      <td>2100</td>\n",
       "      <td>46</td>\n",
       "      <td>среднее</td>\n",
       "      <td>1</td>\n",
       "      <td>женат / замужем</td>\n",
       "      <td>0</td>\n",
       "      <td>F</td>\n",
       "      <td>сотрудник</td>\n",
       "      <td>0</td>\n",
       "      <td>142594</td>\n",
       "      <td>высшее образование</td>\n",
       "    </tr>\n",
       "    <tr>\n",
       "      <td>16902</td>\n",
       "      <td>2</td>\n",
       "      <td>1891</td>\n",
       "      <td>39</td>\n",
       "      <td>среднее</td>\n",
       "      <td>1</td>\n",
       "      <td>гражданский брак</td>\n",
       "      <td>1</td>\n",
       "      <td>F</td>\n",
       "      <td>сотрудник</td>\n",
       "      <td>0</td>\n",
       "      <td>142594</td>\n",
       "      <td>сыграть свадьбу</td>\n",
       "    </tr>\n",
       "    <tr>\n",
       "      <td>16904</td>\n",
       "      <td>1</td>\n",
       "      <td>1446</td>\n",
       "      <td>32</td>\n",
       "      <td>высшее</td>\n",
       "      <td>0</td>\n",
       "      <td>женат / замужем</td>\n",
       "      <td>0</td>\n",
       "      <td>F</td>\n",
       "      <td>сотрудник</td>\n",
       "      <td>0</td>\n",
       "      <td>142594</td>\n",
       "      <td>на покупку подержанного автомобиля</td>\n",
       "    </tr>\n",
       "    <tr>\n",
       "      <td>17379</td>\n",
       "      <td>0</td>\n",
       "      <td>4026</td>\n",
       "      <td>54</td>\n",
       "      <td>высшее</td>\n",
       "      <td>0</td>\n",
       "      <td>женат / замужем</td>\n",
       "      <td>0</td>\n",
       "      <td>M</td>\n",
       "      <td>компаньон</td>\n",
       "      <td>0</td>\n",
       "      <td>172357</td>\n",
       "      <td>операции с коммерческой недвижимостью</td>\n",
       "    </tr>\n",
       "    <tr>\n",
       "      <td>17755</td>\n",
       "      <td>1</td>\n",
       "      <td>1869</td>\n",
       "      <td>43</td>\n",
       "      <td>среднее</td>\n",
       "      <td>1</td>\n",
       "      <td>женат / замужем</td>\n",
       "      <td>0</td>\n",
       "      <td>M</td>\n",
       "      <td>сотрудник</td>\n",
       "      <td>0</td>\n",
       "      <td>142594</td>\n",
       "      <td>заняться образованием</td>\n",
       "    </tr>\n",
       "    <tr>\n",
       "      <td>17774</td>\n",
       "      <td>1</td>\n",
       "      <td>1728</td>\n",
       "      <td>40</td>\n",
       "      <td>среднее</td>\n",
       "      <td>1</td>\n",
       "      <td>гражданский брак</td>\n",
       "      <td>1</td>\n",
       "      <td>F</td>\n",
       "      <td>компаньон</td>\n",
       "      <td>0</td>\n",
       "      <td>172357</td>\n",
       "      <td>строительство жилой недвижимости</td>\n",
       "    </tr>\n",
       "    <tr>\n",
       "      <td>18328</td>\n",
       "      <td>0</td>\n",
       "      <td>1315</td>\n",
       "      <td>29</td>\n",
       "      <td>высшее</td>\n",
       "      <td>0</td>\n",
       "      <td>женат / замужем</td>\n",
       "      <td>0</td>\n",
       "      <td>M</td>\n",
       "      <td>сотрудник</td>\n",
       "      <td>0</td>\n",
       "      <td>142594</td>\n",
       "      <td>покупка жилой недвижимости</td>\n",
       "    </tr>\n",
       "    <tr>\n",
       "      <td>18349</td>\n",
       "      <td>1</td>\n",
       "      <td>1420</td>\n",
       "      <td>30</td>\n",
       "      <td>высшее</td>\n",
       "      <td>0</td>\n",
       "      <td>женат / замужем</td>\n",
       "      <td>0</td>\n",
       "      <td>F</td>\n",
       "      <td>госслужащий</td>\n",
       "      <td>0</td>\n",
       "      <td>150447</td>\n",
       "      <td>покупка жилья для семьи</td>\n",
       "    </tr>\n",
       "    <tr>\n",
       "      <td>18428</td>\n",
       "      <td>0</td>\n",
       "      <td>355781</td>\n",
       "      <td>64</td>\n",
       "      <td>среднее</td>\n",
       "      <td>1</td>\n",
       "      <td>женат / замужем</td>\n",
       "      <td>0</td>\n",
       "      <td>F</td>\n",
       "      <td>пенсионер</td>\n",
       "      <td>0</td>\n",
       "      <td>118514</td>\n",
       "      <td>жилье</td>\n",
       "    </tr>\n",
       "    <tr>\n",
       "      <td>18521</td>\n",
       "      <td>0</td>\n",
       "      <td>6850</td>\n",
       "      <td>56</td>\n",
       "      <td>среднее</td>\n",
       "      <td>1</td>\n",
       "      <td>гражданский брак</td>\n",
       "      <td>1</td>\n",
       "      <td>F</td>\n",
       "      <td>сотрудник</td>\n",
       "      <td>0</td>\n",
       "      <td>142594</td>\n",
       "      <td>сыграть свадьбу</td>\n",
       "    </tr>\n",
       "    <tr>\n",
       "      <td>18563</td>\n",
       "      <td>0</td>\n",
       "      <td>4026</td>\n",
       "      <td>54</td>\n",
       "      <td>среднее</td>\n",
       "      <td>1</td>\n",
       "      <td>женат / замужем</td>\n",
       "      <td>0</td>\n",
       "      <td>F</td>\n",
       "      <td>сотрудник</td>\n",
       "      <td>0</td>\n",
       "      <td>142594</td>\n",
       "      <td>операции со своей недвижимостью</td>\n",
       "    </tr>\n",
       "    <tr>\n",
       "      <td>18755</td>\n",
       "      <td>0</td>\n",
       "      <td>331245</td>\n",
       "      <td>58</td>\n",
       "      <td>среднее</td>\n",
       "      <td>1</td>\n",
       "      <td>женат / замужем</td>\n",
       "      <td>0</td>\n",
       "      <td>F</td>\n",
       "      <td>пенсионер</td>\n",
       "      <td>0</td>\n",
       "      <td>118514</td>\n",
       "      <td>заняться образованием</td>\n",
       "    </tr>\n",
       "    <tr>\n",
       "      <td>19041</td>\n",
       "      <td>0</td>\n",
       "      <td>6850</td>\n",
       "      <td>56</td>\n",
       "      <td>среднее</td>\n",
       "      <td>1</td>\n",
       "      <td>гражданский брак</td>\n",
       "      <td>1</td>\n",
       "      <td>F</td>\n",
       "      <td>сотрудник</td>\n",
       "      <td>0</td>\n",
       "      <td>142594</td>\n",
       "      <td>на проведение свадьбы</td>\n",
       "    </tr>\n",
       "    <tr>\n",
       "      <td>19184</td>\n",
       "      <td>0</td>\n",
       "      <td>2100</td>\n",
       "      <td>46</td>\n",
       "      <td>среднее</td>\n",
       "      <td>1</td>\n",
       "      <td>женат / замужем</td>\n",
       "      <td>0</td>\n",
       "      <td>F</td>\n",
       "      <td>сотрудник</td>\n",
       "      <td>0</td>\n",
       "      <td>142594</td>\n",
       "      <td>свой автомобиль</td>\n",
       "    </tr>\n",
       "    <tr>\n",
       "      <td>19321</td>\n",
       "      <td>0</td>\n",
       "      <td>690</td>\n",
       "      <td>23</td>\n",
       "      <td>среднее</td>\n",
       "      <td>1</td>\n",
       "      <td>Не женат / не замужем</td>\n",
       "      <td>4</td>\n",
       "      <td>F</td>\n",
       "      <td>сотрудник</td>\n",
       "      <td>0</td>\n",
       "      <td>142594</td>\n",
       "      <td>сделка с подержанным автомобилем</td>\n",
       "    </tr>\n",
       "    <tr>\n",
       "      <td>19387</td>\n",
       "      <td>0</td>\n",
       "      <td>1817</td>\n",
       "      <td>38</td>\n",
       "      <td>высшее</td>\n",
       "      <td>0</td>\n",
       "      <td>гражданский брак</td>\n",
       "      <td>1</td>\n",
       "      <td>F</td>\n",
       "      <td>компаньон</td>\n",
       "      <td>0</td>\n",
       "      <td>172357</td>\n",
       "      <td>на проведение свадьбы</td>\n",
       "    </tr>\n",
       "    <tr>\n",
       "      <td>19688</td>\n",
       "      <td>0</td>\n",
       "      <td>343984</td>\n",
       "      <td>61</td>\n",
       "      <td>среднее</td>\n",
       "      <td>1</td>\n",
       "      <td>женат / замужем</td>\n",
       "      <td>0</td>\n",
       "      <td>F</td>\n",
       "      <td>пенсионер</td>\n",
       "      <td>0</td>\n",
       "      <td>118514</td>\n",
       "      <td>операции с недвижимостью</td>\n",
       "    </tr>\n",
       "    <tr>\n",
       "      <td>19832</td>\n",
       "      <td>0</td>\n",
       "      <td>2429</td>\n",
       "      <td>48</td>\n",
       "      <td>среднее</td>\n",
       "      <td>1</td>\n",
       "      <td>женат / замужем</td>\n",
       "      <td>0</td>\n",
       "      <td>F</td>\n",
       "      <td>сотрудник</td>\n",
       "      <td>0</td>\n",
       "      <td>142594</td>\n",
       "      <td>ремонт жилью</td>\n",
       "    </tr>\n",
       "    <tr>\n",
       "      <td>19946</td>\n",
       "      <td>0</td>\n",
       "      <td>333953</td>\n",
       "      <td>57</td>\n",
       "      <td>среднее</td>\n",
       "      <td>1</td>\n",
       "      <td>женат / замужем</td>\n",
       "      <td>0</td>\n",
       "      <td>F</td>\n",
       "      <td>сотрудник</td>\n",
       "      <td>0</td>\n",
       "      <td>142594</td>\n",
       "      <td>сделка с подержанным автомобилем</td>\n",
       "    </tr>\n",
       "    <tr>\n",
       "      <td>20116</td>\n",
       "      <td>0</td>\n",
       "      <td>333953</td>\n",
       "      <td>57</td>\n",
       "      <td>среднее</td>\n",
       "      <td>1</td>\n",
       "      <td>гражданский брак</td>\n",
       "      <td>1</td>\n",
       "      <td>M</td>\n",
       "      <td>пенсионер</td>\n",
       "      <td>0</td>\n",
       "      <td>118514</td>\n",
       "      <td>свадьба</td>\n",
       "    </tr>\n",
       "    <tr>\n",
       "      <td>20165</td>\n",
       "      <td>0</td>\n",
       "      <td>2253</td>\n",
       "      <td>42</td>\n",
       "      <td>среднее</td>\n",
       "      <td>1</td>\n",
       "      <td>женат / замужем</td>\n",
       "      <td>0</td>\n",
       "      <td>F</td>\n",
       "      <td>сотрудник</td>\n",
       "      <td>0</td>\n",
       "      <td>142594</td>\n",
       "      <td>покупка жилья для семьи</td>\n",
       "    </tr>\n",
       "    <tr>\n",
       "      <td>20702</td>\n",
       "      <td>0</td>\n",
       "      <td>355781</td>\n",
       "      <td>64</td>\n",
       "      <td>среднее</td>\n",
       "      <td>1</td>\n",
       "      <td>женат / замужем</td>\n",
       "      <td>0</td>\n",
       "      <td>F</td>\n",
       "      <td>пенсионер</td>\n",
       "      <td>0</td>\n",
       "      <td>118514</td>\n",
       "      <td>дополнительное образование</td>\n",
       "    </tr>\n",
       "    <tr>\n",
       "      <td>21032</td>\n",
       "      <td>0</td>\n",
       "      <td>349414</td>\n",
       "      <td>60</td>\n",
       "      <td>среднее</td>\n",
       "      <td>1</td>\n",
       "      <td>женат / замужем</td>\n",
       "      <td>0</td>\n",
       "      <td>F</td>\n",
       "      <td>пенсионер</td>\n",
       "      <td>0</td>\n",
       "      <td>118514</td>\n",
       "      <td>заняться образованием</td>\n",
       "    </tr>\n",
       "    <tr>\n",
       "      <td>21132</td>\n",
       "      <td>0</td>\n",
       "      <td>2203</td>\n",
       "      <td>47</td>\n",
       "      <td>среднее</td>\n",
       "      <td>1</td>\n",
       "      <td>женат / замужем</td>\n",
       "      <td>0</td>\n",
       "      <td>F</td>\n",
       "      <td>сотрудник</td>\n",
       "      <td>0</td>\n",
       "      <td>142594</td>\n",
       "      <td>ремонт жилью</td>\n",
       "    </tr>\n",
       "    <tr>\n",
       "      <td>21281</td>\n",
       "      <td>1</td>\n",
       "      <td>1420</td>\n",
       "      <td>30</td>\n",
       "      <td>высшее</td>\n",
       "      <td>0</td>\n",
       "      <td>женат / замужем</td>\n",
       "      <td>0</td>\n",
       "      <td>F</td>\n",
       "      <td>сотрудник</td>\n",
       "      <td>0</td>\n",
       "      <td>142594</td>\n",
       "      <td>покупка коммерческой недвижимости</td>\n",
       "    </tr>\n",
       "    <tr>\n",
       "      <td>21415</td>\n",
       "      <td>0</td>\n",
       "      <td>4026</td>\n",
       "      <td>54</td>\n",
       "      <td>среднее</td>\n",
       "      <td>1</td>\n",
       "      <td>женат / замужем</td>\n",
       "      <td>0</td>\n",
       "      <td>F</td>\n",
       "      <td>пенсионер</td>\n",
       "      <td>0</td>\n",
       "      <td>118514</td>\n",
       "      <td>операции с жильем</td>\n",
       "    </tr>\n",
       "  </tbody>\n",
       "</table>\n",
       "</div>"
      ],
      "text/plain": [
       "       children  days_employed  dob_years education  education_id  \\\n",
       "2849          0           1864         41   среднее             1   \n",
       "4182          1           1615         34    ВЫСШЕЕ             0   \n",
       "4851          0         349414         60   среднее             1   \n",
       "5557          0         331245         58   среднее             1   \n",
       "7808          0         333953         57   среднее             1   \n",
       "8583          0         331245         58    высшее             0   \n",
       "9238          2           1615         34   среднее             1   \n",
       "9528          0         363827         66   среднее             1   \n",
       "9627          0           6850         56   среднее             1   \n",
       "10462         0         354981         62   среднее             1   \n",
       "10697         0           1728         40   среднее             1   \n",
       "10864         0         354981         62   среднее             1   \n",
       "10994         0         354981         62   среднее             1   \n",
       "11791         0           2203         47   среднее             1   \n",
       "12373         0         331245         58   среднее             1   \n",
       "12375         1           1816         37   среднее             1   \n",
       "12736         0         344372         59   среднее             1   \n",
       "13025         1           2084         44   среднее             1   \n",
       "13639         0         355781         64   среднее             1   \n",
       "13773         0           1613         35   среднее             1   \n",
       "13878         1           1308         31   среднее             1   \n",
       "13942         0           2084         44   среднее             1   \n",
       "14432         2           1799         36    высшее             0   \n",
       "14832         0           2626         50   среднее             1   \n",
       "15091         0         331245         58   среднее             1   \n",
       "15188         0         349414         60   среднее             1   \n",
       "15273         0         333953         57   среднее             1   \n",
       "16176         0           2203         47   среднее             1   \n",
       "16378         0           2100         46   среднее             1   \n",
       "16902         2           1891         39   среднее             1   \n",
       "16904         1           1446         32    высшее             0   \n",
       "17379         0           4026         54    высшее             0   \n",
       "17755         1           1869         43   среднее             1   \n",
       "17774         1           1728         40   среднее             1   \n",
       "18328         0           1315         29    высшее             0   \n",
       "18349         1           1420         30    высшее             0   \n",
       "18428         0         355781         64   среднее             1   \n",
       "18521         0           6850         56   среднее             1   \n",
       "18563         0           4026         54   среднее             1   \n",
       "18755         0         331245         58   среднее             1   \n",
       "19041         0           6850         56   среднее             1   \n",
       "19184         0           2100         46   среднее             1   \n",
       "19321         0            690         23   среднее             1   \n",
       "19387         0           1817         38    высшее             0   \n",
       "19688         0         343984         61   среднее             1   \n",
       "19832         0           2429         48   среднее             1   \n",
       "19946         0         333953         57   среднее             1   \n",
       "20116         0         333953         57   среднее             1   \n",
       "20165         0           2253         42   среднее             1   \n",
       "20702         0         355781         64   среднее             1   \n",
       "21032         0         349414         60   среднее             1   \n",
       "21132         0           2203         47   среднее             1   \n",
       "21281         1           1420         30    высшее             0   \n",
       "21415         0           4026         54   среднее             1   \n",
       "\n",
       "               family_status  family_status_id gender  income_type  debt  \\\n",
       "2849         женат / замужем                 0      F    сотрудник     0   \n",
       "4182        гражданский брак                 1      F    сотрудник     0   \n",
       "4851        гражданский брак                 1      F    пенсионер     0   \n",
       "5557        гражданский брак                 1      F    пенсионер     0   \n",
       "7808        гражданский брак                 1      F    пенсионер     0   \n",
       "8583   Не женат / не замужем                 4      F    пенсионер     0   \n",
       "9238         женат / замужем                 0      F    сотрудник     0   \n",
       "9528          вдовец / вдова                 2      F    пенсионер     0   \n",
       "9627         женат / замужем                 0      F    пенсионер     0   \n",
       "10462        женат / замужем                 0      F    пенсионер     0   \n",
       "10697       гражданский брак                 1      F    компаньон     0   \n",
       "10864        женат / замужем                 0      F    пенсионер     0   \n",
       "10994        женат / замужем                 0      F    пенсионер     0   \n",
       "11791        женат / замужем                 0      F    сотрудник     0   \n",
       "12373        женат / замужем                 0      M    сотрудник     0   \n",
       "12375        женат / замужем                 0      F    сотрудник     0   \n",
       "12736        женат / замужем                 0      F    пенсионер     0   \n",
       "13025        женат / замужем                 0      F    сотрудник     0   \n",
       "13639        женат / замужем                 0      F    пенсионер     0   \n",
       "13773       гражданский брак                 1      F    сотрудник     0   \n",
       "13878        женат / замужем                 0      F    компаньон     0   \n",
       "13942        женат / замужем                 0      F    сотрудник     0   \n",
       "14432        женат / замужем                 0      F  госслужащий     0   \n",
       "14832  Не женат / не замужем                 4      F    сотрудник     0   \n",
       "15091       гражданский брак                 1      M    сотрудник     0   \n",
       "15188        женат / замужем                 0      M    сотрудник     0   \n",
       "15273       гражданский брак                 1      F    пенсионер     0   \n",
       "16176        женат / замужем                 0      F    сотрудник     0   \n",
       "16378        женат / замужем                 0      F    сотрудник     0   \n",
       "16902       гражданский брак                 1      F    сотрудник     0   \n",
       "16904        женат / замужем                 0      F    сотрудник     0   \n",
       "17379        женат / замужем                 0      M    компаньон     0   \n",
       "17755        женат / замужем                 0      M    сотрудник     0   \n",
       "17774       гражданский брак                 1      F    компаньон     0   \n",
       "18328        женат / замужем                 0      M    сотрудник     0   \n",
       "18349        женат / замужем                 0      F  госслужащий     0   \n",
       "18428        женат / замужем                 0      F    пенсионер     0   \n",
       "18521       гражданский брак                 1      F    сотрудник     0   \n",
       "18563        женат / замужем                 0      F    сотрудник     0   \n",
       "18755        женат / замужем                 0      F    пенсионер     0   \n",
       "19041       гражданский брак                 1      F    сотрудник     0   \n",
       "19184        женат / замужем                 0      F    сотрудник     0   \n",
       "19321  Не женат / не замужем                 4      F    сотрудник     0   \n",
       "19387       гражданский брак                 1      F    компаньон     0   \n",
       "19688        женат / замужем                 0      F    пенсионер     0   \n",
       "19832        женат / замужем                 0      F    сотрудник     0   \n",
       "19946        женат / замужем                 0      F    сотрудник     0   \n",
       "20116       гражданский брак                 1      M    пенсионер     0   \n",
       "20165        женат / замужем                 0      F    сотрудник     0   \n",
       "20702        женат / замужем                 0      F    пенсионер     0   \n",
       "21032        женат / замужем                 0      F    пенсионер     0   \n",
       "21132        женат / замужем                 0      F    сотрудник     0   \n",
       "21281        женат / замужем                 0      F    сотрудник     0   \n",
       "21415        женат / замужем                 0      F    пенсионер     0   \n",
       "\n",
       "       total_income                                purpose  \n",
       "2849         142594                покупка жилья для семьи  \n",
       "4182         142594                                свадьба  \n",
       "4851         118514                                свадьба  \n",
       "5557         118514                        сыграть свадьбу  \n",
       "7808         118514                  на проведение свадьбы  \n",
       "8583         118514             дополнительное образование  \n",
       "9238         142594                покупка жилья для сдачи  \n",
       "9528         118514        операции со своей недвижимостью  \n",
       "9627         118514        операции со своей недвижимостью  \n",
       "10462        118514      покупка коммерческой недвижимости  \n",
       "10697        172357                        сыграть свадьбу  \n",
       "10864        118514                           ремонт жилью  \n",
       "10994        118514                           ремонт жилью  \n",
       "11791        142594             строительство недвижимости  \n",
       "12373        142594                   покупка недвижимости  \n",
       "12375        142594                   покупка недвижимости  \n",
       "12736        118514                  заняться образованием  \n",
       "13025        142594       сделка с подержанным автомобилем  \n",
       "13639        118514                             автомобиль  \n",
       "13773        142594                        сыграть свадьбу  \n",
       "13878        172357                          покупка жилья  \n",
       "13942        142594                приобретение автомобиля  \n",
       "14432        150447                  получение образования  \n",
       "14832        142594                           недвижимость  \n",
       "15091        142594                  на проведение свадьбы  \n",
       "15188        142594                   покупка недвижимости  \n",
       "15273        118514                                свадьба  \n",
       "16176        142594                           ремонт жилью  \n",
       "16378        142594                     высшее образование  \n",
       "16902        142594                        сыграть свадьбу  \n",
       "16904        142594     на покупку подержанного автомобиля  \n",
       "17379        172357  операции с коммерческой недвижимостью  \n",
       "17755        142594                  заняться образованием  \n",
       "17774        172357       строительство жилой недвижимости  \n",
       "18328        142594             покупка жилой недвижимости  \n",
       "18349        150447                покупка жилья для семьи  \n",
       "18428        118514                                  жилье  \n",
       "18521        142594                        сыграть свадьбу  \n",
       "18563        142594        операции со своей недвижимостью  \n",
       "18755        118514                  заняться образованием  \n",
       "19041        142594                  на проведение свадьбы  \n",
       "19184        142594                        свой автомобиль  \n",
       "19321        142594       сделка с подержанным автомобилем  \n",
       "19387        172357                  на проведение свадьбы  \n",
       "19688        118514               операции с недвижимостью  \n",
       "19832        142594                           ремонт жилью  \n",
       "19946        142594       сделка с подержанным автомобилем  \n",
       "20116        118514                                свадьба  \n",
       "20165        142594                покупка жилья для семьи  \n",
       "20702        118514             дополнительное образование  \n",
       "21032        118514                  заняться образованием  \n",
       "21132        142594                           ремонт жилью  \n",
       "21281        142594      покупка коммерческой недвижимости  \n",
       "21415        118514                      операции с жильем  "
      ]
     },
     "metadata": {},
     "output_type": "display_data"
    }
   ],
   "source": [
    "duplicated_data = data[data.duplicated()]\n",
    "display(duplicated_data.head(54))"
   ]
  },
  {
   "cell_type": "markdown",
   "metadata": {},
   "source": [
    "В столбце education_id встречаются одинаковые по смыслу значения, но записанные в разном регистре. Приведем их к нижнему регистру. Так как в датафреме не все значения строчные, то сделаем это циклом, который избежит ошибки атрибута."
   ]
  },
  {
   "cell_type": "code",
   "execution_count": 12,
   "metadata": {},
   "outputs": [],
   "source": [
    "for col in data.columns:\n",
    "    try:\n",
    "        data[col] = data[col].str.lower()\n",
    "    except AttributeError:\n",
    "        pass"
   ]
  },
  {
   "cell_type": "code",
   "execution_count": 13,
   "metadata": {},
   "outputs": [
    {
     "data": {
      "text/plain": [
       "71"
      ]
     },
     "execution_count": 13,
     "metadata": {},
     "output_type": "execute_result"
    }
   ],
   "source": [
    "data.duplicated().sum()"
   ]
  },
  {
   "cell_type": "markdown",
   "metadata": {},
   "source": [
    "Удяляем явные дубликаты, так как 71 - число, не повлияющее на результаты исследования."
   ]
  },
  {
   "cell_type": "code",
   "execution_count": 14,
   "metadata": {},
   "outputs": [
    {
     "name": "stdout",
     "output_type": "stream",
     "text": [
      "Количество  дубликатов: 0\n"
     ]
    }
   ],
   "source": [
    "data = data.drop_duplicates().reset_index()\n",
    "print('Количество  дубликатов:', data.duplicated().sum())"
   ]
  },
  {
   "cell_type": "markdown",
   "metadata": {},
   "source": [
    "**Вывод**"
   ]
  },
  {
   "cell_type": "markdown",
   "metadata": {},
   "source": [
    "Обнаруженное количество дубликатов удалено методом сброса старых индексов. "
   ]
  },
  {
   "cell_type": "markdown",
   "metadata": {},
   "source": [
    "### Лемматизация"
   ]
  },
  {
   "cell_type": "markdown",
   "metadata": {},
   "source": [
    "Сначала выведем все уникальные значения столбца с целями кредита."
   ]
  },
  {
   "cell_type": "code",
   "execution_count": 15,
   "metadata": {},
   "outputs": [
    {
     "name": "stdout",
     "output_type": "stream",
     "text": [
      "['покупка жилья' 'приобретение автомобиля' 'дополнительное образование'\n",
      " 'сыграть свадьбу' 'операции с жильем' 'образование'\n",
      " 'на проведение свадьбы' 'покупка жилья для семьи' 'покупка недвижимости'\n",
      " 'покупка коммерческой недвижимости' 'покупка жилой недвижимости'\n",
      " 'строительство собственной недвижимости' 'недвижимость'\n",
      " 'строительство недвижимости' 'на покупку подержанного автомобиля'\n",
      " 'на покупку своего автомобиля' 'операции с коммерческой недвижимостью'\n",
      " 'строительство жилой недвижимости' 'жилье'\n",
      " 'операции со своей недвижимостью' 'автомобили' 'заняться образованием'\n",
      " 'сделка с подержанным автомобилем' 'получение образования' 'автомобиль'\n",
      " 'свадьба' 'получение дополнительного образования' 'покупка своего жилья'\n",
      " 'операции с недвижимостью' 'получение высшего образования'\n",
      " 'свой автомобиль' 'сделка с автомобилем' 'профильное образование'\n",
      " 'высшее образование' 'покупка жилья для сдачи' 'на покупку автомобиля'\n",
      " 'ремонт жилью' 'заняться высшим образованием']\n"
     ]
    }
   ],
   "source": [
    "purposes = data['purpose'].unique()\n",
    "print(purposes)"
   ]
  },
  {
   "cell_type": "markdown",
   "metadata": {},
   "source": [
    "Цели отчетливо делятся на 4 типа: операции с недвижимостью, приобретение автомобиля, получение образования и организация свадьбы. Создадим функцию, которая поделит все заявки на данные 4 типа, основываясь на лемме в значении столбца с целью получения кредита. Полученные категории сохраним в качестве нового столбца справа, который формируется методом apply() и применяет функцию к значениям столбца 'purpose'."
   ]
  },
  {
   "cell_type": "code",
   "execution_count": 16,
   "metadata": {},
   "outputs": [],
   "source": [
    "from pymystem3 import Mystem\n",
    "m = Mystem()\n",
    "def create_category_purpose(row):\n",
    "    lem_purpose = m.lemmatize(row['purpose'])\n",
    "    if 'автомобиль' in lem_purpose:\n",
    "        return 'автомобиль'\n",
    "    if ('жилье' in lem_purpose) or ('недвижимость' in lem_purpose ):\n",
    "        return 'недвижимость'\n",
    "    if 'образование' in lem_purpose:\n",
    "        return 'образование'\n",
    "    if 'свадьба' in lem_purpose:\n",
    "        return 'свадьба'\n",
    "\n",
    "data['purpose_category'] = data.apply(create_category_purpose, axis=1)"
   ]
  },
  {
   "cell_type": "code",
   "execution_count": 17,
   "metadata": {},
   "outputs": [
    {
     "name": "stdout",
     "output_type": "stream",
     "text": [
      "    index  children  days_employed  dob_years            education  \\\n",
      "0       0         1           8437         42               высшее   \n",
      "1       1         1           4024         36              среднее   \n",
      "2       2         0           5623         33              среднее   \n",
      "3       3         3           4124         32              среднее   \n",
      "4       4         0         340266         53              среднее   \n",
      "5       5         0            926         27               высшее   \n",
      "6       6         0           2879         43               высшее   \n",
      "7       7         0            152         50              среднее   \n",
      "8       8         2           6929         35               высшее   \n",
      "9       9         0           2188         41              среднее   \n",
      "10     10         2           4171         36               высшее   \n",
      "11     11         0            792         40              среднее   \n",
      "12     12         0         357103         65              среднее   \n",
      "13     13         0           1846         54  неоконченное высшее   \n",
      "14     14         0           1844         56               высшее   \n",
      "\n",
      "    education_id     family_status  family_status_id gender income_type  debt  \\\n",
      "0              0   женат / замужем                 0      f   сотрудник     0   \n",
      "1              1   женат / замужем                 0      f   сотрудник     0   \n",
      "2              1   женат / замужем                 0      m   сотрудник     0   \n",
      "3              1   женат / замужем                 0      m   сотрудник     0   \n",
      "4              1  гражданский брак                 1      f   пенсионер     0   \n",
      "5              0  гражданский брак                 1      m   компаньон     0   \n",
      "6              0   женат / замужем                 0      f   компаньон     0   \n",
      "7              1   женат / замужем                 0      m   сотрудник     0   \n",
      "8              0  гражданский брак                 1      f   сотрудник     0   \n",
      "9              1   женат / замужем                 0      m   сотрудник     0   \n",
      "10             0   женат / замужем                 0      m   компаньон     0   \n",
      "11             1   женат / замужем                 0      f   сотрудник     0   \n",
      "12             1  гражданский брак                 1      m   пенсионер     0   \n",
      "13             2   женат / замужем                 0      f   сотрудник     0   \n",
      "14             0  гражданский брак                 1      f   компаньон     1   \n",
      "\n",
      "    total_income                            purpose purpose_category  \n",
      "0         253875                      покупка жилья     недвижимость  \n",
      "1         112080            приобретение автомобиля       автомобиль  \n",
      "2         145885                      покупка жилья     недвижимость  \n",
      "3         267628         дополнительное образование      образование  \n",
      "4         158616                    сыграть свадьбу          свадьба  \n",
      "5         255763                      покупка жилья     недвижимость  \n",
      "6         240525                  операции с жильем     недвижимость  \n",
      "7         135823                        образование      образование  \n",
      "8          95856              на проведение свадьбы          свадьба  \n",
      "9         144425            покупка жилья для семьи     недвижимость  \n",
      "10        113943               покупка недвижимости     недвижимость  \n",
      "11         77069  покупка коммерческой недвижимости     недвижимость  \n",
      "12        118514                    сыграть свадьбу          свадьба  \n",
      "13        130458            приобретение автомобиля       автомобиль  \n",
      "14        165127         покупка жилой недвижимости     недвижимость  \n"
     ]
    }
   ],
   "source": [
    "print(data.head(15))"
   ]
  },
  {
   "cell_type": "markdown",
   "metadata": {},
   "source": [
    "**Вывод**"
   ]
  },
  {
   "cell_type": "markdown",
   "metadata": {},
   "source": [
    "Лемматизация помогла категоризовать получателей кредита по целям, значения которых выражены в строчном формате."
   ]
  },
  {
   "cell_type": "markdown",
   "metadata": {},
   "source": [
    "### Категоризация данных"
   ]
  },
  {
   "cell_type": "markdown",
   "metadata": {},
   "source": [
    "Разобьем данные на несколько категорий в зависимости от целей исследования:\n",
    " - по количеству детей (бездетные, 1 ребенок, больше 1 ребенка)"
   ]
  },
  {
   "cell_type": "code",
   "execution_count": 18,
   "metadata": {},
   "outputs": [
    {
     "name": "stdout",
     "output_type": "stream",
     "text": [
      "    index  children  days_employed  dob_years            education  \\\n",
      "0       0         1           8437         42               высшее   \n",
      "1       1         1           4024         36              среднее   \n",
      "2       2         0           5623         33              среднее   \n",
      "3       3         3           4124         32              среднее   \n",
      "4       4         0         340266         53              среднее   \n",
      "5       5         0            926         27               высшее   \n",
      "6       6         0           2879         43               высшее   \n",
      "7       7         0            152         50              среднее   \n",
      "8       8         2           6929         35               высшее   \n",
      "9       9         0           2188         41              среднее   \n",
      "10     10         2           4171         36               высшее   \n",
      "11     11         0            792         40              среднее   \n",
      "12     12         0         357103         65              среднее   \n",
      "13     13         0           1846         54  неоконченное высшее   \n",
      "14     14         0           1844         56               высшее   \n",
      "\n",
      "    education_id     family_status  family_status_id gender income_type  debt  \\\n",
      "0              0   женат / замужем                 0      f   сотрудник     0   \n",
      "1              1   женат / замужем                 0      f   сотрудник     0   \n",
      "2              1   женат / замужем                 0      m   сотрудник     0   \n",
      "3              1   женат / замужем                 0      m   сотрудник     0   \n",
      "4              1  гражданский брак                 1      f   пенсионер     0   \n",
      "5              0  гражданский брак                 1      m   компаньон     0   \n",
      "6              0   женат / замужем                 0      f   компаньон     0   \n",
      "7              1   женат / замужем                 0      m   сотрудник     0   \n",
      "8              0  гражданский брак                 1      f   сотрудник     0   \n",
      "9              1   женат / замужем                 0      m   сотрудник     0   \n",
      "10             0   женат / замужем                 0      m   компаньон     0   \n",
      "11             1   женат / замужем                 0      f   сотрудник     0   \n",
      "12             1  гражданский брак                 1      m   пенсионер     0   \n",
      "13             2   женат / замужем                 0      f   сотрудник     0   \n",
      "14             0  гражданский брак                 1      f   компаньон     1   \n",
      "\n",
      "    total_income                            purpose purpose_category  \\\n",
      "0         253875                      покупка жилья     недвижимость   \n",
      "1         112080            приобретение автомобиля       автомобиль   \n",
      "2         145885                      покупка жилья     недвижимость   \n",
      "3         267628         дополнительное образование      образование   \n",
      "4         158616                    сыграть свадьбу          свадьба   \n",
      "5         255763                      покупка жилья     недвижимость   \n",
      "6         240525                  операции с жильем     недвижимость   \n",
      "7         135823                        образование      образование   \n",
      "8          95856              на проведение свадьбы          свадьба   \n",
      "9         144425            покупка жилья для семьи     недвижимость   \n",
      "10        113943               покупка недвижимости     недвижимость   \n",
      "11         77069  покупка коммерческой недвижимости     недвижимость   \n",
      "12        118514                    сыграть свадьбу          свадьба   \n",
      "13        130458            приобретение автомобиля       автомобиль   \n",
      "14        165127         покупка жилой недвижимости     недвижимость   \n",
      "\n",
      "      child_category  \n",
      "0          1 ребенок  \n",
      "1          1 ребенок  \n",
      "2          бездетные  \n",
      "3   больше 1 ребенка  \n",
      "4          бездетные  \n",
      "5          бездетные  \n",
      "6          бездетные  \n",
      "7          бездетные  \n",
      "8   больше 1 ребенка  \n",
      "9          бездетные  \n",
      "10  больше 1 ребенка  \n",
      "11         бездетные  \n",
      "12         бездетные  \n",
      "13         бездетные  \n",
      "14         бездетные  \n"
     ]
    }
   ],
   "source": [
    "def create_child_category(row):\n",
    "    if row == 0:\n",
    "        return 'бездетные'\n",
    "    if row == 1:\n",
    "        return '1 ребенок'\n",
    "    if row > 1:\n",
    "        return 'больше 1 ребенка'\n",
    "data['child_category'] = data['children'].apply(create_child_category)\n",
    "print(data.head(15))"
   ]
  },
  {
   "cell_type": "markdown",
   "metadata": {},
   "source": [
    "**Вывод**"
   ]
  },
  {
   "cell_type": "markdown",
   "metadata": {},
   "source": [
    "Чтобы выявлять закономерности, необходимо классифицировать заемщиков по разным типам в зависимости от целей исследования: по критерию наличия детей, по семейному статусу и уровню дохода."
   ]
  },
  {
   "cell_type": "markdown",
   "metadata": {},
   "source": [
    "## Шаг 3. Ответьте на вопросы"
   ]
  },
  {
   "cell_type": "markdown",
   "metadata": {},
   "source": [
    "- Есть ли зависимость между наличием детей и возвратом кредита в срок"
   ]
  },
  {
   "cell_type": "markdown",
   "metadata": {},
   "source": [
    "Разделив заявителей на 3 категории по атрибуту children, сгруппируем отдельную таблицу, а затем построим сводную таблицу, отображающую количество выплаченных вовремя и просроченных кредитов для каждой из категорий:"
   ]
  },
  {
   "cell_type": "code",
   "execution_count": 19,
   "metadata": {},
   "outputs": [
    {
     "data": {
      "text/html": [
       "<div>\n",
       "<style scoped>\n",
       "    .dataframe tbody tr th:only-of-type {\n",
       "        vertical-align: middle;\n",
       "    }\n",
       "\n",
       "    .dataframe tbody tr th {\n",
       "        vertical-align: top;\n",
       "    }\n",
       "\n",
       "    .dataframe thead th {\n",
       "        text-align: right;\n",
       "    }\n",
       "</style>\n",
       "<table border=\"1\" class=\"dataframe\">\n",
       "  <thead>\n",
       "    <tr style=\"text-align: right;\">\n",
       "      <th></th>\n",
       "      <th>children</th>\n",
       "      <th>debt</th>\n",
       "      <th>child_category</th>\n",
       "    </tr>\n",
       "  </thead>\n",
       "  <tbody>\n",
       "    <tr>\n",
       "      <td>0</td>\n",
       "      <td>1</td>\n",
       "      <td>0</td>\n",
       "      <td>1 ребенок</td>\n",
       "    </tr>\n",
       "    <tr>\n",
       "      <td>1</td>\n",
       "      <td>1</td>\n",
       "      <td>0</td>\n",
       "      <td>1 ребенок</td>\n",
       "    </tr>\n",
       "    <tr>\n",
       "      <td>2</td>\n",
       "      <td>0</td>\n",
       "      <td>0</td>\n",
       "      <td>бездетные</td>\n",
       "    </tr>\n",
       "    <tr>\n",
       "      <td>3</td>\n",
       "      <td>3</td>\n",
       "      <td>0</td>\n",
       "      <td>больше 1 ребенка</td>\n",
       "    </tr>\n",
       "    <tr>\n",
       "      <td>4</td>\n",
       "      <td>0</td>\n",
       "      <td>0</td>\n",
       "      <td>бездетные</td>\n",
       "    </tr>\n",
       "    <tr>\n",
       "      <td>5</td>\n",
       "      <td>0</td>\n",
       "      <td>0</td>\n",
       "      <td>бездетные</td>\n",
       "    </tr>\n",
       "    <tr>\n",
       "      <td>6</td>\n",
       "      <td>0</td>\n",
       "      <td>0</td>\n",
       "      <td>бездетные</td>\n",
       "    </tr>\n",
       "    <tr>\n",
       "      <td>7</td>\n",
       "      <td>0</td>\n",
       "      <td>0</td>\n",
       "      <td>бездетные</td>\n",
       "    </tr>\n",
       "    <tr>\n",
       "      <td>8</td>\n",
       "      <td>2</td>\n",
       "      <td>0</td>\n",
       "      <td>больше 1 ребенка</td>\n",
       "    </tr>\n",
       "    <tr>\n",
       "      <td>9</td>\n",
       "      <td>0</td>\n",
       "      <td>0</td>\n",
       "      <td>бездетные</td>\n",
       "    </tr>\n",
       "    <tr>\n",
       "      <td>10</td>\n",
       "      <td>2</td>\n",
       "      <td>0</td>\n",
       "      <td>больше 1 ребенка</td>\n",
       "    </tr>\n",
       "    <tr>\n",
       "      <td>11</td>\n",
       "      <td>0</td>\n",
       "      <td>0</td>\n",
       "      <td>бездетные</td>\n",
       "    </tr>\n",
       "    <tr>\n",
       "      <td>12</td>\n",
       "      <td>0</td>\n",
       "      <td>0</td>\n",
       "      <td>бездетные</td>\n",
       "    </tr>\n",
       "    <tr>\n",
       "      <td>13</td>\n",
       "      <td>0</td>\n",
       "      <td>0</td>\n",
       "      <td>бездетные</td>\n",
       "    </tr>\n",
       "    <tr>\n",
       "      <td>14</td>\n",
       "      <td>0</td>\n",
       "      <td>1</td>\n",
       "      <td>бездетные</td>\n",
       "    </tr>\n",
       "  </tbody>\n",
       "</table>\n",
       "</div>"
      ],
      "text/plain": [
       "    children  debt    child_category\n",
       "0          1     0         1 ребенок\n",
       "1          1     0         1 ребенок\n",
       "2          0     0         бездетные\n",
       "3          3     0  больше 1 ребенка\n",
       "4          0     0         бездетные\n",
       "5          0     0         бездетные\n",
       "6          0     0         бездетные\n",
       "7          0     0         бездетные\n",
       "8          2     0  больше 1 ребенка\n",
       "9          0     0         бездетные\n",
       "10         2     0  больше 1 ребенка\n",
       "11         0     0         бездетные\n",
       "12         0     0         бездетные\n",
       "13         0     0         бездетные\n",
       "14         0     1         бездетные"
      ]
     },
     "metadata": {},
     "output_type": "display_data"
    }
   ],
   "source": [
    "children_debt = data.loc[:, ['children', 'debt','child_category']]\n",
    "display(children_debt.head(15))"
   ]
  },
  {
   "cell_type": "code",
   "execution_count": 20,
   "metadata": {},
   "outputs": [
    {
     "data": {
      "text/html": [
       "<div>\n",
       "<style scoped>\n",
       "    .dataframe tbody tr th:only-of-type {\n",
       "        vertical-align: middle;\n",
       "    }\n",
       "\n",
       "    .dataframe tbody tr th {\n",
       "        vertical-align: top;\n",
       "    }\n",
       "\n",
       "    .dataframe thead th {\n",
       "        text-align: right;\n",
       "    }\n",
       "</style>\n",
       "<table border=\"1\" class=\"dataframe\">\n",
       "  <thead>\n",
       "    <tr style=\"text-align: right;\">\n",
       "      <th>debt</th>\n",
       "      <th>0</th>\n",
       "      <th>1</th>\n",
       "    </tr>\n",
       "    <tr>\n",
       "      <th>child_category</th>\n",
       "      <th></th>\n",
       "      <th></th>\n",
       "    </tr>\n",
       "  </thead>\n",
       "  <tbody>\n",
       "    <tr>\n",
       "      <td>1 ребенок</td>\n",
       "      <td>4364</td>\n",
       "      <td>444</td>\n",
       "    </tr>\n",
       "    <tr>\n",
       "      <td>бездетные</td>\n",
       "      <td>13028</td>\n",
       "      <td>1063</td>\n",
       "    </tr>\n",
       "    <tr>\n",
       "      <td>больше 1 ребенка</td>\n",
       "      <td>2275</td>\n",
       "      <td>233</td>\n",
       "    </tr>\n",
       "  </tbody>\n",
       "</table>\n",
       "</div>"
      ],
      "text/plain": [
       "debt                  0     1\n",
       "child_category               \n",
       "1 ребенок          4364   444\n",
       "бездетные         13028  1063\n",
       "больше 1 ребенка   2275   233"
      ]
     },
     "metadata": {},
     "output_type": "display_data"
    }
   ],
   "source": [
    "pivot_children_debt = children_debt.pivot_table(index='child_category', columns='debt', values='children', aggfunc='count')\n",
    "display(pivot_children_debt.head(15))"
   ]
  },
  {
   "cell_type": "markdown",
   "metadata": {},
   "source": [
    "для наглядности необходимо добавить к данным столбец с процентным соотношением количества просрочек к общему количеству заемов:"
   ]
  },
  {
   "cell_type": "code",
   "execution_count": 21,
   "metadata": {},
   "outputs": [
    {
     "data": {
      "text/html": [
       "<div>\n",
       "<style scoped>\n",
       "    .dataframe tbody tr th:only-of-type {\n",
       "        vertical-align: middle;\n",
       "    }\n",
       "\n",
       "    .dataframe tbody tr th {\n",
       "        vertical-align: top;\n",
       "    }\n",
       "\n",
       "    .dataframe thead th {\n",
       "        text-align: right;\n",
       "    }\n",
       "</style>\n",
       "<table border=\"1\" class=\"dataframe\">\n",
       "  <thead>\n",
       "    <tr style=\"text-align: right;\">\n",
       "      <th>debt</th>\n",
       "      <th>0</th>\n",
       "      <th>1</th>\n",
       "      <th>percent</th>\n",
       "    </tr>\n",
       "    <tr>\n",
       "      <th>child_category</th>\n",
       "      <th></th>\n",
       "      <th></th>\n",
       "      <th></th>\n",
       "    </tr>\n",
       "  </thead>\n",
       "  <tbody>\n",
       "    <tr>\n",
       "      <td>1 ребенок</td>\n",
       "      <td>4364</td>\n",
       "      <td>444</td>\n",
       "      <td>9.234609</td>\n",
       "    </tr>\n",
       "    <tr>\n",
       "      <td>бездетные</td>\n",
       "      <td>13028</td>\n",
       "      <td>1063</td>\n",
       "      <td>7.543822</td>\n",
       "    </tr>\n",
       "    <tr>\n",
       "      <td>больше 1 ребенка</td>\n",
       "      <td>2275</td>\n",
       "      <td>233</td>\n",
       "      <td>9.290271</td>\n",
       "    </tr>\n",
       "  </tbody>\n",
       "</table>\n",
       "</div>"
      ],
      "text/plain": [
       "debt                  0     1   percent\n",
       "child_category                         \n",
       "1 ребенок          4364   444  9.234609\n",
       "бездетные         13028  1063  7.543822\n",
       "больше 1 ребенка   2275   233  9.290271"
      ]
     },
     "metadata": {},
     "output_type": "display_data"
    }
   ],
   "source": [
    "pivot_children_debt['percent'] = (pivot_children_debt[1]/(pivot_children_debt[1] + pivot_children_debt[0])) * 100\n",
    "display(pivot_children_debt)\n"
   ]
  },
  {
   "cell_type": "markdown",
   "metadata": {},
   "source": [
    "**Вывод**"
   ]
  },
  {
   "cell_type": "markdown",
   "metadata": {},
   "source": [
    "Зависимость между наличием детей и выплатой кредита в срок присутствует."
   ]
  },
  {
   "cell_type": "markdown",
   "metadata": {},
   "source": [
    "Создадим сводную таблицу, демонстрирующую количество выплаченных в срок кредитов и просроченных по атрибуту семейного положения:"
   ]
  },
  {
   "cell_type": "code",
   "execution_count": 22,
   "metadata": {},
   "outputs": [
    {
     "data": {
      "text/html": [
       "<div>\n",
       "<style scoped>\n",
       "    .dataframe tbody tr th:only-of-type {\n",
       "        vertical-align: middle;\n",
       "    }\n",
       "\n",
       "    .dataframe tbody tr th {\n",
       "        vertical-align: top;\n",
       "    }\n",
       "\n",
       "    .dataframe thead th {\n",
       "        text-align: right;\n",
       "    }\n",
       "</style>\n",
       "<table border=\"1\" class=\"dataframe\">\n",
       "  <thead>\n",
       "    <tr style=\"text-align: right;\">\n",
       "      <th>debt</th>\n",
       "      <th>0</th>\n",
       "      <th>1</th>\n",
       "    </tr>\n",
       "    <tr>\n",
       "      <th>family_status</th>\n",
       "      <th></th>\n",
       "      <th></th>\n",
       "    </tr>\n",
       "  </thead>\n",
       "  <tbody>\n",
       "    <tr>\n",
       "      <td>в разводе</td>\n",
       "      <td>1110</td>\n",
       "      <td>85</td>\n",
       "    </tr>\n",
       "    <tr>\n",
       "      <td>вдовец / вдова</td>\n",
       "      <td>896</td>\n",
       "      <td>63</td>\n",
       "    </tr>\n",
       "    <tr>\n",
       "      <td>гражданский брак</td>\n",
       "      <td>3763</td>\n",
       "      <td>388</td>\n",
       "    </tr>\n",
       "    <tr>\n",
       "      <td>женат / замужем</td>\n",
       "      <td>11408</td>\n",
       "      <td>931</td>\n",
       "    </tr>\n",
       "    <tr>\n",
       "      <td>не женат / не замужем</td>\n",
       "      <td>2536</td>\n",
       "      <td>274</td>\n",
       "    </tr>\n",
       "  </tbody>\n",
       "</table>\n",
       "</div>"
      ],
      "text/plain": [
       "debt                       0    1\n",
       "family_status                    \n",
       "в разводе               1110   85\n",
       "вдовец / вдова           896   63\n",
       "гражданский брак        3763  388\n",
       "женат / замужем        11408  931\n",
       "не женат / не замужем   2536  274"
      ]
     },
     "metadata": {},
     "output_type": "display_data"
    }
   ],
   "source": [
    "pivot_relationship_debt = data.pivot_table(index='family_status', columns='debt', values='gender', aggfunc='count')\n",
    "display(pivot_relationship_debt)"
   ]
  },
  {
   "cell_type": "code",
   "execution_count": 23,
   "metadata": {},
   "outputs": [
    {
     "name": "stderr",
     "output_type": "stream",
     "text": [
      "/opt/conda/lib/python3.7/site-packages/pandas/core/indexing.py:1418: FutureWarning: \n",
      "Passing list-likes to .loc or [] with any missing label will raise\n",
      "KeyError in the future, you can use .reindex() as an alternative.\n",
      "\n",
      "See the documentation here:\n",
      "https://pandas.pydata.org/pandas-docs/stable/user_guide/indexing.html#deprecate-loc-reindex-listlike\n",
      "  return self._getitem_tuple(key)\n"
     ]
    },
    {
     "data": {
      "text/html": [
       "<div>\n",
       "<style scoped>\n",
       "    .dataframe tbody tr th:only-of-type {\n",
       "        vertical-align: middle;\n",
       "    }\n",
       "\n",
       "    .dataframe tbody tr th {\n",
       "        vertical-align: top;\n",
       "    }\n",
       "\n",
       "    .dataframe thead th {\n",
       "        text-align: right;\n",
       "    }\n",
       "</style>\n",
       "<table border=\"1\" class=\"dataframe\">\n",
       "  <thead>\n",
       "    <tr style=\"text-align: right;\">\n",
       "      <th></th>\n",
       "      <th>family_status</th>\n",
       "      <th>debt</th>\n",
       "      <th>relationship_stutus</th>\n",
       "    </tr>\n",
       "  </thead>\n",
       "  <tbody>\n",
       "    <tr>\n",
       "      <td>0</td>\n",
       "      <td>женат / замужем</td>\n",
       "      <td>0</td>\n",
       "      <td>NaN</td>\n",
       "    </tr>\n",
       "    <tr>\n",
       "      <td>1</td>\n",
       "      <td>женат / замужем</td>\n",
       "      <td>0</td>\n",
       "      <td>NaN</td>\n",
       "    </tr>\n",
       "    <tr>\n",
       "      <td>2</td>\n",
       "      <td>женат / замужем</td>\n",
       "      <td>0</td>\n",
       "      <td>NaN</td>\n",
       "    </tr>\n",
       "    <tr>\n",
       "      <td>3</td>\n",
       "      <td>женат / замужем</td>\n",
       "      <td>0</td>\n",
       "      <td>NaN</td>\n",
       "    </tr>\n",
       "    <tr>\n",
       "      <td>4</td>\n",
       "      <td>гражданский брак</td>\n",
       "      <td>0</td>\n",
       "      <td>NaN</td>\n",
       "    </tr>\n",
       "    <tr>\n",
       "      <td>5</td>\n",
       "      <td>гражданский брак</td>\n",
       "      <td>0</td>\n",
       "      <td>NaN</td>\n",
       "    </tr>\n",
       "    <tr>\n",
       "      <td>6</td>\n",
       "      <td>женат / замужем</td>\n",
       "      <td>0</td>\n",
       "      <td>NaN</td>\n",
       "    </tr>\n",
       "    <tr>\n",
       "      <td>7</td>\n",
       "      <td>женат / замужем</td>\n",
       "      <td>0</td>\n",
       "      <td>NaN</td>\n",
       "    </tr>\n",
       "    <tr>\n",
       "      <td>8</td>\n",
       "      <td>гражданский брак</td>\n",
       "      <td>0</td>\n",
       "      <td>NaN</td>\n",
       "    </tr>\n",
       "    <tr>\n",
       "      <td>9</td>\n",
       "      <td>женат / замужем</td>\n",
       "      <td>0</td>\n",
       "      <td>NaN</td>\n",
       "    </tr>\n",
       "    <tr>\n",
       "      <td>10</td>\n",
       "      <td>женат / замужем</td>\n",
       "      <td>0</td>\n",
       "      <td>NaN</td>\n",
       "    </tr>\n",
       "    <tr>\n",
       "      <td>11</td>\n",
       "      <td>женат / замужем</td>\n",
       "      <td>0</td>\n",
       "      <td>NaN</td>\n",
       "    </tr>\n",
       "    <tr>\n",
       "      <td>12</td>\n",
       "      <td>гражданский брак</td>\n",
       "      <td>0</td>\n",
       "      <td>NaN</td>\n",
       "    </tr>\n",
       "    <tr>\n",
       "      <td>13</td>\n",
       "      <td>женат / замужем</td>\n",
       "      <td>0</td>\n",
       "      <td>NaN</td>\n",
       "    </tr>\n",
       "    <tr>\n",
       "      <td>14</td>\n",
       "      <td>гражданский брак</td>\n",
       "      <td>1</td>\n",
       "      <td>NaN</td>\n",
       "    </tr>\n",
       "  </tbody>\n",
       "</table>\n",
       "</div>"
      ],
      "text/plain": [
       "       family_status  debt  relationship_stutus\n",
       "0    женат / замужем     0                  NaN\n",
       "1    женат / замужем     0                  NaN\n",
       "2    женат / замужем     0                  NaN\n",
       "3    женат / замужем     0                  NaN\n",
       "4   гражданский брак     0                  NaN\n",
       "5   гражданский брак     0                  NaN\n",
       "6    женат / замужем     0                  NaN\n",
       "7    женат / замужем     0                  NaN\n",
       "8   гражданский брак     0                  NaN\n",
       "9    женат / замужем     0                  NaN\n",
       "10   женат / замужем     0                  NaN\n",
       "11   женат / замужем     0                  NaN\n",
       "12  гражданский брак     0                  NaN\n",
       "13   женат / замужем     0                  NaN\n",
       "14  гражданский брак     1                  NaN"
      ]
     },
     "metadata": {},
     "output_type": "display_data"
    }
   ],
   "source": [
    "relationship_debt = data.loc[:, ['family_status', 'debt','relationship_stutus']]\n",
    "display(relationship_debt.head(15))"
   ]
  },
  {
   "cell_type": "code",
   "execution_count": 24,
   "metadata": {},
   "outputs": [
    {
     "data": {
      "text/html": [
       "<div>\n",
       "<style scoped>\n",
       "    .dataframe tbody tr th:only-of-type {\n",
       "        vertical-align: middle;\n",
       "    }\n",
       "\n",
       "    .dataframe tbody tr th {\n",
       "        vertical-align: top;\n",
       "    }\n",
       "\n",
       "    .dataframe thead th {\n",
       "        text-align: right;\n",
       "    }\n",
       "</style>\n",
       "<table border=\"1\" class=\"dataframe\">\n",
       "  <thead>\n",
       "    <tr style=\"text-align: right;\">\n",
       "      <th>debt</th>\n",
       "      <th>0</th>\n",
       "      <th>1</th>\n",
       "      <th>percent</th>\n",
       "    </tr>\n",
       "    <tr>\n",
       "      <th>family_status</th>\n",
       "      <th></th>\n",
       "      <th></th>\n",
       "      <th></th>\n",
       "    </tr>\n",
       "  </thead>\n",
       "  <tbody>\n",
       "    <tr>\n",
       "      <td>в разводе</td>\n",
       "      <td>1110</td>\n",
       "      <td>85</td>\n",
       "      <td>7.112971</td>\n",
       "    </tr>\n",
       "    <tr>\n",
       "      <td>вдовец / вдова</td>\n",
       "      <td>896</td>\n",
       "      <td>63</td>\n",
       "      <td>6.569343</td>\n",
       "    </tr>\n",
       "    <tr>\n",
       "      <td>гражданский брак</td>\n",
       "      <td>3763</td>\n",
       "      <td>388</td>\n",
       "      <td>9.347145</td>\n",
       "    </tr>\n",
       "    <tr>\n",
       "      <td>женат / замужем</td>\n",
       "      <td>11408</td>\n",
       "      <td>931</td>\n",
       "      <td>7.545182</td>\n",
       "    </tr>\n",
       "    <tr>\n",
       "      <td>не женат / не замужем</td>\n",
       "      <td>2536</td>\n",
       "      <td>274</td>\n",
       "      <td>9.750890</td>\n",
       "    </tr>\n",
       "  </tbody>\n",
       "</table>\n",
       "</div>"
      ],
      "text/plain": [
       "debt                       0    1   percent\n",
       "family_status                              \n",
       "в разводе               1110   85  7.112971\n",
       "вдовец / вдова           896   63  6.569343\n",
       "гражданский брак        3763  388  9.347145\n",
       "женат / замужем        11408  931  7.545182\n",
       "не женат / не замужем   2536  274  9.750890"
      ]
     },
     "metadata": {},
     "output_type": "display_data"
    }
   ],
   "source": [
    "pivot_relationship_debt['percent'] = (pivot_relationship_debt[1]/(pivot_relationship_debt[1] + pivot_relationship_debt[0])) * 100\n",
    "display(pivot_relationship_debt)"
   ]
  },
  {
   "cell_type": "markdown",
   "metadata": {},
   "source": [
    "**Вывод**"
   ]
  },
  {
   "cell_type": "markdown",
   "metadata": {},
   "source": [
    "Заемщики, не состоящие в узаконенных отношениях, имеют самый высокий процент просрочек по кредиту - свыше 9 %. Самыми ответственными являются овдовевшие граждане, среди которых \"штрафников\" на целый процент меньше, чем среди женатых!"
   ]
  },
  {
   "cell_type": "markdown",
   "metadata": {},
   "source": [
    "- Есть ли зависимость между уровнем дохода и возвратом кредита в срок?"
   ]
  },
  {
   "cell_type": "markdown",
   "metadata": {},
   "source": [
    "По доходу заемщики будут делиться на 3 категории относительно общей медианы столбца: \n",
    "- низкий (ниже медианного диапазона);\n",
    "- средний (внутри медианного диапазона и выше медианного диапазона, то есть в промежутке  от 100000 до 180000);\n",
    "- высокий (выше медианного диапазона)\n",
    "Для начала определим медиану столбца доходов:"
   ]
  },
  {
   "cell_type": "code",
   "execution_count": 25,
   "metadata": {},
   "outputs": [
    {
     "data": {
      "text/plain": [
       "142594.0"
      ]
     },
     "execution_count": 25,
     "metadata": {},
     "output_type": "execute_result"
    }
   ],
   "source": [
    "data['total_income'].median()"
   ]
  },
  {
   "cell_type": "markdown",
   "metadata": {},
   "source": []
  },
  {
   "cell_type": "code",
   "execution_count": 26,
   "metadata": {},
   "outputs": [
    {
     "name": "stdout",
     "output_type": "stream",
     "text": [
      "    index  children  days_employed  dob_years            education  \\\n",
      "0       0         1           8437         42               высшее   \n",
      "1       1         1           4024         36              среднее   \n",
      "2       2         0           5623         33              среднее   \n",
      "3       3         3           4124         32              среднее   \n",
      "4       4         0         340266         53              среднее   \n",
      "5       5         0            926         27               высшее   \n",
      "6       6         0           2879         43               высшее   \n",
      "7       7         0            152         50              среднее   \n",
      "8       8         2           6929         35               высшее   \n",
      "9       9         0           2188         41              среднее   \n",
      "10     10         2           4171         36               высшее   \n",
      "11     11         0            792         40              среднее   \n",
      "12     12         0         357103         65              среднее   \n",
      "13     13         0           1846         54  неоконченное высшее   \n",
      "14     14         0           1844         56               высшее   \n",
      "15     15         1            972         26              среднее   \n",
      "16     16         0           1719         35              среднее   \n",
      "17     17         0           2369         33               высшее   \n",
      "18     18         0         400281         53              среднее   \n",
      "19     19         0          10038         48              среднее   \n",
      "20     20         1           1311         36              среднее   \n",
      "21     21         1            253         33              среднее   \n",
      "22     22         1           1766         24              среднее   \n",
      "23     23         0            272         21               высшее   \n",
      "24     24         1         338551         57              среднее   \n",
      "25     25         0         363548         67              среднее   \n",
      "26     26         0           1864         41              среднее   \n",
      "27     27         0            529         28               высшее   \n",
      "28     28         1            717         26               высшее   \n",
      "29     29         0         358482         63              среднее   \n",
      "30     30         1         335581         62              среднее   \n",
      "31     31         0           1682         47            начальное   \n",
      "32     32         0           4649         34              среднее   \n",
      "33     33         0           1548         48              среднее   \n",
      "34     34         0           4488         35              среднее   \n",
      "35     35         0         394021         68              среднее   \n",
      "36     36         0            176         33              среднее   \n",
      "37     37         0           6448         43               высшее   \n",
      "38     38         0            597         25               высшее   \n",
      "39     39         0            650         31               высшее   \n",
      "40     40         0           1030         30              среднее   \n",
      "41     41         0           2626         50              среднее   \n",
      "42     42         0           1257         20  неоконченное высшее   \n",
      "43     43         0           4375         43  неоконченное высшее   \n",
      "44     44         1           1362         26              среднее   \n",
      "45     45         1           1039         49              среднее   \n",
      "46     46         2           2262         37              среднее   \n",
      "47     47         1           2689         33               высшее   \n",
      "48     48         0           3341         45              среднее   \n",
      "49     49         0           1181         54              среднее   \n",
      "\n",
      "    education_id          family_status  family_status_id gender  income_type  \\\n",
      "0              0        женат / замужем                 0      f    сотрудник   \n",
      "1              1        женат / замужем                 0      f    сотрудник   \n",
      "2              1        женат / замужем                 0      m    сотрудник   \n",
      "3              1        женат / замужем                 0      m    сотрудник   \n",
      "4              1       гражданский брак                 1      f    пенсионер   \n",
      "5              0       гражданский брак                 1      m    компаньон   \n",
      "6              0        женат / замужем                 0      f    компаньон   \n",
      "7              1        женат / замужем                 0      m    сотрудник   \n",
      "8              0       гражданский брак                 1      f    сотрудник   \n",
      "9              1        женат / замужем                 0      m    сотрудник   \n",
      "10             0        женат / замужем                 0      m    компаньон   \n",
      "11             1        женат / замужем                 0      f    сотрудник   \n",
      "12             1       гражданский брак                 1      m    пенсионер   \n",
      "13             2        женат / замужем                 0      f    сотрудник   \n",
      "14             0       гражданский брак                 1      f    компаньон   \n",
      "15             1        женат / замужем                 0      f    сотрудник   \n",
      "16             1        женат / замужем                 0      f    сотрудник   \n",
      "17             0       гражданский брак                 1      m    сотрудник   \n",
      "18             1         вдовец / вдова                 2      f    пенсионер   \n",
      "19             1              в разводе                 3      f    сотрудник   \n",
      "20             1        женат / замужем                 0      m    сотрудник   \n",
      "21             1       гражданский брак                 1      f    сотрудник   \n",
      "22             1       гражданский брак                 1      f    сотрудник   \n",
      "23             0       гражданский брак                 1      m    сотрудник   \n",
      "24             1  не женат / не замужем                 4      f    пенсионер   \n",
      "25             1        женат / замужем                 0      m    пенсионер   \n",
      "26             1        женат / замужем                 0      m  госслужащий   \n",
      "27             0        женат / замужем                 0      m    сотрудник   \n",
      "28             0        женат / замужем                 0      f    сотрудник   \n",
      "29             1  не женат / не замужем                 4      f    пенсионер   \n",
      "30             1        женат / замужем                 0      f    пенсионер   \n",
      "31             3        женат / замужем                 0      f    сотрудник   \n",
      "32             1       гражданский брак                 1      f    сотрудник   \n",
      "33             1        женат / замужем                 0      f    компаньон   \n",
      "34             1        женат / замужем                 0      f    сотрудник   \n",
      "35             1       гражданский брак                 1      m    пенсионер   \n",
      "36             1  не женат / не замужем                 4      m    сотрудник   \n",
      "37             0       гражданский брак                 1      f    компаньон   \n",
      "38             0  не женат / не замужем                 4      m    сотрудник   \n",
      "39             0       гражданский брак                 1      f    компаньон   \n",
      "40             1  не женат / не замужем                 4      m    компаньон   \n",
      "41             1        женат / замужем                 0      f  госслужащий   \n",
      "42             2  не женат / не замужем                 4      f    сотрудник   \n",
      "43             2              в разводе                 3      f    компаньон   \n",
      "44             1        женат / замужем                 0      f    сотрудник   \n",
      "45             1  не женат / не замужем                 4      f    сотрудник   \n",
      "46             1        женат / замужем                 0      f    компаньон   \n",
      "47             0       гражданский брак                 1      m  госслужащий   \n",
      "48             1        женат / замужем                 0      f    сотрудник   \n",
      "49             1        женат / замужем                 0      f    сотрудник   \n",
      "\n",
      "    debt  total_income                                 purpose  \\\n",
      "0      0        253875                           покупка жилья   \n",
      "1      0        112080                 приобретение автомобиля   \n",
      "2      0        145885                           покупка жилья   \n",
      "3      0        267628              дополнительное образование   \n",
      "4      0        158616                         сыграть свадьбу   \n",
      "5      0        255763                           покупка жилья   \n",
      "6      0        240525                       операции с жильем   \n",
      "7      0        135823                             образование   \n",
      "8      0         95856                   на проведение свадьбы   \n",
      "9      0        144425                 покупка жилья для семьи   \n",
      "10     0        113943                    покупка недвижимости   \n",
      "11     0         77069       покупка коммерческой недвижимости   \n",
      "12     0        118514                         сыграть свадьбу   \n",
      "13     0        130458                 приобретение автомобиля   \n",
      "14     1        165127              покупка жилой недвижимости   \n",
      "15     0        116820  строительство собственной недвижимости   \n",
      "16     0        289202                            недвижимость   \n",
      "17     0         90410              строительство недвижимости   \n",
      "18     0         56823      на покупку подержанного автомобиля   \n",
      "19     0        242831            на покупку своего автомобиля   \n",
      "20     0        209552                            недвижимость   \n",
      "21     0        131812                 приобретение автомобиля   \n",
      "22     0        149681      на покупку подержанного автомобиля   \n",
      "23     0        128265                         сыграть свадьбу   \n",
      "24     0        290547   операции с коммерческой недвижимостью   \n",
      "25     0         55112                    покупка недвижимости   \n",
      "26     0        150447                             образование   \n",
      "27     0        308848  строительство собственной недвижимости   \n",
      "28     0        187863  строительство собственной недвижимости   \n",
      "29     0        118514        строительство жилой недвижимости   \n",
      "30     0        171456   операции с коммерческой недвижимостью   \n",
      "31     0        275485                                   жилье   \n",
      "32     1        139057                   на проведение свадьбы   \n",
      "33     0        157245                           покупка жилья   \n",
      "34     0        104660         операции со своей недвижимостью   \n",
      "35     0         77805                   на проведение свадьбы   \n",
      "36     0        138830                              автомобили   \n",
      "37     0        154128                 приобретение автомобиля   \n",
      "38     1        192247                             образование   \n",
      "39     0        754240                   заняться образованием   \n",
      "40     0        142865                    покупка недвижимости   \n",
      "41     0        150447        сделка с подержанным автомобилем   \n",
      "42     0         82065                   получение образования   \n",
      "43     0        272957                 приобретение автомобиля   \n",
      "44     0        100780            на покупку своего автомобиля   \n",
      "45     0        106385                   заняться образованием   \n",
      "46     0        182682        сделка с подержанным автомобилем   \n",
      "47     0        356277                   на проведение свадьбы   \n",
      "48     0        162065  строительство собственной недвижимости   \n",
      "49     0         44591                              автомобиль   \n",
      "\n",
      "   purpose_category    child_category income_status  \n",
      "0      недвижимость         1 ребенок       высокий  \n",
      "1        автомобиль         1 ребенок       средний  \n",
      "2      недвижимость         бездетные       средний  \n",
      "3       образование  больше 1 ребенка       высокий  \n",
      "4           свадьба         бездетные       средний  \n",
      "5      недвижимость         бездетные       высокий  \n",
      "6      недвижимость         бездетные       высокий  \n",
      "7       образование         бездетные       средний  \n",
      "8           свадьба  больше 1 ребенка        низкий  \n",
      "9      недвижимость         бездетные       средний  \n",
      "10     недвижимость  больше 1 ребенка       средний  \n",
      "11     недвижимость         бездетные        низкий  \n",
      "12          свадьба         бездетные       средний  \n",
      "13       автомобиль         бездетные       средний  \n",
      "14     недвижимость         бездетные       средний  \n",
      "15     недвижимость         1 ребенок       средний  \n",
      "16     недвижимость         бездетные       высокий  \n",
      "17     недвижимость         бездетные        низкий  \n",
      "18       автомобиль         бездетные        низкий  \n",
      "19       автомобиль         бездетные       высокий  \n",
      "20     недвижимость         1 ребенок       высокий  \n",
      "21       автомобиль         1 ребенок       средний  \n",
      "22       автомобиль         1 ребенок       средний  \n",
      "23          свадьба         бездетные       средний  \n",
      "24     недвижимость         1 ребенок       высокий  \n",
      "25     недвижимость         бездетные        низкий  \n",
      "26      образование         бездетные       средний  \n",
      "27     недвижимость         бездетные       высокий  \n",
      "28     недвижимость         1 ребенок       высокий  \n",
      "29     недвижимость         бездетные       средний  \n",
      "30     недвижимость         1 ребенок       средний  \n",
      "31     недвижимость         бездетные       высокий  \n",
      "32          свадьба         бездетные       средний  \n",
      "33     недвижимость         бездетные       средний  \n",
      "34     недвижимость         бездетные       средний  \n",
      "35          свадьба         бездетные        низкий  \n",
      "36       автомобиль         бездетные       средний  \n",
      "37       автомобиль         бездетные       средний  \n",
      "38      образование         бездетные       высокий  \n",
      "39      образование         бездетные       высокий  \n",
      "40     недвижимость         бездетные       средний  \n",
      "41       автомобиль         бездетные       средний  \n",
      "42      образование         бездетные        низкий  \n",
      "43       автомобиль         бездетные       высокий  \n",
      "44       автомобиль         1 ребенок       средний  \n",
      "45      образование         1 ребенок       средний  \n",
      "46       автомобиль  больше 1 ребенка       высокий  \n",
      "47          свадьба         1 ребенок       высокий  \n",
      "48     недвижимость         бездетные       средний  \n",
      "49       автомобиль         бездетные        низкий  \n"
     ]
    }
   ],
   "source": [
    "def create_income_status_category(row):\n",
    "    if row < 100000:\n",
    "        return 'низкий'\n",
    "    if row > 180000:\n",
    "        return 'высокий'\n",
    "    else:\n",
    "        return 'средний'\n",
    "data['income_status'] = data['total_income'].apply(create_income_status_category)\n",
    "print(data.head(50))"
   ]
  },
  {
   "cell_type": "code",
   "execution_count": 27,
   "metadata": {},
   "outputs": [
    {
     "data": {
      "text/html": [
       "<div>\n",
       "<style scoped>\n",
       "    .dataframe tbody tr th:only-of-type {\n",
       "        vertical-align: middle;\n",
       "    }\n",
       "\n",
       "    .dataframe tbody tr th {\n",
       "        vertical-align: top;\n",
       "    }\n",
       "\n",
       "    .dataframe thead th {\n",
       "        text-align: right;\n",
       "    }\n",
       "</style>\n",
       "<table border=\"1\" class=\"dataframe\">\n",
       "  <thead>\n",
       "    <tr style=\"text-align: right;\">\n",
       "      <th></th>\n",
       "      <th>income_status</th>\n",
       "      <th>debt</th>\n",
       "      <th>total_income</th>\n",
       "    </tr>\n",
       "  </thead>\n",
       "  <tbody>\n",
       "    <tr>\n",
       "      <td>0</td>\n",
       "      <td>высокий</td>\n",
       "      <td>0</td>\n",
       "      <td>253875</td>\n",
       "    </tr>\n",
       "    <tr>\n",
       "      <td>1</td>\n",
       "      <td>средний</td>\n",
       "      <td>0</td>\n",
       "      <td>112080</td>\n",
       "    </tr>\n",
       "    <tr>\n",
       "      <td>2</td>\n",
       "      <td>средний</td>\n",
       "      <td>0</td>\n",
       "      <td>145885</td>\n",
       "    </tr>\n",
       "    <tr>\n",
       "      <td>3</td>\n",
       "      <td>высокий</td>\n",
       "      <td>0</td>\n",
       "      <td>267628</td>\n",
       "    </tr>\n",
       "    <tr>\n",
       "      <td>4</td>\n",
       "      <td>средний</td>\n",
       "      <td>0</td>\n",
       "      <td>158616</td>\n",
       "    </tr>\n",
       "    <tr>\n",
       "      <td>5</td>\n",
       "      <td>высокий</td>\n",
       "      <td>0</td>\n",
       "      <td>255763</td>\n",
       "    </tr>\n",
       "    <tr>\n",
       "      <td>6</td>\n",
       "      <td>высокий</td>\n",
       "      <td>0</td>\n",
       "      <td>240525</td>\n",
       "    </tr>\n",
       "    <tr>\n",
       "      <td>7</td>\n",
       "      <td>средний</td>\n",
       "      <td>0</td>\n",
       "      <td>135823</td>\n",
       "    </tr>\n",
       "    <tr>\n",
       "      <td>8</td>\n",
       "      <td>низкий</td>\n",
       "      <td>0</td>\n",
       "      <td>95856</td>\n",
       "    </tr>\n",
       "    <tr>\n",
       "      <td>9</td>\n",
       "      <td>средний</td>\n",
       "      <td>0</td>\n",
       "      <td>144425</td>\n",
       "    </tr>\n",
       "    <tr>\n",
       "      <td>10</td>\n",
       "      <td>средний</td>\n",
       "      <td>0</td>\n",
       "      <td>113943</td>\n",
       "    </tr>\n",
       "    <tr>\n",
       "      <td>11</td>\n",
       "      <td>низкий</td>\n",
       "      <td>0</td>\n",
       "      <td>77069</td>\n",
       "    </tr>\n",
       "    <tr>\n",
       "      <td>12</td>\n",
       "      <td>средний</td>\n",
       "      <td>0</td>\n",
       "      <td>118514</td>\n",
       "    </tr>\n",
       "    <tr>\n",
       "      <td>13</td>\n",
       "      <td>средний</td>\n",
       "      <td>0</td>\n",
       "      <td>130458</td>\n",
       "    </tr>\n",
       "    <tr>\n",
       "      <td>14</td>\n",
       "      <td>средний</td>\n",
       "      <td>1</td>\n",
       "      <td>165127</td>\n",
       "    </tr>\n",
       "  </tbody>\n",
       "</table>\n",
       "</div>"
      ],
      "text/plain": [
       "   income_status  debt  total_income\n",
       "0        высокий     0        253875\n",
       "1        средний     0        112080\n",
       "2        средний     0        145885\n",
       "3        высокий     0        267628\n",
       "4        средний     0        158616\n",
       "5        высокий     0        255763\n",
       "6        высокий     0        240525\n",
       "7        средний     0        135823\n",
       "8         низкий     0         95856\n",
       "9        средний     0        144425\n",
       "10       средний     0        113943\n",
       "11        низкий     0         77069\n",
       "12       средний     0        118514\n",
       "13       средний     0        130458\n",
       "14       средний     1        165127"
      ]
     },
     "metadata": {},
     "output_type": "display_data"
    }
   ],
   "source": [
    "income_debt = data.loc[:, ['income_status', 'debt','total_income']]\n",
    "display(income_debt.head(15))"
   ]
  },
  {
   "cell_type": "code",
   "execution_count": 28,
   "metadata": {},
   "outputs": [
    {
     "data": {
      "text/html": [
       "<div>\n",
       "<style scoped>\n",
       "    .dataframe tbody tr th:only-of-type {\n",
       "        vertical-align: middle;\n",
       "    }\n",
       "\n",
       "    .dataframe tbody tr th {\n",
       "        vertical-align: top;\n",
       "    }\n",
       "\n",
       "    .dataframe thead th {\n",
       "        text-align: right;\n",
       "    }\n",
       "</style>\n",
       "<table border=\"1\" class=\"dataframe\">\n",
       "  <thead>\n",
       "    <tr style=\"text-align: right;\">\n",
       "      <th>debt</th>\n",
       "      <th>0</th>\n",
       "      <th>1</th>\n",
       "    </tr>\n",
       "    <tr>\n",
       "      <th>income_status</th>\n",
       "      <th></th>\n",
       "      <th></th>\n",
       "    </tr>\n",
       "  </thead>\n",
       "  <tbody>\n",
       "    <tr>\n",
       "      <td>высокий</td>\n",
       "      <td>5945</td>\n",
       "      <td>478</td>\n",
       "    </tr>\n",
       "    <tr>\n",
       "      <td>низкий</td>\n",
       "      <td>4109</td>\n",
       "      <td>354</td>\n",
       "    </tr>\n",
       "    <tr>\n",
       "      <td>средний</td>\n",
       "      <td>9659</td>\n",
       "      <td>909</td>\n",
       "    </tr>\n",
       "  </tbody>\n",
       "</table>\n",
       "</div>"
      ],
      "text/plain": [
       "debt              0    1\n",
       "income_status           \n",
       "высокий        5945  478\n",
       "низкий         4109  354\n",
       "средний        9659  909"
      ]
     },
     "metadata": {},
     "output_type": "display_data"
    }
   ],
   "source": [
    "pivot_income_debt = income_debt.pivot_table(index='income_status', columns='debt', values='total_income', aggfunc='count')\n",
    "display(pivot_income_debt)"
   ]
  },
  {
   "cell_type": "code",
   "execution_count": 29,
   "metadata": {},
   "outputs": [
    {
     "data": {
      "text/html": [
       "<div>\n",
       "<style scoped>\n",
       "    .dataframe tbody tr th:only-of-type {\n",
       "        vertical-align: middle;\n",
       "    }\n",
       "\n",
       "    .dataframe tbody tr th {\n",
       "        vertical-align: top;\n",
       "    }\n",
       "\n",
       "    .dataframe thead th {\n",
       "        text-align: right;\n",
       "    }\n",
       "</style>\n",
       "<table border=\"1\" class=\"dataframe\">\n",
       "  <thead>\n",
       "    <tr style=\"text-align: right;\">\n",
       "      <th>debt</th>\n",
       "      <th>0</th>\n",
       "      <th>1</th>\n",
       "      <th>percent</th>\n",
       "    </tr>\n",
       "    <tr>\n",
       "      <th>income_status</th>\n",
       "      <th></th>\n",
       "      <th></th>\n",
       "      <th></th>\n",
       "    </tr>\n",
       "  </thead>\n",
       "  <tbody>\n",
       "    <tr>\n",
       "      <td>высокий</td>\n",
       "      <td>5945</td>\n",
       "      <td>478</td>\n",
       "      <td>7.442005</td>\n",
       "    </tr>\n",
       "    <tr>\n",
       "      <td>низкий</td>\n",
       "      <td>4109</td>\n",
       "      <td>354</td>\n",
       "      <td>7.931884</td>\n",
       "    </tr>\n",
       "    <tr>\n",
       "      <td>средний</td>\n",
       "      <td>9659</td>\n",
       "      <td>909</td>\n",
       "      <td>8.601438</td>\n",
       "    </tr>\n",
       "  </tbody>\n",
       "</table>\n",
       "</div>"
      ],
      "text/plain": [
       "debt              0    1   percent\n",
       "income_status                     \n",
       "высокий        5945  478  7.442005\n",
       "низкий         4109  354  7.931884\n",
       "средний        9659  909  8.601438"
      ]
     },
     "metadata": {},
     "output_type": "display_data"
    }
   ],
   "source": [
    "pivot_income_debt['percent'] = (pivot_income_debt[1]/(pivot_income_debt[1] + pivot_income_debt[0])) * 100\n",
    "display(pivot_income_debt)"
   ]
  },
  {
   "cell_type": "markdown",
   "metadata": {},
   "source": [
    "**Вывод**"
   ]
  },
  {
   "cell_type": "markdown",
   "metadata": {},
   "source": [
    "Самая высокий процент просрочек среди тех, чей ежемесячный доход определен как средний. Процент просрочек среди тех, чей доход выше или ниже приблизительно равен. Вывод: уровень дохода не сильно влияет на возможность невыплаты кредита в срок. Это зависит от других факторов (личной ответственности или способности идти на риск: меньше рискуют те, кто стеснен в средствах или, наоборот, те, кому есть что терять)."
   ]
  },
  {
   "cell_type": "markdown",
   "metadata": {},
   "source": [
    "- Как разные цели кредита влияют на его возврат в срок?"
   ]
  },
  {
   "cell_type": "markdown",
   "metadata": {},
   "source": [
    "По целям заемщики уже были категоризированы в п.2.4"
   ]
  },
  {
   "cell_type": "code",
   "execution_count": 30,
   "metadata": {},
   "outputs": [
    {
     "data": {
      "text/html": [
       "<div>\n",
       "<style scoped>\n",
       "    .dataframe tbody tr th:only-of-type {\n",
       "        vertical-align: middle;\n",
       "    }\n",
       "\n",
       "    .dataframe tbody tr th {\n",
       "        vertical-align: top;\n",
       "    }\n",
       "\n",
       "    .dataframe thead th {\n",
       "        text-align: right;\n",
       "    }\n",
       "</style>\n",
       "<table border=\"1\" class=\"dataframe\">\n",
       "  <thead>\n",
       "    <tr style=\"text-align: right;\">\n",
       "      <th>debt</th>\n",
       "      <th>0</th>\n",
       "      <th>1</th>\n",
       "    </tr>\n",
       "    <tr>\n",
       "      <th>purpose_category</th>\n",
       "      <th></th>\n",
       "      <th></th>\n",
       "    </tr>\n",
       "  </thead>\n",
       "  <tbody>\n",
       "    <tr>\n",
       "      <td>автомобиль</td>\n",
       "      <td>3903</td>\n",
       "      <td>403</td>\n",
       "    </tr>\n",
       "    <tr>\n",
       "      <td>недвижимость</td>\n",
       "      <td>10029</td>\n",
       "      <td>782</td>\n",
       "    </tr>\n",
       "    <tr>\n",
       "      <td>образование</td>\n",
       "      <td>3643</td>\n",
       "      <td>370</td>\n",
       "    </tr>\n",
       "    <tr>\n",
       "      <td>свадьба</td>\n",
       "      <td>2138</td>\n",
       "      <td>186</td>\n",
       "    </tr>\n",
       "  </tbody>\n",
       "</table>\n",
       "</div>"
      ],
      "text/plain": [
       "debt                  0    1\n",
       "purpose_category            \n",
       "автомобиль         3903  403\n",
       "недвижимость      10029  782\n",
       "образование        3643  370\n",
       "свадьба            2138  186"
      ]
     },
     "metadata": {},
     "output_type": "display_data"
    }
   ],
   "source": [
    "pivot_purpose = data.pivot_table(index=['purpose_category'], columns = 'debt', values = 'gender', aggfunc= 'count')\n",
    "display(pivot_purpose)"
   ]
  },
  {
   "cell_type": "code",
   "execution_count": 31,
   "metadata": {},
   "outputs": [
    {
     "data": {
      "text/html": [
       "<div>\n",
       "<style scoped>\n",
       "    .dataframe tbody tr th:only-of-type {\n",
       "        vertical-align: middle;\n",
       "    }\n",
       "\n",
       "    .dataframe tbody tr th {\n",
       "        vertical-align: top;\n",
       "    }\n",
       "\n",
       "    .dataframe thead th {\n",
       "        text-align: right;\n",
       "    }\n",
       "</style>\n",
       "<table border=\"1\" class=\"dataframe\">\n",
       "  <thead>\n",
       "    <tr style=\"text-align: right;\">\n",
       "      <th>debt</th>\n",
       "      <th>0</th>\n",
       "      <th>1</th>\n",
       "      <th>percent</th>\n",
       "    </tr>\n",
       "    <tr>\n",
       "      <th>purpose_category</th>\n",
       "      <th></th>\n",
       "      <th></th>\n",
       "      <th></th>\n",
       "    </tr>\n",
       "  </thead>\n",
       "  <tbody>\n",
       "    <tr>\n",
       "      <td>автомобиль</td>\n",
       "      <td>3903</td>\n",
       "      <td>403</td>\n",
       "      <td>9.359034</td>\n",
       "    </tr>\n",
       "    <tr>\n",
       "      <td>недвижимость</td>\n",
       "      <td>10029</td>\n",
       "      <td>782</td>\n",
       "      <td>7.233373</td>\n",
       "    </tr>\n",
       "    <tr>\n",
       "      <td>образование</td>\n",
       "      <td>3643</td>\n",
       "      <td>370</td>\n",
       "      <td>9.220035</td>\n",
       "    </tr>\n",
       "    <tr>\n",
       "      <td>свадьба</td>\n",
       "      <td>2138</td>\n",
       "      <td>186</td>\n",
       "      <td>8.003442</td>\n",
       "    </tr>\n",
       "  </tbody>\n",
       "</table>\n",
       "</div>"
      ],
      "text/plain": [
       "debt                  0    1   percent\n",
       "purpose_category                      \n",
       "автомобиль         3903  403  9.359034\n",
       "недвижимость      10029  782  7.233373\n",
       "образование        3643  370  9.220035\n",
       "свадьба            2138  186  8.003442"
      ]
     },
     "metadata": {},
     "output_type": "display_data"
    }
   ],
   "source": [
    "pivot_purpose['percent'] = (pivot_purpose[1]/(pivot_purpose[1] + pivot_purpose[0])) * 100\n",
    "display(pivot_purpose)"
   ]
  },
  {
   "cell_type": "markdown",
   "metadata": {},
   "source": [
    "**Вывод**"
   ]
  },
  {
   "cell_type": "markdown",
   "metadata": {},
   "source": [
    "Самый большой процент просрочек среди тех, кто берет кредит на автомобиль и образование. Самыми надёжными заемщиками оказываются те, кто за счет кредитных средств совершает операции с недвижимостью."
   ]
  },
  {
   "cell_type": "markdown",
   "metadata": {},
   "source": [
    "## Шаг 4. Общий вывод"
   ]
  },
  {
   "cell_type": "markdown",
   "metadata": {},
   "source": [
    "Исходя из проведенного анализа, можно составить портрет предполагаемого \"надёжного\" заемщика:\n",
    "-без детей;\n",
    "-вдовец/вдова;\n",
    "-целью кредита является приобретение недвижимости\n",
    "\n",
    "Уровень дохода неординарно влияет на вероятность невыплаты в срок. Как выяснилось, люди с доходом выше среднего и ниже среднего равным образом могут просрочить платежи, тогда как у заемщикоd с медианным уровнем дохода эта вероятность выше."
   ]
  }
 ],
 "metadata": {
  "ExecuteTimeLog": [
   {
    "duration": 817,
    "start_time": "2022-01-09T16:31:48.204Z"
   },
   {
    "duration": 92,
    "start_time": "2022-01-09T16:32:11.338Z"
   },
   {
    "duration": 101,
    "start_time": "2022-01-09T16:33:59.048Z"
   },
   {
    "duration": 850,
    "start_time": "2022-01-09T16:46:58.688Z"
   },
   {
    "duration": 24,
    "start_time": "2022-01-09T16:49:26.336Z"
   },
   {
    "duration": 13,
    "start_time": "2022-01-09T16:55:10.760Z"
   },
   {
    "duration": 428,
    "start_time": "2022-01-09T16:56:55.529Z"
   },
   {
    "duration": 20,
    "start_time": "2022-01-09T16:57:01.805Z"
   },
   {
    "duration": 9,
    "start_time": "2022-01-09T16:57:42.685Z"
   },
   {
    "duration": 8,
    "start_time": "2022-01-09T16:57:56.188Z"
   },
   {
    "duration": 8,
    "start_time": "2022-01-09T16:58:42.152Z"
   },
   {
    "duration": 11,
    "start_time": "2022-01-09T17:10:48.453Z"
   },
   {
    "duration": 9,
    "start_time": "2022-01-09T17:16:07.309Z"
   },
   {
    "duration": 13,
    "start_time": "2022-01-09T17:16:42.440Z"
   },
   {
    "duration": 15,
    "start_time": "2022-01-09T17:18:22.805Z"
   },
   {
    "duration": 16,
    "start_time": "2022-01-09T17:21:07.350Z"
   },
   {
    "duration": 19,
    "start_time": "2022-01-09T17:24:58.175Z"
   },
   {
    "duration": 17,
    "start_time": "2022-01-09T17:32:07.786Z"
   },
   {
    "duration": 39,
    "start_time": "2022-01-09T17:32:43.757Z"
   },
   {
    "duration": 16,
    "start_time": "2022-01-09T17:33:08.421Z"
   },
   {
    "duration": 912,
    "start_time": "2022-01-09T17:38:45.855Z"
   },
   {
    "duration": 9,
    "start_time": "2022-01-09T17:38:46.770Z"
   },
   {
    "duration": 12,
    "start_time": "2022-01-09T17:38:46.782Z"
   },
   {
    "duration": 31,
    "start_time": "2022-01-09T17:38:46.796Z"
   },
   {
    "duration": 24,
    "start_time": "2022-01-09T17:38:46.830Z"
   },
   {
    "duration": 18,
    "start_time": "2022-01-09T17:38:46.857Z"
   },
   {
    "duration": 16,
    "start_time": "2022-01-09T17:38:46.878Z"
   },
   {
    "duration": 135,
    "start_time": "2022-01-09T17:38:46.898Z"
   },
   {
    "duration": 6,
    "start_time": "2022-01-09T17:39:20.383Z"
   },
   {
    "duration": 17,
    "start_time": "2022-01-09T17:39:33.682Z"
   },
   {
    "duration": 388,
    "start_time": "2022-01-10T15:42:38.038Z"
   },
   {
    "duration": 314,
    "start_time": "2022-01-10T15:43:08.878Z"
   },
   {
    "duration": 848,
    "start_time": "2022-01-10T15:43:27.466Z"
   },
   {
    "duration": 12,
    "start_time": "2022-01-10T15:43:28.317Z"
   },
   {
    "duration": 284,
    "start_time": "2022-01-10T15:43:28.333Z"
   },
   {
    "duration": 206,
    "start_time": "2022-01-10T15:43:28.621Z"
   },
   {
    "duration": 209,
    "start_time": "2022-01-10T15:43:28.830Z"
   },
   {
    "duration": 280,
    "start_time": "2022-01-10T15:43:29.042Z"
   },
   {
    "duration": 190,
    "start_time": "2022-01-10T15:43:29.325Z"
   },
   {
    "duration": 205,
    "start_time": "2022-01-10T15:43:29.518Z"
   },
   {
    "duration": 26,
    "start_time": "2022-01-10T15:43:49.897Z"
   },
   {
    "duration": 23,
    "start_time": "2022-01-10T15:44:05.600Z"
   },
   {
    "duration": 413,
    "start_time": "2022-01-10T15:45:37.613Z"
   },
   {
    "duration": 328,
    "start_time": "2022-01-10T15:45:45.868Z"
   },
   {
    "duration": 309,
    "start_time": "2022-01-10T15:45:54.535Z"
   },
   {
    "duration": 23,
    "start_time": "2022-01-10T15:47:00.953Z"
   },
   {
    "duration": 20,
    "start_time": "2022-01-10T15:49:03.982Z"
   },
   {
    "duration": 17,
    "start_time": "2022-01-10T15:49:23.182Z"
   },
   {
    "duration": 350,
    "start_time": "2022-01-10T15:49:56.179Z"
   },
   {
    "duration": 497,
    "start_time": "2022-01-10T15:50:09.247Z"
   },
   {
    "duration": 19,
    "start_time": "2022-01-10T15:50:27.131Z"
   },
   {
    "duration": 22,
    "start_time": "2022-01-10T15:50:44.850Z"
   },
   {
    "duration": 23,
    "start_time": "2022-01-10T15:51:29.440Z"
   },
   {
    "duration": 32,
    "start_time": "2022-01-10T15:51:58.391Z"
   },
   {
    "duration": 53,
    "start_time": "2022-01-10T15:52:19.626Z"
   },
   {
    "duration": 308,
    "start_time": "2022-01-10T15:57:38.328Z"
   },
   {
    "duration": 362,
    "start_time": "2022-01-10T15:57:56.560Z"
   },
   {
    "duration": 397,
    "start_time": "2022-01-10T15:59:06.158Z"
   },
   {
    "duration": 448,
    "start_time": "2022-01-10T16:03:26.712Z"
   },
   {
    "duration": 111,
    "start_time": "2022-01-10T16:05:18.955Z"
   },
   {
    "duration": 34,
    "start_time": "2022-01-10T16:05:42.536Z"
   },
   {
    "duration": 25,
    "start_time": "2022-01-10T16:18:46.124Z"
   },
   {
    "duration": 47,
    "start_time": "2022-01-10T16:18:57.475Z"
   },
   {
    "duration": 133,
    "start_time": "2022-01-10T16:20:40.648Z"
   },
   {
    "duration": 42,
    "start_time": "2022-01-10T16:20:47.413Z"
   },
   {
    "duration": 54,
    "start_time": "2022-01-10T16:24:40.766Z"
   },
   {
    "duration": 424,
    "start_time": "2022-01-10T16:34:25.687Z"
   },
   {
    "duration": 12,
    "start_time": "2022-01-10T16:36:48.861Z"
   },
   {
    "duration": 8,
    "start_time": "2022-01-10T16:37:31.772Z"
   },
   {
    "duration": 14,
    "start_time": "2022-01-10T16:37:43.585Z"
   },
   {
    "duration": 7,
    "start_time": "2022-01-10T16:38:30.986Z"
   },
   {
    "duration": 326,
    "start_time": "2022-01-10T16:38:55.132Z"
   },
   {
    "duration": 325,
    "start_time": "2022-01-10T16:39:32.524Z"
   },
   {
    "duration": 6590,
    "start_time": "2022-01-10T16:52:36.982Z"
   },
   {
    "duration": 8,
    "start_time": "2022-01-10T16:53:16.449Z"
   },
   {
    "duration": 16,
    "start_time": "2022-01-10T16:54:05.291Z"
   },
   {
    "duration": 671,
    "start_time": "2022-01-10T16:55:53.155Z"
   },
   {
    "duration": 7022,
    "start_time": "2022-01-10T16:56:06.233Z"
   },
   {
    "duration": 6171,
    "start_time": "2022-01-10T17:02:47.104Z"
   },
   {
    "duration": 6394,
    "start_time": "2022-01-10T17:03:06.006Z"
   },
   {
    "duration": 13,
    "start_time": "2022-01-10T17:04:00.061Z"
   },
   {
    "duration": 349,
    "start_time": "2022-01-10T17:08:41.441Z"
   },
   {
    "duration": 126,
    "start_time": "2022-01-10T17:14:50.668Z"
   },
   {
    "duration": 103,
    "start_time": "2022-01-10T17:15:06.436Z"
   },
   {
    "duration": 6182,
    "start_time": "2022-01-10T17:17:30.478Z"
   },
   {
    "duration": 15,
    "start_time": "2022-01-10T17:17:41.004Z"
   },
   {
    "duration": 6673,
    "start_time": "2022-01-10T17:18:49.031Z"
   },
   {
    "duration": 18,
    "start_time": "2022-01-10T17:18:55.707Z"
   },
   {
    "duration": 14,
    "start_time": "2022-01-10T17:18:55.978Z"
   },
   {
    "duration": 5977,
    "start_time": "2022-01-10T17:19:10.934Z"
   },
   {
    "duration": 22,
    "start_time": "2022-01-10T17:19:16.913Z"
   },
   {
    "duration": 7,
    "start_time": "2022-01-10T17:44:47.373Z"
   },
   {
    "duration": 4,
    "start_time": "2022-01-10T17:45:04.044Z"
   },
   {
    "duration": 5,
    "start_time": "2022-01-10T17:46:01.222Z"
   },
   {
    "duration": 8,
    "start_time": "2022-01-10T17:50:55.288Z"
   },
   {
    "duration": 7,
    "start_time": "2022-01-10T17:53:09.619Z"
   },
   {
    "duration": 1345,
    "start_time": "2022-01-10T18:52:31.221Z"
   },
   {
    "duration": 18,
    "start_time": "2022-01-10T18:52:41.831Z"
   },
   {
    "duration": 21,
    "start_time": "2022-01-10T18:52:58.209Z"
   },
   {
    "duration": 22,
    "start_time": "2022-01-10T18:56:20.191Z"
   },
   {
    "duration": 155,
    "start_time": "2022-01-11T07:35:28.723Z"
   },
   {
    "duration": 371,
    "start_time": "2022-01-11T07:35:40.069Z"
   },
   {
    "duration": 423,
    "start_time": "2022-01-11T07:35:59.924Z"
   },
   {
    "duration": 833,
    "start_time": "2022-01-11T07:36:28.952Z"
   },
   {
    "duration": 9,
    "start_time": "2022-01-11T07:36:29.788Z"
   },
   {
    "duration": 23,
    "start_time": "2022-01-11T07:36:29.800Z"
   },
   {
    "duration": 8,
    "start_time": "2022-01-11T07:36:29.827Z"
   },
   {
    "duration": 14,
    "start_time": "2022-01-11T07:36:29.838Z"
   },
   {
    "duration": 12,
    "start_time": "2022-01-11T07:36:29.854Z"
   },
   {
    "duration": 13,
    "start_time": "2022-01-11T07:36:29.868Z"
   },
   {
    "duration": 56,
    "start_time": "2022-01-11T07:36:29.884Z"
   },
   {
    "duration": 19,
    "start_time": "2022-01-11T07:36:29.943Z"
   },
   {
    "duration": 76,
    "start_time": "2022-01-11T07:36:29.964Z"
   },
   {
    "duration": 127,
    "start_time": "2022-01-11T07:36:30.042Z"
   },
   {
    "duration": 34,
    "start_time": "2022-01-11T07:36:30.172Z"
   },
   {
    "duration": 52,
    "start_time": "2022-01-11T07:36:30.224Z"
   },
   {
    "duration": 7,
    "start_time": "2022-01-11T07:36:30.278Z"
   },
   {
    "duration": 6236,
    "start_time": "2022-01-11T07:36:30.287Z"
   },
   {
    "duration": 15,
    "start_time": "2022-01-11T07:36:36.526Z"
   },
   {
    "duration": 25,
    "start_time": "2022-01-11T07:36:36.543Z"
   },
   {
    "duration": 19,
    "start_time": "2022-01-11T07:36:44.107Z"
   },
   {
    "duration": 426,
    "start_time": "2022-01-11T07:43:55.280Z"
   },
   {
    "duration": 26,
    "start_time": "2022-01-11T07:44:17.036Z"
   },
   {
    "duration": 362,
    "start_time": "2022-01-11T07:53:54.032Z"
   },
   {
    "duration": 12,
    "start_time": "2022-01-11T07:54:11.317Z"
   },
   {
    "duration": 7,
    "start_time": "2022-01-11T08:03:33.668Z"
   },
   {
    "duration": 23,
    "start_time": "2022-01-11T08:11:20.647Z"
   },
   {
    "duration": 39,
    "start_time": "2022-01-11T08:11:43.225Z"
   },
   {
    "duration": 19,
    "start_time": "2022-01-11T08:39:41.842Z"
   },
   {
    "duration": 30,
    "start_time": "2022-01-11T08:41:49.331Z"
   },
   {
    "duration": 26,
    "start_time": "2022-01-11T08:42:11.314Z"
   },
   {
    "duration": 27,
    "start_time": "2022-01-11T08:42:24.682Z"
   },
   {
    "duration": 19,
    "start_time": "2022-01-11T08:44:03.567Z"
   },
   {
    "duration": 13,
    "start_time": "2022-01-11T08:45:37.884Z"
   },
   {
    "duration": 15,
    "start_time": "2022-01-11T08:47:25.165Z"
   },
   {
    "duration": 8,
    "start_time": "2022-01-11T09:21:10.013Z"
   },
   {
    "duration": 31,
    "start_time": "2022-01-11T09:56:43.398Z"
   },
   {
    "duration": 100,
    "start_time": "2022-01-11T10:03:29.249Z"
   },
   {
    "duration": 27,
    "start_time": "2022-01-11T10:03:44.069Z"
   },
   {
    "duration": 23,
    "start_time": "2022-01-11T10:05:56.341Z"
   },
   {
    "duration": 12,
    "start_time": "2022-01-11T10:09:50.282Z"
   },
   {
    "duration": 13,
    "start_time": "2022-01-11T10:18:18.304Z"
   },
   {
    "duration": 22,
    "start_time": "2022-01-11T10:29:52.711Z"
   },
   {
    "duration": 342,
    "start_time": "2022-01-11T10:30:49.460Z"
   },
   {
    "duration": 13,
    "start_time": "2022-01-11T10:31:17.749Z"
   },
   {
    "duration": 23,
    "start_time": "2022-01-11T10:33:10.008Z"
   },
   {
    "duration": 375,
    "start_time": "2022-01-11T10:35:54.125Z"
   },
   {
    "duration": 18,
    "start_time": "2022-01-11T10:36:13.150Z"
   },
   {
    "duration": 326,
    "start_time": "2022-01-11T10:39:22.593Z"
   },
   {
    "duration": 918,
    "start_time": "2022-01-11T12:01:59.852Z"
   },
   {
    "duration": 11,
    "start_time": "2022-01-11T12:02:00.773Z"
   },
   {
    "duration": 16,
    "start_time": "2022-01-11T12:02:00.787Z"
   },
   {
    "duration": 7,
    "start_time": "2022-01-11T12:02:00.825Z"
   },
   {
    "duration": 18,
    "start_time": "2022-01-11T12:02:00.835Z"
   },
   {
    "duration": 19,
    "start_time": "2022-01-11T12:02:00.855Z"
   },
   {
    "duration": 50,
    "start_time": "2022-01-11T12:02:00.877Z"
   },
   {
    "duration": 25,
    "start_time": "2022-01-11T12:02:00.931Z"
   },
   {
    "duration": 23,
    "start_time": "2022-01-11T12:02:00.975Z"
   },
   {
    "duration": 66,
    "start_time": "2022-01-11T12:02:01.001Z"
   },
   {
    "duration": 126,
    "start_time": "2022-01-11T12:02:01.070Z"
   },
   {
    "duration": 50,
    "start_time": "2022-01-11T12:02:01.199Z"
   },
   {
    "duration": 50,
    "start_time": "2022-01-11T12:02:01.252Z"
   },
   {
    "duration": 7,
    "start_time": "2022-01-11T12:02:01.324Z"
   },
   {
    "duration": 6819,
    "start_time": "2022-01-11T12:02:01.334Z"
   },
   {
    "duration": 20,
    "start_time": "2022-01-11T12:02:08.156Z"
   },
   {
    "duration": 52,
    "start_time": "2022-01-11T12:02:08.180Z"
   },
   {
    "duration": 20,
    "start_time": "2022-01-11T12:02:08.235Z"
   },
   {
    "duration": 37,
    "start_time": "2022-01-11T12:02:08.259Z"
   },
   {
    "duration": 21,
    "start_time": "2022-01-11T12:02:08.323Z"
   },
   {
    "duration": 33,
    "start_time": "2022-01-11T12:02:08.347Z"
   },
   {
    "duration": 49,
    "start_time": "2022-01-11T12:02:08.383Z"
   },
   {
    "duration": 37,
    "start_time": "2022-01-11T12:02:08.437Z"
   },
   {
    "duration": 48,
    "start_time": "2022-01-11T12:02:08.477Z"
   },
   {
    "duration": 12,
    "start_time": "2022-01-11T12:02:08.527Z"
   },
   {
    "duration": 67,
    "start_time": "2022-01-11T12:02:08.542Z"
   },
   {
    "duration": 44,
    "start_time": "2022-01-11T12:02:08.612Z"
   },
   {
    "duration": 24,
    "start_time": "2022-01-11T12:02:08.659Z"
   },
   {
    "duration": 40,
    "start_time": "2022-01-11T12:02:08.687Z"
   },
   {
    "duration": 11,
    "start_time": "2022-01-11T12:02:08.729Z"
   },
   {
    "duration": 14,
    "start_time": "2022-01-11T12:02:08.743Z"
   },
   {
    "duration": 19,
    "start_time": "2022-01-11T12:02:08.760Z"
   },
   {
    "duration": 20,
    "start_time": "2022-01-11T12:02:58.854Z"
   },
   {
    "duration": 569,
    "start_time": "2022-01-11T12:03:20.312Z"
   },
   {
    "duration": 20,
    "start_time": "2022-01-11T12:03:31.543Z"
   },
   {
    "duration": 629,
    "start_time": "2022-01-11T12:03:56.312Z"
   },
   {
    "duration": 1013,
    "start_time": "2022-01-11T12:06:51.800Z"
   },
   {
    "duration": 14,
    "start_time": "2022-01-11T12:06:52.816Z"
   },
   {
    "duration": 26,
    "start_time": "2022-01-11T12:06:52.834Z"
   },
   {
    "duration": 7,
    "start_time": "2022-01-11T12:06:52.863Z"
   },
   {
    "duration": 22,
    "start_time": "2022-01-11T12:06:52.872Z"
   },
   {
    "duration": 57,
    "start_time": "2022-01-11T12:06:52.897Z"
   },
   {
    "duration": 13,
    "start_time": "2022-01-11T12:06:52.956Z"
   },
   {
    "duration": 18,
    "start_time": "2022-01-11T12:06:52.973Z"
   },
   {
    "duration": 52,
    "start_time": "2022-01-11T12:06:52.995Z"
   },
   {
    "duration": 51,
    "start_time": "2022-01-11T12:06:53.049Z"
   },
   {
    "duration": 150,
    "start_time": "2022-01-11T12:06:53.103Z"
   },
   {
    "duration": 41,
    "start_time": "2022-01-11T12:06:53.257Z"
   },
   {
    "duration": 68,
    "start_time": "2022-01-11T12:06:53.300Z"
   },
   {
    "duration": 22,
    "start_time": "2022-01-11T12:06:53.370Z"
   },
   {
    "duration": 7693,
    "start_time": "2022-01-11T12:06:53.395Z"
   },
   {
    "duration": 15,
    "start_time": "2022-01-11T12:07:01.090Z"
   },
   {
    "duration": 42,
    "start_time": "2022-01-11T12:07:01.107Z"
   },
   {
    "duration": 28,
    "start_time": "2022-01-11T12:07:01.152Z"
   },
   {
    "duration": 41,
    "start_time": "2022-01-11T12:07:01.183Z"
   },
   {
    "duration": 20,
    "start_time": "2022-01-11T12:07:01.226Z"
   },
   {
    "duration": 12,
    "start_time": "2022-01-11T12:07:01.249Z"
   },
   {
    "duration": 75,
    "start_time": "2022-01-11T12:07:01.264Z"
   },
   {
    "duration": 26,
    "start_time": "2022-01-11T12:07:01.345Z"
   },
   {
    "duration": 49,
    "start_time": "2022-01-11T12:07:01.377Z"
   },
   {
    "duration": 22,
    "start_time": "2022-01-11T12:07:01.429Z"
   },
   {
    "duration": 31,
    "start_time": "2022-01-11T12:07:01.453Z"
   },
   {
    "duration": 62,
    "start_time": "2022-01-11T12:07:01.487Z"
   },
   {
    "duration": 70,
    "start_time": "2022-01-11T12:07:01.553Z"
   },
   {
    "duration": 2245,
    "start_time": "2022-01-11T12:07:01.626Z"
   },
   {
    "duration": 11402,
    "start_time": "2022-01-11T12:06:52.473Z"
   },
   {
    "duration": 11398,
    "start_time": "2022-01-11T12:06:52.480Z"
   },
   {
    "duration": 11396,
    "start_time": "2022-01-11T12:06:52.484Z"
   },
   {
    "duration": 25,
    "start_time": "2022-01-11T12:07:24.368Z"
   },
   {
    "duration": 15,
    "start_time": "2022-01-11T12:08:03.078Z"
   },
   {
    "duration": 14,
    "start_time": "2022-01-11T12:08:11.209Z"
   },
   {
    "duration": 537,
    "start_time": "2022-01-11T12:08:31.889Z"
   },
   {
    "duration": 19,
    "start_time": "2022-01-11T12:09:15.694Z"
   },
   {
    "duration": 336,
    "start_time": "2022-01-11T12:09:34.939Z"
   },
   {
    "duration": 25,
    "start_time": "2022-01-11T12:09:45.389Z"
   },
   {
    "duration": 1065,
    "start_time": "2022-01-11T12:12:52.388Z"
   },
   {
    "duration": 433,
    "start_time": "2022-01-11T12:13:56.177Z"
   },
   {
    "duration": 332,
    "start_time": "2022-01-11T12:15:10.423Z"
   },
   {
    "duration": 341,
    "start_time": "2022-01-11T12:15:30.329Z"
   },
   {
    "duration": 19,
    "start_time": "2022-01-11T12:16:16.952Z"
   },
   {
    "duration": 352,
    "start_time": "2022-01-11T12:17:15.182Z"
   },
   {
    "duration": 408,
    "start_time": "2022-01-11T12:17:56.120Z"
   },
   {
    "duration": 28,
    "start_time": "2022-01-11T12:20:32.070Z"
   },
   {
    "duration": 330,
    "start_time": "2022-01-11T12:23:26.306Z"
   },
   {
    "duration": 784,
    "start_time": "2022-01-11T12:24:47.311Z"
   },
   {
    "duration": 15,
    "start_time": "2022-01-11T12:29:11.739Z"
   },
   {
    "duration": 473,
    "start_time": "2022-01-11T12:29:36.574Z"
   },
   {
    "duration": 467,
    "start_time": "2022-01-11T12:30:14.549Z"
   },
   {
    "duration": 7,
    "start_time": "2022-01-11T12:30:34.788Z"
   },
   {
    "duration": 6,
    "start_time": "2022-01-11T12:30:44.240Z"
   },
   {
    "duration": 13,
    "start_time": "2022-01-11T12:31:00.223Z"
   },
   {
    "duration": 12,
    "start_time": "2022-01-11T12:31:08.070Z"
   },
   {
    "duration": 13,
    "start_time": "2022-01-11T12:31:49.505Z"
   },
   {
    "duration": 22,
    "start_time": "2022-01-11T12:32:37.713Z"
   },
   {
    "duration": 25,
    "start_time": "2022-01-11T12:32:44.035Z"
   },
   {
    "duration": 7,
    "start_time": "2022-01-11T12:32:58.116Z"
   },
   {
    "duration": 378,
    "start_time": "2022-01-11T12:41:40.496Z"
   },
   {
    "duration": 369,
    "start_time": "2022-01-11T12:42:28.082Z"
   },
   {
    "duration": 26,
    "start_time": "2022-01-11T12:42:35.199Z"
   },
   {
    "duration": 36,
    "start_time": "2022-01-11T12:42:56.279Z"
   },
   {
    "duration": 12,
    "start_time": "2022-01-11T12:45:07.351Z"
   },
   {
    "duration": 748,
    "start_time": "2022-01-13T10:04:17.728Z"
   },
   {
    "duration": 6,
    "start_time": "2022-01-13T10:04:18.481Z"
   },
   {
    "duration": 14,
    "start_time": "2022-01-13T10:04:18.489Z"
   },
   {
    "duration": 13,
    "start_time": "2022-01-13T10:04:18.505Z"
   },
   {
    "duration": 15,
    "start_time": "2022-01-13T10:04:18.520Z"
   },
   {
    "duration": 9,
    "start_time": "2022-01-13T10:04:18.537Z"
   },
   {
    "duration": 30,
    "start_time": "2022-01-13T10:04:18.548Z"
   },
   {
    "duration": 20,
    "start_time": "2022-01-13T10:04:18.581Z"
   },
   {
    "duration": 15,
    "start_time": "2022-01-13T10:04:18.603Z"
   },
   {
    "duration": 66,
    "start_time": "2022-01-13T10:04:18.619Z"
   },
   {
    "duration": 99,
    "start_time": "2022-01-13T10:04:18.687Z"
   },
   {
    "duration": 25,
    "start_time": "2022-01-13T10:04:18.788Z"
   },
   {
    "duration": 47,
    "start_time": "2022-01-13T10:04:18.815Z"
   },
   {
    "duration": 9,
    "start_time": "2022-01-13T10:04:18.864Z"
   },
   {
    "duration": 4963,
    "start_time": "2022-01-13T10:04:18.875Z"
   },
   {
    "duration": 21,
    "start_time": "2022-01-13T10:04:23.840Z"
   },
   {
    "duration": 24,
    "start_time": "2022-01-13T10:04:23.864Z"
   },
   {
    "duration": 21,
    "start_time": "2022-01-13T10:04:23.889Z"
   },
   {
    "duration": 18,
    "start_time": "2022-01-13T10:04:23.911Z"
   },
   {
    "duration": 31,
    "start_time": "2022-01-13T10:04:23.931Z"
   },
   {
    "duration": 9,
    "start_time": "2022-01-13T10:04:23.965Z"
   },
   {
    "duration": 36,
    "start_time": "2022-01-13T10:04:23.977Z"
   },
   {
    "duration": 23,
    "start_time": "2022-01-13T10:04:24.015Z"
   },
   {
    "duration": 39,
    "start_time": "2022-01-13T10:04:24.039Z"
   },
   {
    "duration": 15,
    "start_time": "2022-01-13T10:04:24.080Z"
   },
   {
    "duration": 10,
    "start_time": "2022-01-13T10:04:24.098Z"
   },
   {
    "duration": 24,
    "start_time": "2022-01-13T10:04:24.110Z"
   },
   {
    "duration": 41,
    "start_time": "2022-01-13T10:04:24.136Z"
   },
   {
    "duration": 29,
    "start_time": "2022-01-13T10:04:24.179Z"
   },
   {
    "duration": 9,
    "start_time": "2022-01-13T10:04:24.210Z"
   },
   {
    "duration": 34,
    "start_time": "2022-01-13T10:04:24.220Z"
   },
   {
    "duration": 19,
    "start_time": "2022-01-13T10:04:24.256Z"
   },
   {
    "duration": 892,
    "start_time": "2022-01-13T10:45:25.596Z"
   },
   {
    "duration": 7,
    "start_time": "2022-01-13T10:45:26.491Z"
   },
   {
    "duration": 7,
    "start_time": "2022-01-13T10:45:26.501Z"
   },
   {
    "duration": 5,
    "start_time": "2022-01-13T10:45:26.510Z"
   },
   {
    "duration": 51,
    "start_time": "2022-01-13T10:45:26.517Z"
   },
   {
    "duration": 12,
    "start_time": "2022-01-13T10:45:26.571Z"
   },
   {
    "duration": 14,
    "start_time": "2022-01-13T10:45:26.586Z"
   },
   {
    "duration": 17,
    "start_time": "2022-01-13T10:45:26.604Z"
   },
   {
    "duration": 58,
    "start_time": "2022-01-13T10:45:26.624Z"
   },
   {
    "duration": 50,
    "start_time": "2022-01-13T10:45:26.684Z"
   },
   {
    "duration": 144,
    "start_time": "2022-01-13T10:45:26.737Z"
   },
   {
    "duration": 34,
    "start_time": "2022-01-13T10:45:26.883Z"
   },
   {
    "duration": 71,
    "start_time": "2022-01-13T10:45:26.920Z"
   },
   {
    "duration": 8,
    "start_time": "2022-01-13T10:45:26.993Z"
   },
   {
    "duration": 5851,
    "start_time": "2022-01-13T10:45:27.003Z"
   },
   {
    "duration": 23,
    "start_time": "2022-01-13T10:45:32.857Z"
   },
   {
    "duration": 24,
    "start_time": "2022-01-13T10:45:32.883Z"
   },
   {
    "duration": 19,
    "start_time": "2022-01-13T10:45:32.909Z"
   },
   {
    "duration": 59,
    "start_time": "2022-01-13T10:45:32.931Z"
   },
   {
    "duration": 18,
    "start_time": "2022-01-13T10:45:32.993Z"
   },
   {
    "duration": 8,
    "start_time": "2022-01-13T10:45:33.014Z"
   },
   {
    "duration": 68,
    "start_time": "2022-01-13T10:45:33.024Z"
   },
   {
    "duration": 21,
    "start_time": "2022-01-13T10:45:33.096Z"
   },
   {
    "duration": 51,
    "start_time": "2022-01-13T10:45:33.120Z"
   },
   {
    "duration": 13,
    "start_time": "2022-01-13T10:45:33.173Z"
   },
   {
    "duration": 8,
    "start_time": "2022-01-13T10:45:33.188Z"
   },
   {
    "duration": 32,
    "start_time": "2022-01-13T10:45:33.198Z"
   },
   {
    "duration": 27,
    "start_time": "2022-01-13T10:45:33.268Z"
   },
   {
    "duration": 25,
    "start_time": "2022-01-13T10:45:33.297Z"
   },
   {
    "duration": 12,
    "start_time": "2022-01-13T10:45:33.324Z"
   },
   {
    "duration": 58,
    "start_time": "2022-01-13T10:45:33.338Z"
   },
   {
    "duration": 12,
    "start_time": "2022-01-13T10:45:33.398Z"
   },
   {
    "duration": 54,
    "start_time": "2022-01-13T10:46:07.113Z"
   },
   {
    "duration": 37,
    "start_time": "2022-01-13T10:49:54.214Z"
   },
   {
    "duration": 31,
    "start_time": "2022-01-13T10:54:31.346Z"
   },
   {
    "duration": 13,
    "start_time": "2022-01-13T10:54:37.592Z"
   },
   {
    "duration": 107,
    "start_time": "2022-01-13T10:56:36.729Z"
   },
   {
    "duration": 33,
    "start_time": "2022-01-13T11:04:06.595Z"
   },
   {
    "duration": 14,
    "start_time": "2022-01-13T11:04:28.817Z"
   },
   {
    "duration": 27,
    "start_time": "2022-01-13T11:04:32.716Z"
   },
   {
    "duration": 12,
    "start_time": "2022-01-13T11:04:39.294Z"
   },
   {
    "duration": 598,
    "start_time": "2022-01-13T19:08:59.456Z"
   },
   {
    "duration": 33,
    "start_time": "2022-01-13T19:09:00.056Z"
   },
   {
    "duration": 15,
    "start_time": "2022-01-13T19:09:00.092Z"
   },
   {
    "duration": 9,
    "start_time": "2022-01-13T19:09:00.110Z"
   },
   {
    "duration": 11,
    "start_time": "2022-01-13T19:09:00.120Z"
   },
   {
    "duration": 10,
    "start_time": "2022-01-13T19:09:00.132Z"
   },
   {
    "duration": 8,
    "start_time": "2022-01-13T19:09:00.143Z"
   },
   {
    "duration": 15,
    "start_time": "2022-01-13T19:09:00.153Z"
   },
   {
    "duration": 40,
    "start_time": "2022-01-13T19:09:00.169Z"
   },
   {
    "duration": 15,
    "start_time": "2022-01-13T19:09:00.213Z"
   },
   {
    "duration": 32,
    "start_time": "2022-01-13T19:09:00.230Z"
   },
   {
    "duration": 104,
    "start_time": "2022-01-13T19:09:00.264Z"
   },
   {
    "duration": 33,
    "start_time": "2022-01-13T19:09:00.370Z"
   },
   {
    "duration": 35,
    "start_time": "2022-01-13T19:09:00.405Z"
   },
   {
    "duration": 6,
    "start_time": "2022-01-13T19:09:00.441Z"
   },
   {
    "duration": 4313,
    "start_time": "2022-01-13T19:09:00.448Z"
   },
   {
    "duration": 10,
    "start_time": "2022-01-13T19:09:04.763Z"
   },
   {
    "duration": 31,
    "start_time": "2022-01-13T19:09:04.774Z"
   },
   {
    "duration": 14,
    "start_time": "2022-01-13T19:09:04.807Z"
   },
   {
    "duration": 18,
    "start_time": "2022-01-13T19:09:04.822Z"
   },
   {
    "duration": 9,
    "start_time": "2022-01-13T19:09:04.842Z"
   },
   {
    "duration": 57,
    "start_time": "2022-01-13T19:09:04.852Z"
   },
   {
    "duration": 10,
    "start_time": "2022-01-13T19:09:04.912Z"
   },
   {
    "duration": 17,
    "start_time": "2022-01-13T19:09:04.924Z"
   },
   {
    "duration": 10,
    "start_time": "2022-01-13T19:09:04.942Z"
   },
   {
    "duration": 46,
    "start_time": "2022-01-13T19:09:04.954Z"
   },
   {
    "duration": 16,
    "start_time": "2022-01-13T19:09:05.002Z"
   },
   {
    "duration": 20,
    "start_time": "2022-01-13T19:09:05.020Z"
   },
   {
    "duration": 8,
    "start_time": "2022-01-13T19:09:05.042Z"
   },
   {
    "duration": 61,
    "start_time": "2022-01-13T19:09:05.051Z"
   },
   {
    "duration": 8,
    "start_time": "2022-01-13T19:09:05.114Z"
   }
  ],
  "kernelspec": {
   "display_name": "Python 3 (ipykernel)",
   "language": "python",
   "name": "python3"
  },
  "language_info": {
   "codemirror_mode": {
    "name": "ipython",
    "version": 3
   },
   "file_extension": ".py",
   "mimetype": "text/x-python",
   "name": "python",
   "nbconvert_exporter": "python",
   "pygments_lexer": "ipython3",
   "version": "3.9.7"
  },
  "toc": {
   "base_numbering": 1,
   "nav_menu": {},
   "number_sections": true,
   "sideBar": true,
   "skip_h1_title": true,
   "title_cell": "Table of Contents",
   "title_sidebar": "Contents",
   "toc_cell": false,
   "toc_position": {},
   "toc_section_display": true,
   "toc_window_display": false
  }
 },
 "nbformat": 4,
 "nbformat_minor": 2
}
