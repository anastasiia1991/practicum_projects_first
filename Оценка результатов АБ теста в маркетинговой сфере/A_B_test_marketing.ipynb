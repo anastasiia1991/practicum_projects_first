{
 "cells": [
  {
   "cell_type": "markdown",
   "metadata": {},
   "source": [
    "# A/B-тест 1"
   ]
  },
  {
   "cell_type": "markdown",
   "metadata": {},
   "source": [
    "**Цель проекта**:\n",
    "При помощи А/B-теста проверить одну из приоритетных гипотез в маркетинговых целях."
   ]
  },
  {
   "cell_type": "markdown",
   "metadata": {},
   "source": [
    "**Задачи проекта**\n",
    "1. применив фреймворки ICE и RICE выявить наиболее приоритетную гипотезу из подготовленной таблицы гипотез;\n",
    "2. на основе проведенного А/В-теста:\n",
    "- Построить график кумулятивной выручки по группам. Сделайте выводы и предположения.\n",
    "- Построить график кумулятивного среднего чека по группам. Сделайте выводы и предположения.\n",
    "- Построить график относительного изменения кумулятивного среднего чека группы B к группе A. Сделайте выводы и предположения.\n",
    "- Построить график кумулятивной конверсии по группам. Сделайте выводы и предположения.\n",
    "- Построить график относительного изменения кумулятивной конверсии группы B к группе A. Сделайте выводы и предположения.\n",
    "- Построить точечный график количества заказов по пользователям. Сделайте выводы и предположения.\n",
    "- Посчитать 95-й и 99-й перцентили количества заказов на пользователя. Выберите границу для определения аномальных пользователей.\n",
    "- Построить точечный график стоимостей заказов. Сделайте выводы и предположения.\n",
    "- Посчитать 95-й и 99-й перцентили стоимости заказов. Выберите границу для определения аномальных заказов.\n",
    "- Посчитать статистическую значимость различий в конверсии между группами по «сырым» данным. Сделайте выводы и предположения.\n",
    "- Посчитать статистическую значимость различий в среднем чеке заказа между группами по «сырым» данным. Сделайте выводы и предположения.\n",
    "- Посчитать статистическую значимость различий в конверсии между группами по «очищенным» данным. Сделайте выводы и предположения.\n",
    "- Посчитать статистическую значимость различий в среднем чеке заказа между группами по «очищенным» данным. Сделайте выводы и предположения.\n",
    "- Принять решение по результатам теста и объясните его. Варианты решений: 1. Остановить тест, зафиксировать победу одной из групп. 2. Остановить тест, зафиксировать отсутствие различий между группами. 3. Продолжить тест."
   ]
  },
  {
   "cell_type": "markdown",
   "metadata": {},
   "source": [
    "## Приоритизация гипотез"
   ]
  },
  {
   "cell_type": "markdown",
   "metadata": {},
   "source": [
    "### Импорт библиотек, параметры вывода и используемые функции "
   ]
  },
  {
   "cell_type": "code",
   "execution_count": 1,
   "metadata": {},
   "outputs": [],
   "source": [
    "import pandas as pd\n",
    "import seaborn as sns\n",
    "import datetime as dt\n",
    "import matplotlib.pyplot as plt\n",
    "import numpy as np\n",
    "from scipy import stats as st\n",
    "from scipy.stats import mannwhitneyu\n",
    "import math\n",
    "from pandas.plotting import register_matplotlib_converters\n",
    "import warnings\n",
    "register_matplotlib_converters()\n"
   ]
  },
  {
   "cell_type": "code",
   "execution_count": 2,
   "metadata": {},
   "outputs": [],
   "source": [
    "#настраиваем формат вывода дробных чисел до двух знаков, а колонок датафреймов по максимуму, задаем размер будущих графиков\n",
    "pd.set_option('display.float_format', '{:.2f}'.format)\n",
    "pd.set_option('display.max_colwidth', None)\n",
    "sns.set(rc={'figure.figsize':(10, 5)})"
   ]
  },
  {
   "cell_type": "code",
   "execution_count": 3,
   "metadata": {},
   "outputs": [],
   "source": [
    "#задаем функцию для описания датафреймов\n",
    "def info_data(data_frame):\n",
    "    print('Информация о колонках\\n')\n",
    "    print( data_frame.info() )\n",
    "    \n",
    "    print('\\nПервые 5 строк')\n",
    "    display(data_frame.head())\n",
    "    \n",
    "    print('\\nКоличество дубликатов в колонках')\n",
    "    display(data_frame.duplicated().sum())\n",
    "    \n",
    "    return"
   ]
  },
  {
   "cell_type": "markdown",
   "metadata": {},
   "source": [
    "### Предобработка данных"
   ]
  },
  {
   "cell_type": "code",
   "execution_count": 4,
   "metadata": {},
   "outputs": [],
   "source": [
    "hypothesis = pd.read_csv('/datasets/hypothesis.csv')"
   ]
  },
  {
   "cell_type": "code",
   "execution_count": 5,
   "metadata": {},
   "outputs": [
    {
     "name": "stdout",
     "output_type": "stream",
     "text": [
      "Информация о колонках\n",
      "\n",
      "<class 'pandas.core.frame.DataFrame'>\n",
      "RangeIndex: 9 entries, 0 to 8\n",
      "Data columns (total 5 columns):\n",
      " #   Column      Non-Null Count  Dtype \n",
      "---  ------      --------------  ----- \n",
      " 0   Hypothesis  9 non-null      object\n",
      " 1   Reach       9 non-null      int64 \n",
      " 2   Impact      9 non-null      int64 \n",
      " 3   Confidence  9 non-null      int64 \n",
      " 4   Efforts     9 non-null      int64 \n",
      "dtypes: int64(4), object(1)\n",
      "memory usage: 488.0+ bytes\n",
      "None\n",
      "\n",
      "Первые 5 строк\n"
     ]
    },
    {
     "data": {
      "text/html": [
       "<div>\n",
       "<style scoped>\n",
       "    .dataframe tbody tr th:only-of-type {\n",
       "        vertical-align: middle;\n",
       "    }\n",
       "\n",
       "    .dataframe tbody tr th {\n",
       "        vertical-align: top;\n",
       "    }\n",
       "\n",
       "    .dataframe thead th {\n",
       "        text-align: right;\n",
       "    }\n",
       "</style>\n",
       "<table border=\"1\" class=\"dataframe\">\n",
       "  <thead>\n",
       "    <tr style=\"text-align: right;\">\n",
       "      <th></th>\n",
       "      <th>Hypothesis</th>\n",
       "      <th>Reach</th>\n",
       "      <th>Impact</th>\n",
       "      <th>Confidence</th>\n",
       "      <th>Efforts</th>\n",
       "    </tr>\n",
       "  </thead>\n",
       "  <tbody>\n",
       "    <tr>\n",
       "      <th>0</th>\n",
       "      <td>Добавить два новых канала привлечения трафика, что позволит привлекать на 30% больше пользователей</td>\n",
       "      <td>3</td>\n",
       "      <td>10</td>\n",
       "      <td>8</td>\n",
       "      <td>6</td>\n",
       "    </tr>\n",
       "    <tr>\n",
       "      <th>1</th>\n",
       "      <td>Запустить собственную службу доставки, что сократит срок доставки заказов</td>\n",
       "      <td>2</td>\n",
       "      <td>5</td>\n",
       "      <td>4</td>\n",
       "      <td>10</td>\n",
       "    </tr>\n",
       "    <tr>\n",
       "      <th>2</th>\n",
       "      <td>Добавить блоки рекомендаций товаров на сайт интернет магазина, чтобы повысить конверсию и средний чек заказа</td>\n",
       "      <td>8</td>\n",
       "      <td>3</td>\n",
       "      <td>7</td>\n",
       "      <td>3</td>\n",
       "    </tr>\n",
       "    <tr>\n",
       "      <th>3</th>\n",
       "      <td>Изменить структура категорий, что увеличит конверсию, т.к. пользователи быстрее найдут нужный товар</td>\n",
       "      <td>8</td>\n",
       "      <td>3</td>\n",
       "      <td>3</td>\n",
       "      <td>8</td>\n",
       "    </tr>\n",
       "    <tr>\n",
       "      <th>4</th>\n",
       "      <td>Изменить цвет фона главной страницы, чтобы увеличить вовлеченность пользователей</td>\n",
       "      <td>3</td>\n",
       "      <td>1</td>\n",
       "      <td>1</td>\n",
       "      <td>1</td>\n",
       "    </tr>\n",
       "  </tbody>\n",
       "</table>\n",
       "</div>"
      ],
      "text/plain": [
       "                                                                                                     Hypothesis  \\\n",
       "0            Добавить два новых канала привлечения трафика, что позволит привлекать на 30% больше пользователей   \n",
       "1                                     Запустить собственную службу доставки, что сократит срок доставки заказов   \n",
       "2  Добавить блоки рекомендаций товаров на сайт интернет магазина, чтобы повысить конверсию и средний чек заказа   \n",
       "3           Изменить структура категорий, что увеличит конверсию, т.к. пользователи быстрее найдут нужный товар   \n",
       "4                              Изменить цвет фона главной страницы, чтобы увеличить вовлеченность пользователей   \n",
       "\n",
       "   Reach  Impact  Confidence  Efforts  \n",
       "0      3      10           8        6  \n",
       "1      2       5           4       10  \n",
       "2      8       3           7        3  \n",
       "3      8       3           3        8  \n",
       "4      3       1           1        1  "
      ]
     },
     "metadata": {},
     "output_type": "display_data"
    },
    {
     "name": "stdout",
     "output_type": "stream",
     "text": [
      "\n",
      "Количество дубликатов в колонках\n"
     ]
    },
    {
     "data": {
      "text/plain": [
       "0"
      ]
     },
     "metadata": {},
     "output_type": "display_data"
    }
   ],
   "source": [
    "info_data(hypothesis)"
   ]
  },
  {
   "cell_type": "code",
   "execution_count": 6,
   "metadata": {},
   "outputs": [],
   "source": [
    "#для удобства приведем все названия столбцов к нижнему регистру:\n",
    "hypothesis.columns = [x.lower() for x in hypothesis.columns.values]"
   ]
  },
  {
   "cell_type": "code",
   "execution_count": 7,
   "metadata": {},
   "outputs": [],
   "source": [
    "orders = pd.read_csv('/datasets/orders.csv')"
   ]
  },
  {
   "cell_type": "code",
   "execution_count": 8,
   "metadata": {},
   "outputs": [
    {
     "name": "stdout",
     "output_type": "stream",
     "text": [
      "Информация о колонках\n",
      "\n",
      "<class 'pandas.core.frame.DataFrame'>\n",
      "RangeIndex: 1197 entries, 0 to 1196\n",
      "Data columns (total 5 columns):\n",
      " #   Column         Non-Null Count  Dtype \n",
      "---  ------         --------------  ----- \n",
      " 0   transactionId  1197 non-null   int64 \n",
      " 1   visitorId      1197 non-null   int64 \n",
      " 2   date           1197 non-null   object\n",
      " 3   revenue        1197 non-null   int64 \n",
      " 4   group          1197 non-null   object\n",
      "dtypes: int64(3), object(2)\n",
      "memory usage: 46.9+ KB\n",
      "None\n",
      "\n",
      "Первые 5 строк\n"
     ]
    },
    {
     "data": {
      "text/html": [
       "<div>\n",
       "<style scoped>\n",
       "    .dataframe tbody tr th:only-of-type {\n",
       "        vertical-align: middle;\n",
       "    }\n",
       "\n",
       "    .dataframe tbody tr th {\n",
       "        vertical-align: top;\n",
       "    }\n",
       "\n",
       "    .dataframe thead th {\n",
       "        text-align: right;\n",
       "    }\n",
       "</style>\n",
       "<table border=\"1\" class=\"dataframe\">\n",
       "  <thead>\n",
       "    <tr style=\"text-align: right;\">\n",
       "      <th></th>\n",
       "      <th>transactionId</th>\n",
       "      <th>visitorId</th>\n",
       "      <th>date</th>\n",
       "      <th>revenue</th>\n",
       "      <th>group</th>\n",
       "    </tr>\n",
       "  </thead>\n",
       "  <tbody>\n",
       "    <tr>\n",
       "      <th>0</th>\n",
       "      <td>3667963787</td>\n",
       "      <td>3312258926</td>\n",
       "      <td>2019-08-15</td>\n",
       "      <td>1650</td>\n",
       "      <td>B</td>\n",
       "    </tr>\n",
       "    <tr>\n",
       "      <th>1</th>\n",
       "      <td>2804400009</td>\n",
       "      <td>3642806036</td>\n",
       "      <td>2019-08-15</td>\n",
       "      <td>730</td>\n",
       "      <td>B</td>\n",
       "    </tr>\n",
       "    <tr>\n",
       "      <th>2</th>\n",
       "      <td>2961555356</td>\n",
       "      <td>4069496402</td>\n",
       "      <td>2019-08-15</td>\n",
       "      <td>400</td>\n",
       "      <td>A</td>\n",
       "    </tr>\n",
       "    <tr>\n",
       "      <th>3</th>\n",
       "      <td>3797467345</td>\n",
       "      <td>1196621759</td>\n",
       "      <td>2019-08-15</td>\n",
       "      <td>9759</td>\n",
       "      <td>B</td>\n",
       "    </tr>\n",
       "    <tr>\n",
       "      <th>4</th>\n",
       "      <td>2282983706</td>\n",
       "      <td>2322279887</td>\n",
       "      <td>2019-08-15</td>\n",
       "      <td>2308</td>\n",
       "      <td>B</td>\n",
       "    </tr>\n",
       "  </tbody>\n",
       "</table>\n",
       "</div>"
      ],
      "text/plain": [
       "   transactionId   visitorId        date  revenue group\n",
       "0     3667963787  3312258926  2019-08-15     1650     B\n",
       "1     2804400009  3642806036  2019-08-15      730     B\n",
       "2     2961555356  4069496402  2019-08-15      400     A\n",
       "3     3797467345  1196621759  2019-08-15     9759     B\n",
       "4     2282983706  2322279887  2019-08-15     2308     B"
      ]
     },
     "metadata": {},
     "output_type": "display_data"
    },
    {
     "name": "stdout",
     "output_type": "stream",
     "text": [
      "\n",
      "Количество дубликатов в колонках\n"
     ]
    },
    {
     "data": {
      "text/plain": [
       "0"
      ]
     },
     "metadata": {},
     "output_type": "display_data"
    }
   ],
   "source": [
    "info_data(orders)"
   ]
  },
  {
   "cell_type": "code",
   "execution_count": 9,
   "metadata": {},
   "outputs": [],
   "source": [
    "#преобразуем столбец с датой в соответствующий тип:\n",
    "orders['date'] = orders['date'].map(lambda x: dt.datetime.strptime(x, '%Y-%m-%d'))"
   ]
  },
  {
   "cell_type": "code",
   "execution_count": 10,
   "metadata": {},
   "outputs": [],
   "source": [
    "#для удобства изменим названия некоторых столбцов:\n",
    "orders= orders.rename(columns={'transactionId':'transaction_id', 'visitorId':'visitor_id'})"
   ]
  },
  {
   "cell_type": "code",
   "execution_count": 11,
   "metadata": {},
   "outputs": [],
   "source": [
    "visitors =pd.read_csv('/datasets/visitors.csv')"
   ]
  },
  {
   "cell_type": "code",
   "execution_count": 12,
   "metadata": {},
   "outputs": [
    {
     "name": "stdout",
     "output_type": "stream",
     "text": [
      "Информация о колонках\n",
      "\n",
      "<class 'pandas.core.frame.DataFrame'>\n",
      "RangeIndex: 62 entries, 0 to 61\n",
      "Data columns (total 3 columns):\n",
      " #   Column    Non-Null Count  Dtype \n",
      "---  ------    --------------  ----- \n",
      " 0   date      62 non-null     object\n",
      " 1   group     62 non-null     object\n",
      " 2   visitors  62 non-null     int64 \n",
      "dtypes: int64(1), object(2)\n",
      "memory usage: 1.6+ KB\n",
      "None\n",
      "\n",
      "Первые 5 строк\n"
     ]
    },
    {
     "data": {
      "text/html": [
       "<div>\n",
       "<style scoped>\n",
       "    .dataframe tbody tr th:only-of-type {\n",
       "        vertical-align: middle;\n",
       "    }\n",
       "\n",
       "    .dataframe tbody tr th {\n",
       "        vertical-align: top;\n",
       "    }\n",
       "\n",
       "    .dataframe thead th {\n",
       "        text-align: right;\n",
       "    }\n",
       "</style>\n",
       "<table border=\"1\" class=\"dataframe\">\n",
       "  <thead>\n",
       "    <tr style=\"text-align: right;\">\n",
       "      <th></th>\n",
       "      <th>date</th>\n",
       "      <th>group</th>\n",
       "      <th>visitors</th>\n",
       "    </tr>\n",
       "  </thead>\n",
       "  <tbody>\n",
       "    <tr>\n",
       "      <th>0</th>\n",
       "      <td>2019-08-01</td>\n",
       "      <td>A</td>\n",
       "      <td>719</td>\n",
       "    </tr>\n",
       "    <tr>\n",
       "      <th>1</th>\n",
       "      <td>2019-08-02</td>\n",
       "      <td>A</td>\n",
       "      <td>619</td>\n",
       "    </tr>\n",
       "    <tr>\n",
       "      <th>2</th>\n",
       "      <td>2019-08-03</td>\n",
       "      <td>A</td>\n",
       "      <td>507</td>\n",
       "    </tr>\n",
       "    <tr>\n",
       "      <th>3</th>\n",
       "      <td>2019-08-04</td>\n",
       "      <td>A</td>\n",
       "      <td>717</td>\n",
       "    </tr>\n",
       "    <tr>\n",
       "      <th>4</th>\n",
       "      <td>2019-08-05</td>\n",
       "      <td>A</td>\n",
       "      <td>756</td>\n",
       "    </tr>\n",
       "  </tbody>\n",
       "</table>\n",
       "</div>"
      ],
      "text/plain": [
       "         date group  visitors\n",
       "0  2019-08-01     A       719\n",
       "1  2019-08-02     A       619\n",
       "2  2019-08-03     A       507\n",
       "3  2019-08-04     A       717\n",
       "4  2019-08-05     A       756"
      ]
     },
     "metadata": {},
     "output_type": "display_data"
    },
    {
     "name": "stdout",
     "output_type": "stream",
     "text": [
      "\n",
      "Количество дубликатов в колонках\n"
     ]
    },
    {
     "data": {
      "text/plain": [
       "0"
      ]
     },
     "metadata": {},
     "output_type": "display_data"
    }
   ],
   "source": [
    "info_data(visitors)"
   ]
  },
  {
   "cell_type": "code",
   "execution_count": 13,
   "metadata": {},
   "outputs": [],
   "source": [
    "#в этом датафрейме тоже преобразуем только столбец с датой:\n",
    "visitors['date'] = visitors['date'].map(lambda x: dt.datetime.strptime(x, '%Y-%m-%d'))"
   ]
  },
  {
   "cell_type": "markdown",
   "metadata": {},
   "source": [
    "### A/A тест"
   ]
  },
  {
   "cell_type": "markdown",
   "metadata": {},
   "source": [
    "Прежде чем проводить А/B-тест, нужно убедиться, что:\n",
    "- Количество пользователей в различных группах различается не более, чем на 1%;\n",
    "- Для всех групп фиксируют и отправляют в системы аналитики данные об одном и том же;\n",
    "- Различие ключевых метрик по группам не превышает 1% и не имеет статистической значимости;\n",
    "- Попавший в одну из групп посетитель остаётся в этой группе до конца теста. Если пользователь видит разные версии исследуемой страницы в ходе одного исследования, неизвестно, какая именно повлияла на его решения. Значит, и результаты такого теста нельзя интерпретировать однозначно."
   ]
  },
  {
   "cell_type": "markdown",
   "metadata": {},
   "source": [
    "В нашем датасете результаты уже совершенного теста, но некоторые из пунктов можно проверить. Например, количество пользователей и их уникальность:"
   ]
  },
  {
   "cell_type": "code",
   "execution_count": 14,
   "metadata": {},
   "outputs": [
    {
     "data": {
      "text/html": [
       "<div>\n",
       "<style scoped>\n",
       "    .dataframe tbody tr th:only-of-type {\n",
       "        vertical-align: middle;\n",
       "    }\n",
       "\n",
       "    .dataframe tbody tr th {\n",
       "        vertical-align: top;\n",
       "    }\n",
       "\n",
       "    .dataframe thead tr th {\n",
       "        text-align: left;\n",
       "    }\n",
       "\n",
       "    .dataframe thead tr:last-of-type th {\n",
       "        text-align: right;\n",
       "    }\n",
       "</style>\n",
       "<table border=\"1\" class=\"dataframe\">\n",
       "  <thead>\n",
       "    <tr>\n",
       "      <th></th>\n",
       "      <th colspan=\"2\" halign=\"left\">visitor_id</th>\n",
       "    </tr>\n",
       "    <tr>\n",
       "      <th></th>\n",
       "      <th>nunique</th>\n",
       "      <th>count</th>\n",
       "    </tr>\n",
       "    <tr>\n",
       "      <th>group</th>\n",
       "      <th></th>\n",
       "      <th></th>\n",
       "    </tr>\n",
       "  </thead>\n",
       "  <tbody>\n",
       "    <tr>\n",
       "      <th>A</th>\n",
       "      <td>503</td>\n",
       "      <td>557</td>\n",
       "    </tr>\n",
       "    <tr>\n",
       "      <th>B</th>\n",
       "      <td>586</td>\n",
       "      <td>640</td>\n",
       "    </tr>\n",
       "  </tbody>\n",
       "</table>\n",
       "</div>"
      ],
      "text/plain": [
       "      visitor_id      \n",
       "         nunique count\n",
       "group                 \n",
       "A            503   557\n",
       "B            586   640"
      ]
     },
     "execution_count": 14,
     "metadata": {},
     "output_type": "execute_result"
    }
   ],
   "source": [
    "orders.groupby('group').agg({'visitor_id':('nunique','count')})"
   ]
  },
  {
   "cell_type": "markdown",
   "metadata": {},
   "source": [
    "Таблица говорит, что есть в датафрейме неуникальные пользователи, которые попадают и в ту, и другую группы. "
   ]
  },
  {
   "cell_type": "code",
   "execution_count": 15,
   "metadata": {},
   "outputs": [
    {
     "data": {
      "text/plain": [
       "58"
      ]
     },
     "execution_count": 15,
     "metadata": {},
     "output_type": "execute_result"
    }
   ],
   "source": [
    "orders.groupby('visitor_id').agg({'group':'nunique'}).query('group>1').shape[0]"
   ]
  },
  {
   "cell_type": "markdown",
   "metadata": {},
   "source": [
    "58 пользователей попадают в обе контрольные группы теста. если бы мы были на реальном А/А этапе, лучше было бы их разделить, но так как в результаты таблицы visitors они уже попали, и их нельзя вычислить, там не указан ID пользователя, их придется оставить."
   ]
  },
  {
   "cell_type": "markdown",
   "metadata": {},
   "source": [
    "Результаты будущего теста нельзя будет оценить однозначно из-за наличия пересечений в пользователях между двумя контрольными группами."
   ]
  },
  {
   "cell_type": "markdown",
   "metadata": {},
   "source": [
    "### Фреймворк ICE"
   ]
  },
  {
   "cell_type": "code",
   "execution_count": 16,
   "metadata": {},
   "outputs": [
    {
     "data": {
      "text/html": [
       "<div>\n",
       "<style scoped>\n",
       "    .dataframe tbody tr th:only-of-type {\n",
       "        vertical-align: middle;\n",
       "    }\n",
       "\n",
       "    .dataframe tbody tr th {\n",
       "        vertical-align: top;\n",
       "    }\n",
       "\n",
       "    .dataframe thead th {\n",
       "        text-align: right;\n",
       "    }\n",
       "</style>\n",
       "<table border=\"1\" class=\"dataframe\">\n",
       "  <thead>\n",
       "    <tr style=\"text-align: right;\">\n",
       "      <th></th>\n",
       "      <th>hypothesis</th>\n",
       "      <th>reach</th>\n",
       "      <th>impact</th>\n",
       "      <th>confidence</th>\n",
       "      <th>efforts</th>\n",
       "      <th>ICE</th>\n",
       "    </tr>\n",
       "  </thead>\n",
       "  <tbody>\n",
       "    <tr>\n",
       "      <th>8</th>\n",
       "      <td>Запустить акцию, дающую скидку на товар в день рождения</td>\n",
       "      <td>1</td>\n",
       "      <td>9</td>\n",
       "      <td>9</td>\n",
       "      <td>5</td>\n",
       "      <td>16.20</td>\n",
       "    </tr>\n",
       "    <tr>\n",
       "      <th>0</th>\n",
       "      <td>Добавить два новых канала привлечения трафика, что позволит привлекать на 30% больше пользователей</td>\n",
       "      <td>3</td>\n",
       "      <td>10</td>\n",
       "      <td>8</td>\n",
       "      <td>6</td>\n",
       "      <td>13.33</td>\n",
       "    </tr>\n",
       "    <tr>\n",
       "      <th>7</th>\n",
       "      <td>Добавить форму подписки на все основные страницы, чтобы собрать базу клиентов для email-рассылок</td>\n",
       "      <td>10</td>\n",
       "      <td>7</td>\n",
       "      <td>8</td>\n",
       "      <td>5</td>\n",
       "      <td>11.20</td>\n",
       "    </tr>\n",
       "    <tr>\n",
       "      <th>6</th>\n",
       "      <td>Показать на главной странице баннеры с актуальными акциями и распродажами, чтобы увеличить конверсию</td>\n",
       "      <td>5</td>\n",
       "      <td>3</td>\n",
       "      <td>8</td>\n",
       "      <td>3</td>\n",
       "      <td>8.00</td>\n",
       "    </tr>\n",
       "    <tr>\n",
       "      <th>2</th>\n",
       "      <td>Добавить блоки рекомендаций товаров на сайт интернет магазина, чтобы повысить конверсию и средний чек заказа</td>\n",
       "      <td>8</td>\n",
       "      <td>3</td>\n",
       "      <td>7</td>\n",
       "      <td>3</td>\n",
       "      <td>7.00</td>\n",
       "    </tr>\n",
       "    <tr>\n",
       "      <th>1</th>\n",
       "      <td>Запустить собственную службу доставки, что сократит срок доставки заказов</td>\n",
       "      <td>2</td>\n",
       "      <td>5</td>\n",
       "      <td>4</td>\n",
       "      <td>10</td>\n",
       "      <td>2.00</td>\n",
       "    </tr>\n",
       "    <tr>\n",
       "      <th>5</th>\n",
       "      <td>Добавить страницу отзывов клиентов о магазине, что позволит увеличить количество заказов</td>\n",
       "      <td>3</td>\n",
       "      <td>2</td>\n",
       "      <td>2</td>\n",
       "      <td>3</td>\n",
       "      <td>1.33</td>\n",
       "    </tr>\n",
       "    <tr>\n",
       "      <th>3</th>\n",
       "      <td>Изменить структура категорий, что увеличит конверсию, т.к. пользователи быстрее найдут нужный товар</td>\n",
       "      <td>8</td>\n",
       "      <td>3</td>\n",
       "      <td>3</td>\n",
       "      <td>8</td>\n",
       "      <td>1.12</td>\n",
       "    </tr>\n",
       "    <tr>\n",
       "      <th>4</th>\n",
       "      <td>Изменить цвет фона главной страницы, чтобы увеличить вовлеченность пользователей</td>\n",
       "      <td>3</td>\n",
       "      <td>1</td>\n",
       "      <td>1</td>\n",
       "      <td>1</td>\n",
       "      <td>1.00</td>\n",
       "    </tr>\n",
       "  </tbody>\n",
       "</table>\n",
       "</div>"
      ],
      "text/plain": [
       "                                                                                                     hypothesis  \\\n",
       "8                                                       Запустить акцию, дающую скидку на товар в день рождения   \n",
       "0            Добавить два новых канала привлечения трафика, что позволит привлекать на 30% больше пользователей   \n",
       "7              Добавить форму подписки на все основные страницы, чтобы собрать базу клиентов для email-рассылок   \n",
       "6          Показать на главной странице баннеры с актуальными акциями и распродажами, чтобы увеличить конверсию   \n",
       "2  Добавить блоки рекомендаций товаров на сайт интернет магазина, чтобы повысить конверсию и средний чек заказа   \n",
       "1                                     Запустить собственную службу доставки, что сократит срок доставки заказов   \n",
       "5                      Добавить страницу отзывов клиентов о магазине, что позволит увеличить количество заказов   \n",
       "3           Изменить структура категорий, что увеличит конверсию, т.к. пользователи быстрее найдут нужный товар   \n",
       "4                              Изменить цвет фона главной страницы, чтобы увеличить вовлеченность пользователей   \n",
       "\n",
       "   reach  impact  confidence  efforts   ICE  \n",
       "8      1       9           9        5 16.20  \n",
       "0      3      10           8        6 13.33  \n",
       "7     10       7           8        5 11.20  \n",
       "6      5       3           8        3  8.00  \n",
       "2      8       3           7        3  7.00  \n",
       "1      2       5           4       10  2.00  \n",
       "5      3       2           2        3  1.33  \n",
       "3      8       3           3        8  1.12  \n",
       "4      3       1           1        1  1.00  "
      ]
     },
     "execution_count": 16,
     "metadata": {},
     "output_type": "execute_result"
    }
   ],
   "source": [
    "hypothesis['ICE']= hypothesis['impact']*hypothesis['confidence']/hypothesis['efforts']\n",
    "hypothesis.sort_values('ICE', ascending=False)"
   ]
  },
  {
   "cell_type": "markdown",
   "metadata": {},
   "source": [
    "**ICE выше всех у гипотезы о запуске акции, дающей скидку на товар в честь дня рождения. Такая акция способна увеличить лояльность пользователей и , теоретически, конверсию, если пропушить накануне уведомление.**"
   ]
  },
  {
   "cell_type": "markdown",
   "metadata": {},
   "source": [
    "### Фреймворк RICE"
   ]
  },
  {
   "cell_type": "code",
   "execution_count": 17,
   "metadata": {},
   "outputs": [
    {
     "data": {
      "text/html": [
       "<div>\n",
       "<style scoped>\n",
       "    .dataframe tbody tr th:only-of-type {\n",
       "        vertical-align: middle;\n",
       "    }\n",
       "\n",
       "    .dataframe tbody tr th {\n",
       "        vertical-align: top;\n",
       "    }\n",
       "\n",
       "    .dataframe thead th {\n",
       "        text-align: right;\n",
       "    }\n",
       "</style>\n",
       "<table border=\"1\" class=\"dataframe\">\n",
       "  <thead>\n",
       "    <tr style=\"text-align: right;\">\n",
       "      <th></th>\n",
       "      <th>hypothesis</th>\n",
       "      <th>reach</th>\n",
       "      <th>impact</th>\n",
       "      <th>confidence</th>\n",
       "      <th>efforts</th>\n",
       "      <th>ICE</th>\n",
       "      <th>RICE</th>\n",
       "    </tr>\n",
       "  </thead>\n",
       "  <tbody>\n",
       "    <tr>\n",
       "      <th>7</th>\n",
       "      <td>Добавить форму подписки на все основные страницы, чтобы собрать базу клиентов для email-рассылок</td>\n",
       "      <td>10</td>\n",
       "      <td>7</td>\n",
       "      <td>8</td>\n",
       "      <td>5</td>\n",
       "      <td>11.20</td>\n",
       "      <td>112.00</td>\n",
       "    </tr>\n",
       "    <tr>\n",
       "      <th>2</th>\n",
       "      <td>Добавить блоки рекомендаций товаров на сайт интернет магазина, чтобы повысить конверсию и средний чек заказа</td>\n",
       "      <td>8</td>\n",
       "      <td>3</td>\n",
       "      <td>7</td>\n",
       "      <td>3</td>\n",
       "      <td>7.00</td>\n",
       "      <td>56.00</td>\n",
       "    </tr>\n",
       "    <tr>\n",
       "      <th>0</th>\n",
       "      <td>Добавить два новых канала привлечения трафика, что позволит привлекать на 30% больше пользователей</td>\n",
       "      <td>3</td>\n",
       "      <td>10</td>\n",
       "      <td>8</td>\n",
       "      <td>6</td>\n",
       "      <td>13.33</td>\n",
       "      <td>40.00</td>\n",
       "    </tr>\n",
       "    <tr>\n",
       "      <th>6</th>\n",
       "      <td>Показать на главной странице баннеры с актуальными акциями и распродажами, чтобы увеличить конверсию</td>\n",
       "      <td>5</td>\n",
       "      <td>3</td>\n",
       "      <td>8</td>\n",
       "      <td>3</td>\n",
       "      <td>8.00</td>\n",
       "      <td>40.00</td>\n",
       "    </tr>\n",
       "    <tr>\n",
       "      <th>8</th>\n",
       "      <td>Запустить акцию, дающую скидку на товар в день рождения</td>\n",
       "      <td>1</td>\n",
       "      <td>9</td>\n",
       "      <td>9</td>\n",
       "      <td>5</td>\n",
       "      <td>16.20</td>\n",
       "      <td>16.20</td>\n",
       "    </tr>\n",
       "    <tr>\n",
       "      <th>3</th>\n",
       "      <td>Изменить структура категорий, что увеличит конверсию, т.к. пользователи быстрее найдут нужный товар</td>\n",
       "      <td>8</td>\n",
       "      <td>3</td>\n",
       "      <td>3</td>\n",
       "      <td>8</td>\n",
       "      <td>1.12</td>\n",
       "      <td>9.00</td>\n",
       "    </tr>\n",
       "    <tr>\n",
       "      <th>1</th>\n",
       "      <td>Запустить собственную службу доставки, что сократит срок доставки заказов</td>\n",
       "      <td>2</td>\n",
       "      <td>5</td>\n",
       "      <td>4</td>\n",
       "      <td>10</td>\n",
       "      <td>2.00</td>\n",
       "      <td>4.00</td>\n",
       "    </tr>\n",
       "    <tr>\n",
       "      <th>5</th>\n",
       "      <td>Добавить страницу отзывов клиентов о магазине, что позволит увеличить количество заказов</td>\n",
       "      <td>3</td>\n",
       "      <td>2</td>\n",
       "      <td>2</td>\n",
       "      <td>3</td>\n",
       "      <td>1.33</td>\n",
       "      <td>4.00</td>\n",
       "    </tr>\n",
       "    <tr>\n",
       "      <th>4</th>\n",
       "      <td>Изменить цвет фона главной страницы, чтобы увеличить вовлеченность пользователей</td>\n",
       "      <td>3</td>\n",
       "      <td>1</td>\n",
       "      <td>1</td>\n",
       "      <td>1</td>\n",
       "      <td>1.00</td>\n",
       "      <td>3.00</td>\n",
       "    </tr>\n",
       "  </tbody>\n",
       "</table>\n",
       "</div>"
      ],
      "text/plain": [
       "                                                                                                     hypothesis  \\\n",
       "7              Добавить форму подписки на все основные страницы, чтобы собрать базу клиентов для email-рассылок   \n",
       "2  Добавить блоки рекомендаций товаров на сайт интернет магазина, чтобы повысить конверсию и средний чек заказа   \n",
       "0            Добавить два новых канала привлечения трафика, что позволит привлекать на 30% больше пользователей   \n",
       "6          Показать на главной странице баннеры с актуальными акциями и распродажами, чтобы увеличить конверсию   \n",
       "8                                                       Запустить акцию, дающую скидку на товар в день рождения   \n",
       "3           Изменить структура категорий, что увеличит конверсию, т.к. пользователи быстрее найдут нужный товар   \n",
       "1                                     Запустить собственную службу доставки, что сократит срок доставки заказов   \n",
       "5                      Добавить страницу отзывов клиентов о магазине, что позволит увеличить количество заказов   \n",
       "4                              Изменить цвет фона главной страницы, чтобы увеличить вовлеченность пользователей   \n",
       "\n",
       "   reach  impact  confidence  efforts   ICE   RICE  \n",
       "7     10       7           8        5 11.20 112.00  \n",
       "2      8       3           7        3  7.00  56.00  \n",
       "0      3      10           8        6 13.33  40.00  \n",
       "6      5       3           8        3  8.00  40.00  \n",
       "8      1       9           9        5 16.20  16.20  \n",
       "3      8       3           3        8  1.12   9.00  \n",
       "1      2       5           4       10  2.00   4.00  \n",
       "5      3       2           2        3  1.33   4.00  \n",
       "4      3       1           1        1  1.00   3.00  "
      ]
     },
     "execution_count": 17,
     "metadata": {},
     "output_type": "execute_result"
    }
   ],
   "source": [
    "hypothesis['RICE']= hypothesis['reach']*hypothesis['impact']*hypothesis['confidence']/hypothesis['efforts']\n",
    "hypothesis.sort_values('RICE', ascending=False)"
   ]
  },
  {
   "cell_type": "code",
   "execution_count": 18,
   "metadata": {},
   "outputs": [
    {
     "data": {
      "text/html": [
       "<style  type=\"text/css\" >\n",
       "#T_15e6b_row0_col1,#T_15e6b_row4_col2{\n",
       "            background-color:  #0000ff;\n",
       "            color:  #f1f1f1;\n",
       "        }#T_15e6b_row0_col2{\n",
       "            background-color:  #5050fb;\n",
       "            color:  #f1f1f1;\n",
       "        }#T_15e6b_row1_col1{\n",
       "            background-color:  #7c7cf9;\n",
       "            color:  #000000;\n",
       "        }#T_15e6b_row1_col2{\n",
       "            background-color:  #9090f8;\n",
       "            color:  #000000;\n",
       "        }#T_15e6b_row2_col1,#T_15e6b_row3_col1{\n",
       "            background-color:  #9f9ff7;\n",
       "            color:  #000000;\n",
       "        }#T_15e6b_row2_col2{\n",
       "            background-color:  #3030fd;\n",
       "            color:  #f1f1f1;\n",
       "        }#T_15e6b_row3_col2{\n",
       "            background-color:  #8080f8;\n",
       "            color:  #000000;\n",
       "        }#T_15e6b_row4_col1{\n",
       "            background-color:  #d4d4f4;\n",
       "            color:  #000000;\n",
       "        }#T_15e6b_row5_col1{\n",
       "            background-color:  #e3e3f3;\n",
       "            color:  #000000;\n",
       "        }#T_15e6b_row5_col2,#T_15e6b_row7_col2,#T_15e6b_row8_col1,#T_15e6b_row8_col2{\n",
       "            background-color:  #f0f0f3;\n",
       "            color:  #000000;\n",
       "        }#T_15e6b_row6_col1,#T_15e6b_row7_col1{\n",
       "            background-color:  #efeff3;\n",
       "            color:  #000000;\n",
       "        }#T_15e6b_row6_col2{\n",
       "            background-color:  #e0e0f4;\n",
       "            color:  #000000;\n",
       "        }</style><table id=\"T_15e6b_\" ><thead>    <tr>        <th class=\"blank level0\" ></th>        <th class=\"col_heading level0 col0\" >hypothesis</th>        <th class=\"col_heading level0 col1\" >RICE</th>        <th class=\"col_heading level0 col2\" >ICE</th>    </tr></thead><tbody>\n",
       "                <tr>\n",
       "                        <th id=\"T_15e6b_level0_row0\" class=\"row_heading level0 row0\" >7</th>\n",
       "                        <td id=\"T_15e6b_row0_col0\" class=\"data row0 col0\" >Добавить форму подписки на все основные страницы, чтобы собрать базу клиентов для email-рассылок</td>\n",
       "                        <td id=\"T_15e6b_row0_col1\" class=\"data row0 col1\" >112</td>\n",
       "                        <td id=\"T_15e6b_row0_col2\" class=\"data row0 col2\" >11</td>\n",
       "            </tr>\n",
       "            <tr>\n",
       "                        <th id=\"T_15e6b_level0_row1\" class=\"row_heading level0 row1\" >2</th>\n",
       "                        <td id=\"T_15e6b_row1_col0\" class=\"data row1 col0\" >Добавить блоки рекомендаций товаров на сайт интернет магазина, чтобы повысить конверсию и средний чек заказа</td>\n",
       "                        <td id=\"T_15e6b_row1_col1\" class=\"data row1 col1\" >56</td>\n",
       "                        <td id=\"T_15e6b_row1_col2\" class=\"data row1 col2\" >7</td>\n",
       "            </tr>\n",
       "            <tr>\n",
       "                        <th id=\"T_15e6b_level0_row2\" class=\"row_heading level0 row2\" >0</th>\n",
       "                        <td id=\"T_15e6b_row2_col0\" class=\"data row2 col0\" >Добавить два новых канала привлечения трафика, что позволит привлекать на 30% больше пользователей</td>\n",
       "                        <td id=\"T_15e6b_row2_col1\" class=\"data row2 col1\" >40</td>\n",
       "                        <td id=\"T_15e6b_row2_col2\" class=\"data row2 col2\" >13</td>\n",
       "            </tr>\n",
       "            <tr>\n",
       "                        <th id=\"T_15e6b_level0_row3\" class=\"row_heading level0 row3\" >6</th>\n",
       "                        <td id=\"T_15e6b_row3_col0\" class=\"data row3 col0\" >Показать на главной странице баннеры с актуальными акциями и распродажами, чтобы увеличить конверсию</td>\n",
       "                        <td id=\"T_15e6b_row3_col1\" class=\"data row3 col1\" >40</td>\n",
       "                        <td id=\"T_15e6b_row3_col2\" class=\"data row3 col2\" >8</td>\n",
       "            </tr>\n",
       "            <tr>\n",
       "                        <th id=\"T_15e6b_level0_row4\" class=\"row_heading level0 row4\" >8</th>\n",
       "                        <td id=\"T_15e6b_row4_col0\" class=\"data row4 col0\" >Запустить акцию, дающую скидку на товар в день рождения</td>\n",
       "                        <td id=\"T_15e6b_row4_col1\" class=\"data row4 col1\" >16</td>\n",
       "                        <td id=\"T_15e6b_row4_col2\" class=\"data row4 col2\" >16</td>\n",
       "            </tr>\n",
       "            <tr>\n",
       "                        <th id=\"T_15e6b_level0_row5\" class=\"row_heading level0 row5\" >3</th>\n",
       "                        <td id=\"T_15e6b_row5_col0\" class=\"data row5 col0\" >Изменить структура категорий, что увеличит конверсию, т.к. пользователи быстрее найдут нужный товар</td>\n",
       "                        <td id=\"T_15e6b_row5_col1\" class=\"data row5 col1\" >9</td>\n",
       "                        <td id=\"T_15e6b_row5_col2\" class=\"data row5 col2\" >1</td>\n",
       "            </tr>\n",
       "            <tr>\n",
       "                        <th id=\"T_15e6b_level0_row6\" class=\"row_heading level0 row6\" >1</th>\n",
       "                        <td id=\"T_15e6b_row6_col0\" class=\"data row6 col0\" >Запустить собственную службу доставки, что сократит срок доставки заказов</td>\n",
       "                        <td id=\"T_15e6b_row6_col1\" class=\"data row6 col1\" >4</td>\n",
       "                        <td id=\"T_15e6b_row6_col2\" class=\"data row6 col2\" >2</td>\n",
       "            </tr>\n",
       "            <tr>\n",
       "                        <th id=\"T_15e6b_level0_row7\" class=\"row_heading level0 row7\" >5</th>\n",
       "                        <td id=\"T_15e6b_row7_col0\" class=\"data row7 col0\" >Добавить страницу отзывов клиентов о магазине, что позволит увеличить количество заказов</td>\n",
       "                        <td id=\"T_15e6b_row7_col1\" class=\"data row7 col1\" >4</td>\n",
       "                        <td id=\"T_15e6b_row7_col2\" class=\"data row7 col2\" >1</td>\n",
       "            </tr>\n",
       "            <tr>\n",
       "                        <th id=\"T_15e6b_level0_row8\" class=\"row_heading level0 row8\" >4</th>\n",
       "                        <td id=\"T_15e6b_row8_col0\" class=\"data row8 col0\" >Изменить цвет фона главной страницы, чтобы увеличить вовлеченность пользователей</td>\n",
       "                        <td id=\"T_15e6b_row8_col1\" class=\"data row8 col1\" >3</td>\n",
       "                        <td id=\"T_15e6b_row8_col2\" class=\"data row8 col2\" >1</td>\n",
       "            </tr>\n",
       "    </tbody></table>"
      ],
      "text/plain": [
       "<pandas.io.formats.style.Styler at 0x7fa36bd1fbb0>"
      ]
     },
     "execution_count": 18,
     "metadata": {},
     "output_type": "execute_result"
    }
   ],
   "source": [
    "#нашла интересный способ приоритизирования гипотез при помощи окрашивания градиентом:\n",
    "hypothesis['RICE']=hypothesis['RICE'].astype(int)\n",
    "hypothesis['ICE']=hypothesis['ICE'].astype(int)\n",
    "cm=sns.light_palette(\"blue\", as_cmap=True)\n",
    "hypothesis[['hypothesis', 'RICE', 'ICE']].sort_values(by=['RICE', 'ICE'], ascending=False).style.background_gradient(cmap=cm)"
   ]
  },
  {
   "cell_type": "markdown",
   "metadata": {},
   "source": [
    "**RICE выше всех у гипотезы о добавлении формы подписки на все основные страницы, чтобы собрать базу клиентов для email-рассылок. Без актуальной базы рассылок клиенты могут не узнать о всех акциях и персональных скидках.**"
   ]
  },
  {
   "cell_type": "markdown",
   "metadata": {},
   "source": [
    "### Вывод"
   ]
  },
  {
   "cell_type": "markdown",
   "metadata": {},
   "source": [
    "Разница в приоритетных гипотезах обусловлена применяемыми фреймворками: RICE учитывает дополнительный показатель 'Reach', который отвечает за охват пользователей. Считаю, что гипотеза по RICE наиболее приоритетна, так как чем полнее база данных, тем шире круг проинформированных о продукте пользователей, следовательно, будут лучше  пользовательские метрики в перспективе (удержание, конверсия, средний чек и LTV)."
   ]
  },
  {
   "cell_type": "markdown",
   "metadata": {},
   "source": [
    "## Анализ A/B-теста"
   ]
  },
  {
   "cell_type": "markdown",
   "metadata": {},
   "source": [
    "Сначала посмотрим на различия основных показателей двух групп, таких как количество посещений и количество заказов:"
   ]
  },
  {
   "cell_type": "markdown",
   "metadata": {},
   "source": [
    "**Группа А**"
   ]
  },
  {
   "cell_type": "code",
   "execution_count": 19,
   "metadata": {},
   "outputs": [
    {
     "name": "stdout",
     "output_type": "stream",
     "text": [
      "Посещения- 18736\n",
      "Заказы- 557\n"
     ]
    }
   ],
   "source": [
    "print('Посещения-', visitors.query('group==\"A\"')['visitors'].sum())\n",
    "print('Заказы-', orders.query('group==\"A\"')['transaction_id'].nunique())"
   ]
  },
  {
   "cell_type": "markdown",
   "metadata": {},
   "source": [
    "**Группа B**"
   ]
  },
  {
   "cell_type": "code",
   "execution_count": 20,
   "metadata": {},
   "outputs": [
    {
     "name": "stdout",
     "output_type": "stream",
     "text": [
      "Посещения- 18916\n",
      "Заказы- 640\n"
     ]
    }
   ],
   "source": [
    "print('Посещения-', visitors.query('group==\"B\"')['visitors'].sum())\n",
    "print('Заказы-', orders.query('group==\"B\"')['transaction_id'].nunique())"
   ]
  },
  {
   "cell_type": "markdown",
   "metadata": {},
   "source": [
    "### График кумулятивной выручки по группам:"
   ]
  },
  {
   "cell_type": "code",
   "execution_count": 21,
   "metadata": {},
   "outputs": [],
   "source": [
    "#создаем таблицу суммарной выручки заказов  в группе теста по указанную дату включительно.\n",
    "datesGroups = orders[['date', 'group']].drop_duplicates()\n",
    "\n",
    "ordersAggregated = datesGroups.apply(\n",
    "    lambda x: orders[\n",
    "        np.logical_and(\n",
    "            orders['date'] <= x['date'], orders['group'] == x['group']\n",
    "        )\n",
    "    ].agg(\n",
    "        {\n",
    "            'date': 'max',\n",
    "            'group': 'max',\n",
    "            'transaction_id': 'nunique',\n",
    "            'visitor_id': 'nunique',\n",
    "            'revenue': 'sum',\n",
    "        }\n",
    "    ),\n",
    "    axis=1,\n",
    ").sort_values(by=['date', 'group'])"
   ]
  },
  {
   "cell_type": "code",
   "execution_count": 22,
   "metadata": {},
   "outputs": [
    {
     "data": {
      "text/html": [
       "<div>\n",
       "<style scoped>\n",
       "    .dataframe tbody tr th:only-of-type {\n",
       "        vertical-align: middle;\n",
       "    }\n",
       "\n",
       "    .dataframe tbody tr th {\n",
       "        vertical-align: top;\n",
       "    }\n",
       "\n",
       "    .dataframe thead th {\n",
       "        text-align: right;\n",
       "    }\n",
       "</style>\n",
       "<table border=\"1\" class=\"dataframe\">\n",
       "  <thead>\n",
       "    <tr style=\"text-align: right;\">\n",
       "      <th></th>\n",
       "      <th>date</th>\n",
       "      <th>group</th>\n",
       "      <th>transaction_id</th>\n",
       "      <th>visitor_id</th>\n",
       "      <th>revenue</th>\n",
       "    </tr>\n",
       "  </thead>\n",
       "  <tbody>\n",
       "    <tr>\n",
       "      <th>55</th>\n",
       "      <td>2019-08-01</td>\n",
       "      <td>A</td>\n",
       "      <td>24</td>\n",
       "      <td>20</td>\n",
       "      <td>148579</td>\n",
       "    </tr>\n",
       "    <tr>\n",
       "      <th>66</th>\n",
       "      <td>2019-08-01</td>\n",
       "      <td>B</td>\n",
       "      <td>21</td>\n",
       "      <td>20</td>\n",
       "      <td>101217</td>\n",
       "    </tr>\n",
       "    <tr>\n",
       "      <th>175</th>\n",
       "      <td>2019-08-02</td>\n",
       "      <td>A</td>\n",
       "      <td>44</td>\n",
       "      <td>38</td>\n",
       "      <td>242401</td>\n",
       "    </tr>\n",
       "    <tr>\n",
       "      <th>173</th>\n",
       "      <td>2019-08-02</td>\n",
       "      <td>B</td>\n",
       "      <td>45</td>\n",
       "      <td>43</td>\n",
       "      <td>266748</td>\n",
       "    </tr>\n",
       "    <tr>\n",
       "      <th>291</th>\n",
       "      <td>2019-08-03</td>\n",
       "      <td>A</td>\n",
       "      <td>68</td>\n",
       "      <td>62</td>\n",
       "      <td>354874</td>\n",
       "    </tr>\n",
       "    <tr>\n",
       "      <th>...</th>\n",
       "      <td>...</td>\n",
       "      <td>...</td>\n",
       "      <td>...</td>\n",
       "      <td>...</td>\n",
       "      <td>...</td>\n",
       "    </tr>\n",
       "    <tr>\n",
       "      <th>496</th>\n",
       "      <td>2019-08-29</td>\n",
       "      <td>B</td>\n",
       "      <td>596</td>\n",
       "      <td>544</td>\n",
       "      <td>5559398</td>\n",
       "    </tr>\n",
       "    <tr>\n",
       "      <th>730</th>\n",
       "      <td>2019-08-30</td>\n",
       "      <td>A</td>\n",
       "      <td>545</td>\n",
       "      <td>493</td>\n",
       "      <td>4022970</td>\n",
       "    </tr>\n",
       "    <tr>\n",
       "      <th>690</th>\n",
       "      <td>2019-08-30</td>\n",
       "      <td>B</td>\n",
       "      <td>620</td>\n",
       "      <td>567</td>\n",
       "      <td>5774631</td>\n",
       "    </tr>\n",
       "    <tr>\n",
       "      <th>958</th>\n",
       "      <td>2019-08-31</td>\n",
       "      <td>A</td>\n",
       "      <td>557</td>\n",
       "      <td>503</td>\n",
       "      <td>4084803</td>\n",
       "    </tr>\n",
       "    <tr>\n",
       "      <th>930</th>\n",
       "      <td>2019-08-31</td>\n",
       "      <td>B</td>\n",
       "      <td>640</td>\n",
       "      <td>586</td>\n",
       "      <td>5907760</td>\n",
       "    </tr>\n",
       "  </tbody>\n",
       "</table>\n",
       "<p>62 rows × 5 columns</p>\n",
       "</div>"
      ],
      "text/plain": [
       "          date group  transaction_id  visitor_id  revenue\n",
       "55  2019-08-01     A              24          20   148579\n",
       "66  2019-08-01     B              21          20   101217\n",
       "175 2019-08-02     A              44          38   242401\n",
       "173 2019-08-02     B              45          43   266748\n",
       "291 2019-08-03     A              68          62   354874\n",
       "..         ...   ...             ...         ...      ...\n",
       "496 2019-08-29     B             596         544  5559398\n",
       "730 2019-08-30     A             545         493  4022970\n",
       "690 2019-08-30     B             620         567  5774631\n",
       "958 2019-08-31     A             557         503  4084803\n",
       "930 2019-08-31     B             640         586  5907760\n",
       "\n",
       "[62 rows x 5 columns]"
      ]
     },
     "execution_count": 22,
     "metadata": {},
     "output_type": "execute_result"
    }
   ],
   "source": [
    "ordersAggregated"
   ]
  },
  {
   "cell_type": "code",
   "execution_count": 23,
   "metadata": {},
   "outputs": [],
   "source": [
    "#подготовим таблицу, содержащую количество уникальных посетителей в группе теста по указанную дату включительно:\n",
    "visitorsAggregated = datesGroups.apply(\n",
    "    lambda x: visitors[\n",
    "        np.logical_and(\n",
    "            visitors['date'] <= x['date'], visitors['group'] == x['group']\n",
    "        )\n",
    "    ].agg({'date': 'max', 'group': 'max', 'visitors': 'sum'}),\n",
    "    axis=1,\n",
    ").sort_values(by=['date', 'group'])\n"
   ]
  },
  {
   "cell_type": "code",
   "execution_count": 24,
   "metadata": {},
   "outputs": [
    {
     "data": {
      "text/html": [
       "<div>\n",
       "<style scoped>\n",
       "    .dataframe tbody tr th:only-of-type {\n",
       "        vertical-align: middle;\n",
       "    }\n",
       "\n",
       "    .dataframe tbody tr th {\n",
       "        vertical-align: top;\n",
       "    }\n",
       "\n",
       "    .dataframe thead th {\n",
       "        text-align: right;\n",
       "    }\n",
       "</style>\n",
       "<table border=\"1\" class=\"dataframe\">\n",
       "  <thead>\n",
       "    <tr style=\"text-align: right;\">\n",
       "      <th></th>\n",
       "      <th>date</th>\n",
       "      <th>group</th>\n",
       "      <th>visitors</th>\n",
       "    </tr>\n",
       "  </thead>\n",
       "  <tbody>\n",
       "    <tr>\n",
       "      <th>55</th>\n",
       "      <td>2019-08-01</td>\n",
       "      <td>A</td>\n",
       "      <td>719</td>\n",
       "    </tr>\n",
       "    <tr>\n",
       "      <th>66</th>\n",
       "      <td>2019-08-01</td>\n",
       "      <td>B</td>\n",
       "      <td>713</td>\n",
       "    </tr>\n",
       "    <tr>\n",
       "      <th>175</th>\n",
       "      <td>2019-08-02</td>\n",
       "      <td>A</td>\n",
       "      <td>1338</td>\n",
       "    </tr>\n",
       "    <tr>\n",
       "      <th>173</th>\n",
       "      <td>2019-08-02</td>\n",
       "      <td>B</td>\n",
       "      <td>1294</td>\n",
       "    </tr>\n",
       "    <tr>\n",
       "      <th>291</th>\n",
       "      <td>2019-08-03</td>\n",
       "      <td>A</td>\n",
       "      <td>1845</td>\n",
       "    </tr>\n",
       "    <tr>\n",
       "      <th>...</th>\n",
       "      <td>...</td>\n",
       "      <td>...</td>\n",
       "      <td>...</td>\n",
       "    </tr>\n",
       "    <tr>\n",
       "      <th>496</th>\n",
       "      <td>2019-08-29</td>\n",
       "      <td>B</td>\n",
       "      <td>17708</td>\n",
       "    </tr>\n",
       "    <tr>\n",
       "      <th>730</th>\n",
       "      <td>2019-08-30</td>\n",
       "      <td>A</td>\n",
       "      <td>18037</td>\n",
       "    </tr>\n",
       "    <tr>\n",
       "      <th>690</th>\n",
       "      <td>2019-08-30</td>\n",
       "      <td>B</td>\n",
       "      <td>18198</td>\n",
       "    </tr>\n",
       "    <tr>\n",
       "      <th>958</th>\n",
       "      <td>2019-08-31</td>\n",
       "      <td>A</td>\n",
       "      <td>18736</td>\n",
       "    </tr>\n",
       "    <tr>\n",
       "      <th>930</th>\n",
       "      <td>2019-08-31</td>\n",
       "      <td>B</td>\n",
       "      <td>18916</td>\n",
       "    </tr>\n",
       "  </tbody>\n",
       "</table>\n",
       "<p>62 rows × 3 columns</p>\n",
       "</div>"
      ],
      "text/plain": [
       "          date group  visitors\n",
       "55  2019-08-01     A       719\n",
       "66  2019-08-01     B       713\n",
       "175 2019-08-02     A      1338\n",
       "173 2019-08-02     B      1294\n",
       "291 2019-08-03     A      1845\n",
       "..         ...   ...       ...\n",
       "496 2019-08-29     B     17708\n",
       "730 2019-08-30     A     18037\n",
       "690 2019-08-30     B     18198\n",
       "958 2019-08-31     A     18736\n",
       "930 2019-08-31     B     18916\n",
       "\n",
       "[62 rows x 3 columns]"
      ]
     },
     "execution_count": 24,
     "metadata": {},
     "output_type": "execute_result"
    }
   ],
   "source": [
    "visitorsAggregated"
   ]
  },
  {
   "cell_type": "code",
   "execution_count": 25,
   "metadata": {},
   "outputs": [],
   "source": [
    "#объединяем две полученные таблицы в 1 по дате и группе:\n",
    "cumulativeData = ordersAggregated.merge(\n",
    "    visitorsAggregated, left_on=['date', 'group'], right_on=['date', 'group']\n",
    ")\n",
    "cumulativeData.columns = [\n",
    "    'date',\n",
    "    'group',\n",
    "    'orders',\n",
    "    'buyers',\n",
    "    'revenue',\n",
    "    'visitors',\n",
    "]\n"
   ]
  },
  {
   "cell_type": "code",
   "execution_count": 26,
   "metadata": {},
   "outputs": [
    {
     "data": {
      "text/html": [
       "<div>\n",
       "<style scoped>\n",
       "    .dataframe tbody tr th:only-of-type {\n",
       "        vertical-align: middle;\n",
       "    }\n",
       "\n",
       "    .dataframe tbody tr th {\n",
       "        vertical-align: top;\n",
       "    }\n",
       "\n",
       "    .dataframe thead th {\n",
       "        text-align: right;\n",
       "    }\n",
       "</style>\n",
       "<table border=\"1\" class=\"dataframe\">\n",
       "  <thead>\n",
       "    <tr style=\"text-align: right;\">\n",
       "      <th></th>\n",
       "      <th>date</th>\n",
       "      <th>group</th>\n",
       "      <th>orders</th>\n",
       "      <th>buyers</th>\n",
       "      <th>revenue</th>\n",
       "      <th>visitors</th>\n",
       "    </tr>\n",
       "  </thead>\n",
       "  <tbody>\n",
       "    <tr>\n",
       "      <th>0</th>\n",
       "      <td>2019-08-01</td>\n",
       "      <td>A</td>\n",
       "      <td>24</td>\n",
       "      <td>20</td>\n",
       "      <td>148579</td>\n",
       "      <td>719</td>\n",
       "    </tr>\n",
       "    <tr>\n",
       "      <th>1</th>\n",
       "      <td>2019-08-01</td>\n",
       "      <td>B</td>\n",
       "      <td>21</td>\n",
       "      <td>20</td>\n",
       "      <td>101217</td>\n",
       "      <td>713</td>\n",
       "    </tr>\n",
       "    <tr>\n",
       "      <th>2</th>\n",
       "      <td>2019-08-02</td>\n",
       "      <td>A</td>\n",
       "      <td>44</td>\n",
       "      <td>38</td>\n",
       "      <td>242401</td>\n",
       "      <td>1338</td>\n",
       "    </tr>\n",
       "    <tr>\n",
       "      <th>3</th>\n",
       "      <td>2019-08-02</td>\n",
       "      <td>B</td>\n",
       "      <td>45</td>\n",
       "      <td>43</td>\n",
       "      <td>266748</td>\n",
       "      <td>1294</td>\n",
       "    </tr>\n",
       "    <tr>\n",
       "      <th>4</th>\n",
       "      <td>2019-08-03</td>\n",
       "      <td>A</td>\n",
       "      <td>68</td>\n",
       "      <td>62</td>\n",
       "      <td>354874</td>\n",
       "      <td>1845</td>\n",
       "    </tr>\n",
       "    <tr>\n",
       "      <th>...</th>\n",
       "      <td>...</td>\n",
       "      <td>...</td>\n",
       "      <td>...</td>\n",
       "      <td>...</td>\n",
       "      <td>...</td>\n",
       "      <td>...</td>\n",
       "    </tr>\n",
       "    <tr>\n",
       "      <th>57</th>\n",
       "      <td>2019-08-29</td>\n",
       "      <td>B</td>\n",
       "      <td>596</td>\n",
       "      <td>544</td>\n",
       "      <td>5559398</td>\n",
       "      <td>17708</td>\n",
       "    </tr>\n",
       "    <tr>\n",
       "      <th>58</th>\n",
       "      <td>2019-08-30</td>\n",
       "      <td>A</td>\n",
       "      <td>545</td>\n",
       "      <td>493</td>\n",
       "      <td>4022970</td>\n",
       "      <td>18037</td>\n",
       "    </tr>\n",
       "    <tr>\n",
       "      <th>59</th>\n",
       "      <td>2019-08-30</td>\n",
       "      <td>B</td>\n",
       "      <td>620</td>\n",
       "      <td>567</td>\n",
       "      <td>5774631</td>\n",
       "      <td>18198</td>\n",
       "    </tr>\n",
       "    <tr>\n",
       "      <th>60</th>\n",
       "      <td>2019-08-31</td>\n",
       "      <td>A</td>\n",
       "      <td>557</td>\n",
       "      <td>503</td>\n",
       "      <td>4084803</td>\n",
       "      <td>18736</td>\n",
       "    </tr>\n",
       "    <tr>\n",
       "      <th>61</th>\n",
       "      <td>2019-08-31</td>\n",
       "      <td>B</td>\n",
       "      <td>640</td>\n",
       "      <td>586</td>\n",
       "      <td>5907760</td>\n",
       "      <td>18916</td>\n",
       "    </tr>\n",
       "  </tbody>\n",
       "</table>\n",
       "<p>62 rows × 6 columns</p>\n",
       "</div>"
      ],
      "text/plain": [
       "         date group  orders  buyers  revenue  visitors\n",
       "0  2019-08-01     A      24      20   148579       719\n",
       "1  2019-08-01     B      21      20   101217       713\n",
       "2  2019-08-02     A      44      38   242401      1338\n",
       "3  2019-08-02     B      45      43   266748      1294\n",
       "4  2019-08-03     A      68      62   354874      1845\n",
       "..        ...   ...     ...     ...      ...       ...\n",
       "57 2019-08-29     B     596     544  5559398     17708\n",
       "58 2019-08-30     A     545     493  4022970     18037\n",
       "59 2019-08-30     B     620     567  5774631     18198\n",
       "60 2019-08-31     A     557     503  4084803     18736\n",
       "61 2019-08-31     B     640     586  5907760     18916\n",
       "\n",
       "[62 rows x 6 columns]"
      ]
     },
     "execution_count": 26,
     "metadata": {},
     "output_type": "execute_result"
    }
   ],
   "source": [
    "cumulativeData"
   ]
  },
  {
   "cell_type": "markdown",
   "metadata": {},
   "source": [
    "Получаем таблицу:\n",
    "1. date - дата;\n",
    "2. group - группу A/B-теста;\n",
    "3. orders - число уникальных заказов в группе теста по указанную дату включительно;\n",
    "4. buyers - исло уникальных пользователей, совершивших хотя бы 1 заказ в группе теста по указанную дату включительно;\n",
    "5. revenue - кумулятивная выручка;\n",
    "6. visitors - количество уникальных посетителей в группе теста по указанную дату включительно."
   ]
  },
  {
   "cell_type": "code",
   "execution_count": 27,
   "metadata": {
    "scrolled": true
   },
   "outputs": [
    {
     "data": {
      "image/png": "[encoded data removed]",
      "text/plain": [
       "<Figure size 720x360 with 1 Axes>"
      ]
     },
     "metadata": {},
     "output_type": "display_data"
    }
   ],
   "source": [
    "#строим график кумулятивной выручки по группам:\n",
    "cumulativeRevenueA=cumulativeData[cumulativeData['group']=='A'][['date','revenue', 'orders']]\n",
    "cumulativeRevenueB=cumulativeData[cumulativeData['group']=='B'][['date','revenue', 'orders']]\n",
    "\n",
    "plt.plot(cumulativeRevenueA['date'], cumulativeRevenueA['revenue'], label='A')\n",
    "plt.plot(cumulativeRevenueB['date'], cumulativeRevenueB['revenue'], label='B')\n",
    "plt.legend()\n",
    "plt.xticks(rotation=45)\n",
    "plt.title('Кумулятивная выручка по группам')\n",
    "plt.xlabel('День')\n",
    "plt.ylabel('Выручка')\n",
    "plt.show()"
   ]
  },
  {
   "cell_type": "markdown",
   "metadata": {},
   "source": [
    "### Вывод\n",
    "Выручка от пользователей тестовой группы выше, начиная со второго дня эксперимента.К 13 августа они сошлись на показателе 2, после чего кривая выручки группа B пошла резко выше. Кумулятивная выручка группы А выглядит нормально, без резких изменений.\n",
    "Раз выше выручка у группы В, то выросло либо количество покупателей, либо вырос средний чек."
   ]
  },
  {
   "cell_type": "markdown",
   "metadata": {},
   "source": [
    "### График кумулятивного среднего чека по группам"
   ]
  },
  {
   "cell_type": "code",
   "execution_count": 28,
   "metadata": {},
   "outputs": [
    {
     "data": {
      "image/png": "[encoded data removed]",
      "text/plain": [
       "<Figure size 720x360 with 1 Axes>"
      ]
     },
     "metadata": {},
     "output_type": "display_data"
    }
   ],
   "source": [
    "cumulativeRevenueA = cumulativeData[cumulativeData['group'] == 'A'][['date', 'revenue', 'orders']]\n",
    "cumulativeRevenueB = cumulativeData[cumulativeData['group'] == 'B'][['date', 'revenue', 'orders']]\n",
    "plt.plot(cumulativeRevenueA['date'], cumulativeRevenueA['revenue']/cumulativeRevenueA['orders'], label='A')\n",
    "plt.plot(cumulativeRevenueB['date'], cumulativeRevenueB['revenue']/cumulativeRevenueB['orders'], label='B')\n",
    "plt.legend()\n",
    "plt.xticks(rotation=45)\n",
    "plt.title('Кумулятивный средний чек по группам')\n",
    "plt.xlabel('День')\n",
    "plt.ylabel('Средний чек')\n",
    "plt.show()"
   ]
  },
  {
   "cell_type": "markdown",
   "metadata": {},
   "source": [
    "### Вывод"
   ]
  },
  {
   "cell_type": "markdown",
   "metadata": {},
   "source": [
    "Кривая кумулятивного среднего чека группы B указывает, что скачок выручки в районе 18 августа обоснован резким возрастанием среднего чека в группе."
   ]
  },
  {
   "cell_type": "markdown",
   "metadata": {},
   "source": [
    "### График относительного изменения кумулятивного среднего чека группы B к группе A"
   ]
  },
  {
   "cell_type": "code",
   "execution_count": 29,
   "metadata": {},
   "outputs": [],
   "source": [
    "mergedCumulativeRevenue = (\n",
    "    cumulativeRevenueA.merge(cumulativeRevenueB, left_on='date', right_on='date', how='left', suffixes=['A', 'B'])\n",
    ")"
   ]
  },
  {
   "cell_type": "code",
   "execution_count": 30,
   "metadata": {},
   "outputs": [
    {
     "data": {
      "image/png": "[encoded data removed]",
      "text/plain": [
       "<Figure size 720x360 with 1 Axes>"
      ]
     },
     "metadata": {},
     "output_type": "display_data"
    }
   ],
   "source": [
    "plt.plot(mergedCumulativeRevenue['date'], (mergedCumulativeRevenue['revenueB']/mergedCumulativeRevenue['ordersB'])/(mergedCumulativeRevenue['revenueA']/mergedCumulativeRevenue['ordersA'])-1)\n",
    "plt.axhline(y=0, color='black', linestyle='--')\n",
    "plt.xticks(rotation=45)\n",
    "plt.title('Изменение среднего чека группы B % группы А')\n",
    "plt.xlabel('День')\n",
    "plt.ylabel('Средний чек')\n",
    "plt.show()\n"
   ]
  },
  {
   "cell_type": "markdown",
   "metadata": {},
   "source": [
    "### Вывод\n",
    "Относительный график ярче обозначил пик на 6 день эксперимента и обозначил кратковременное падение показателя 13 августа, а затем стремительный рост, превратившийся в скачок 18 августа. Возможно, это обусловлено вкравшимися выбросами. Исследуем дальше."
   ]
  },
  {
   "cell_type": "markdown",
   "metadata": {},
   "source": [
    "### График кумулятивной конверсии по группам"
   ]
  },
  {
   "cell_type": "code",
   "execution_count": 31,
   "metadata": {},
   "outputs": [
    {
     "data": {
      "image/png": "[encoded data removed]",
      "text/plain": [
       "<Figure size 720x360 with 1 Axes>"
      ]
     },
     "metadata": {},
     "output_type": "display_data"
    }
   ],
   "source": [
    "#Строим график конверсии по группам:\n",
    "cumulativeData['conversion'] = cumulativeData['orders']/cumulativeData['visitors']\n",
    "#добавляем столбец с конверсией\n",
    "\n",
    "# отделяем данные по группе A\n",
    "cumulativeDataA = cumulativeData[cumulativeData['group']=='A']\n",
    "\n",
    "# отделяем данные по группе B\n",
    "cumulativeDataB = cumulativeData[cumulativeData['group']=='B']\n",
    "\n",
    "# строим графики\n",
    "plt.plot(cumulativeDataA['date'], cumulativeDataA['conversion'], label='A')\n",
    "plt.plot(cumulativeDataB['date'], cumulativeDataB['conversion'], label='B')\n",
    "plt.legend()\n",
    "plt.xticks(rotation=45)\n",
    "plt.title('Кумулятивная конверсия по группам')\n",
    "plt.xlabel('День')\n",
    "plt.ylabel('Конверсия')\n",
    "plt.show()\n"
   ]
  },
  {
   "cell_type": "markdown",
   "metadata": {},
   "source": [
    "### Вывод\n",
    "На старте эскперимента конверсия растет стремительно в обеих группах, но в группе А дорастает до более высокого уровня, после чего замечаем стремительно падение. После примерно 6 августа конверсия группы В устанавливается на более высоком уровне. С 21 дня эксперимента колеблется в одном диапазоне 0.033-0.034. Возможно, что высокий изначальный показатель группы А связан с циклом принятия решений, завершение которого у пользователей пришлось на начало эксперимента."
   ]
  },
  {
   "cell_type": "markdown",
   "metadata": {},
   "source": [
    "### График относительного изменения кумулятивной конверсии группы B к группе A"
   ]
  },
  {
   "cell_type": "code",
   "execution_count": 32,
   "metadata": {},
   "outputs": [],
   "source": [
    "mergedCumulativeConversions = (\n",
    "    cumulativeDataA[['date','conversion']].merge(cumulativeDataB[['date','conversion']], left_on='date', right_on='date', how='left', suffixes=['A', 'B'])\n",
    ")\n"
   ]
  },
  {
   "cell_type": "code",
   "execution_count": 33,
   "metadata": {},
   "outputs": [
    {
     "data": {
      "image/png": "[encoded data removed]",
      "text/plain": [
       "<Figure size 720x360 with 1 Axes>"
      ]
     },
     "metadata": {},
     "output_type": "display_data"
    }
   ],
   "source": [
    "plt.plot(mergedCumulativeConversions['date'], mergedCumulativeConversions['conversionB']/mergedCumulativeConversions['conversionA']-1, label=\"Относительный прирост конверсии группы B относительно группы A\")\n",
    "plt.legend()\n",
    "plt.axhline(y=0, color='black', linestyle='--')\n",
    "plt.axhline(y=0.2, color='grey', linestyle='--')\n",
    "plt.xticks(rotation=45)\n",
    "plt.show()\n"
   ]
  },
  {
   "cell_type": "markdown",
   "metadata": {},
   "source": [
    "\n",
    " \n",
    "Серая пунктирная линия создает дополнительный акцент на уровне максимального отрыва тестовой группы относительно контрольной:несколько дней разница в конверсии составляла целых 20 процентов! Если в этот момент допустить ошибку подсматривания, можно получить неадекватно завышенные результаты, которые не оправдаются в будущем. \n",
    "\n"
   ]
  },
  {
   "cell_type": "markdown",
   "metadata": {},
   "source": [
    "### Вывод\n",
    "Пиковая разница в коверсии (целых 20 %) зафиксирована 14 августа. Хуже всего конверсия тестовой группы относительно группы А была на второй день эксперимента (-7 %). С 21 августа колебания установились в одном диапазоне 10-15 процентов."
   ]
  },
  {
   "cell_type": "markdown",
   "metadata": {},
   "source": [
    "### Точечный график количества заказов по пользователям"
   ]
  },
  {
   "cell_type": "code",
   "execution_count": 34,
   "metadata": {},
   "outputs": [
    {
     "data": {
      "text/html": [
       "<div>\n",
       "<style scoped>\n",
       "    .dataframe tbody tr th:only-of-type {\n",
       "        vertical-align: middle;\n",
       "    }\n",
       "\n",
       "    .dataframe tbody tr th {\n",
       "        vertical-align: top;\n",
       "    }\n",
       "\n",
       "    .dataframe thead th {\n",
       "        text-align: right;\n",
       "    }\n",
       "</style>\n",
       "<table border=\"1\" class=\"dataframe\">\n",
       "  <thead>\n",
       "    <tr style=\"text-align: right;\">\n",
       "      <th></th>\n",
       "      <th>user_id</th>\n",
       "      <th>orders</th>\n",
       "    </tr>\n",
       "  </thead>\n",
       "  <tbody>\n",
       "    <tr>\n",
       "      <th>0</th>\n",
       "      <td>5114589</td>\n",
       "      <td>1</td>\n",
       "    </tr>\n",
       "    <tr>\n",
       "      <th>1</th>\n",
       "      <td>6958315</td>\n",
       "      <td>1</td>\n",
       "    </tr>\n",
       "    <tr>\n",
       "      <th>2</th>\n",
       "      <td>8300375</td>\n",
       "      <td>2</td>\n",
       "    </tr>\n",
       "    <tr>\n",
       "      <th>3</th>\n",
       "      <td>11685486</td>\n",
       "      <td>1</td>\n",
       "    </tr>\n",
       "    <tr>\n",
       "      <th>4</th>\n",
       "      <td>39475350</td>\n",
       "      <td>1</td>\n",
       "    </tr>\n",
       "    <tr>\n",
       "      <th>...</th>\n",
       "      <td>...</td>\n",
       "      <td>...</td>\n",
       "    </tr>\n",
       "    <tr>\n",
       "      <th>1026</th>\n",
       "      <td>4266935830</td>\n",
       "      <td>2</td>\n",
       "    </tr>\n",
       "    <tr>\n",
       "      <th>1027</th>\n",
       "      <td>4278982564</td>\n",
       "      <td>1</td>\n",
       "    </tr>\n",
       "    <tr>\n",
       "      <th>1028</th>\n",
       "      <td>4279090005</td>\n",
       "      <td>1</td>\n",
       "    </tr>\n",
       "    <tr>\n",
       "      <th>1029</th>\n",
       "      <td>4281247801</td>\n",
       "      <td>1</td>\n",
       "    </tr>\n",
       "    <tr>\n",
       "      <th>1030</th>\n",
       "      <td>4283872382</td>\n",
       "      <td>1</td>\n",
       "    </tr>\n",
       "  </tbody>\n",
       "</table>\n",
       "<p>1031 rows × 2 columns</p>\n",
       "</div>"
      ],
      "text/plain": [
       "         user_id  orders\n",
       "0        5114589       1\n",
       "1        6958315       1\n",
       "2        8300375       2\n",
       "3       11685486       1\n",
       "4       39475350       1\n",
       "...          ...     ...\n",
       "1026  4266935830       2\n",
       "1027  4278982564       1\n",
       "1028  4279090005       1\n",
       "1029  4281247801       1\n",
       "1030  4283872382       1\n",
       "\n",
       "[1031 rows x 2 columns]"
      ]
     },
     "execution_count": 34,
     "metadata": {},
     "output_type": "execute_result"
    }
   ],
   "source": [
    "#создадим датафрейм из пользователей и заказов, на данных которого будет основан график:\n",
    "orders_users = (\n",
    "    orders.groupby('visitor_id', as_index=False)\n",
    "    .agg({'transaction_id': 'nunique'})\n",
    ")\n",
    "\n",
    "orders_users.columns = ['user_id', 'orders']\n",
    "orders_users"
   ]
  },
  {
   "cell_type": "code",
   "execution_count": 35,
   "metadata": {},
   "outputs": [
    {
     "data": {
      "image/png": "[encoded data removed]",
      "text/plain": [
       "<Figure size 720x360 with 1 Axes>"
      ]
     },
     "metadata": {},
     "output_type": "display_data"
    }
   ],
   "source": [
    "x_values = pd.Series(range(0,len(orders_users['orders'])))\n",
    "plt.scatter(x_values, orders_users['orders'], color='blue')\n",
    "plt.show()"
   ]
  },
  {
   "cell_type": "markdown",
   "metadata": {},
   "source": [
    "### Вывод"
   ]
  },
  {
   "cell_type": "markdown",
   "metadata": {},
   "source": [
    "В основном, пользователи совершают всего по одному заказу в исследуемый период, но есть и такие, кто находится в диапазоне 2-5 заказов, а совсем маленький процент совершают от 8 до 11 заказов. В принципе, в это можно поверить: маркетплейсы иногда дают скидку , действующую определенное время, после заказа на любую сумму. Таким образом, можно купить 11 вещей со скидкой, по одной в каждом отдельно оформленном заказе. Но выглядит на графике это экстраординарно, похоже на выбросы."
   ]
  },
  {
   "cell_type": "markdown",
   "metadata": {},
   "source": [
    "### Граница для определения аномальных пользователей"
   ]
  },
  {
   "cell_type": "code",
   "execution_count": 36,
   "metadata": {},
   "outputs": [
    {
     "data": {
      "text/plain": [
       "array([2., 4.])"
      ]
     },
     "execution_count": 36,
     "metadata": {},
     "output_type": "execute_result"
    }
   ],
   "source": [
    "#посчитаем 95 и 99 перцентили:\n",
    "np.percentile(orders_users['orders'], [95, 99])\n"
   ]
  },
  {
   "cell_type": "markdown",
   "metadata": {},
   "source": [
    "5 процентов пользователей совершают от 2 заказов, и только 1 процент от 4. Примем, что все, что за 99 перцентилем -выброс"
   ]
  },
  {
   "cell_type": "code",
   "execution_count": 37,
   "metadata": {},
   "outputs": [],
   "source": [
    "limit_by_orders = np.percentile(orders_users['orders'], [99])\n"
   ]
  },
  {
   "cell_type": "markdown",
   "metadata": {},
   "source": [
    "###  Точечный график стоимостей заказов"
   ]
  },
  {
   "cell_type": "code",
   "execution_count": 38,
   "metadata": {},
   "outputs": [
    {
     "data": {
      "image/png": "[encoded data removed]",
      "text/plain": [
       "<Figure size 720x360 with 1 Axes>"
      ]
     },
     "metadata": {},
     "output_type": "display_data"
    }
   ],
   "source": [
    "plt.scatter(range(0,len(orders['revenue'])), orders['revenue'], c=orders['group'].map({'A': 'red', 'B': 'green'}))\n",
    "plt.ticklabel_format(style='plain', axis='y')\n",
    "plt.show()\n"
   ]
  },
  {
   "cell_type": "markdown",
   "metadata": {},
   "source": [
    "На выбросы походят только два значения."
   ]
  },
  {
   "cell_type": "markdown",
   "metadata": {},
   "source": [
    "### Граница для определения аномальных заказов"
   ]
  },
  {
   "cell_type": "code",
   "execution_count": 39,
   "metadata": {},
   "outputs": [
    {
     "data": {
      "text/plain": [
       "array([18168. , 28000. , 58233.2])"
      ]
     },
     "execution_count": 39,
     "metadata": {},
     "output_type": "execute_result"
    }
   ],
   "source": [
    "np.percentile(orders['revenue'], [90, 95, 99])"
   ]
  },
  {
   "cell_type": "markdown",
   "metadata": {},
   "source": [
    "В случае со стоимостью заказов также возьмем за выбросы значения выше 99 перцентиля."
   ]
  },
  {
   "cell_type": "code",
   "execution_count": 40,
   "metadata": {},
   "outputs": [],
   "source": [
    "limit_by_revenue = 58233.2"
   ]
  },
  {
   "cell_type": "markdown",
   "metadata": {},
   "source": [
    "### Cтатистичесrкая значимость различий в конверсии между группами по «сырым» данным. "
   ]
  },
  {
   "cell_type": "code",
   "execution_count": 41,
   "metadata": {},
   "outputs": [
    {
     "data": {
      "text/html": [
       "<div>\n",
       "<style scoped>\n",
       "    .dataframe tbody tr th:only-of-type {\n",
       "        vertical-align: middle;\n",
       "    }\n",
       "\n",
       "    .dataframe tbody tr th {\n",
       "        vertical-align: top;\n",
       "    }\n",
       "\n",
       "    .dataframe thead th {\n",
       "        text-align: right;\n",
       "    }\n",
       "</style>\n",
       "<table border=\"1\" class=\"dataframe\">\n",
       "  <thead>\n",
       "    <tr style=\"text-align: right;\">\n",
       "      <th></th>\n",
       "      <th>date</th>\n",
       "      <th>ordersPerDateA</th>\n",
       "      <th>revenuePerDateA</th>\n",
       "      <th>ordersPerDateB</th>\n",
       "      <th>revenuePerDateB</th>\n",
       "      <th>ordersCummulativeA</th>\n",
       "      <th>revenueCummulativeA</th>\n",
       "      <th>ordersCummulativeB</th>\n",
       "      <th>revenueCummulativeB</th>\n",
       "      <th>visitorsPerDateA</th>\n",
       "      <th>visitorsPerDateB</th>\n",
       "      <th>visitorsCummulativeA</th>\n",
       "      <th>visitorsCummulativeB</th>\n",
       "    </tr>\n",
       "  </thead>\n",
       "  <tbody>\n",
       "    <tr>\n",
       "      <th>0</th>\n",
       "      <td>2019-08-01</td>\n",
       "      <td>24</td>\n",
       "      <td>148579</td>\n",
       "      <td>21</td>\n",
       "      <td>101217</td>\n",
       "      <td>24</td>\n",
       "      <td>148579</td>\n",
       "      <td>21</td>\n",
       "      <td>101217</td>\n",
       "      <td>719</td>\n",
       "      <td>713</td>\n",
       "      <td>719</td>\n",
       "      <td>713</td>\n",
       "    </tr>\n",
       "    <tr>\n",
       "      <th>1</th>\n",
       "      <td>2019-08-02</td>\n",
       "      <td>20</td>\n",
       "      <td>93822</td>\n",
       "      <td>24</td>\n",
       "      <td>165531</td>\n",
       "      <td>44</td>\n",
       "      <td>242401</td>\n",
       "      <td>45</td>\n",
       "      <td>266748</td>\n",
       "      <td>619</td>\n",
       "      <td>581</td>\n",
       "      <td>1338</td>\n",
       "      <td>1294</td>\n",
       "    </tr>\n",
       "    <tr>\n",
       "      <th>2</th>\n",
       "      <td>2019-08-03</td>\n",
       "      <td>24</td>\n",
       "      <td>112473</td>\n",
       "      <td>16</td>\n",
       "      <td>114248</td>\n",
       "      <td>68</td>\n",
       "      <td>354874</td>\n",
       "      <td>61</td>\n",
       "      <td>380996</td>\n",
       "      <td>507</td>\n",
       "      <td>509</td>\n",
       "      <td>1845</td>\n",
       "      <td>1803</td>\n",
       "    </tr>\n",
       "    <tr>\n",
       "      <th>3</th>\n",
       "      <td>2019-08-04</td>\n",
       "      <td>16</td>\n",
       "      <td>70825</td>\n",
       "      <td>17</td>\n",
       "      <td>108571</td>\n",
       "      <td>84</td>\n",
       "      <td>425699</td>\n",
       "      <td>78</td>\n",
       "      <td>489567</td>\n",
       "      <td>717</td>\n",
       "      <td>770</td>\n",
       "      <td>2562</td>\n",
       "      <td>2573</td>\n",
       "    </tr>\n",
       "    <tr>\n",
       "      <th>4</th>\n",
       "      <td>2019-08-05</td>\n",
       "      <td>25</td>\n",
       "      <td>124218</td>\n",
       "      <td>23</td>\n",
       "      <td>92428</td>\n",
       "      <td>109</td>\n",
       "      <td>549917</td>\n",
       "      <td>101</td>\n",
       "      <td>581995</td>\n",
       "      <td>756</td>\n",
       "      <td>707</td>\n",
       "      <td>3318</td>\n",
       "      <td>3280</td>\n",
       "    </tr>\n",
       "  </tbody>\n",
       "</table>\n",
       "</div>"
      ],
      "text/plain": [
       "        date  ordersPerDateA  revenuePerDateA  ordersPerDateB  \\\n",
       "0 2019-08-01              24           148579              21   \n",
       "1 2019-08-02              20            93822              24   \n",
       "2 2019-08-03              24           112473              16   \n",
       "3 2019-08-04              16            70825              17   \n",
       "4 2019-08-05              25           124218              23   \n",
       "\n",
       "   revenuePerDateB  ordersCummulativeA  revenueCummulativeA  \\\n",
       "0           101217                  24               148579   \n",
       "1           165531                  44               242401   \n",
       "2           114248                  68               354874   \n",
       "3           108571                  84               425699   \n",
       "4            92428                 109               549917   \n",
       "\n",
       "   ordersCummulativeB  revenueCummulativeB  visitorsPerDateA  \\\n",
       "0                  21               101217               719   \n",
       "1                  45               266748               619   \n",
       "2                  61               380996               507   \n",
       "3                  78               489567               717   \n",
       "4                 101               581995               756   \n",
       "\n",
       "   visitorsPerDateB  visitorsCummulativeA  visitorsCummulativeB  \n",
       "0               713                   719                   713  \n",
       "1               581                  1338                  1294  \n",
       "2               509                  1845                  1803  \n",
       "3               770                  2562                  2573  \n",
       "4               707                  3318                  3280  "
      ]
     },
     "execution_count": 41,
     "metadata": {},
     "output_type": "execute_result"
    }
   ],
   "source": [
    "#строим таблицу по сырым данным, на основе которой будет проводиться стат. тест.\n",
    "visitorsADaily = visitors[visitors['group'] == 'A'][['date', 'visitors']]\n",
    "visitorsADaily.columns = ['date', 'visitorsPerDateA']\n",
    "\n",
    "visitorsACummulative = visitorsADaily.apply(\n",
    "    lambda x: visitorsADaily[visitorsADaily['date'] <= x['date']].agg(\n",
    "        {'date': 'max', 'visitorsPerDateA': 'sum'}\n",
    "    ),\n",
    "    axis=1,\n",
    ")\n",
    "visitorsACummulative.columns = ['date', 'visitorsCummulativeA']\n",
    "\n",
    "visitorsBDaily = visitors[visitors['group'] == 'B'][['date', 'visitors']]\n",
    "visitorsBDaily.columns = ['date', 'visitorsPerDateB']\n",
    "\n",
    "visitorsBCummulative = visitorsBDaily.apply(\n",
    "    lambda x: visitorsBDaily[visitorsBDaily['date'] <= x['date']].agg(\n",
    "        {'date': 'max', 'visitorsPerDateB': 'sum'}\n",
    "    ),\n",
    "    axis=1,\n",
    ")\n",
    "visitorsBCummulative.columns = ['date', 'visitorsCummulativeB']\n",
    "\n",
    "ordersADaily = (\n",
    "    orders[orders['group'] == 'A'][['date', 'transaction_id', 'visitor_id', 'revenue']]\n",
    "    .groupby('date', as_index=False)\n",
    "    .agg({'transaction_id': pd.Series.nunique, 'revenue': 'sum'})\n",
    ")\n",
    "ordersADaily.columns = ['date', 'ordersPerDateA', 'revenuePerDateA']\n",
    "\n",
    "ordersACummulative = ordersADaily.apply(\n",
    "    lambda x: ordersADaily[ordersADaily['date'] <= x['date']].agg(\n",
    "        {'date': 'max', 'ordersPerDateA': 'sum', 'revenuePerDateA': 'sum'}\n",
    "    ),\n",
    "    axis=1,\n",
    ").sort_values(by=['date'])\n",
    "ordersACummulative.columns = [\n",
    "    'date',\n",
    "    'ordersCummulativeA',\n",
    "    'revenueCummulativeA',\n",
    "]\n",
    "\n",
    "ordersBDaily = (\n",
    "    orders[orders['group'] == 'B'][['date', 'transaction_id', 'visitor_id', 'revenue']]\n",
    "    .groupby('date', as_index=False)\n",
    "    .agg({'transaction_id': pd.Series.nunique, 'revenue': 'sum'})\n",
    ")\n",
    "ordersBDaily.columns = ['date', 'ordersPerDateB', 'revenuePerDateB']\n",
    "\n",
    "ordersBCummulative = ordersBDaily.apply(\n",
    "    lambda x: ordersBDaily[ordersBDaily['date'] <= x['date']].agg(\n",
    "        {'date': 'max', 'ordersPerDateB': 'sum', 'revenuePerDateB': 'sum'}\n",
    "    ),\n",
    "    axis=1,\n",
    ").sort_values(by=['date'])\n",
    "ordersBCummulative.columns = [\n",
    "    'date',\n",
    "    'ordersCummulativeB',\n",
    "    'revenueCummulativeB',\n",
    "]\n",
    "\n",
    "data = (\n",
    "    ordersADaily.merge(\n",
    "        ordersBDaily, left_on='date', right_on='date', how='left'\n",
    "    )\n",
    "    .merge(ordersACummulative, left_on='date', right_on='date', how='left')\n",
    "    .merge(ordersBCummulative, left_on='date', right_on='date', how='left')\n",
    "    .merge(visitorsADaily, left_on='date', right_on='date', how='left')\n",
    "    .merge(visitorsBDaily, left_on='date', right_on='date', how='left')\n",
    "    .merge(visitorsACummulative, left_on='date', right_on='date', how='left')\n",
    "    .merge(visitorsBCummulative, left_on='date', right_on='date', how='left')\n",
    ")\n",
    "data.head(5)"
   ]
  },
  {
   "cell_type": "code",
   "execution_count": 42,
   "metadata": {},
   "outputs": [],
   "source": [
    "#Создадим переменные ordersByUsersA и ordersByUsersB со столбцами ['userId', 'orders']. \n",
    "#В них для пользователей, которые заказывали хотя бы 1 раз, укажем число совершённых заказов.\n",
    "ordersByUsersA = (\n",
    "    orders[orders['group'] == 'A']\n",
    "    .groupby('visitor_id', as_index=False)\n",
    "    .agg({'transaction_id': pd.Series.nunique})\n",
    ")\n",
    "ordersByUsersA.columns = ['userId', 'orders']\n",
    "\n",
    "ordersByUsersB = (\n",
    "    orders[orders['group'] == 'B']\n",
    "    .groupby('visitor_id', as_index=False)\n",
    "    .agg({'transaction_id': pd.Series.nunique})\n",
    ")\n",
    "ordersByUsersB.columns = ['userId', 'orders'] "
   ]
  },
  {
   "cell_type": "code",
   "execution_count": 43,
   "metadata": {},
   "outputs": [],
   "source": [
    "#Объявите переменные sampleA и sampleB, \n",
    "#в которых пользователям с заказами будет соответствовать число заказов пользователя. А пользователям без заказов — нули.\n",
    "sampleA = pd.concat(\n",
    "    [\n",
    "        ordersByUsersA['orders'],\n",
    "        pd.Series(\n",
    "            0,\n",
    "            index=np.arange(\n",
    "                data['visitorsPerDateA'].sum() - len(ordersByUsersA['orders'])\n",
    "            ),\n",
    "            name='orders',\n",
    "        ),\n",
    "    ],\n",
    "    axis=0,\n",
    ")\n",
    "\n",
    "sampleB = pd.concat(\n",
    "    [\n",
    "        ordersByUsersB['orders'],\n",
    "        pd.Series(\n",
    "            0,\n",
    "            index=np.arange(\n",
    "                data['visitorsPerDateB'].sum() - len(ordersByUsersB['orders'])\n",
    "            ),\n",
    "            name='orders',\n",
    "        ),\n",
    "    ],\n",
    "    axis=0,\n",
    ")\n"
   ]
  },
  {
   "cell_type": "markdown",
   "metadata": {},
   "source": [
    "**Проверим гипотезу Ho о том, чторазличий в конверсии между группами нет (конверсии равны). Альтернативная гипотеза: различия в среднем чеке между группами есть (конверсии не равны)**\n"
   ]
  },
  {
   "cell_type": "code",
   "execution_count": 44,
   "metadata": {},
   "outputs": [
    {
     "name": "stdout",
     "output_type": "stream",
     "text": [
      "0.01679\n",
      "0.138\n"
     ]
    }
   ],
   "source": [
    "print('{0:.5f}'.format(st.mannwhitneyu(sampleA, sampleB)[1]))\n",
    "print('{0:.3f}'.format(sampleB.mean()/sampleA.mean()-1)) "
   ]
  },
  {
   "cell_type": "code",
   "execution_count": 45,
   "metadata": {},
   "outputs": [
    {
     "name": "stdout",
     "output_type": "stream",
     "text": [
      "p=0.017\n",
      "0.138\n",
      "Отвергаем нулевую гипотезу\n"
     ]
    }
   ],
   "source": [
    "stat, p = mannwhitneyu(sampleA, sampleB)\n",
    "print('p=%.3f' % (p))\n",
    "print('{0:.3f}'.format(sampleB.mean()/sampleA.mean()-1)) \n",
    "alpha = 0.05\n",
    "if p < alpha:\n",
    "    print('Отвергаем нулевую гипотезу')\n",
    "else:\n",
    "    print('Не получилось отвергнуть нулевую гипотезу')"
   ]
  },
  {
   "cell_type": "markdown",
   "metadata": {},
   "source": [
    "Группы не равны по конверсии. Отрыв группы В составляет 13,8 %"
   ]
  },
  {
   "cell_type": "markdown",
   "metadata": {},
   "source": [
    "### Вывод"
   ]
  },
  {
   "cell_type": "markdown",
   "metadata": {},
   "source": [
    "p-value < 0.05 (принимаемого по умолчанию уровня статистической значимости), значит, Н0 о равенстве конверсий в группах отвергаем. Относительный прирост конверсии группы В равен 13,8."
   ]
  },
  {
   "cell_type": "markdown",
   "metadata": {},
   "source": [
    "### Cтатистическая значимость различий в среднем чеке заказа между группами по «сырым» данным"
   ]
  },
  {
   "cell_type": "markdown",
   "metadata": {},
   "source": [
    "H0 - средние чеки в группе А и группе В равны;\n",
    "H1 - средние чеки в группах отличаются"
   ]
  },
  {
   "cell_type": "code",
   "execution_count": 46,
   "metadata": {},
   "outputs": [
    {
     "name": "stdout",
     "output_type": "stream",
     "text": [
      "0.729\n",
      "0.259\n"
     ]
    }
   ],
   "source": [
    "print('{0:.3f}'.format(st.mannwhitneyu(orders[orders['group']=='A']['revenue'], orders[orders['group']=='B']['revenue'])[1]))\n",
    "print('{0:.3f}'.format(orders[orders['group']=='B']['revenue'].mean()/orders[orders['group']=='A']['revenue'].mean()-1)) "
   ]
  },
  {
   "cell_type": "code",
   "execution_count": 47,
   "metadata": {},
   "outputs": [
    {
     "name": "stdout",
     "output_type": "stream",
     "text": [
      "p=0.729\n",
      "0.259\n",
      "Не получилось отвергнуть нулевую гипотезу\n"
     ]
    }
   ],
   "source": [
    "average_a = orders[orders['group']=='A']['revenue']\n",
    "average_b =  orders[orders['group']=='B']['revenue']\n",
    "stat, p = mannwhitneyu(average_a, average_b)\n",
    "print('p=%.3f' % (p))\n",
    "print('{0:.3f}'.format(average_b.mean()/average_a.mean()-1)) \n",
    "alpha = 0.05\n",
    "if p < alpha:\n",
    "    print('Отвергаем нулевую гипотезу')\n",
    "else:\n",
    "    print('Не получилось отвергнуть нулевую гипотезу')"
   ]
  },
  {
   "cell_type": "markdown",
   "metadata": {},
   "source": [
    "### Вывод"
   ]
  },
  {
   "cell_type": "markdown",
   "metadata": {},
   "source": [
    "Нельзя отвергнуть гипотезу о равенстве в среднем чеке,хотя разница в пользу группы B составляет 25,9 %."
   ]
  },
  {
   "cell_type": "markdown",
   "metadata": {},
   "source": [
    "### Cтатистичесrкая значимость различий в конверсии между группами по «очищенным» данным. "
   ]
  },
  {
   "cell_type": "markdown",
   "metadata": {},
   "source": [
    "За выбросы были приняты значения количества заказов выше 4 и стоимость заказов выше 99 перцентиля."
   ]
  },
  {
   "cell_type": "code",
   "execution_count": 48,
   "metadata": {},
   "outputs": [
    {
     "data": {
      "text/plain": [
       "1099     148427295\n",
       "949      887908475\n",
       "744      888512513\n",
       "1103    1164614297\n",
       "1136    1307669133\n",
       "858     1316129916\n",
       "425     1920142716\n",
       "227     2038680547\n",
       "1196    2108080724\n",
       "326     2378935119\n",
       "dtype: int64"
      ]
     },
     "execution_count": 48,
     "metadata": {},
     "output_type": "execute_result"
    }
   ],
   "source": [
    "#пользователи с неподходящими показателями по вышеуказанным параментам выделяются в отдельную таблицу:\n",
    "usersWithManyOrders = pd.concat(\n",
    "    [\n",
    "        ordersByUsersA[ordersByUsersA['orders'] > 4]['userId'],\n",
    "        ordersByUsersB[ordersByUsersB['orders'] > 4]['userId'],\n",
    "    ],\n",
    "    axis=0,\n",
    ")\n",
    "usersWithExpensiveOrders = orders[orders['revenue'] > limit_by_revenue]['visitor_id']\n",
    "abnormalUsers = (\n",
    "    pd.concat([usersWithManyOrders, usersWithExpensiveOrders], axis=0)\n",
    "    .drop_duplicates()\n",
    "    .sort_values()\n",
    ")\n",
    "abnormalUsers.head(10)"
   ]
  },
  {
   "cell_type": "code",
   "execution_count": 49,
   "metadata": {},
   "outputs": [],
   "source": [
    "#удаляем неподходящих пользователей из выборок:\n",
    "sampleAFiltered = pd.concat(\n",
    "    [\n",
    "        ordersByUsersA[\n",
    "            np.logical_not(ordersByUsersA['userId'].isin(abnormalUsers))\n",
    "        ]['orders'],\n",
    "        pd.Series(\n",
    "            0,\n",
    "            index=np.arange(\n",
    "                data['visitorsPerDateA'].sum() - len(ordersByUsersA['orders'])\n",
    "            ),\n",
    "            name='orders',\n",
    "        ),\n",
    "    ],\n",
    "    axis=0,\n",
    ")\n",
    "\n",
    "sampleBFiltered = pd.concat(\n",
    "    [\n",
    "        ordersByUsersB[\n",
    "            np.logical_not(ordersByUsersB['userId'].isin(abnormalUsers))\n",
    "        ]['orders'],\n",
    "        pd.Series(\n",
    "            0,\n",
    "            index=np.arange(\n",
    "                data['visitorsPerDateB'].sum() - len(ordersByUsersB['orders'])\n",
    "            ),\n",
    "            name='orders',\n",
    "        ),\n",
    "    ],\n",
    "    axis=0,\n",
    ") "
   ]
  },
  {
   "cell_type": "markdown",
   "metadata": {},
   "source": [
    "**Посчитаем статистическую значимость в различиях между конверсиями двух групп по очищенным от выбросов данных.\n",
    "За H0 все так же принимаем утверждение о равенстве в конверсиях двух выборок, H1 - о том, что конверсии не равны:**"
   ]
  },
  {
   "cell_type": "code",
   "execution_count": 50,
   "metadata": {},
   "outputs": [
    {
     "name": "stdout",
     "output_type": "stream",
     "text": [
      "0.01438\n",
      "0.153\n"
     ]
    }
   ],
   "source": [
    "print('{0:.5f}'.format(st.mannwhitneyu(sampleAFiltered, sampleBFiltered)[1]))\n",
    "print('{0:.3f}'.format(sampleBFiltered.mean()/sampleAFiltered.mean()-1)) "
   ]
  },
  {
   "cell_type": "code",
   "execution_count": 51,
   "metadata": {},
   "outputs": [
    {
     "name": "stdout",
     "output_type": "stream",
     "text": [
      "p=0.014\n",
      "0.153\n",
      "Отвергаем нулевую гипотезу\n"
     ]
    }
   ],
   "source": [
    "stat, p = mannwhitneyu(sampleAFiltered, sampleBFiltered)\n",
    "print('p=%.3f' % (p))\n",
    "print('{0:.3f}'.format(sampleBFiltered.mean()/sampleAFiltered.mean()-1)) \n",
    "alpha = 0.05\n",
    "if p < alpha:\n",
    "    print('Отвергаем нулевую гипотезу')\n",
    "else:\n",
    "    print('Не получилось отвергнуть нулевую гипотезу')"
   ]
  },
  {
   "cell_type": "markdown",
   "metadata": {},
   "source": [
    "### Вывод"
   ]
  },
  {
   "cell_type": "markdown",
   "metadata": {},
   "source": [
    "Статистическая значимость не достигнута и в случае очистки данных от выбросов, конверсии групп отличны в пользу группы B на 15,3 %."
   ]
  },
  {
   "cell_type": "markdown",
   "metadata": {},
   "source": [
    "### Cтатистическая значимость различий в среднем чеке заказа между группами по «очищенным» данным"
   ]
  },
  {
   "cell_type": "code",
   "execution_count": 52,
   "metadata": {},
   "outputs": [
    {
     "name": "stdout",
     "output_type": "stream",
     "text": [
      "0.851\n",
      "-0.006\n"
     ]
    }
   ],
   "source": [
    "print(\n",
    "    '{0:.3f}'.format(\n",
    "        st.mannwhitneyu(\n",
    "            orders[\n",
    "                np.logical_and(\n",
    "                    orders['group'] == 'A',\n",
    "                    np.logical_not(orders['visitor_id'].isin(abnormalUsers)),\n",
    "                )\n",
    "            ]['revenue'],\n",
    "            orders[\n",
    "                np.logical_and(\n",
    "                    orders['group'] == 'B',\n",
    "                    np.logical_not(orders['visitor_id'].isin(abnormalUsers)),\n",
    "                )\n",
    "            ]['revenue'],\n",
    "        )[1]\n",
    "    )\n",
    ")\n",
    "print(\n",
    "    \"{0:.3f}\".format(\n",
    "        orders[\n",
    "            np.logical_and(\n",
    "                orders['group'] == 'B',\n",
    "                np.logical_not(orders['visitor_id'].isin(abnormalUsers)),\n",
    "            )\n",
    "        ]['revenue'].mean()\n",
    "        / orders[\n",
    "            np.logical_and(\n",
    "                orders['group'] == 'A',\n",
    "                np.logical_not(orders['visitor_id'].isin(abnormalUsers)),\n",
    "            )\n",
    "        ]['revenue'].mean()\n",
    "        - 1\n",
    "    )\n",
    ") "
   ]
  },
  {
   "cell_type": "code",
   "execution_count": 53,
   "metadata": {},
   "outputs": [],
   "source": [
    "average_filt_a= orders[\n",
    "                np.logical_and(\n",
    "                    orders['group'] == 'A',\n",
    "                    np.logical_not(orders['visitor_id'].isin(abnormalUsers)),\n",
    "                )\n",
    "            ]['revenue']\n",
    "average_filt_b =  orders[\n",
    "                np.logical_and(\n",
    "                    orders['group'] == 'B',\n",
    "                    np.logical_not(orders['visitor_id'].isin(abnormalUsers)),\n",
    "                )\n",
    "            ]['revenue']"
   ]
  },
  {
   "cell_type": "code",
   "execution_count": 54,
   "metadata": {},
   "outputs": [
    {
     "name": "stdout",
     "output_type": "stream",
     "text": [
      "p=0.851\n",
      "-0.006\n",
      "Не получилось отвергнуть нулевую гипотезу\n"
     ]
    }
   ],
   "source": [
    "stat, p = mannwhitneyu(average_filt_a, average_filt_b)\n",
    "print('p=%.3f' % (p))\n",
    "print('{0:.3f}'.format(average_filt_b.mean()/average_filt_a.mean()-1)) \n",
    "alpha = 0.05\n",
    "if p < alpha:\n",
    "    print('Отвергаем нулевую гипотезу')\n",
    "else:\n",
    "    print('Не получилось отвергнуть нулевую гипотезу')"
   ]
  },
  {
   "cell_type": "markdown",
   "metadata": {},
   "source": [
    "Нельзя опровергнуть гипотезу о разнице средних чеков и после очистки выбросов. Различие небольшое и составляет всего 0,6 % в пользу группы А. На феноменальный скачок среднего чека группы В повлияли выбросы."
   ]
  },
  {
   "cell_type": "markdown",
   "metadata": {},
   "source": [
    "## Общий вывод"
   ]
  },
  {
   "cell_type": "markdown",
   "metadata": {},
   "source": [
    "\n",
    "- На протяжении всего исследования тестируемая группа (В) давала лучшие показатели относительно контрольной (А): по выручке, по конверсии и среднему чеку до исключения \"выбросов\" и по конверсии после их исключения. Покупки, стоимость которых была принята за аномалии, совершались в тестируемой группе. \n",
    "- Если для теста была выбрана гипотеза № 2 (\"Добавить блоки рекомендаций товаров на сайт интернет магазина, чтобы повысить конверсию и средний чек заказа\"), то в исследуемый период был достигнут только 1 показатель -увеличение конверсии в тестовой группе;\n",
    "- В среднем, конверсия группы В выше на 15,3 процента, подтверждено статистически и неслучайно. Это высокий показатель;\n",
    "- Если тестировали гипотезу 6 (\"Показать на главной странице баннеры с актуальными акциями и распродажами, чтобы увеличить конверсию\"), то цель,безусловно, достигнута;\n",
    "- По истечении месяца эксперимента кривые конверсии ведут себя довольно предсказуемо. Есть предложение остановить тест и поработать над следующей гипотезой, которая сосредоточена на увеличении именно среднего чека. \n"
   ]
  }
 ],
 "metadata": {
  "ExecuteTimeLog": [
   {
    "duration": 1263,
    "start_time": "2022-04-04T18:02:40.660Z"
   },
   {
    "duration": 3,
    "start_time": "2022-04-04T18:02:44.739Z"
   },
   {
    "duration": 3,
    "start_time": "2022-04-04T18:15:42.517Z"
   },
   {
    "duration": 4,
    "start_time": "2022-04-04T18:15:43.009Z"
   },
   {
    "duration": 3,
    "start_time": "2022-04-04T18:16:28.793Z"
   },
   {
    "duration": 16,
    "start_time": "2022-04-04T18:23:54.446Z"
   },
   {
    "duration": 19,
    "start_time": "2022-04-04T18:24:12.476Z"
   },
   {
    "duration": 1801,
    "start_time": "2022-04-05T16:53:38.714Z"
   },
   {
    "duration": 4,
    "start_time": "2022-04-05T16:53:40.518Z"
   },
   {
    "duration": 22,
    "start_time": "2022-04-05T16:53:40.524Z"
   },
   {
    "duration": 34,
    "start_time": "2022-04-05T16:53:40.548Z"
   },
   {
    "duration": 34,
    "start_time": "2022-04-05T16:53:40.585Z"
   },
   {
    "duration": 39,
    "start_time": "2022-04-05T16:54:36.306Z"
   },
   {
    "duration": 35,
    "start_time": "2022-04-05T16:54:49.648Z"
   },
   {
    "duration": 10,
    "start_time": "2022-04-05T16:58:23.931Z"
   },
   {
    "duration": 1569,
    "start_time": "2022-04-05T17:00:12.430Z"
   },
   {
    "duration": 5,
    "start_time": "2022-04-05T17:00:14.002Z"
   },
   {
    "duration": 7,
    "start_time": "2022-04-05T17:00:14.010Z"
   },
   {
    "duration": 50,
    "start_time": "2022-04-05T17:00:14.020Z"
   },
   {
    "duration": 33,
    "start_time": "2022-04-05T17:00:14.072Z"
   },
   {
    "duration": 40,
    "start_time": "2022-04-05T17:00:14.107Z"
   },
   {
    "duration": 28,
    "start_time": "2022-04-05T17:00:14.149Z"
   },
   {
    "duration": 7,
    "start_time": "2022-04-05T17:00:14.180Z"
   },
   {
    "duration": 18,
    "start_time": "2022-04-05T17:01:43.379Z"
   },
   {
    "duration": 36,
    "start_time": "2022-04-05T17:01:55.285Z"
   },
   {
    "duration": 7,
    "start_time": "2022-04-05T17:02:48.051Z"
   },
   {
    "duration": 2986,
    "start_time": "2022-04-05T17:18:10.693Z"
   },
   {
    "duration": 4,
    "start_time": "2022-04-05T17:19:39.746Z"
   },
   {
    "duration": 1532,
    "start_time": "2022-04-05T17:19:46.915Z"
   },
   {
    "duration": 4,
    "start_time": "2022-04-05T17:19:48.450Z"
   },
   {
    "duration": 8,
    "start_time": "2022-04-05T17:19:48.456Z"
   },
   {
    "duration": 36,
    "start_time": "2022-04-05T17:19:48.467Z"
   },
   {
    "duration": 31,
    "start_time": "2022-04-05T17:19:48.505Z"
   },
   {
    "duration": 5,
    "start_time": "2022-04-05T17:19:48.543Z"
   },
   {
    "duration": 43,
    "start_time": "2022-04-05T17:19:48.550Z"
   },
   {
    "duration": 27,
    "start_time": "2022-04-05T17:19:48.595Z"
   },
   {
    "duration": 8,
    "start_time": "2022-04-05T17:19:48.624Z"
   },
   {
    "duration": 17,
    "start_time": "2022-04-05T17:19:48.643Z"
   },
   {
    "duration": 24,
    "start_time": "2022-04-05T17:19:48.662Z"
   },
   {
    "duration": 5,
    "start_time": "2022-04-05T17:19:48.688Z"
   },
   {
    "duration": 29,
    "start_time": "2022-04-05T17:19:48.695Z"
   },
   {
    "duration": 7,
    "start_time": "2022-04-05T17:26:53.437Z"
   },
   {
    "duration": 17,
    "start_time": "2022-04-05T17:27:19.745Z"
   },
   {
    "duration": 5,
    "start_time": "2022-04-05T17:49:30.254Z"
   },
   {
    "duration": 1723,
    "start_time": "2022-04-06T08:19:50.588Z"
   },
   {
    "duration": 7,
    "start_time": "2022-04-06T08:19:52.314Z"
   },
   {
    "duration": 24,
    "start_time": "2022-04-06T08:19:52.323Z"
   },
   {
    "duration": 24,
    "start_time": "2022-04-06T08:19:52.350Z"
   },
   {
    "duration": 36,
    "start_time": "2022-04-06T08:19:52.376Z"
   },
   {
    "duration": 30,
    "start_time": "2022-04-06T08:19:52.415Z"
   },
   {
    "duration": 72,
    "start_time": "2022-04-06T08:19:52.447Z"
   },
   {
    "duration": 29,
    "start_time": "2022-04-06T08:19:52.522Z"
   },
   {
    "duration": 171,
    "start_time": "2022-04-06T08:19:52.553Z"
   },
   {
    "duration": 0,
    "start_time": "2022-04-06T08:19:52.727Z"
   },
   {
    "duration": 0,
    "start_time": "2022-04-06T08:19:52.729Z"
   },
   {
    "duration": 0,
    "start_time": "2022-04-06T08:19:52.731Z"
   },
   {
    "duration": 0,
    "start_time": "2022-04-06T08:19:52.733Z"
   },
   {
    "duration": 0,
    "start_time": "2022-04-06T08:19:52.736Z"
   },
   {
    "duration": 0,
    "start_time": "2022-04-06T08:19:52.738Z"
   },
   {
    "duration": 787,
    "start_time": "2022-04-06T08:24:31.848Z"
   },
   {
    "duration": 1507,
    "start_time": "2022-04-06T08:39:18.020Z"
   },
   {
    "duration": 5,
    "start_time": "2022-04-06T08:39:19.530Z"
   },
   {
    "duration": 7,
    "start_time": "2022-04-06T08:39:19.542Z"
   },
   {
    "duration": 22,
    "start_time": "2022-04-06T08:39:19.552Z"
   },
   {
    "duration": 33,
    "start_time": "2022-04-06T08:39:19.576Z"
   },
   {
    "duration": 4,
    "start_time": "2022-04-06T08:39:19.611Z"
   },
   {
    "duration": 64,
    "start_time": "2022-04-06T08:39:19.617Z"
   },
   {
    "duration": 30,
    "start_time": "2022-04-06T08:39:19.683Z"
   },
   {
    "duration": 25,
    "start_time": "2022-04-06T08:39:19.715Z"
   },
   {
    "duration": 16,
    "start_time": "2022-04-06T08:39:19.743Z"
   },
   {
    "duration": 28,
    "start_time": "2022-04-06T08:39:19.761Z"
   },
   {
    "duration": 25,
    "start_time": "2022-04-06T08:39:19.792Z"
   },
   {
    "duration": 168,
    "start_time": "2022-04-06T08:39:19.820Z"
   },
   {
    "duration": 0,
    "start_time": "2022-04-06T08:39:19.990Z"
   },
   {
    "duration": 0,
    "start_time": "2022-04-06T08:39:19.992Z"
   },
   {
    "duration": 6,
    "start_time": "2022-04-06T09:39:12.048Z"
   },
   {
    "duration": 5,
    "start_time": "2022-04-06T09:55:21.501Z"
   },
   {
    "duration": 17,
    "start_time": "2022-04-06T09:55:33.869Z"
   },
   {
    "duration": 13,
    "start_time": "2022-04-06T09:59:07.175Z"
   },
   {
    "duration": 182,
    "start_time": "2022-04-06T10:00:17.115Z"
   },
   {
    "duration": 17,
    "start_time": "2022-04-06T10:00:29.110Z"
   },
   {
    "duration": 8,
    "start_time": "2022-04-06T10:59:38.902Z"
   },
   {
    "duration": 8,
    "start_time": "2022-04-06T11:02:02.922Z"
   },
   {
    "duration": 10,
    "start_time": "2022-04-06T11:02:20.281Z"
   },
   {
    "duration": 3072,
    "start_time": "2022-04-06T11:38:33.643Z"
   },
   {
    "duration": 11,
    "start_time": "2022-04-06T11:38:46.598Z"
   },
   {
    "duration": 12,
    "start_time": "2022-04-06T11:38:56.932Z"
   },
   {
    "duration": 13,
    "start_time": "2022-04-06T11:39:34.809Z"
   },
   {
    "duration": 11,
    "start_time": "2022-04-06T11:41:19.417Z"
   },
   {
    "duration": 12,
    "start_time": "2022-04-06T11:46:36.450Z"
   },
   {
    "duration": 1530,
    "start_time": "2022-04-06T11:46:43.326Z"
   },
   {
    "duration": 5,
    "start_time": "2022-04-06T11:46:44.860Z"
   },
   {
    "duration": 17,
    "start_time": "2022-04-06T11:46:44.868Z"
   },
   {
    "duration": 25,
    "start_time": "2022-04-06T11:46:44.889Z"
   },
   {
    "duration": 41,
    "start_time": "2022-04-06T11:46:44.917Z"
   },
   {
    "duration": 6,
    "start_time": "2022-04-06T11:46:44.960Z"
   },
   {
    "duration": 51,
    "start_time": "2022-04-06T11:46:44.968Z"
   },
   {
    "duration": 30,
    "start_time": "2022-04-06T11:46:45.022Z"
   },
   {
    "duration": 19,
    "start_time": "2022-04-06T11:46:45.054Z"
   },
   {
    "duration": 13,
    "start_time": "2022-04-06T11:46:45.077Z"
   },
   {
    "duration": 39,
    "start_time": "2022-04-06T11:46:45.092Z"
   },
   {
    "duration": 32,
    "start_time": "2022-04-06T11:46:45.133Z"
   },
   {
    "duration": 12,
    "start_time": "2022-04-06T11:46:45.168Z"
   },
   {
    "duration": 29,
    "start_time": "2022-04-06T11:46:45.182Z"
   },
   {
    "duration": 30,
    "start_time": "2022-04-06T11:46:45.214Z"
   },
   {
    "duration": 8,
    "start_time": "2022-04-06T11:46:45.246Z"
   },
   {
    "duration": 31,
    "start_time": "2022-04-06T11:46:45.256Z"
   },
   {
    "duration": 27,
    "start_time": "2022-04-06T11:46:45.290Z"
   },
   {
    "duration": 36,
    "start_time": "2022-04-06T11:46:45.321Z"
   },
   {
    "duration": 28,
    "start_time": "2022-04-06T11:46:45.360Z"
   },
   {
    "duration": 203,
    "start_time": "2022-04-06T11:55:40.836Z"
   },
   {
    "duration": 180,
    "start_time": "2022-04-06T11:57:01.801Z"
   },
   {
    "duration": 259,
    "start_time": "2022-04-06T11:59:42.365Z"
   },
   {
    "duration": 16,
    "start_time": "2022-04-06T11:59:50.556Z"
   },
   {
    "duration": 17,
    "start_time": "2022-04-06T12:00:15.083Z"
   },
   {
    "duration": 35,
    "start_time": "2022-04-06T12:06:48.770Z"
   },
   {
    "duration": 261,
    "start_time": "2022-04-06T12:07:13.753Z"
   },
   {
    "duration": 5,
    "start_time": "2022-04-06T12:11:06.420Z"
   },
   {
    "duration": 18,
    "start_time": "2022-04-06T12:11:11.521Z"
   },
   {
    "duration": 208,
    "start_time": "2022-04-06T12:17:52.567Z"
   },
   {
    "duration": 15,
    "start_time": "2022-04-06T12:17:58.512Z"
   },
   {
    "duration": 10,
    "start_time": "2022-04-06T12:20:29.790Z"
   },
   {
    "duration": 20,
    "start_time": "2022-04-06T12:20:34.604Z"
   },
   {
    "duration": 17,
    "start_time": "2022-04-06T12:22:06.969Z"
   },
   {
    "duration": 550,
    "start_time": "2022-04-06T12:28:26.749Z"
   },
   {
    "duration": 553,
    "start_time": "2022-04-06T12:34:11.058Z"
   },
   {
    "duration": 79,
    "start_time": "2022-04-06T12:40:05.910Z"
   },
   {
    "duration": 27,
    "start_time": "2022-04-06T12:41:19.282Z"
   },
   {
    "duration": 25,
    "start_time": "2022-04-06T12:41:25.546Z"
   },
   {
    "duration": 28,
    "start_time": "2022-04-06T12:41:32.376Z"
   },
   {
    "duration": 1551,
    "start_time": "2022-04-06T12:42:26.215Z"
   },
   {
    "duration": 6,
    "start_time": "2022-04-06T12:42:27.768Z"
   },
   {
    "duration": 9,
    "start_time": "2022-04-06T12:42:27.777Z"
   },
   {
    "duration": 32,
    "start_time": "2022-04-06T12:42:27.789Z"
   },
   {
    "duration": 33,
    "start_time": "2022-04-06T12:42:27.823Z"
   },
   {
    "duration": 4,
    "start_time": "2022-04-06T12:42:27.858Z"
   },
   {
    "duration": 51,
    "start_time": "2022-04-06T12:42:27.864Z"
   },
   {
    "duration": 28,
    "start_time": "2022-04-06T12:42:27.917Z"
   },
   {
    "duration": 19,
    "start_time": "2022-04-06T12:42:27.947Z"
   },
   {
    "duration": 5,
    "start_time": "2022-04-06T12:42:27.970Z"
   },
   {
    "duration": 21,
    "start_time": "2022-04-06T12:42:27.977Z"
   },
   {
    "duration": 51,
    "start_time": "2022-04-06T12:42:28.001Z"
   },
   {
    "duration": 9,
    "start_time": "2022-04-06T12:42:28.054Z"
   },
   {
    "duration": 27,
    "start_time": "2022-04-06T12:42:28.065Z"
   },
   {
    "duration": 15,
    "start_time": "2022-04-06T12:42:28.094Z"
   },
   {
    "duration": 36,
    "start_time": "2022-04-06T12:42:28.111Z"
   },
   {
    "duration": 28,
    "start_time": "2022-04-06T12:42:28.149Z"
   },
   {
    "duration": 25,
    "start_time": "2022-04-06T12:42:28.180Z"
   },
   {
    "duration": 104,
    "start_time": "2022-04-06T12:42:28.207Z"
   },
   {
    "duration": 12,
    "start_time": "2022-04-06T12:42:28.313Z"
   },
   {
    "duration": 13,
    "start_time": "2022-04-06T12:42:28.343Z"
   },
   {
    "duration": 269,
    "start_time": "2022-04-06T12:42:28.358Z"
   },
   {
    "duration": 21,
    "start_time": "2022-04-06T12:42:28.630Z"
   },
   {
    "duration": 231,
    "start_time": "2022-04-06T12:42:28.654Z"
   },
   {
    "duration": 16,
    "start_time": "2022-04-06T12:42:28.887Z"
   },
   {
    "duration": 38,
    "start_time": "2022-04-06T12:42:28.905Z"
   },
   {
    "duration": 18,
    "start_time": "2022-04-06T12:42:28.945Z"
   },
   {
    "duration": 606,
    "start_time": "2022-04-06T12:42:28.970Z"
   },
   {
    "duration": 1600,
    "start_time": "2022-04-06T12:43:05.498Z"
   },
   {
    "duration": 6,
    "start_time": "2022-04-06T12:43:07.100Z"
   },
   {
    "duration": 8,
    "start_time": "2022-04-06T12:43:07.108Z"
   },
   {
    "duration": 24,
    "start_time": "2022-04-06T12:43:07.119Z"
   },
   {
    "duration": 37,
    "start_time": "2022-04-06T12:43:07.145Z"
   },
   {
    "duration": 4,
    "start_time": "2022-04-06T12:43:07.184Z"
   },
   {
    "duration": 52,
    "start_time": "2022-04-06T12:43:07.190Z"
   },
   {
    "duration": 31,
    "start_time": "2022-04-06T12:43:07.244Z"
   },
   {
    "duration": 18,
    "start_time": "2022-04-06T12:43:07.277Z"
   },
   {
    "duration": 5,
    "start_time": "2022-04-06T12:43:07.299Z"
   },
   {
    "duration": 20,
    "start_time": "2022-04-06T12:43:07.342Z"
   },
   {
    "duration": 33,
    "start_time": "2022-04-06T12:43:07.365Z"
   },
   {
    "duration": 8,
    "start_time": "2022-04-06T12:43:07.400Z"
   },
   {
    "duration": 50,
    "start_time": "2022-04-06T12:43:07.410Z"
   },
   {
    "duration": 16,
    "start_time": "2022-04-06T12:43:07.462Z"
   },
   {
    "duration": 6,
    "start_time": "2022-04-06T12:43:07.480Z"
   },
   {
    "duration": 23,
    "start_time": "2022-04-06T12:43:07.488Z"
   },
   {
    "duration": 19,
    "start_time": "2022-04-06T12:43:07.543Z"
   },
   {
    "duration": 95,
    "start_time": "2022-04-06T12:43:07.564Z"
   },
   {
    "duration": 12,
    "start_time": "2022-04-06T12:43:07.662Z"
   },
   {
    "duration": 20,
    "start_time": "2022-04-06T12:43:07.676Z"
   },
   {
    "duration": 310,
    "start_time": "2022-04-06T12:43:07.698Z"
   },
   {
    "duration": 17,
    "start_time": "2022-04-06T12:43:08.010Z"
   },
   {
    "duration": 228,
    "start_time": "2022-04-06T12:43:08.043Z"
   },
   {
    "duration": 29,
    "start_time": "2022-04-06T12:43:08.274Z"
   },
   {
    "duration": 17,
    "start_time": "2022-04-06T12:43:08.305Z"
   },
   {
    "duration": 41,
    "start_time": "2022-04-06T12:43:08.324Z"
   },
   {
    "duration": 690,
    "start_time": "2022-04-06T12:43:08.370Z"
   },
   {
    "duration": 538,
    "start_time": "2022-04-06T12:43:34.422Z"
   },
   {
    "duration": 513,
    "start_time": "2022-04-06T12:43:50.112Z"
   },
   {
    "duration": 1517,
    "start_time": "2022-04-06T12:45:31.742Z"
   },
   {
    "duration": 5,
    "start_time": "2022-04-06T12:45:33.262Z"
   },
   {
    "duration": 8,
    "start_time": "2022-04-06T12:45:33.270Z"
   },
   {
    "duration": 25,
    "start_time": "2022-04-06T12:45:33.280Z"
   },
   {
    "duration": 49,
    "start_time": "2022-04-06T12:45:33.307Z"
   },
   {
    "duration": 4,
    "start_time": "2022-04-06T12:45:33.358Z"
   },
   {
    "duration": 47,
    "start_time": "2022-04-06T12:45:33.364Z"
   },
   {
    "duration": 30,
    "start_time": "2022-04-06T12:45:33.414Z"
   },
   {
    "duration": 24,
    "start_time": "2022-04-06T12:45:33.446Z"
   },
   {
    "duration": 6,
    "start_time": "2022-04-06T12:45:33.473Z"
   },
   {
    "duration": 22,
    "start_time": "2022-04-06T12:45:33.481Z"
   },
   {
    "duration": 41,
    "start_time": "2022-04-06T12:45:33.506Z"
   },
   {
    "duration": 6,
    "start_time": "2022-04-06T12:45:33.549Z"
   },
   {
    "duration": 28,
    "start_time": "2022-04-06T12:45:33.557Z"
   },
   {
    "duration": 13,
    "start_time": "2022-04-06T12:45:33.587Z"
   },
   {
    "duration": 43,
    "start_time": "2022-04-06T12:45:33.602Z"
   },
   {
    "duration": 36,
    "start_time": "2022-04-06T12:45:33.647Z"
   },
   {
    "duration": 19,
    "start_time": "2022-04-06T12:45:33.686Z"
   },
   {
    "duration": 101,
    "start_time": "2022-04-06T12:45:33.708Z"
   },
   {
    "duration": 13,
    "start_time": "2022-04-06T12:45:33.811Z"
   },
   {
    "duration": 25,
    "start_time": "2022-04-06T12:45:33.827Z"
   },
   {
    "duration": 288,
    "start_time": "2022-04-06T12:45:33.855Z"
   },
   {
    "duration": 18,
    "start_time": "2022-04-06T12:45:34.145Z"
   },
   {
    "duration": 232,
    "start_time": "2022-04-06T12:45:34.166Z"
   },
   {
    "duration": 18,
    "start_time": "2022-04-06T12:45:34.400Z"
   },
   {
    "duration": 30,
    "start_time": "2022-04-06T12:45:34.420Z"
   },
   {
    "duration": 26,
    "start_time": "2022-04-06T12:45:34.452Z"
   },
   {
    "duration": 598,
    "start_time": "2022-04-06T12:45:34.484Z"
   },
   {
    "duration": 426,
    "start_time": "2022-04-06T12:48:33.407Z"
   },
   {
    "duration": 1317,
    "start_time": "2022-04-06T16:50:32.656Z"
   },
   {
    "duration": 4,
    "start_time": "2022-04-06T16:50:33.975Z"
   },
   {
    "duration": 9,
    "start_time": "2022-04-06T16:50:33.980Z"
   },
   {
    "duration": 31,
    "start_time": "2022-04-06T16:50:33.991Z"
   },
   {
    "duration": 21,
    "start_time": "2022-04-06T16:50:34.023Z"
   },
   {
    "duration": 3,
    "start_time": "2022-04-06T16:50:34.046Z"
   },
   {
    "duration": 40,
    "start_time": "2022-04-06T16:50:34.050Z"
   },
   {
    "duration": 18,
    "start_time": "2022-04-06T16:50:34.092Z"
   },
   {
    "duration": 12,
    "start_time": "2022-04-06T16:50:34.111Z"
   },
   {
    "duration": 4,
    "start_time": "2022-04-06T16:50:34.126Z"
   },
   {
    "duration": 17,
    "start_time": "2022-04-06T16:50:34.132Z"
   },
   {
    "duration": 16,
    "start_time": "2022-04-06T16:50:34.150Z"
   },
   {
    "duration": 4,
    "start_time": "2022-04-06T16:50:34.168Z"
   },
   {
    "duration": 36,
    "start_time": "2022-04-06T16:50:34.173Z"
   },
   {
    "duration": 10,
    "start_time": "2022-04-06T16:50:34.210Z"
   },
   {
    "duration": 4,
    "start_time": "2022-04-06T16:50:34.221Z"
   },
   {
    "duration": 14,
    "start_time": "2022-04-06T16:50:34.226Z"
   },
   {
    "duration": 13,
    "start_time": "2022-04-06T16:50:34.242Z"
   },
   {
    "duration": 81,
    "start_time": "2022-04-06T16:50:34.257Z"
   },
   {
    "duration": 9,
    "start_time": "2022-04-06T16:50:34.339Z"
   },
   {
    "duration": 8,
    "start_time": "2022-04-06T16:50:34.349Z"
   },
   {
    "duration": 175,
    "start_time": "2022-04-06T16:50:34.358Z"
   },
   {
    "duration": 11,
    "start_time": "2022-04-06T16:50:34.535Z"
   },
   {
    "duration": 128,
    "start_time": "2022-04-06T16:50:34.547Z"
   },
   {
    "duration": 14,
    "start_time": "2022-04-06T16:50:34.676Z"
   },
   {
    "duration": 7,
    "start_time": "2022-04-06T16:50:34.700Z"
   },
   {
    "duration": 13,
    "start_time": "2022-04-06T16:50:34.708Z"
   },
   {
    "duration": 419,
    "start_time": "2022-04-06T16:50:34.724Z"
   },
   {
    "duration": 271,
    "start_time": "2022-04-06T16:50:35.144Z"
   },
   {
    "duration": 270,
    "start_time": "2022-04-06T17:01:15.472Z"
   },
   {
    "duration": 198,
    "start_time": "2022-04-06T17:16:27.984Z"
   },
   {
    "duration": 6,
    "start_time": "2022-04-06T17:16:36.629Z"
   },
   {
    "duration": 399,
    "start_time": "2022-04-06T17:17:42.674Z"
   },
   {
    "duration": 377,
    "start_time": "2022-04-06T17:18:03.479Z"
   },
   {
    "duration": 377,
    "start_time": "2022-04-06T17:19:22.866Z"
   },
   {
    "duration": 369,
    "start_time": "2022-04-06T17:20:46.015Z"
   },
   {
    "duration": 411,
    "start_time": "2022-04-06T17:20:55.151Z"
   },
   {
    "duration": 1337,
    "start_time": "2022-04-07T07:50:48.751Z"
   },
   {
    "duration": 4,
    "start_time": "2022-04-07T07:50:50.090Z"
   },
   {
    "duration": 26,
    "start_time": "2022-04-07T07:50:50.095Z"
   },
   {
    "duration": 21,
    "start_time": "2022-04-07T07:50:50.123Z"
   },
   {
    "duration": 24,
    "start_time": "2022-04-07T07:50:50.146Z"
   },
   {
    "duration": 5,
    "start_time": "2022-04-07T07:50:50.171Z"
   },
   {
    "duration": 34,
    "start_time": "2022-04-07T07:50:50.178Z"
   },
   {
    "duration": 17,
    "start_time": "2022-04-07T07:50:50.214Z"
   },
   {
    "duration": 23,
    "start_time": "2022-04-07T07:50:50.232Z"
   },
   {
    "duration": 26,
    "start_time": "2022-04-07T07:50:50.257Z"
   },
   {
    "duration": 25,
    "start_time": "2022-04-07T07:50:50.285Z"
   },
   {
    "duration": 27,
    "start_time": "2022-04-07T07:50:50.312Z"
   },
   {
    "duration": 5,
    "start_time": "2022-04-07T07:50:50.340Z"
   },
   {
    "duration": 39,
    "start_time": "2022-04-07T07:50:50.346Z"
   },
   {
    "duration": 27,
    "start_time": "2022-04-07T07:50:50.387Z"
   },
   {
    "duration": 29,
    "start_time": "2022-04-07T07:50:50.415Z"
   },
   {
    "duration": 34,
    "start_time": "2022-04-07T07:50:50.446Z"
   },
   {
    "duration": 62,
    "start_time": "2022-04-07T07:50:50.482Z"
   },
   {
    "duration": 9,
    "start_time": "2022-04-07T07:50:50.545Z"
   },
   {
    "duration": 31,
    "start_time": "2022-04-07T07:50:50.555Z"
   },
   {
    "duration": 168,
    "start_time": "2022-04-07T07:50:50.588Z"
   },
   {
    "duration": 13,
    "start_time": "2022-04-07T07:50:50.758Z"
   },
   {
    "duration": 130,
    "start_time": "2022-04-07T07:50:50.773Z"
   },
   {
    "duration": 23,
    "start_time": "2022-04-07T07:50:50.905Z"
   },
   {
    "duration": 28,
    "start_time": "2022-04-07T07:50:50.930Z"
   },
   {
    "duration": 32,
    "start_time": "2022-04-07T07:50:50.960Z"
   },
   {
    "duration": 344,
    "start_time": "2022-04-07T07:50:50.994Z"
   },
   {
    "duration": 254,
    "start_time": "2022-04-07T07:50:51.342Z"
   },
   {
    "duration": 5,
    "start_time": "2022-04-07T07:50:51.598Z"
   },
   {
    "duration": 436,
    "start_time": "2022-04-07T07:50:51.605Z"
   },
   {
    "duration": 268,
    "start_time": "2022-04-07T07:50:52.043Z"
   },
   {
    "duration": 426,
    "start_time": "2022-04-07T08:00:24.304Z"
   },
   {
    "duration": 352,
    "start_time": "2022-04-07T08:00:41.375Z"
   },
   {
    "duration": 8,
    "start_time": "2022-04-07T08:18:49.507Z"
   },
   {
    "duration": 403,
    "start_time": "2022-04-07T08:30:44.320Z"
   },
   {
    "duration": 362,
    "start_time": "2022-04-07T08:31:13.742Z"
   },
   {
    "duration": 6,
    "start_time": "2022-04-07T08:53:45.959Z"
   },
   {
    "duration": 12,
    "start_time": "2022-04-07T08:53:54.823Z"
   },
   {
    "duration": 97,
    "start_time": "2022-04-07T08:54:13.611Z"
   },
   {
    "duration": 123,
    "start_time": "2022-04-07T08:54:51.191Z"
   },
   {
    "duration": 5,
    "start_time": "2022-04-07T09:07:55.996Z"
   },
   {
    "duration": 9,
    "start_time": "2022-04-07T09:08:53.421Z"
   },
   {
    "duration": 4,
    "start_time": "2022-04-07T09:09:03.142Z"
   },
   {
    "duration": 161,
    "start_time": "2022-04-07T09:17:17.256Z"
   },
   {
    "duration": 156,
    "start_time": "2022-04-07T09:19:50.658Z"
   },
   {
    "duration": 162,
    "start_time": "2022-04-07T09:20:05.509Z"
   },
   {
    "duration": 158,
    "start_time": "2022-04-07T09:20:24.777Z"
   },
   {
    "duration": 9,
    "start_time": "2022-04-07T09:27:08.868Z"
   },
   {
    "duration": 3,
    "start_time": "2022-04-07T09:43:21.133Z"
   },
   {
    "duration": 6,
    "start_time": "2022-04-07T09:43:30.504Z"
   },
   {
    "duration": 1669,
    "start_time": "2022-04-07T09:48:33.320Z"
   },
   {
    "duration": 5,
    "start_time": "2022-04-07T09:48:51.313Z"
   },
   {
    "duration": 5,
    "start_time": "2022-04-07T09:50:21.141Z"
   },
   {
    "duration": 5,
    "start_time": "2022-04-07T09:53:12.368Z"
   },
   {
    "duration": 5,
    "start_time": "2022-04-07T09:53:22.679Z"
   },
   {
    "duration": 3,
    "start_time": "2022-04-07T09:54:00.300Z"
   },
   {
    "duration": 3,
    "start_time": "2022-04-07T09:54:32.299Z"
   },
   {
    "duration": 5,
    "start_time": "2022-04-07T10:40:08.208Z"
   },
   {
    "duration": 171,
    "start_time": "2022-04-07T10:43:24.935Z"
   },
   {
    "duration": 174,
    "start_time": "2022-04-07T10:43:38.678Z"
   },
   {
    "duration": 157,
    "start_time": "2022-04-07T10:43:48.555Z"
   },
   {
    "duration": 198,
    "start_time": "2022-04-07T10:52:42.593Z"
   },
   {
    "duration": 207,
    "start_time": "2022-04-07T10:53:10.436Z"
   },
   {
    "duration": 117,
    "start_time": "2022-04-07T11:04:44.823Z"
   },
   {
    "duration": 7,
    "start_time": "2022-04-07T11:07:17.572Z"
   },
   {
    "duration": 10,
    "start_time": "2022-04-07T11:16:31.023Z"
   },
   {
    "duration": 23,
    "start_time": "2022-04-07T11:17:03.245Z"
   },
   {
    "duration": 11,
    "start_time": "2022-04-07T11:26:02.973Z"
   },
   {
    "duration": 10,
    "start_time": "2022-04-07T11:26:10.129Z"
   },
   {
    "duration": 17,
    "start_time": "2022-04-07T11:35:28.252Z"
   },
   {
    "duration": 140,
    "start_time": "2022-04-07T11:35:45.368Z"
   },
   {
    "duration": 2,
    "start_time": "2022-04-07T11:36:04.117Z"
   },
   {
    "duration": 1931,
    "start_time": "2022-04-07T11:36:15.181Z"
   },
   {
    "duration": 7,
    "start_time": "2022-04-07T11:36:56.838Z"
   },
   {
    "duration": 11,
    "start_time": "2022-04-07T11:41:15.651Z"
   },
   {
    "duration": 8,
    "start_time": "2022-04-07T11:41:42.569Z"
   },
   {
    "duration": 9,
    "start_time": "2022-04-07T11:44:45.128Z"
   },
   {
    "duration": 21,
    "start_time": "2022-04-07T11:44:50.903Z"
   },
   {
    "duration": 1778,
    "start_time": "2022-04-07T12:09:25.998Z"
   },
   {
    "duration": 8,
    "start_time": "2022-04-07T12:10:09.394Z"
   },
   {
    "duration": 11,
    "start_time": "2022-04-07T12:10:40.270Z"
   },
   {
    "duration": 12,
    "start_time": "2022-04-07T12:10:48.657Z"
   },
   {
    "duration": 1291,
    "start_time": "2022-04-08T17:06:04.543Z"
   },
   {
    "duration": 3,
    "start_time": "2022-04-08T17:06:05.836Z"
   },
   {
    "duration": 10,
    "start_time": "2022-04-08T17:06:05.841Z"
   },
   {
    "duration": 43,
    "start_time": "2022-04-08T17:06:05.853Z"
   },
   {
    "duration": 23,
    "start_time": "2022-04-08T17:06:05.897Z"
   },
   {
    "duration": 6,
    "start_time": "2022-04-08T17:06:05.922Z"
   },
   {
    "duration": 54,
    "start_time": "2022-04-08T17:06:05.930Z"
   },
   {
    "duration": 17,
    "start_time": "2022-04-08T17:06:05.986Z"
   },
   {
    "duration": 30,
    "start_time": "2022-04-08T17:06:06.004Z"
   },
   {
    "duration": 11,
    "start_time": "2022-04-08T17:06:06.036Z"
   },
   {
    "duration": 23,
    "start_time": "2022-04-08T17:06:06.048Z"
   },
   {
    "duration": 22,
    "start_time": "2022-04-08T17:06:06.072Z"
   },
   {
    "duration": 5,
    "start_time": "2022-04-08T17:06:06.095Z"
   },
   {
    "duration": 32,
    "start_time": "2022-04-08T17:06:06.101Z"
   },
   {
    "duration": 25,
    "start_time": "2022-04-08T17:06:06.134Z"
   },
   {
    "duration": 26,
    "start_time": "2022-04-08T17:06:06.160Z"
   },
   {
    "duration": 24,
    "start_time": "2022-04-08T17:06:06.187Z"
   },
   {
    "duration": 49,
    "start_time": "2022-04-08T17:06:06.213Z"
   },
   {
    "duration": 7,
    "start_time": "2022-04-08T17:06:06.264Z"
   },
   {
    "duration": 10,
    "start_time": "2022-04-08T17:06:06.272Z"
   },
   {
    "duration": 152,
    "start_time": "2022-04-08T17:06:06.283Z"
   },
   {
    "duration": 12,
    "start_time": "2022-04-08T17:06:06.436Z"
   },
   {
    "duration": 118,
    "start_time": "2022-04-08T17:06:06.450Z"
   },
   {
    "duration": 17,
    "start_time": "2022-04-08T17:06:06.570Z"
   },
   {
    "duration": 7,
    "start_time": "2022-04-08T17:06:06.589Z"
   },
   {
    "duration": 14,
    "start_time": "2022-04-08T17:06:06.597Z"
   },
   {
    "duration": 323,
    "start_time": "2022-04-08T17:06:06.612Z"
   },
   {
    "duration": 236,
    "start_time": "2022-04-08T17:06:06.939Z"
   },
   {
    "duration": 5,
    "start_time": "2022-04-08T17:06:07.181Z"
   },
   {
    "duration": 382,
    "start_time": "2022-04-08T17:06:07.188Z"
   },
   {
    "duration": 250,
    "start_time": "2022-04-08T17:06:07.572Z"
   },
   {
    "duration": 8,
    "start_time": "2022-04-08T17:06:07.824Z"
   },
   {
    "duration": 350,
    "start_time": "2022-04-08T17:06:07.833Z"
   },
   {
    "duration": 11,
    "start_time": "2022-04-08T17:06:08.184Z"
   },
   {
    "duration": 143,
    "start_time": "2022-04-08T17:06:08.196Z"
   },
   {
    "duration": 4,
    "start_time": "2022-04-08T17:06:08.340Z"
   },
   {
    "duration": 4,
    "start_time": "2022-04-08T17:06:08.346Z"
   },
   {
    "duration": 165,
    "start_time": "2022-04-08T17:06:08.352Z"
   },
   {
    "duration": 4,
    "start_time": "2022-04-08T17:06:08.519Z"
   },
   {
    "duration": 6,
    "start_time": "2022-04-08T17:06:08.524Z"
   },
   {
    "duration": 293,
    "start_time": "2022-04-08T17:06:08.531Z"
   },
   {
    "duration": 141,
    "start_time": "2022-04-08T17:06:08.826Z"
   },
   {
    "duration": 16,
    "start_time": "2022-04-08T17:06:08.969Z"
   },
   {
    "duration": 23,
    "start_time": "2022-04-08T17:06:08.986Z"
   },
   {
    "duration": 10,
    "start_time": "2022-04-08T17:06:09.011Z"
   },
   {
    "duration": 10,
    "start_time": "2022-04-08T17:06:09.022Z"
   },
   {
    "duration": 8,
    "start_time": "2022-04-08T17:06:09.034Z"
   },
   {
    "duration": 56,
    "start_time": "2022-04-08T17:06:09.043Z"
   },
   {
    "duration": 13,
    "start_time": "2022-04-08T17:06:09.101Z"
   },
   {
    "duration": 6,
    "start_time": "2022-04-08T17:26:02.633Z"
   },
   {
    "duration": 1165,
    "start_time": "2022-04-09T13:23:19.823Z"
   },
   {
    "duration": 4,
    "start_time": "2022-04-09T13:23:20.990Z"
   },
   {
    "duration": 10,
    "start_time": "2022-04-09T13:23:20.995Z"
   },
   {
    "duration": 18,
    "start_time": "2022-04-09T13:23:21.006Z"
   },
   {
    "duration": 19,
    "start_time": "2022-04-09T13:23:21.025Z"
   },
   {
    "duration": 2,
    "start_time": "2022-04-09T13:23:21.046Z"
   },
   {
    "duration": 20,
    "start_time": "2022-04-09T13:23:21.050Z"
   },
   {
    "duration": 15,
    "start_time": "2022-04-09T13:23:21.071Z"
   },
   {
    "duration": 11,
    "start_time": "2022-04-09T13:23:21.087Z"
   },
   {
    "duration": 5,
    "start_time": "2022-04-09T13:23:21.100Z"
   },
   {
    "duration": 13,
    "start_time": "2022-04-09T13:23:21.106Z"
   },
   {
    "duration": 14,
    "start_time": "2022-04-09T13:23:21.120Z"
   },
   {
    "duration": 3,
    "start_time": "2022-04-09T13:23:21.135Z"
   },
   {
    "duration": 32,
    "start_time": "2022-04-09T13:23:21.140Z"
   },
   {
    "duration": 7,
    "start_time": "2022-04-09T13:23:21.174Z"
   },
   {
    "duration": 8,
    "start_time": "2022-04-09T13:23:21.183Z"
   },
   {
    "duration": 11,
    "start_time": "2022-04-09T13:23:21.192Z"
   },
   {
    "duration": 67,
    "start_time": "2022-04-09T13:23:21.204Z"
   },
   {
    "duration": 8,
    "start_time": "2022-04-09T13:23:21.272Z"
   },
   {
    "duration": 10,
    "start_time": "2022-04-09T13:23:21.282Z"
   },
   {
    "duration": 165,
    "start_time": "2022-04-09T13:23:21.293Z"
   },
   {
    "duration": 12,
    "start_time": "2022-04-09T13:23:21.459Z"
   },
   {
    "duration": 112,
    "start_time": "2022-04-09T13:23:21.472Z"
   },
   {
    "duration": 8,
    "start_time": "2022-04-09T13:23:21.586Z"
   },
   {
    "duration": 7,
    "start_time": "2022-04-09T13:23:21.596Z"
   },
   {
    "duration": 12,
    "start_time": "2022-04-09T13:23:21.604Z"
   },
   {
    "duration": 307,
    "start_time": "2022-04-09T13:23:21.617Z"
   },
   {
    "duration": 227,
    "start_time": "2022-04-09T13:23:21.927Z"
   },
   {
    "duration": 5,
    "start_time": "2022-04-09T13:23:22.155Z"
   },
   {
    "duration": 392,
    "start_time": "2022-04-09T13:23:22.162Z"
   },
   {
    "duration": 249,
    "start_time": "2022-04-09T13:23:22.555Z"
   },
   {
    "duration": 7,
    "start_time": "2022-04-09T13:23:22.805Z"
   },
   {
    "duration": 308,
    "start_time": "2022-04-09T13:23:22.814Z"
   },
   {
    "duration": 10,
    "start_time": "2022-04-09T13:23:23.124Z"
   },
   {
    "duration": 125,
    "start_time": "2022-04-09T13:23:23.135Z"
   },
   {
    "duration": 10,
    "start_time": "2022-04-09T13:23:23.261Z"
   },
   {
    "duration": 6,
    "start_time": "2022-04-09T13:23:23.272Z"
   },
   {
    "duration": 146,
    "start_time": "2022-04-09T13:23:23.280Z"
   },
   {
    "duration": 4,
    "start_time": "2022-04-09T13:23:23.428Z"
   },
   {
    "duration": 8,
    "start_time": "2022-04-09T13:23:23.433Z"
   },
   {
    "duration": 266,
    "start_time": "2022-04-09T13:23:23.442Z"
   },
   {
    "duration": 124,
    "start_time": "2022-04-09T13:23:23.710Z"
   },
   {
    "duration": 5,
    "start_time": "2022-04-09T13:23:23.836Z"
   },
   {
    "duration": 34,
    "start_time": "2022-04-09T13:23:23.842Z"
   },
   {
    "duration": 11,
    "start_time": "2022-04-09T13:23:23.878Z"
   },
   {
    "duration": 9,
    "start_time": "2022-04-09T13:23:23.890Z"
   },
   {
    "duration": 7,
    "start_time": "2022-04-09T13:23:23.900Z"
   },
   {
    "duration": 20,
    "start_time": "2022-04-09T13:23:23.908Z"
   },
   {
    "duration": 11,
    "start_time": "2022-04-09T13:23:23.929Z"
   },
   {
    "duration": 21,
    "start_time": "2022-04-09T13:31:29.822Z"
   },
   {
    "duration": 20,
    "start_time": "2022-04-09T13:32:30.935Z"
   },
   {
    "duration": 102,
    "start_time": "2022-04-09T13:36:30.882Z"
   },
   {
    "duration": 19,
    "start_time": "2022-04-09T13:36:41.038Z"
   },
   {
    "duration": 9,
    "start_time": "2022-04-09T13:40:37.330Z"
   },
   {
    "duration": 18,
    "start_time": "2022-04-09T13:43:09.568Z"
   },
   {
    "duration": 3,
    "start_time": "2022-04-09T13:57:48.864Z"
   },
   {
    "duration": 3,
    "start_time": "2022-04-09T13:58:03.053Z"
   },
   {
    "duration": 101,
    "start_time": "2022-04-09T13:58:14.077Z"
   },
   {
    "duration": 1684,
    "start_time": "2022-04-09T14:00:13.623Z"
   },
   {
    "duration": 7,
    "start_time": "2022-04-09T14:00:29.588Z"
   },
   {
    "duration": 6,
    "start_time": "2022-04-09T14:01:31.320Z"
   },
   {
    "duration": 1093,
    "start_time": "2022-04-09T14:40:40.037Z"
   },
   {
    "duration": 4,
    "start_time": "2022-04-09T14:40:41.132Z"
   },
   {
    "duration": 5,
    "start_time": "2022-04-09T14:40:41.137Z"
   },
   {
    "duration": 18,
    "start_time": "2022-04-09T14:40:41.144Z"
   },
   {
    "duration": 18,
    "start_time": "2022-04-09T14:40:41.164Z"
   },
   {
    "duration": 2,
    "start_time": "2022-04-09T14:40:41.184Z"
   },
   {
    "duration": 20,
    "start_time": "2022-04-09T14:40:41.188Z"
   },
   {
    "duration": 16,
    "start_time": "2022-04-09T14:40:41.209Z"
   },
   {
    "duration": 10,
    "start_time": "2022-04-09T14:40:41.226Z"
   },
   {
    "duration": 6,
    "start_time": "2022-04-09T14:40:41.238Z"
   },
   {
    "duration": 13,
    "start_time": "2022-04-09T14:40:41.246Z"
   },
   {
    "duration": 22,
    "start_time": "2022-04-09T14:40:41.260Z"
   },
   {
    "duration": 4,
    "start_time": "2022-04-09T14:40:41.284Z"
   },
   {
    "duration": 11,
    "start_time": "2022-04-09T14:40:41.289Z"
   },
   {
    "duration": 9,
    "start_time": "2022-04-09T14:40:41.302Z"
   },
   {
    "duration": 9,
    "start_time": "2022-04-09T14:40:41.313Z"
   },
   {
    "duration": 11,
    "start_time": "2022-04-09T14:40:41.323Z"
   },
   {
    "duration": 79,
    "start_time": "2022-04-09T14:40:41.335Z"
   },
   {
    "duration": 8,
    "start_time": "2022-04-09T14:40:41.415Z"
   },
   {
    "duration": 13,
    "start_time": "2022-04-09T14:40:41.424Z"
   },
   {
    "duration": 192,
    "start_time": "2022-04-09T14:40:41.438Z"
   },
   {
    "duration": 9,
    "start_time": "2022-04-09T14:40:41.632Z"
   },
   {
    "duration": 118,
    "start_time": "2022-04-09T14:40:41.643Z"
   },
   {
    "duration": 15,
    "start_time": "2022-04-09T14:40:41.762Z"
   },
   {
    "duration": 6,
    "start_time": "2022-04-09T14:40:41.778Z"
   },
   {
    "duration": 11,
    "start_time": "2022-04-09T14:40:41.786Z"
   },
   {
    "duration": 315,
    "start_time": "2022-04-09T14:40:41.798Z"
   },
   {
    "duration": 240,
    "start_time": "2022-04-09T14:40:42.116Z"
   },
   {
    "duration": 15,
    "start_time": "2022-04-09T14:40:42.358Z"
   },
   {
    "duration": 341,
    "start_time": "2022-04-09T14:40:42.374Z"
   },
   {
    "duration": 244,
    "start_time": "2022-04-09T14:40:42.717Z"
   },
   {
    "duration": 7,
    "start_time": "2022-04-09T14:40:42.970Z"
   },
   {
    "duration": 333,
    "start_time": "2022-04-09T14:40:42.978Z"
   },
   {
    "duration": 10,
    "start_time": "2022-04-09T14:40:43.313Z"
   },
   {
    "duration": 132,
    "start_time": "2022-04-09T14:40:43.325Z"
   },
   {
    "duration": 13,
    "start_time": "2022-04-09T14:40:43.459Z"
   },
   {
    "duration": 4,
    "start_time": "2022-04-09T14:40:43.473Z"
   },
   {
    "duration": 154,
    "start_time": "2022-04-09T14:40:43.478Z"
   },
   {
    "duration": 5,
    "start_time": "2022-04-09T14:40:43.634Z"
   },
   {
    "duration": 5,
    "start_time": "2022-04-09T14:40:43.640Z"
   },
   {
    "duration": 298,
    "start_time": "2022-04-09T14:40:43.647Z"
   },
   {
    "duration": 117,
    "start_time": "2022-04-09T14:40:43.947Z"
   },
   {
    "duration": 7,
    "start_time": "2022-04-09T14:40:44.066Z"
   },
   {
    "duration": 32,
    "start_time": "2022-04-09T14:40:44.075Z"
   },
   {
    "duration": 17,
    "start_time": "2022-04-09T14:40:44.108Z"
   },
   {
    "duration": 9,
    "start_time": "2022-04-09T14:40:44.127Z"
   },
   {
    "duration": 8,
    "start_time": "2022-04-09T14:40:44.137Z"
   },
   {
    "duration": 25,
    "start_time": "2022-04-09T14:40:44.146Z"
   },
   {
    "duration": 8,
    "start_time": "2022-04-09T14:40:44.173Z"
   },
   {
    "duration": 26,
    "start_time": "2022-04-09T14:40:44.183Z"
   },
   {
    "duration": 22,
    "start_time": "2022-04-09T14:40:44.211Z"
   },
   {
    "duration": 10,
    "start_time": "2022-04-09T14:40:44.235Z"
   },
   {
    "duration": 29,
    "start_time": "2022-04-09T14:40:44.246Z"
   },
   {
    "duration": 7,
    "start_time": "2022-04-09T14:40:44.277Z"
   },
   {
    "duration": 1014,
    "start_time": "2022-04-09T14:46:39.115Z"
   },
   {
    "duration": 3,
    "start_time": "2022-04-09T14:46:40.131Z"
   },
   {
    "duration": 7,
    "start_time": "2022-04-09T14:46:40.135Z"
   },
   {
    "duration": 17,
    "start_time": "2022-04-09T14:46:40.144Z"
   },
   {
    "duration": 18,
    "start_time": "2022-04-09T14:46:40.163Z"
   },
   {
    "duration": 2,
    "start_time": "2022-04-09T14:46:40.182Z"
   },
   {
    "duration": 20,
    "start_time": "2022-04-09T14:46:40.186Z"
   },
   {
    "duration": 15,
    "start_time": "2022-04-09T14:46:40.207Z"
   },
   {
    "duration": 10,
    "start_time": "2022-04-09T14:46:40.223Z"
   },
   {
    "duration": 4,
    "start_time": "2022-04-09T14:46:40.235Z"
   },
   {
    "duration": 11,
    "start_time": "2022-04-09T14:46:40.241Z"
   },
   {
    "duration": 30,
    "start_time": "2022-04-09T14:46:40.253Z"
   },
   {
    "duration": 3,
    "start_time": "2022-04-09T14:46:40.284Z"
   },
   {
    "duration": 13,
    "start_time": "2022-04-09T14:46:40.288Z"
   },
   {
    "duration": 9,
    "start_time": "2022-04-09T14:46:40.302Z"
   },
   {
    "duration": 8,
    "start_time": "2022-04-09T14:46:40.312Z"
   },
   {
    "duration": 11,
    "start_time": "2022-04-09T14:46:40.321Z"
   },
   {
    "duration": 77,
    "start_time": "2022-04-09T14:46:40.334Z"
   },
   {
    "duration": 7,
    "start_time": "2022-04-09T14:46:40.413Z"
   },
   {
    "duration": 10,
    "start_time": "2022-04-09T14:46:40.421Z"
   },
   {
    "duration": 164,
    "start_time": "2022-04-09T14:46:40.432Z"
   },
   {
    "duration": 10,
    "start_time": "2022-04-09T14:46:40.598Z"
   },
   {
    "duration": 120,
    "start_time": "2022-04-09T14:46:40.609Z"
   },
   {
    "duration": 10,
    "start_time": "2022-04-09T14:46:40.730Z"
   },
   {
    "duration": 6,
    "start_time": "2022-04-09T14:46:40.741Z"
   },
   {
    "duration": 23,
    "start_time": "2022-04-09T14:46:40.749Z"
   },
   {
    "duration": 300,
    "start_time": "2022-04-09T14:46:40.773Z"
   },
   {
    "duration": 229,
    "start_time": "2022-04-09T14:46:41.077Z"
   },
   {
    "duration": 5,
    "start_time": "2022-04-09T14:46:41.308Z"
   },
   {
    "duration": 317,
    "start_time": "2022-04-09T14:46:41.315Z"
   },
   {
    "duration": 245,
    "start_time": "2022-04-09T14:46:41.634Z"
   },
   {
    "duration": 7,
    "start_time": "2022-04-09T14:46:41.881Z"
   },
   {
    "duration": 342,
    "start_time": "2022-04-09T14:46:41.889Z"
   },
   {
    "duration": 11,
    "start_time": "2022-04-09T14:46:42.233Z"
   },
   {
    "duration": 129,
    "start_time": "2022-04-09T14:46:42.245Z"
   },
   {
    "duration": 4,
    "start_time": "2022-04-09T14:46:42.376Z"
   },
   {
    "duration": 4,
    "start_time": "2022-04-09T14:46:42.381Z"
   },
   {
    "duration": 158,
    "start_time": "2022-04-09T14:46:42.386Z"
   },
   {
    "duration": 5,
    "start_time": "2022-04-09T14:46:42.545Z"
   },
   {
    "duration": 3,
    "start_time": "2022-04-09T14:46:42.551Z"
   },
   {
    "duration": 279,
    "start_time": "2022-04-09T14:46:42.556Z"
   },
   {
    "duration": 113,
    "start_time": "2022-04-09T14:46:42.837Z"
   },
   {
    "duration": 6,
    "start_time": "2022-04-09T14:46:42.951Z"
   },
   {
    "duration": 25,
    "start_time": "2022-04-09T14:46:42.958Z"
   },
   {
    "duration": 18,
    "start_time": "2022-04-09T14:46:42.985Z"
   },
   {
    "duration": 8,
    "start_time": "2022-04-09T14:46:43.004Z"
   },
   {
    "duration": 7,
    "start_time": "2022-04-09T14:46:43.014Z"
   },
   {
    "duration": 10,
    "start_time": "2022-04-09T14:46:43.023Z"
   },
   {
    "duration": 8,
    "start_time": "2022-04-09T14:46:43.035Z"
   },
   {
    "duration": 18,
    "start_time": "2022-04-09T14:46:43.071Z"
   },
   {
    "duration": 19,
    "start_time": "2022-04-09T14:46:43.090Z"
   },
   {
    "duration": 12,
    "start_time": "2022-04-09T14:46:43.110Z"
   },
   {
    "duration": 7,
    "start_time": "2022-04-09T14:46:43.123Z"
   },
   {
    "duration": 38,
    "start_time": "2022-04-09T14:46:43.132Z"
   },
   {
    "duration": 1062,
    "start_time": "2022-04-20T10:47:24.710Z"
   },
   {
    "duration": 3,
    "start_time": "2022-04-20T10:47:25.774Z"
   },
   {
    "duration": 14,
    "start_time": "2022-04-20T10:47:25.779Z"
   },
   {
    "duration": 38,
    "start_time": "2022-04-20T10:47:25.794Z"
   },
   {
    "duration": 19,
    "start_time": "2022-04-20T10:47:25.834Z"
   },
   {
    "duration": 3,
    "start_time": "2022-04-20T10:47:25.854Z"
   },
   {
    "duration": 38,
    "start_time": "2022-04-20T10:47:25.858Z"
   },
   {
    "duration": 15,
    "start_time": "2022-04-20T10:47:25.897Z"
   },
   {
    "duration": 13,
    "start_time": "2022-04-20T10:47:25.913Z"
   },
   {
    "duration": 13,
    "start_time": "2022-04-20T10:47:25.928Z"
   },
   {
    "duration": 16,
    "start_time": "2022-04-20T10:47:25.942Z"
   },
   {
    "duration": 15,
    "start_time": "2022-04-20T10:47:25.959Z"
   },
   {
    "duration": 5,
    "start_time": "2022-04-20T10:47:25.975Z"
   },
   {
    "duration": 11,
    "start_time": "2022-04-20T10:47:25.981Z"
   },
   {
    "duration": 15,
    "start_time": "2022-04-20T10:47:25.993Z"
   },
   {
    "duration": 9,
    "start_time": "2022-04-20T10:47:26.009Z"
   },
   {
    "duration": 11,
    "start_time": "2022-04-20T10:47:26.019Z"
   },
   {
    "duration": 49,
    "start_time": "2022-04-20T10:47:26.031Z"
   },
   {
    "duration": 24,
    "start_time": "2022-04-20T10:47:26.082Z"
   },
   {
    "duration": 8,
    "start_time": "2022-04-20T10:47:26.107Z"
   },
   {
    "duration": 159,
    "start_time": "2022-04-20T10:47:26.116Z"
   },
   {
    "duration": 10,
    "start_time": "2022-04-20T10:47:26.276Z"
   },
   {
    "duration": 118,
    "start_time": "2022-04-20T10:47:26.288Z"
   },
   {
    "duration": 9,
    "start_time": "2022-04-20T10:47:26.407Z"
   },
   {
    "duration": 8,
    "start_time": "2022-04-20T10:47:26.417Z"
   },
   {
    "duration": 12,
    "start_time": "2022-04-20T10:47:26.426Z"
   },
   {
    "duration": 323,
    "start_time": "2022-04-20T10:47:26.440Z"
   },
   {
    "duration": 244,
    "start_time": "2022-04-20T10:47:26.766Z"
   },
   {
    "duration": 5,
    "start_time": "2022-04-20T10:47:27.012Z"
   },
   {
    "duration": 357,
    "start_time": "2022-04-20T10:47:27.019Z"
   },
   {
    "duration": 251,
    "start_time": "2022-04-20T10:47:27.378Z"
   },
   {
    "duration": 7,
    "start_time": "2022-04-20T10:47:27.631Z"
   },
   {
    "duration": 337,
    "start_time": "2022-04-20T10:47:27.639Z"
   },
   {
    "duration": 11,
    "start_time": "2022-04-20T10:47:27.978Z"
   },
   {
    "duration": 124,
    "start_time": "2022-04-20T10:47:27.999Z"
   },
   {
    "duration": 4,
    "start_time": "2022-04-20T10:47:28.125Z"
   },
   {
    "duration": 5,
    "start_time": "2022-04-20T10:47:28.130Z"
   },
   {
    "duration": 165,
    "start_time": "2022-04-20T10:47:28.137Z"
   },
   {
    "duration": 4,
    "start_time": "2022-04-20T10:47:28.304Z"
   },
   {
    "duration": 4,
    "start_time": "2022-04-20T10:47:28.310Z"
   },
   {
    "duration": 279,
    "start_time": "2022-04-20T10:47:28.316Z"
   },
   {
    "duration": 136,
    "start_time": "2022-04-20T10:47:28.599Z"
   },
   {
    "duration": 5,
    "start_time": "2022-04-20T10:47:28.737Z"
   },
   {
    "duration": 23,
    "start_time": "2022-04-20T10:47:28.743Z"
   },
   {
    "duration": 20,
    "start_time": "2022-04-20T10:47:28.767Z"
   },
   {
    "duration": 9,
    "start_time": "2022-04-20T10:47:28.800Z"
   },
   {
    "duration": 8,
    "start_time": "2022-04-20T10:47:28.810Z"
   },
   {
    "duration": 9,
    "start_time": "2022-04-20T10:47:28.820Z"
   },
   {
    "duration": 9,
    "start_time": "2022-04-20T10:47:28.831Z"
   },
   {
    "duration": 21,
    "start_time": "2022-04-20T10:47:28.841Z"
   },
   {
    "duration": 45,
    "start_time": "2022-04-20T10:47:28.863Z"
   },
   {
    "duration": 11,
    "start_time": "2022-04-20T10:47:28.910Z"
   },
   {
    "duration": 6,
    "start_time": "2022-04-20T10:47:28.922Z"
   },
   {
    "duration": 5,
    "start_time": "2022-04-20T10:47:28.930Z"
   },
   {
    "duration": 1137,
    "start_time": "2022-04-28T12:42:13.476Z"
   },
   {
    "duration": 8,
    "start_time": "2022-04-28T12:42:14.615Z"
   },
   {
    "duration": 5,
    "start_time": "2022-04-28T12:42:14.625Z"
   },
   {
    "duration": 16,
    "start_time": "2022-04-28T12:42:14.633Z"
   },
   {
    "duration": 22,
    "start_time": "2022-04-28T12:42:14.651Z"
   },
   {
    "duration": 3,
    "start_time": "2022-04-28T12:42:14.675Z"
   },
   {
    "duration": 20,
    "start_time": "2022-04-28T12:42:14.680Z"
   },
   {
    "duration": 28,
    "start_time": "2022-04-28T12:42:14.702Z"
   },
   {
    "duration": 11,
    "start_time": "2022-04-28T12:42:14.732Z"
   },
   {
    "duration": 4,
    "start_time": "2022-04-28T12:42:14.746Z"
   },
   {
    "duration": 12,
    "start_time": "2022-04-28T12:42:14.751Z"
   },
   {
    "duration": 16,
    "start_time": "2022-04-28T12:42:14.765Z"
   },
   {
    "duration": 4,
    "start_time": "2022-04-28T12:42:14.783Z"
   },
   {
    "duration": 40,
    "start_time": "2022-04-28T12:42:14.789Z"
   },
   {
    "duration": 12,
    "start_time": "2022-04-28T12:42:14.831Z"
   },
   {
    "duration": 10,
    "start_time": "2022-04-28T12:42:14.845Z"
   },
   {
    "duration": 16,
    "start_time": "2022-04-28T12:42:14.857Z"
   },
   {
    "duration": 77,
    "start_time": "2022-04-28T12:42:14.874Z"
   },
   {
    "duration": 8,
    "start_time": "2022-04-28T12:42:14.952Z"
   },
   {
    "duration": 10,
    "start_time": "2022-04-28T12:42:14.962Z"
   },
   {
    "duration": 176,
    "start_time": "2022-04-28T12:42:14.973Z"
   },
   {
    "duration": 13,
    "start_time": "2022-04-28T12:42:15.151Z"
   },
   {
    "duration": 135,
    "start_time": "2022-04-28T12:42:15.165Z"
   },
   {
    "duration": 10,
    "start_time": "2022-04-28T12:42:15.301Z"
   },
   {
    "duration": 11,
    "start_time": "2022-04-28T12:42:15.313Z"
   },
   {
    "duration": 14,
    "start_time": "2022-04-28T12:42:15.325Z"
   },
   {
    "duration": 345,
    "start_time": "2022-04-28T12:42:15.340Z"
   },
   {
    "duration": 257,
    "start_time": "2022-04-28T12:42:15.689Z"
   },
   {
    "duration": 6,
    "start_time": "2022-04-28T12:42:15.947Z"
   },
   {
    "duration": 341,
    "start_time": "2022-04-28T12:42:15.954Z"
   },
   {
    "duration": 272,
    "start_time": "2022-04-28T12:42:16.297Z"
   },
   {
    "duration": 8,
    "start_time": "2022-04-28T12:42:16.570Z"
   },
   {
    "duration": 389,
    "start_time": "2022-04-28T12:42:16.580Z"
   },
   {
    "duration": 11,
    "start_time": "2022-04-28T12:42:16.971Z"
   },
   {
    "duration": 146,
    "start_time": "2022-04-28T12:42:16.983Z"
   },
   {
    "duration": 4,
    "start_time": "2022-04-28T12:42:17.131Z"
   },
   {
    "duration": 16,
    "start_time": "2022-04-28T12:42:17.137Z"
   },
   {
    "duration": 174,
    "start_time": "2022-04-28T12:42:17.155Z"
   },
   {
    "duration": 5,
    "start_time": "2022-04-28T12:42:17.330Z"
   },
   {
    "duration": 6,
    "start_time": "2022-04-28T12:42:17.336Z"
   },
   {
    "duration": 290,
    "start_time": "2022-04-28T12:42:17.344Z"
   },
   {
    "duration": 132,
    "start_time": "2022-04-28T12:42:17.635Z"
   },
   {
    "duration": 8,
    "start_time": "2022-04-28T12:42:17.769Z"
   },
   {
    "duration": 21,
    "start_time": "2022-04-28T12:42:17.779Z"
   },
   {
    "duration": 39,
    "start_time": "2022-04-28T12:42:17.802Z"
   },
   {
    "duration": 10,
    "start_time": "2022-04-28T12:42:17.842Z"
   },
   {
    "duration": 9,
    "start_time": "2022-04-28T12:42:17.854Z"
   },
   {
    "duration": 10,
    "start_time": "2022-04-28T12:42:17.865Z"
   },
   {
    "duration": 9,
    "start_time": "2022-04-28T12:42:17.876Z"
   },
   {
    "duration": 51,
    "start_time": "2022-04-28T12:42:17.886Z"
   },
   {
    "duration": 22,
    "start_time": "2022-04-28T12:42:17.938Z"
   },
   {
    "duration": 14,
    "start_time": "2022-04-28T12:42:17.962Z"
   },
   {
    "duration": 7,
    "start_time": "2022-04-28T12:42:17.977Z"
   },
   {
    "duration": 38,
    "start_time": "2022-04-28T12:42:17.986Z"
   }
  ],
  "kernelspec": {
   "display_name": "Python 3 (ipykernel)",
   "language": "python",
   "name": "python3"
  },
  "language_info": {
   "codemirror_mode": {
    "name": "ipython",
    "version": 3
   },
   "file_extension": ".py",
   "mimetype": "text/x-python",
   "name": "python",
   "nbconvert_exporter": "python",
   "pygments_lexer": "ipython3",
   "version": "3.9.7"
  },
  "toc": {
   "base_numbering": 1,
   "nav_menu": {},
   "number_sections": true,
   "sideBar": true,
   "skip_h1_title": true,
   "title_cell": "Table of Contents",
   "title_sidebar": "Contents",
   "toc_cell": false,
   "toc_position": {},
   "toc_section_display": true,
   "toc_window_display": true
  }
 },
 "nbformat": 4,
 "nbformat_minor": 2
}
